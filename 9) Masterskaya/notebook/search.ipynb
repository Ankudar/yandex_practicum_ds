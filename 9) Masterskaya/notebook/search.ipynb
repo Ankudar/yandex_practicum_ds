{
 "cells": [
  {
   "cell_type": "markdown",
   "id": "26cb5fd5",
   "metadata": {},
   "source": [
    "# Вводная информация"
   ]
  },
  {
   "cell_type": "markdown",
   "id": "5526ddba",
   "metadata": {},
   "source": []
  }
 ],
 "metadata": {
  "language_info": {
   "name": "python"
  }
 },
 "nbformat": 4,
 "nbformat_minor": 5
}
