





!pip install plotly


import pandas as pd
import numpy as np
import seaborn as sns
import matplotlib.pyplot as plt
import plotly.express as px

from scipy import stats as st
from scipy.stats import binom, norm

# красивые выводы
sns.set()
pd.set_option('display.float_format', lambda x: '%.2f' % x)


# сделаем функцию оценки пропусков в датасетах
def missing_data(data):
    missing_data = data.isna().sum()
    missing_data = missing_data[missing_data > 0]
    display(missing_data)


# сделаем функцию оценки предоставленного датасета
def check_data(data):
    # общая информация 
    display(data.info())

    # первые 5 строк
    display(data.head())
    
    # последние
    display(data.tail())
    
    # пропуски
    display(missing_data(data))
    
    # средние
    display(data.describe().T)
    
    # дубликаты будут отдельным блоком по задаче, не будем сюда включать








# загрузим файлы
users = pd.read_csv('https://code.s3.yandex.net/datasets/users_go.csv', delimiter=',')
check_data(users)





rides = pd.read_csv('https://code.s3.yandex.net/datasets/rides_go.csv', delimiter=',')
check_data(rides)


# сразу обработаем столбец даты и приведем к нормальному виду
rides['date'] = pd.to_datetime(rides['date']).dt.normalize()
rides.info()





subs = pd.read_csv('https://code.s3.yandex.net/datasets/subscriptions_go.csv', delimiter=',')
check_data(subs)














# сделано выше - п.1.2





rides['date_month'] = rides['date'].dt.month
display(rides.head(2))
display(rides.tail(2))


# посмотрим разбег даты
display(rides['date'].min())
display(rides['date'].max())








# пропущенные данные оценили выше - их нет
# проверим явные дубликаты в users
users.duplicated().sum()


#удаляем
users.drop_duplicates(keep='first').reset_index(drop=True)





# проверим явные дубликаты в rides
rides.duplicated().sum()























city_count = users['city'].value_counts()
plt.figure(figsize=(15, 9))
city_count.plot(kind='bar')
plt.title('Частота встречаемости городов')
plt.ylabel('Кол-во')
plt.show()








sub_count = users['subscription_type'].value_counts()
sub_count.plot(kind='bar')
plt.xticks(rotation=0)
plt.title('Соотношение юзеров с подпиской и без')
plt.ylabel('Кол-во')
plt.show()


# соотношение между двумя значениями
ratio = sub_count['ultra'] / sub_count['free']

# отношение каждого значения к максимальному значению
ratio_to_max = sub_count / users['subscription_type'].count()

print(f"Соотношение free к ultra: {round(ratio, 2)}")
print(f"Отношение каждого значения к максимальному:\n{ratio_to_max}")








age_count = users['age'].value_counts()
plt.figure(figsize=(15, 9))
age_count.plot(kind='bar')
plt.xticks(rotation=0)
plt.title('Возраст пользователей')
plt.ylabel('Кол-во')

# добавляем количество значений над каждым столбцом
for i, value in enumerate(age_count):
    plt.text(i, value + 0.5, str(value), ha='center', va='bottom')
plt.show()


# хотим посмотреть, к какой возрастной категории будет соответствовать большинство пользователей
percent = 50 # какое большинство хотим посчитать
cumulative_count = age_count.cumsum()
total_users = cumulative_count.iloc[-1]
age_percent = cumulative_count[cumulative_count <= total_users * (percent / 100)]

# получаем минимальное и максимальное значение возраста в этой категории
min_age = age_percent.index.min()
max_age = age_percent.index.max()

# вычисляем процент пользователей младше 18 лет
under_18_count = users[users['age'] < 18].shape[0]
under_18_percent = (under_18_count / total_users) * 100

print(f'{percent}% пользователей попали в возрастную категорию: {min_age} - {max_age}.')
print(f'Детей (младше 18 лет) составляет {under_18_percent:.2f}% ({under_18_count} юзеров) от общего числа пользователей.')








# посмотрим на распределения каждой поездки
fig = px.histogram(rides, x='distance', nbins=50, 
                   labels={'distance': 'Расстояние'})

# наведение красоты
fig.update_layout(
    title='Гистограмма распределения расстояний',
    title_x=0.5,
    yaxis_title='Число'
)
fig.show()


value_checked = 'distance'
min_value = rides[value_checked].min()
max_value = rides[value_checked].max()
median_value = rides[value_checked].median()
percentile_5 = rides[value_checked].quantile(0.05)
percentile_95 = rides[value_checked].quantile(0.95)

# подсчет количества поездок в пределах 5% и 95%
count_5_percent_min = rides[(rides[value_checked] <= percentile_5)].shape[0]
count_5_percent_max = rides[(rides[value_checked] >= percentile_95)].shape[0]

print(f"Вывод по {value_checked}:")
print(f"Диапазон 5% минимальных значений: 0 - {percentile_5}, число повторений: {count_5_percent_min}")
print(f"Диапазон 5% максимальных значений: {percentile_95} - {max_value}")
print(f"Медианное значение: {median_value}")








# посмотрим на распределения каждой поездки
fig = px.histogram(rides, x='duration', nbins=50, 
                   labels={'duration': 'Время'})

# наведем красоты
fig.update_layout(
    title='Гистограмма распределения времени в пути',
    title_x=0.5,
    yaxis_title='Число'
)
fig.show()


value_checked = 'duration'
min_value = rides[value_checked].min()
max_value = rides[value_checked].max()
median_value = rides[value_checked].median()
percentile_5 = rides[value_checked].quantile(0.05)
percentile_95 = rides[value_checked].quantile(0.95)

# подсчет количества поездок в пределах 5% и 95%
count_5_percent_min = rides[(rides[value_checked] <= percentile_5)].shape[0]
count_5_percent_max = rides[(rides[value_checked] >= percentile_95)].shape[0]

print(f"Вывод по {value_checked}:")
print(f"Диапазон 5% минимальных значений: 0 - {percentile_5}, число повторений: {count_5_percent_min}")
print(f"Диапазон 5% максимальных значений: {percentile_95} - {max_value}")
print(f"Медианное значение: {median_value}")




















# для этого воспользуйтесь методом merge()
data = users.merge(
    rides, 
    left_on='user_id', 
    right_on='user_id', 
    how='outer'
)
display(data.head(2))
display(data.info())


# строк получилось больше чем надо, проверим дубликаты и удалим их
display(data.duplicated().sum())
data = data.drop_duplicates(keep='first').reset_index(drop=True)


display(data.duplicated().sum())





# c данными о пользователях без подписки;
data_sub_yes = data[data['subscription_type'] == 'ultra']
display(data_sub_yes.describe().T)


# с данными о пользователях с подпиской.
data_sub_no = data[data['subscription_type'] == 'free']
display(data_sub_no.describe().T)





# данные с подпиской
fig = px.density_heatmap(data_sub_yes, x='distance', y='duration', nbinsx=50, nbinsy=50, color_continuous_scale='Greens')
fig.update_layout(title='Зависимость расстояния от времени (подписка есть)',
    xaxis_title='Расстояние',
    yaxis_title='Время',
    width=600,
    height=500)
fig.show()





# данные без подписки
fig = px.density_heatmap(data_sub_no, x='distance', y='duration', nbinsx=50, nbinsy=50, color_continuous_scale='Greens')
fig.update_layout(title='Зависимость расстояния от времени (подписки нет)',
    xaxis_title='Расстояние',
    yaxis_title='Время',
    width=600,
    height=500)
fig.show()





# наложим графики расстояния друг на друга для наглядности и оценки
fig = px.histogram(data_sub_yes, x='distance', nbins=50, 
                   labels={'distance': 'Расстояние'}, 
                   opacity=0.6, 
                   color_discrete_sequence=['green'], 
                   title='Гистограмма распределения пройденного расстояния')

# добавляем гистограмму для данных без подписки
fig.add_trace(px.histogram(data_sub_no, x='distance', nbins=50, 
                            labels={'distance': 'Расстояние'}, 
                            opacity=0.3, 
                            color_discrete_sequence=['red']).data[0])

# устанавливаем имена для легенды
fig.data[0].name = 'С подпиской'
fig.data[1].name = 'Без подписки'

# устанавливаем showlegend для каждого значения легенды
fig.data[0].showlegend = True
fig.data[1].showlegend = True

# наведение красоты
fig.update_layout(
    title_x=0.5,
    yaxis_title='Количество',
    barmode='overlay',
    legend_title='Легенда',
    legend=dict(
        x=1,  # Положение по оси X
        y=1,  # Положение по оси Y
        xanchor='right',  # Привязка по правому краю
        yanchor='top'     # Привязка к верхнему краю
    )
)

fig.show()


# наложим графики расстояния друг на друга для наглядности и оценки
fig = px.histogram(data_sub_yes, x='duration', nbins=50, 
                   labels={'duration': 'Время'}, 
                   opacity=0.6, 
                   color_discrete_sequence=['green'], 
                   title='Гистограмма распределения потраченного времени')

# добавляем гистограмму для данных без подписки
fig.add_trace(px.histogram(data_sub_no, x='duration', nbins=50, 
                            labels={'duration': 'Время'}, 
                            opacity=0.3, 
                            color_discrete_sequence=['red']).data[0])

# устанавливаем имена для легенды
fig.data[0].name = 'С подпиской'
fig.data[1].name = 'Без подписки'

# устанавливаем showlegend для каждого значения легенды
fig.data[0].showlegend = True
fig.data[1].showlegend = True

# наведение красоты
fig.update_layout(
    title_x=0.5,
    yaxis_title='Количество',
    barmode='overlay',
    legend_title='Легенда',
    legend=dict(
        x=1,  # Положение по оси X
        y=1,  # Положение по оси Y
        xanchor='right',  # Привязка по правому краю
        yanchor='top'     # Привязка к верхнему краю
    )
)

fig.show()

















# из задачи, надо предварительно округлить исходные данные о продолжительности поездок
data['duration'] = np.ceil(data['duration'])
data.head()


revenue = data.groupby(['user_id', 'date_month', 'subscription_type']).agg({
    'distance': 'sum',
    'duration': 'sum',
    'user_id': 'count'
}).rename(columns={'user_id': 'rides_count'})

revenue.head(10)


# Помесячная выручка считается по формуле:  
# стоимость старта поездки × количество поездок +  
# стоимость одной минуты поездки × общая продолжительность всех поездок в минутах +  
# стоимость подписки.

# сбросим индексы чтобы работать со столбцами
revenue = revenue.merge(subs, on='subscription_type')
revenue = revenue.reset_index()

# Расчет выручки для каждого типа подписки
revenue['revenue'] = (
    revenue['start_ride_price'] * revenue['rides_count'] +
    revenue['minute_price'] * revenue['duration'] +
    revenue['subscription_fee']
)

# Описание данных
revenue.describe().T


# Отдельно те кто с подпиской
revenue[revenue['subscription_type'] == 'ultra'].describe().T


# и без нее
revenue[revenue['subscription_type'] == 'free'].describe().T




















# делаем две группы
duration_sub_yes = data[data['subscription_type'] == 'ultra']['duration']
duration_sub_no = data[data['subscription_type'] == 'free']['duration']

# получаем среднюю продолжительность поездок для каждой группы
mean_duration_subscribed = duration_sub_yes.mean()
mean_duration_not_subscribed = duration_sub_no.mean()

print(f"Средняя продолжительность поездок с подпиской: {mean_duration_subscribed}")
print(f"Средняя продолжительность поездок без подписки: {mean_duration_not_subscribed}")

# применим t-тест Стьюдента для сравнения средних значений
t_stat, p_val = st.ttest_ind(duration_sub_yes, duration_sub_no, alternative='greater')

print(f"t-статистика: {t_stat}, p-значение: {p_val}\n")

# интерпретация результатов
if p_val < 0.05:
    print("Отвергаем нулевую гипотезу. Пользователи с подпиской тратят больше времени на поездки.")
else:
    print("Принимаем нулевую гипотезу.")








# получим выборку поездок с подпиской
distance_sub_yes = data[data['subscription_type'] == 'ultra']['distance']

# получаем среднюю дистанцию поездок
mean_distance_subscribed = distance_sub_yes.mean()

print(f"Средняя дистанция поездок с подпиской: {mean_distance_subscribed}")

# применим t-тест Стьюдента для сравнения средних значений
t_stat, p_val = st.ttest_1samp(distance_sub_yes, 3130, alternative='greater')

print(f"t-статистика: {t_stat}, p-значение: {p_val}\n")

if p_val < 0.05:
    print("Отвергаем нулевую гипотезу. Расстояние, которое проезжают пользователи с подпиской за одну поездку, превышает 3130 метров.")
else:
    print("Принимаем нулевую гипотезу. Расстояние, которое проезжают пользователи с подпиской за одну поездку, не превышает 3130 метров.")


# получим выборку поездок без подписки
distance_sub_no = data[data['subscription_type'] == 'free']['distance']

# получаем среднюю дистанцию поездок
mean_distance_subscribed = distance_sub_no.mean()

print(f"Средняя дистанция поездок без подписки: {mean_distance_subscribed}")

# применим t-тест Стьюдента для сравнения средних значений
t_stat, p_val = st.ttest_1samp(distance_sub_no, 3130, alternative='greater')

print(f"t-статистика: {t_stat}, p-значение: {p_val}\n")

if p_val < 0.05:
    print("Отвергаем нулевую гипотезу. Расстояние, которое проезжают пользователи без подписки за одну поездку, превышает 3130 метров.")
else:
    print("Принимаем нулевую гипотезу. Расстояние, которое проезжают пользователи без подписки за одну поездку, не превышает 3130 метров.")








# делаем две группы
revenue_sub_yes = revenue[revenue['subscription_type'] == 'ultra']['revenue']
revenue_sub_no = revenue[revenue['subscription_type'] == 'free']['revenue']

# получаем среднюю выручку
mean_subscribed = revenue_sub_yes.mean()
mean_not_subscribed = revenue_sub_no.mean()

print(f"Средняя выручка от подписчиков: {mean_subscribed}")
print(f"Средняя выручка юзеров без подписки: {mean_not_subscribed}")

# применим t-тест Стьюдента для сравнения средних значений
t_stat, p_val = st.ttest_ind(revenue_sub_yes, revenue_sub_no, alternative='greater')

print(f"t-статистика: {t_stat}, p-значение: {p_val}\n")

# интерпретация результатов
if p_val < 0.05:
    print("Отвергаем нулевую гипотезу. Помесячная выручка от пользователей с подпиской выше, чем от пользователей без подписки.")
else:
    print("Принимаем нулевую гипотезу. Помесячная выручка от пользователей с подпиской по месяцам меньше, чем выручка от пользователей без подписки")




















# так как в задаче звучит "подобрать", то будем перебирать число промокодов пока не найдем подходящее значение
# задаем параметры
p = 0.1  # вероятность продления
target = 100  # сколько юзеров должно продлить
alpha = 0.05  # уровень значимости для 95% вероятности

n = target  # начнем подбор с целевого значения в 100 промокодов
probability = 0

# ищем минимальное число промокодов что надо раздать
while probability < 1 - alpha:
    probability = 1 - binom.cdf(target - 1, n, p)
    n += 1

# n - это минимальное количество промокодов
print(f"Минимальное количество промокодов: {n - 1}")

# график распределения
x = np.arange(0, n)
y = binom.pmf(x, n - 1, p)

# создание графика
plt.figure(figsize=(12, 6))
plt.bar(x[x <= 300], y[x <= 300], color='coral', width=0.5)  # Ограничение по количеству продлений
plt.title('Биномиальное распределение продлений подписки', fontsize=16)
plt.xlabel('Количество продлений', fontsize=14)
plt.ylabel('Вероятность', fontsize=14)
plt.xlim(0, 300)  # Установите лимит по оси X
plt.ylim(0, max(y[x <= 300]) * 1.1)  # Установите лимит по оси Y
plt.grid(axis='y', linestyle='--', alpha=0.7)
plt.show()








# параметры
p = 0.4  # вероятность открытия
n = 1000000  # число уведомлений
target = 399500  # целевое число открытий
alpha = 0.05

# расчет среднего и стандартного отклонения
mu = n * p  # среднее
sigma = np.sqrt(n * p * (1 - p))  # стандартное отклонение

# расчет z-значения
z = (target - mu) / sigma

# расчет вероятности
probability = norm.cdf(z)

# вывод результата
print(f"Вероятность того, что уведомление откроют не более {target} пользователей: {probability*100:.4f}%")

# построение графика
x = np.linspace(mu - 4*sigma, mu + 4*sigma, 1000)
y = norm.pdf(x, mu, sigma)

plt.plot(x, y)
plt.fill_between(x, y, where=(x <= target), alpha=0.5)
plt.title('Нормальное распределение открытий уведомлений')
plt.xlabel('Количество открытий')
plt.ylabel('Плотность вероятности')
plt.axvline(target, color='red', linestyle='--', label='Целевое значение')
plt.xticks(rotation=90)
plt.legend(loc='best')
plt.show()







