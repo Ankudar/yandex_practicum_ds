

















# импортируйте библиотеку pandas
import pandas as pd


# прочитайте csv-файл
data = pd.read_csv("/datasets/data.csv")





# ваш код здесь
data.head(20)





# ваш код здесь
data.info()











# ваш код здесь
data.isnull().sum()





# ваш код здесь
median_total_income = data.groupby('income_type')['total_income'].median()
# Функция для заполнения пропусков
def fill_null_total_income(row):
    if pd.isnull(row['total_income']):
        return median_total_income[row['income_type']]
    return row['total_income']

# Применяем функцию к каждой строке
data['total_income'] = data.apply(fill_null_total_income, axis=1)








# ваш код здесь
# Функция для Обработки отрицательных значений
def use_abs(row):
    if row['days_employed'] < 0:
        return abs(row['days_employed'])
    return row['days_employed']

# Применяем функцию к каждой строке
data['days_employed'] = data.apply(use_abs, axis=1)
data['days_employed'].unique()





# ваш код здесь
median_total_income = data.groupby('income_type')['days_employed'].median()
median_total_income








# ваш код здесь
data['children'].unique()





# ваш код здесь
data = data.drop(data[data['children'] == -1].index)
data = data.drop(data[data['children'] == 20].index)





# ваш код здесь
data['children'].unique()








# ваш код здесь
median_days_employed = data.groupby('income_type')['days_employed'].median()
# Функция для заполнения пропусков
def fill_null_days_employed(row):
    if pd.isnull(row['days_employed']):
        return median_days_employed[row['income_type']]
    return row['days_employed']

# Применяем функцию к каждой строке
data['days_employed'] = data.apply(fill_null_days_employed, axis=1)





# ваш код здесь
data.isnull().sum()








# ваш код здесь
data['total_income'] = data['total_income'].astype(int)
data.info()








# ваш код здесь
data['education'] = data['education'].str.lower()





# посчитайте дубликаты
data.duplicated().sum()


# удалите дубликаты
data = data.drop_duplicates()
data.duplicated().sum()








# создайте функцию categorize_income()
def categorize_income(row):
    if row <= 30000:
        return "E"
    elif row <= 50000:
        return "D"
    elif row <= 200000:
        return "C"
    elif row <= 1000000:
        return "B"
    else:
        return "A"


# примените функцию методом apply()
data['total_income_category'] = data['total_income'].apply(categorize_income)





# ваш код здесь
data['purpose'].unique()





# создайте функцию categorize_purpose()
def categorize_purpose(row):
    if 'авто' in row:
        return "операции с автомобилем"
    elif 'недвиж' in row or 'жиль' in row:
        return 'операции с недвижимостью'
    elif 'свадь' in row:
        return 'проведение свадьбы'
    else:
        return 'получение образования'


# примените функцию методом apply()
data['purpose_category'] = data['purpose'].apply(categorize_purpose)



