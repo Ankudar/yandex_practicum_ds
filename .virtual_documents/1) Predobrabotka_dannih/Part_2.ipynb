














import pandas as pd

try:
    data = pd.read_csv('/datasets/data.csv')
except:
    data = pd.read_csv('https://code.s3.yandex.net/datasets/data.csv')





data.head(20)





data.info()











data.isna().sum()





for t in data['income_type'].unique():
    data.loc[(data['income_type'] == t) & (data['total_income'].isna()), 'total_income'] = \
    data.loc[(data['income_type'] == t), 'total_income'].median()








data['days_employed'] = data['days_employed'].abs()





data.groupby('income_type')['days_employed'].agg('median')








data['children'].unique()





data = data[(data['children'] != -1) & (data['children'] != 20)]





data['children'].unique()








for t in data['income_type'].unique():
    data.loc[(data['income_type'] == t) & (data['days_employed'].isna()), 'days_employed'] = \
    data.loc[(data['income_type'] == t), 'days_employed'].median()





data.isna().sum()








data['total_income'] = data['total_income'].astype(int)








data['education'] = data['education'].str.lower()





data.duplicated().sum()


data = data.drop_duplicates()








def categorize_income(income):
    try:
        if 0 <= income <= 30000:
            return 'E'
        elif 30001 <= income <= 50000:
            return 'D'
        elif 50001 <= income <= 200000:
            return 'C'
        elif 200001 <= income <= 1000000:
            return 'B'
        elif income >= 1000001:
            return 'A'
    except:
        pass


data['total_income_category'] = data['total_income'].apply(categorize_income)





data['purpose'].unique()





def categorize_purpose(row):
    try:
        if 'автом' in row:
            return 'операции с автомобилем'
        elif 'жил' in row or 'недвиж' in row:
            return 'операции с недвижимостью'
        elif 'свад' in row:
            return 'проведение свадьбы'
        elif 'образов' in row:
            return 'получение образования'
    except:
        return 'нет категории'


data['purpose_category'] = data['purpose'].apply(categorize_purpose)








# Ваш код будет здесь. Вы можете создавать новые ячейки.
# Создание сводной таблицы
result = data.pivot_table(
    values='debt',
    index='children',
    aggfunc=['count', 'sum']
)

# Переименование столбцов
result.columns = ['no_debt', 'has_debt']
result["debt_ratio"] = round((result["has_debt"] / result["no_debt"]), 3)*100
result = result.sort_values(by='debt_ratio', ascending=False)
result








# Ваш код будет здесь. Вы можете создавать новые ячейки.
# Создание сводной таблицы
result = data.pivot_table(
    values='debt',
    index='family_status_id',
    aggfunc=['count', 'sum']
)

# Переименование столбцов
result.columns = ['no_debt', 'has_debt']

# Присвоение индексов описательным именам
result.index = [
    "Женат / Замужем",
    "Гражданский брак",
    "Вдовец / Вдова",
    "В разводе",
    "Не женат / Не замужем",
]

# Расчет доли задолженностей
result["debt_ratio"] = round((result["has_debt"] / result["no_debt"]), 3)*100
result = result.sort_values(by='debt_ratio', ascending=False)
result








# Ваш код будет здесь. Вы можете создавать новые ячейки.
result = data.pivot_table(
    values='debt',
    index='total_income_category',
    aggfunc=['count', 'sum']
)

# Переименование столбцов
result.columns = ['no_debt', 'has_debt']

# Расчет доли задолженностей
result["debt_ratio"] = round((result["has_debt"] / result["no_debt"]), 3)*100
result = result.sort_values(by='debt_ratio', ascending=False)
result








# Ваш код будет здесь. Вы можете создавать новые ячейки.
result = data.pivot_table(
    values='debt',
    index='purpose_category',
    aggfunc=['count', 'sum']
)

# Переименование столбцов
result.columns = ['no_debt', 'has_debt']

# Расчет доли задолженностей
result["debt_ratio"] = round((result["has_debt"] / result["no_debt"]), 3)*100
result = result.sort_values(by='debt_ratio', ascending=False)
result





















