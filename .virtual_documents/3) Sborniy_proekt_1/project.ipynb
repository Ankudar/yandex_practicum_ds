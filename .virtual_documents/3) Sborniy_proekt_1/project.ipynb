























# импорты
import pandas as pd
import numpy as np
import matplotlib.pyplot as plt
import matplotlib.patches as mpatches
import matplotlib.ticker as mtick
import seaborn as sns
import string
import re
from itertools import combinations



# красивые выводы
sns.set()
pd.set_option('display.float_format', lambda x: '%.2f' % x)
# plt.gca().yaxis.set_major_formatter(mtick.FormatStrFormatter('%.0f'))


# загрузим файлы
data1 = pd.read_csv('/datasets/mkrf_movies.csv', delimiter=',')
display(data1.head())
display(data1.info())


data2 = pd.read_csv('/datasets/mkrf_shows.csv', delimiter=',')
display(data2.head())
display(data2.info())


# чтобы объединить, надо привести названия столбцов и типы данных в порядок
# делаем все строчными буквами
data1.columns = data1.columns.str.lower()
data2.columns = data2.columns.str.lower()


# функция для обработки пробелов в строке
def process_spaces(s):
    if isinstance(s, str):
        s = s.strip()  # удаление начальных и конечных пробелов
        s = ' '.join(s.split())  # замена нескольких пробелов на один
    return s

data1 = data1.applymap(process_spaces)
data2 = data2.applymap(process_spaces)


# изменим тип данных в data1 - 
# puNumber на int, но получили ошибку, поэтому посмотрим на те значения, что не являются числами
non_numeric_values = data1.loc[data1['punumber'].apply(lambda x: not str(x).isnumeric()), 'punumber']
non_numeric_values.unique()


# заменим на -1
data1.loc[data1['punumber'] == 'нет', 'punumber'] = '-1'

# и после преобразуем в int
data1['punumber'] = data1['punumber'].astype(np.int32)


# show_start_date приведем в нормальную дату
data1['show_start_date'] = pd.to_datetime(data1['show_start_date']).dt.normalize()


# ratings на float, но тут тоже проблемы с данными
def is_not_float(value):
    try:
        float(value)
        return False
    except ValueError:
        return True

non_float_values = data1.loc[data1['ratings'].apply(is_not_float), 'ratings']
non_float_values.unique()


# теперь видим в чем проблема, некоторые рейтинги в процентах...
# удалим символ % и поделим число на 10 (в рейтинге нет значений больше 10, значит примем 100% = 10)
mask = data1['ratings'].str.contains('%', na=False)

# Удаляем '%' и преобразуем в float, затем делим на 10
data1.loc[mask, 'ratings'] = data1.loc[mask, 'ratings'].str.replace('%', '').astype(float) / 10


data1['ratings'].unique()


data1['ratings'] = data1['ratings'].astype(np.float32)


data1['ratings'].describe()


# все привели к общему и правильному виду
# объединим по punumber
data = data1.rename(columns={'punumber': 'punumber_all'}).merge(
    data2.rename(columns={'punumber': 'punumber_rf'}), 
    left_on='punumber_all', 
    right_on='punumber_rf', 
    how='outer'
)

# замена пропущенных значений в 'punumber_rf' на '-1'
data['punumber_rf'] = data['punumber_rf'].fillna(-1) # в принципе можно оставить и нан, но мне так больше нравится

display(data.head())


data.info()

















# изучим пропуски
missing_data = data.isna().sum()
missing_data = missing_data[missing_data > 0]
missing_data


# т.к. мы никак не сможем определить следующие показатели (кроме как искать в сети, но кому это надо?):
# film_studio, production_country, director, producer - заменим пропуски на "неизвестно"
columns_to_fill = ['film_studio', 'production_country', 'director', 'producer', 'genres']

for column in columns_to_fill:
    data[column].fillna('Неизвестно', inplace=True)





# показатели refundable_support, nonrefundable_support - относятся к господдержке
# делаем вывод, что здесь ее не было и заменяем на 0
columns_to_fill = ['refundable_support', 'nonrefundable_support']

for column in columns_to_fill:
    data[column] = data[column].fillna(0)


# budget можно попробовать определить через зависимость страны, директора, типа, возрастного ограничения и жанра
columns = ['type', 'genres', 'age_restriction', 'production_country', 'director']

# перебираем список в обратном порядке, начиная с наиболее общего к менее детализированному
for i in range(len(columns), 0, -1):
    # формируем список столбцов для текущей итерации
    current_columns = columns[:i]
    
    # вычисляем медиану для текущей группы столбцов
    median_budget = data.groupby(current_columns)['budget'].transform('median')
    
    # заполняем пропуски в 'budget' текущими медианными значениями
    data['budget'].fillna(median_budget, inplace=True)

# eсли после всех этих шагов остались пропуски, заполняем их медианой всего столбца 'budget'
median_budget = data['budget'].median()
data['budget'].fillna(median_budget, inplace=True)





# посмотрим, что есть в financing_source
data['financing_source'].unique()


# заменим на "без финансирования"
data['financing_source'].fillna("без финансирования", inplace=True)


# сделаем аналогично для рейтинга и добавим заполненный budget
columns = ['budget', 'type', 'genres', 'age_restriction', 'production_country', 'director']

for i in range(len(columns), 0, -1):
    current_columns = columns[:i]
    median_budget = data.groupby(current_columns)['ratings'].transform('median')
    data['ratings'].fillna(median_budget, inplace=True)

median_budget = data['ratings'].median()
data['ratings'].fillna(median_budget, inplace=True)


# и для сборов в рублях
# с каждым разом медиана становиться более детализированной, что позволяет нам получать более точные значения для заполнения
columns = ['budget', 'type', 'genres', 'age_restriction', 'production_country', 'director', 'ratings']

for i in range(len(columns), 0, -1):
    current_columns = columns[:i]
    median_budget = data.groupby(current_columns)['box_office'].transform('median')
    data['box_office'].fillna(median_budget, inplace=True)

median_budget = data['box_office'].median()
data['box_office'].fillna(median_budget, inplace=True)


# изучим пропуски
missing_data = data.isna().sum()
missing_data = missing_data[missing_data > 0]
missing_data





data.describe().T





# проверка, чтобы там где нет финансирования - возвратный и нет бюджет был по нулям
check_data = data[data['financing_source'] == 'без финансирования']
check_data.describe().T








# проверим явные дубликаты
data.duplicated().sum()





# проверяем наличие дубликатов по прокатному удостоверению
num_duplicates = data.duplicated('punumber_all', keep=False).sum()

# если есть дубликаты, выводим их
if num_duplicates > 0:
    display(f"дубликатов: {num_duplicates}")
    display(data[data.duplicated('punumber_all', keep=False)])
else:
    display("дубликатов не найдено")














data[['budget', 'refundable_support', 'nonrefundable_support']].describe().T





# помним, что в бюджет уже включены возвратные и невозвратные средства
# првоерим чтобы их сумма не была больше чем сам бюджет
bad_budget = data[data['refundable_support'] + data['nonrefundable_support'] > data['budget']]
display(bad_budget)





# удаление строк, входящих в bad_budget
data = data.drop(bad_budget.index)

# сброс индексов
data = data.reset_index(drop=True)








# создание нового столбца с годом
data['exposition_year'] = data['show_start_date'].dt.year
data.head(2)





# список столбцов для обработки и новых столбцов
columns = [('director', 'main_director'), ('producer', 'main_producer'), ('genres', 'main_genre'), ('film_studio', 'main_film_studio')]

# функция для сортировки слов в строке
def get_main_info(s):
    words = s.split(',')
    return words[0]

# применяем функцию к каждому столбцу
for old_column, new_column in columns:
    # применяем функцию и вытащим первые значения
    data[new_column] = data[old_column].apply(get_main_info)

data.head(2)


# еще сделаем столбец по возрастным ограничениям без лишних данных, оставим только цифры
data['digit_age_restriction'] = data['age_restriction'].str.extract('(\d+)').astype(int)
data.head(2)





# выберем только те фильмы, где есть финансирование, таких у нас всего 332
films_with_support = data[data['financing_source'] != 'без финансирования']
all_budget = films_with_support['budget'].sum()
all_support = films_with_support['refundable_support'].sum() + films_with_support['nonrefundable_support'].sum()
result = all_support / all_budget
display(f"{round(result, 2) * 100}% составляет поддержка фильмов от общего суммарного бюджета")


# создаем два подмножества данных
data_no_financing = data[data['financing_source'] == 'без финансирования'].copy()
data_with_financing = data[data['financing_source'] != 'без финансирования'].copy()

# в подмножестве с финансированием делаем расчеты
data_with_financing['total_support'] = data_with_financing['refundable_support'] + data_with_financing['nonrefundable_support']
data_with_financing['support_percent'] = (data_with_financing['total_support'] / data_with_financing['budget'])

# объединяем оба подмножества в один датафрейм
data = pd.concat([data_no_financing, data_with_financing])

# проверяем, что столбец имеет тип float
data['support_percent'] = data['support_percent'].astype(float)

# проверяем на наличие inf и -inf
if data['support_percent'].isin([np.inf, -np.inf]).any():
    # заменяем inf и -inf на 0
    data['support_percent'] = np.where(np.isinf(data['support_percent']), 0, data['support_percent'])


# проверим, что получилось
display(data.head(2))


data[data['support_percent'] > 0]


# уберем научное представление чисел
pd.set_option('display.float_format', lambda x: '%.3f' % x)
# получим уникальные значения и отсортируем
unique_values = data['support_percent'].unique()
display(pd.Series(unique_values).sort_values().mean())

# определим границы интервалов и меток для категорий поддержки
bins = [0, 20, 40, 60, 80]
labels = ['без поддержки', 'слабая поддержка', 'средняя поддержка', 'сильная поддержка']

# создадим категории поддержки
data['support_category'] = pd.cut(data['support_percent'] * 100, bins=bins, labels=labels)

# посчитаем количество
support_counts = data['support_category'].value_counts()

# сделаем график
support_counts.plot(kind='bar')
plt.title('Распределение фильмов по категориям поддержки')
plt.ylabel('Количество фильмов')
plt.show()











# подсчет общего количества фильмов и фильмов с неизвестными данными о прокате по годам
total_films = data['exposition_year'].value_counts().sort_index()
unknown_punumber_films = data[data['punumber_rf'] == -1]['exposition_year'].value_counts().sort_index()

# создание фигуры и осей
fig, ax1 = plt.subplots(figsize=(15, 7))

# создание bar plot для общего количества фильмов
total_films.plot(kind='bar', ax=ax1, color='red', alpha=0.1)

# создание второй оси Y
ax2 = ax1.twinx()

# создание bar plot для фильмов с неизвестными данными о прокате
unknown_punumber_films.plot(kind='bar', ax=ax2, color='green', alpha=0.7)

# добавление легенд
ax1.legend(['Общее количество фильмов'], loc='upper left', bbox_to_anchor=(0, 1.1))
ax2.legend(['Фильмы с неизвестными данными о прокате'], loc='upper right', bbox_to_anchor=(1, 1.1))

# добавление названий осей
ax1.set_ylabel('Общее количество фильмов', color='red')
ax2.set_ylabel('Фильмы с неизвестными данными о прокате', color='green')

# отображение графика
plt.show()





# создадим новый столбец
data['without_punumber_rf'] = data['punumber_rf'] == -1

pivot_table = pd.pivot_table(data, values=['punumber_all', 'without_punumber_rf'], index='exposition_year', aggfunc={'punumber_all': 'count', 'without_punumber_rf': 'sum'})

# добавим долю
pivot_table = pivot_table.assign(rf_not_released_ratio = pivot_table['without_punumber_rf'] / pivot_table['punumber_all'])

# переименуем столбцы
pivot_table = pivot_table.rename(columns={
    'punumber_all': 'Всего вышло',
    'without_punumber_rf': 'Без проката в РФ',
    'rf_not_released_ratio': 'Доля без проката в РФ',
    'exposition_year': 'Дата выхода'
})

display(pivot_table)


plt.figure(figsize=(10, 6))
plt.plot(pivot_table.index, pivot_table['Доля без проката в РФ'], marker='o')
plt.title('Изменение доли фильмов без проката в РФ')
plt.xlabel('Дата выхода')
plt.ylabel('Доля без проката в РФ')
plt.show()








# выведем нужные данные
pivot_table = pd.pivot_table(data, values='box_office', index='exposition_year', aggfunc='sum')
display(pivot_table)

# создадим график
plt.figure(figsize=(10, 6))
plt.plot(pivot_table, marker='o')
plt.title('Динамика проката в РФ')
plt.xlabel('Дата выхода')
plt.ylabel('Сумма сборов')
plt.show()








pivot_table = pd.pivot_table(data, values='box_office', index='exposition_year', aggfunc=['sum', 'mean', 'median', 'min', 'max'])
pivot_table.columns = ['Всего вышло', 'Среднее по году', 'Медиана по году', 'min', 'max']
display(pivot_table)





# список столбцов
columns = ['Всего вышло', 'Среднее по году', 'Медиана по году', 'min', 'max']

# сетка для графиков
n_rows = 2
n_cols = 3

# создаем фигуру и оси
fig, axs = plt.subplots(n_rows, n_cols, figsize=(15, 10))

# удаляем последний (неиспользуемый) график
fig.delaxes(axs[n_rows-1, n_cols-1])

# для каждого столбца создаем отдельный график
for i, column in enumerate(columns):
    row = i // n_cols
    col = i % n_cols
    axs[row, col].bar(pivot_table.index, pivot_table[column], label=column)
    
    axs[row, col].set_title(column)
    axs[row, col].set_xlabel('Дата выхода')
    axs[row, col].set_ylabel('Сумма сборов')
    
    axs[row, col].legend()

# автоматическое выравнивание подзаголовков
plt.tight_layout()
plt.show()








pivot_table = pd.pivot_table(data, values='box_office', index='exposition_year', columns='digit_age_restriction', aggfunc='sum')

# ограничиваем года
pivot_table = pivot_table.loc[2015:2019]

# округляем значения вниз до ближайшего целого числа
pivot_table = pivot_table.apply(np.floor)

# форматируем значения в сводной таблице, чтобы они отображались как целые числа с разделителями тысяч
pivot_table = pivot_table.style.format("{:,.0f}")

display(pivot_table)





pivot_table = pd.pivot_table(data, values='box_office', index='exposition_year', columns='digit_age_restriction', aggfunc='sum')

# ограничиваем года
pivot_table = pivot_table.loc[2015:2019]

plt.figure(figsize=(13, 6))

# сделаем графики для каждой категории
for column in pivot_table.columns:
    x = pivot_table.index
    y = pivot_table[column]
    plt.plot(x, y, marker='o', label=column)

    # получим цвет линии для тренда, чтобы не было различий
    color = plt.gca().lines[-1].get_color()

    # посчитаем и построим тренд
    trend_line = np.polyfit(x, y, 1)
    trend_func = np.poly1d(trend_line)
    plt.plot(x, trend_func(x), linestyle='--', color=color)

plt.title('Динамика дохода по возрастным ограничениям')
plt.xlabel('Год выхода')
plt.ylabel('Доход')
plt.legend(title='Возрастные ограничения', bbox_to_anchor=(1, 1.01), loc='upper left')
plt.xticks(range(min(pivot_table.index), max(pivot_table.index)+1, 1))
plt.show()





# проверим теорию про бюджеты фильмов
# переименуем столбцы
pivot_table = pd.pivot_table(data, values='budget', index='exposition_year', columns='digit_age_restriction', aggfunc='sum')

# ограничиваем года
pivot_table = pivot_table.loc[2015:2019]

display(pivot_table)





# в первую очередь построим сводный график по годам и возрастным ограничениям
plt.figure(figsize=(13, 6))
pivot_table.plot(marker='o', ax=plt.gca())
plt.title('Динамика дохода по возрастным ограничениям')
plt.xlabel('Год выхода')
plt.ylabel('Бюджет')
plt.legend(title='Возрастные ограничения', bbox_to_anchor=(1, 1.01), loc='upper left')
plt.xticks(range(min(pivot_table.index), max(pivot_table.index)+1, 1))
plt.show()














# сделаем новую базу только с фильмами которые получили поддержку
data_new = data[(data['financing_source'] != 'без финансирования') & (data['total_support'] != 0)]
data_new.head(2)


data_new.columns


# для продолжения оценки предстоит перевести в цифровую систему следующие столбцы:
# type, director, main_producer, main_genre
data_new['type_id'] = pd.factorize(data_new['type'])[0]
data_new['main_director_id'] = pd.factorize(data_new['main_director'])[0]
data_new['main_producer_id'] = pd.factorize(data_new['main_producer'])[0]
data_new['main_genre_id'] = pd.factorize(data_new['main_genre'])[0]
data_new['main_film_studio_id'] = pd.factorize(data_new['main_film_studio'])[0]
data_new.head(2)


# для начала посмотрим глобально на все возможные позиции, как они кореллируются между собой
columns = ['refundable_support', 'nonrefundable_support', 'budget',
           'ratings', 'box_office', 'exposition_year',
           'digit_age_restriction', 'total_support', 'type_id',
          'main_director_id', 'main_producer_id', 'main_genre_id', 'main_film_studio']

# вычисляем матрицу корреляции
corr_matrix = data_new[columns].corr()

# создаем тепловую карту
plt.figure(figsize=(10, 6))
sns.heatmap(corr_matrix, annot=True, fmt=".2f", linewidths=.5, cmap='coolwarm')

plt.title('Матрица корреляции')
plt.show()





# получим корелляцию для ключевого значения box_office
box_office_corr = corr_matrix['box_office']

# находим столбцы, где корреляция находится в диапазоне от -0.2 до 0.2, т.е. практически не влияет на изменение цены объекты
low_corr_columns = box_office_corr[(box_office_corr > -0.1) & (box_office_corr < 0.1)].index
low_corr_columns





# создаем множества из списков
columns_set = set(columns)
low_corr_columns_set = set(low_corr_columns)

# вычитаем множества
new_col = list(columns_set - low_corr_columns_set)

# вычисляем матрицу корреляции
corr_matrix = data[new_col].corr()

plt.figure(figsize=(10, 6))
sns.heatmap(corr_matrix, annot=True, fmt=".2f", linewidths=.5, cmap='coolwarm')
plt.title('Матрица корреляции')
plt.show()


# категоризируем данные
def interpret_corrcoef(value, col1, col2):
    abs_value = abs(value)
    if abs_value < 0.20:
        return f"Между '{col1}' и '{col2}' очень слабая корреляция"
    elif abs_value < 0.40:
        return f"Между '{col1}' и '{col2}' слабая корреляция"
    elif abs_value < 0.60:
        return f"Между '{col1}' и '{col2}' средняя корреляция"
    elif abs_value < 0.80:
        return f"Между '{col1}' и '{col2}' сильная корреляция"
    else:
        return f"Между '{col1}' и '{col2}' очень сильная корреляция"

# основная характеристика
main_character = 'box_office'

# формируем список пар
pairs_to_include = [(main_character, col) for col in new_col if col != main_character]

for pair in pairs_to_include:
    col1, col2 = pair
    try: # добавим, т.к. могу попасть категориальные текстовые данные и будет ошибка
        display(interpret_corrcoef(corr_matrix.loc[col1, col2], col1, col2))
    except Exception as e:
        continue
# получаем оценку влияния показателей на стоимость объектов








# определим квантили и сразу уберем выбросы при последующих подсчетах
q_max = 0.85
director_id_q = data_new['main_director_id'].quantile(q_max)
main_producer_id_q = data_new['main_producer_id'].quantile(q_max)
main_genre_id_q = data_new['main_genre_id'].quantile(q_max)
main_film_studio_q = data_new['main_film_studio_id'].quantile(q_max)
exposition_year_q = data_new['exposition_year'].quantile(q_max)
digit_age_restriction_q = data_new['digit_age_restriction'].quantile(0.95) # сделано в ручную иначе пропадают целые категории
total_support_q = data_new['total_support'].quantile(q_max)

data_filtered = data_new[(data_new['main_director_id'] <= director_id_q) & 
                         (data_new['main_producer_id'] <= main_producer_id_q) & 
                         (data_new['main_genre_id'] <= main_genre_id_q) & 
                         (data_new['main_film_studio_id'] <= main_film_studio_q) & 
                         (data_new['exposition_year'] <= exposition_year_q) & 
                         (data_new['digit_age_restriction'] <= digit_age_restriction_q) & 
                         (data_new['total_support'] <= total_support_q)]


# оценим "режиссерский" рейтинг
# определим столбцы для работы
series_main = 'main_director_id'
series_match = 'main_director'
rating = 8
text = 'Режиссеры с медианным рейтингом больше'

# сгруппируем по main_director_id и получим медианные значений рейтингов
grouped_data = data_filtered.groupby(series_main)['ratings'].median().reset_index()

# отфильтурем, оставляем только режиссеров с рейтингом больше rating
grouped_data_high_ratings = grouped_data.query(f'ratings > {rating}')

# строим график
plt.figure(figsize=(10, 6))
grouped_data.plot.hexbin(x=series_main, y='ratings', gridsize=30, cmap='BuGn', sharex=False)
plt.title('Кореляция между режиссерами и рейтингом')
plt.show()

# смотрим сколько получилось
display(f"{text} {rating}: {len(grouped_data_high_ratings)}")

# получаем их имена
check_high_ratings = data_filtered[data_filtered[series_main].isin(grouped_data_high_ratings[series_main])][series_match].unique()

# выводим на экран
for check_role in check_high_ratings:
    display(check_role)





# оценим "продюссерский" рейтинг
series_main = 'main_producer_id'
series_match = 'main_producer'
rating = 8
text = 'Продюссеры с медианным рейтингом больше'

grouped_data = data_filtered.groupby(series_main)['ratings'].median().reset_index()

grouped_data_high_ratings = grouped_data.query(f'ratings > {rating}')

plt.figure(figsize=(10, 6))
grouped_data.plot.hexbin(x=series_main, y='ratings', gridsize=30, cmap='BuGn', sharex=False)
plt.title('Кореляция между продюсерами и рейтингом')
plt.show()

display(f"{text} {rating}: {len(grouped_data_high_ratings)}")

check_high_ratings = data_filtered[data_filtered[series_main].isin(grouped_data_high_ratings[series_main])][series_match].unique()
for check_role in check_high_ratings:
    display(check_role)


# оценим рейтинги по жанру
series_match = 'main_genre'
rating = 8

grouped_data = data_filtered.groupby(series_match)['ratings'].max().sort_values(ascending=False).reset_index()

plt.figure(figsize=(10, 6))

plt.bar(grouped_data[series_match], grouped_data['ratings'])
plt.title('Распределение медианных рейтингов по жанрам')
plt.ylabel('Медианный рейтинг')
plt.xticks(rotation=90)
plt.show()

high_rating_genres = grouped_data[grouped_data['ratings'] > rating][series_match]
display(f"Жанры с медианным рейтингом больше {rating}: {len(high_rating_genres)}")
display(high_rating_genres)






# оценим рейтинги по студии
series_main = 'main_film_studio_id'
series_match = 'main_film_studio'
rating = 8
text = 'Студии с медианным рейтингом больше'

grouped_data = data_filtered.groupby(series_main)['ratings'].median().reset_index()

grouped_data_high_ratings = grouped_data.query(f'ratings > {rating}')

plt.figure(figsize=(10, 6))
grouped_data.plot.hexbin(x=series_main, y='ratings', gridsize=30, cmap='BuGn', sharex=False)
plt.title('Кореляция между студиями и рейтингом')
plt.show()

display(f"{text} {rating}: {len(grouped_data_high_ratings)}")

check_high_ratings = data_filtered[data_filtered[series_main].isin(grouped_data_high_ratings[series_main])][series_match].unique()
for check_role in check_high_ratings:
    display(check_role)


# сгруппируем данные по огранчениям и вычислим медианы рейтингов
series_main = 'digit_age_restriction'
grouped_data = data_filtered.groupby(series_main)['ratings'].median()

plt.figure(figsize=(10, 6))
grouped_data.plot(kind='bar')
plt.xlabel('Возраст')
plt.ylabel('Медианный рейтинг')
plt.title('Рейтинг фильмов по возрастным ограничениям')
plt.show()





# сгруппируем данные по годам и вычисление медианы рейтингов
series_main = 'exposition_year'
grouped_data = data_filtered.groupby(series_main)['ratings'].median()

plt.figure(figsize=(10, 6))
grouped_data.plot(kind='bar')
plt.xlabel('Год')
plt.ylabel('Медианный рейтинг')
plt.title('Рейтинг фильмов по году выпуска')
plt.show()





# сгруппируем данные по общей поддержке и вычисление медианы рейтингов
series_main = 'total_support'
grouped_data = data_filtered.groupby(series_main)['ratings'].median()

plt.figure(figsize=(18, 9))
grouped_data.plot(kind='bar')
plt.xticks(ticks=range(0, len(grouped_data), 2), rotation=45, fontsize=10)
plt.xlabel('Общая поддержка')
plt.ylabel('Медианный рейтинг')
plt.title('Рейтинг фильмов по общей поддержке')
plt.show()





# посмотрим на бюджеты
# разделим бюджет на 10 диапазонов
i_bins = 10
budget_non_null = data_filtered[data_filtered['budget'] > 0]
budget_bins = pd.cut(budget_non_null['budget'], bins=i_bins)


# группируем и посчитаем медианы рейтингов
grouped_ratings = budget_non_null.groupby(budget_bins)['ratings'].median()
grouped_support = budget_non_null.groupby(budget_bins)['total_support'].sum()

plt.figure(figsize=(12, 6))

# первый слой - медианные рейтинги
grouped_ratings.plot(kind='bar', color='teal')

# второй - сумма общей поддержки
grouped_support.plot(kind='bar', secondary_y=True, color='orange')

plt.xlabel('Диапазон бюджета')
plt.ylabel('Медианный рейтинг')
plt.title('Медианный рейтинг и сумма общей поддержки по диапазонам бюджета')
plt.xticks(rotation=45)
plt.tight_layout()
plt.legend(['Медианный рейтинг', 'Сумма total support'])

plt.show()





# добавим столбец с процентом поддержки
budget_non_null['support_percent'] = (budget_non_null['total_support'] / budget_non_null['budget']) * 100

# Фильтрация и отображение нужных столбцов
filtered_data = budget_non_null[budget_non_null['total_support'] < 56659935][['title', 'budget', 'total_support', 'support_percent']]
display(filtered_data.sort_values(by='support_percent', ascending=False))


display(budget_non_null['support_percent'].describe())








# оценим "режиссерский" доход
series_main = 'main_director_id'
series_match = 'main_director'
box_office_threshold = 500000000
text = 'Режисеры с медианным доходом больше'

grouped_data = data_filtered.groupby(series_main)['box_office'].median().reset_index()

grouped_data_high_box_office = grouped_data.query(f'box_office > {box_office_threshold}')

plt.figure(figsize=(10, 6))
plt.hist(grouped_data['box_office'], bins=20)
plt.title('Распределение медианных доходов от проката режисеров')
plt.xlabel('Медианный доход от проката')
plt.ylabel('Количество режисеров')
plt.show()

display(f"{text} {box_office_threshold}: {len(grouped_data_high_box_office)}")

check_high_budget = data_filtered[data_filtered[series_main].isin(grouped_data_high_box_office[series_main])][series_match].unique()
for check_role in check_high_budget:
    display(check_role)


# оценим "продюссерский" доход
series_main = 'main_producer_id'
series_match = 'main_producer'
box_office_threshold = 500000000
text = 'Продюссеры с медианным доходом больше'

grouped_data = data_filtered.groupby(series_main)['box_office'].median().reset_index()

grouped_data_high_box_office = grouped_data.query(f'box_office > {box_office_threshold}')

# Построение гистограммы
plt.figure(figsize=(10, 6))
plt.hist(grouped_data['box_office'], bins=20)
plt.title('Распределение медианных доходов от проката продюссеров')
plt.xlabel('Медианный доход от проката')
plt.ylabel('Количество продюссеров')
plt.show()

display(f"{text} {box_office_threshold}: {len(grouped_data_high_box_office)}")

check_high_budget = data_filtered[data_filtered[series_main].isin(grouped_data_high_box_office[series_main])][series_match].unique()
for check_role in check_high_budget:
    display(check_role)


# оценим доход по жанру
series_main = 'main_genre_id'
series_match = 'main_genre'
box_office_threshold = 10000000 # здесь придется уменьшить наши аппетиты на пару нолей
text = 'Жанры с общим доходом больше'

grouped_data = data_filtered.groupby(series_match)['box_office'].median().reset_index()
grouped_data_high_box_office = grouped_data.query(f'box_office > {box_office_threshold}')

# Сортируем данные по доходу от большего к меньшему
grouped_data = grouped_data.sort_values(by='box_office', ascending=False)

plt.figure(figsize=(10, 6))
grouped_data['box_office'].plot(kind='bar')
plt.title('Распределение медианного дохода от проката по жанрам')
plt.xlabel('Жанр')
plt.ylabel('Медианный доход от проката')

# Добавляем подписи к столбцам гистограммы
plt.xticks(range(len(grouped_data[series_match])), grouped_data[series_match], rotation=90)

plt.show()

display(f"{text} {box_office_threshold}: {len(grouped_data_high_box_office)}")

check_high_box_office = grouped_data[grouped_data[series_match].isin(grouped_data_high_box_office[series_match])][series_match].unique()
for check_role in check_high_box_office:
    display(check_role)



# оценим доходы по студии
series_main = 'main_film_studio_id'
series_match = 'main_film_studio'
box_office_threshold = 400000000 # и здесь уменьшим
text = 'Студии с медианным доходом больше'

grouped_data = data_filtered.groupby(series_main)['box_office'].median().reset_index()

grouped_data_high_box_office = grouped_data.query(f'box_office > {box_office_threshold}')

# Построение гистограммы
plt.figure(figsize=(10, 6))
plt.hist(grouped_data['box_office'], bins=20)
plt.title('Распределение медианных доходов от проката студии')
plt.xlabel('Медианный доход от проката')
plt.ylabel('Количество студий')
plt.show()

display(f"{text} {box_office_threshold}: {len(grouped_data_high_box_office)}")

check_high_budget = data_filtered[data_filtered[series_main].isin(grouped_data_high_box_office[series_main])][series_match].unique()
for check_role in check_high_budget:
    display(check_role)


# сгруппируем данные по огранчениям и вычисление медианы рейтингов
series_main = 'digit_age_restriction'
grouped_data = data_filtered.groupby(series_main)['box_office'].median()

plt.figure(figsize=(10, 6))
grouped_data.plot(kind='bar')
plt.xlabel('Возраст')
plt.ylabel('Медианный доход')
plt.title('Доход фильмов по возрастным ограничениям')
plt.show()





# сгруппируем данные по годам и вычисление медианы рейтингов
series_main = 'exposition_year'
grouped_data = data_filtered.groupby(series_main)['box_office'].median()

plt.figure(figsize=(10, 6))
grouped_data.plot(kind='bar')
plt.xlabel('Год')
plt.ylabel('Медианный доход')
plt.title('Доход фильмов по году выпуска')
plt.show()





# сгруппируем данные по общей поддержке и вычисление медианы рейтингов
series_main = 'total_support'
grouped_data = data_filtered.groupby(series_main)['box_office'].median()

plt.figure(figsize=(10, 6))
grouped_data.plot(kind='bar')
plt.xticks(ticks=range(0, len(grouped_data), 2), rotation=45, fontsize=10)
plt.xlabel('Общая поддержка')
plt.ylabel('Медианный доход')
plt.title('Доход фильмов по общей поддержке')
plt.show()





# сгруппируем данные и вычисляем медианы доходов
grouped_ratings = budget_non_null.groupby(budget_bins)['box_office'].median()
grouped_support = budget_non_null.groupby(budget_bins)['total_support'].sum()

plt.figure(figsize=(12, 6))

# первый слой - медианные доходы
grouped_ratings.plot(kind='bar', color='teal')

# второй слой - сумма общей поддержки
grouped_support.plot(kind='bar', secondary_y=True, color='orange')

plt.xlabel('Диапазон бюджета')
plt.ylabel('Медианный доход')
plt.title('Медианный доход и сумма total support по диапазонам бюджета')
plt.xticks(rotation=45)
plt.tight_layout()

# добавляем легенду
plt.legend(['Медианный доход', 'Сумма общей поддержки'])

plt.show()











unique_values = np.sort(data_filtered['refundable_support'].unique())
for value in unique_values:
    display(value)









