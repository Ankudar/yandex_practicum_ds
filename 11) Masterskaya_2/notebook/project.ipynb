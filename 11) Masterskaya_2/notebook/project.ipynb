{
 "cells": [
  {
   "cell_type": "markdown",
   "id": "4a9669be",
   "metadata": {},
   "source": [
    "# Проект Маркетинг"
   ]
  },
  {
   "cell_type": "markdown",
   "id": "58054e0e",
   "metadata": {},
   "source": [
    "## Описание"
   ]
  },
  {
   "cell_type": "markdown",
   "id": "43d18144",
   "metadata": {},
   "source": [
    "Интернет-магазин собирает историю покупателей, проводит рассылки предложений и планирует будущие продажи. Для оптимизации процессов надо выделить пользователей, которые готовы совершить покупку в ближайшее время."
   ]
  },
  {
   "cell_type": "markdown",
   "id": "ad4e738a",
   "metadata": {},
   "source": [
    "### Цель"
   ]
  },
  {
   "cell_type": "markdown",
   "id": "98ef6ec5",
   "metadata": {},
   "source": [
    "Предсказать вероятность покупки в течение 90 дней"
   ]
  },
  {
   "cell_type": "markdown",
   "id": "f0c818b8",
   "metadata": {},
   "source": [
    "### Задачи"
   ]
  },
  {
   "cell_type": "markdown",
   "id": "2f7f2539",
   "metadata": {},
   "source": [
    "● Изучить данные  \n",
    "● Разработать полезные признаки  \n",
    "● Создать модель для классификации пользователей  \n",
    "● Улучшить модель и максимизировать метрику roc_auc  \n",
    "● Выполнить тестирование  "
   ]
  },
  {
   "cell_type": "markdown",
   "id": "ff46d6d6",
   "metadata": {},
   "source": [
    "### Данные"
   ]
  },
  {
   "cell_type": "markdown",
   "id": "762824c7",
   "metadata": {},
   "source": [
    "apparel-purchases  \n",
    "история покупок  \n",
    "● client_id идентификатор пользователя  \n",
    "● quantity количество товаров в заказе  \n",
    "● price цена товара  \n",
    "● category_ids вложенные категории, к которым отнсится товар  \n",
    "● date дата покупки  \n",
    "● message_id идентификатор сообщения из рассылки  \n",
    "\n",
    "apparel-messages  \n",
    "история рекламных рассылок  \n",
    "● bulk_campaign_id идентификатор рекламной кампании  \n",
    "● client_id идентификатор пользователя  \n",
    "● message_id идентификатор сообщений  \n",
    "● event тип действия  \n",
    "● channel канал рассылки  \n",
    "● date дата рассылки  \n",
    "● created_at точное время создания сообщения  \n",
    "\n",
    "apparel-target_binary  \n",
    "совершит ли клиент покупку в течение следующих 90 дней  \n",
    "● client_id идентификатор пользователя  \n",
    "● target целевой признак  \n"
   ]
  },
  {
   "cell_type": "markdown",
   "id": "63ad7c92",
   "metadata": {},
   "source": [
    "## Подготовка к работе"
   ]
  },
  {
   "cell_type": "markdown",
   "id": "f6db99de",
   "metadata": {},
   "source": [
    "### Импорты"
   ]
  },
  {
   "cell_type": "code",
   "execution_count": 136,
   "id": "5c5200ba",
   "metadata": {},
   "outputs": [],
   "source": [
    "import pandas as pd\n",
    "import numpy as np\n",
    "import matplotlib.pyplot as plt\n",
    "import missingno as msno\n",
    "from IPython.display import HTML, display\n",
    "import seaborn as sns\n",
    "from datetime import datetime\n",
    "from tqdm import tqdm\n",
    "import time\n",
    "import re\n",
    "import ast"
   ]
  },
  {
   "cell_type": "markdown",
   "id": "ec596867",
   "metadata": {},
   "source": [
    "### Константы"
   ]
  },
  {
   "cell_type": "code",
   "execution_count": 137,
   "id": "a3073573",
   "metadata": {},
   "outputs": [],
   "source": [
    "RANDOM_STATE = 20"
   ]
  },
  {
   "cell_type": "markdown",
   "id": "8fb62051",
   "metadata": {},
   "source": [
    "### Функции"
   ]
  },
  {
   "cell_type": "code",
   "execution_count": 138,
   "id": "0bd9b75f",
   "metadata": {},
   "outputs": [],
   "source": [
    "# форматирования текста\n",
    "def format_display(text):\n",
    "    return HTML(f\"<span style='font-size: 1.5em; font-weight: bold; font-style: italic;'>{text}</span>\")\n",
    "\n",
    "# сделаем функцию оценки пропусков в датасетах\n",
    "def missing_data(data):\n",
    "    missing_data = data.isna().sum()\n",
    "    missing_data = missing_data[missing_data > 0]\n",
    "    display(missing_data)\n",
    "\n",
    "# функция для обработки пробелов\n",
    "def process_spaces(s):\n",
    "    if isinstance(s, str):\n",
    "        s = s.strip()\n",
    "        s = ' '.join(s.split())\n",
    "    return s\n",
    "\n",
    "# замена пробелов на нижнее подчеркинвание в названии столбцов\n",
    "def replace_spaces(s):\n",
    "    if isinstance(s, str):\n",
    "        s = s.strip()\n",
    "        s = '_'.join(s.split())\n",
    "    return s\n",
    "\n",
    "def drop_duplicated(data):\n",
    "    # проверка дубликатов\n",
    "    display(format_display(\"Проверим дубликаты и удалим, если есть\"))\n",
    "    num_duplicates = data.duplicated().sum()\n",
    "    display(num_duplicates)\n",
    "    \n",
    "    if num_duplicates > 0:\n",
    "        display(\"Удаляем\")\n",
    "        data = data.drop_duplicates(keep='first').reset_index(drop=True)  # обновляем DataFrame\n",
    "    else:\n",
    "        display(\"Дубликаты отсутствуют\")\n",
    "    return data\n",
    "\n",
    "def normalize_columns(columns):\n",
    "    new_cols = []\n",
    "    for col in columns:\n",
    "        # вставляем \"_\" перед заглавной буквой (латиница или кириллица), кроме первой\n",
    "        col = re.sub(r'(?<!^)(?=[A-ZА-ЯЁ])', '_', col)\n",
    "        # приводим к нижнему регистру\n",
    "        col = col.lower()\n",
    "        new_cols.append(col)\n",
    "    return new_cols\n",
    "\n",
    "def check_data(data):\n",
    "    # приведем все к нижнему регистру\n",
    "    data.columns = normalize_columns(data.columns)\n",
    "    \n",
    "    # удалим лишние пробелы в строках\n",
    "    data = data.map(process_spaces)\n",
    "\n",
    "    # и в названии столбцов\n",
    "    data.columns = [replace_spaces(col) for col in data.columns]\n",
    "    \n",
    "    # общая информация \n",
    "    display(format_display(\"Общая информация базы данных\"))\n",
    "    display(data.info())\n",
    "    \n",
    "    # 5 строк\n",
    "    display(format_display(\"5 случайных строк\"))\n",
    "    display(data.sample(5))\n",
    "    \n",
    "    # пропуски\n",
    "    display(format_display(\"Число пропусков в базе данных\"))\n",
    "    display(missing_data(data))\n",
    "\n",
    "    # проверка на наличие пропусков\n",
    "    if data.isnull().sum().sum() > 0:\n",
    "        display(format_display(\"Визуализация пропусков\"))\n",
    "        msno.bar(data)\n",
    "        plt.show()\n",
    "        \n",
    "    # средние характеристики\n",
    "    display(format_display(\"Характеристики базы данных\"))\n",
    "    display(data.describe().T)\n",
    "    \n",
    "    # data = drop_duplicated(data)\n",
    "    \n",
    "    return data  # возвращаем измененные данные\n",
    "\n",
    "def parse_category_ids(x):\n",
    "    if isinstance(x, str):\n",
    "        return ast.literal_eval(x)\n",
    "    return x\n",
    "\n",
    "# def safe_mode(x: pd.Series):\n",
    "#     \"\"\"Для разбора категорий товара, чтобы не падал код и возвращало NOne если пусто\"\"\"\n",
    "#     m = x.mode()\n",
    "#     return m.iloc[0] if not m.empty else None\n",
    "\n",
    "# def last_non_empty_cat(row, max_depth):\n",
    "#     \"\"\"Берёт последнее непустое значение из cat_lvl1…cat_lvlN\"\"\"\n",
    "#     for i in range(max_depth, 0, -1):  # от N к 1\n",
    "#         val = row.get(f\"cat_lvl{i}\")\n",
    "#         if pd.notna(val):\n",
    "#             return val\n",
    "#     return None"
   ]
  },
  {
   "cell_type": "markdown",
   "id": "19c29023",
   "metadata": {},
   "source": [
    "## EDA"
   ]
  },
  {
   "cell_type": "markdown",
   "id": "d208ec76",
   "metadata": {},
   "source": [
    "### Подключим и почитаем данные"
   ]
  },
  {
   "cell_type": "code",
   "execution_count": 139,
   "id": "531287cb",
   "metadata": {},
   "outputs": [],
   "source": [
    "app_msg = pd.read_csv(\"../data/apparel-messages.csv\")\n",
    "app_prch = pd.read_csv(\"../data/apparel-purchases.csv\")\n",
    "app_target = pd.read_csv(\"../data/apparel-target_binary.csv\")\n",
    "event_type = pd.read_csv(\"../data/full_campaign_daily_event.csv\")\n",
    "event_chanel = pd.read_csv(\"../data/full_campaign_daily_event_channel.csv\")"
   ]
  },
  {
   "cell_type": "markdown",
   "id": "60de2df2",
   "metadata": {},
   "source": [
    "### Первичная оценка и обработка данных"
   ]
  },
  {
   "cell_type": "markdown",
   "id": "c06984d6",
   "metadata": {},
   "source": [
    "#### app_msg"
   ]
  },
  {
   "cell_type": "code",
   "execution_count": 140,
   "id": "c88eef7e",
   "metadata": {},
   "outputs": [
    {
     "data": {
      "text/html": [
       "<span style='font-size: 1.5em; font-weight: bold; font-style: italic;'>Общая информация базы данных</span>"
      ],
      "text/plain": [
       "<IPython.core.display.HTML object>"
      ]
     },
     "metadata": {},
     "output_type": "display_data"
    },
    {
     "name": "stdout",
     "output_type": "stream",
     "text": [
      "<class 'pandas.core.frame.DataFrame'>\n",
      "RangeIndex: 12739798 entries, 0 to 12739797\n",
      "Data columns (total 7 columns):\n",
      " #   Column            Dtype \n",
      "---  ------            ----- \n",
      " 0   bulk_campaign_id  int64 \n",
      " 1   client_id         int64 \n",
      " 2   message_id        object\n",
      " 3   event             object\n",
      " 4   channel           object\n",
      " 5   date              object\n",
      " 6   created_at        object\n",
      "dtypes: int64(2), object(5)\n",
      "memory usage: 680.4+ MB\n"
     ]
    },
    {
     "data": {
      "text/plain": [
       "None"
      ]
     },
     "metadata": {},
     "output_type": "display_data"
    },
    {
     "data": {
      "text/html": [
       "<span style='font-size: 1.5em; font-weight: bold; font-style: italic;'>5 случайных строк</span>"
      ],
      "text/plain": [
       "<IPython.core.display.HTML object>"
      ]
     },
     "metadata": {},
     "output_type": "display_data"
    },
    {
     "data": {
      "application/vnd.microsoft.datawrangler.viewer.v0+json": {
       "columns": [
        {
         "name": "index",
         "rawType": "int64",
         "type": "integer"
        },
        {
         "name": "bulk_campaign_id",
         "rawType": "int64",
         "type": "integer"
        },
        {
         "name": "client_id",
         "rawType": "int64",
         "type": "integer"
        },
        {
         "name": "message_id",
         "rawType": "object",
         "type": "string"
        },
        {
         "name": "event",
         "rawType": "object",
         "type": "string"
        },
        {
         "name": "channel",
         "rawType": "object",
         "type": "string"
        },
        {
         "name": "date",
         "rawType": "object",
         "type": "string"
        },
        {
         "name": "created_at",
         "rawType": "object",
         "type": "string"
        }
       ],
       "ref": "f102a5bf-37d9-4ddd-ac16-c0525efdf26c",
       "rows": [
        [
         "2560009",
         "7845",
         "1515915625468102400",
         "1515915625468102400-7845-6373359a03ed7",
         "purchase",
         "email",
         "2022-11-15",
         "2022-11-15 15:52:10"
        ],
        [
         "4165576",
         "10438",
         "1515915625488010004",
         "1515915625488010004-10438-63f7474467acb",
         "open",
         "mobile_push",
         "2023-02-23",
         "2023-02-23 11:03:18"
        ],
        [
         "2916183",
         "8434",
         "1515915625490740149",
         "1515915625490740149-8434-638f2ed59b295",
         "send",
         "mobile_push",
         "2022-12-06",
         "2022-12-06 12:12:49"
        ],
        [
         "658340",
         "5335",
         "1515915625479850592",
         "1515915625479850592-5335-62c7d2ab6b7fb",
         "send",
         "email",
         "2022-07-08",
         "2022-07-08 06:48:23"
        ],
        [
         "188696",
         "4679",
         "1515915625539302643",
         "1515915625539302643-4679-6297223ee490f",
         "open",
         "email",
         "2022-06-01",
         "2022-06-01 15:09:08"
        ]
       ],
       "shape": {
        "columns": 7,
        "rows": 5
       }
      },
      "text/html": [
       "<div>\n",
       "<style scoped>\n",
       "    .dataframe tbody tr th:only-of-type {\n",
       "        vertical-align: middle;\n",
       "    }\n",
       "\n",
       "    .dataframe tbody tr th {\n",
       "        vertical-align: top;\n",
       "    }\n",
       "\n",
       "    .dataframe thead th {\n",
       "        text-align: right;\n",
       "    }\n",
       "</style>\n",
       "<table border=\"1\" class=\"dataframe\">\n",
       "  <thead>\n",
       "    <tr style=\"text-align: right;\">\n",
       "      <th></th>\n",
       "      <th>bulk_campaign_id</th>\n",
       "      <th>client_id</th>\n",
       "      <th>message_id</th>\n",
       "      <th>event</th>\n",
       "      <th>channel</th>\n",
       "      <th>date</th>\n",
       "      <th>created_at</th>\n",
       "    </tr>\n",
       "  </thead>\n",
       "  <tbody>\n",
       "    <tr>\n",
       "      <th>2560009</th>\n",
       "      <td>7845</td>\n",
       "      <td>1515915625468102400</td>\n",
       "      <td>1515915625468102400-7845-6373359a03ed7</td>\n",
       "      <td>purchase</td>\n",
       "      <td>email</td>\n",
       "      <td>2022-11-15</td>\n",
       "      <td>2022-11-15 15:52:10</td>\n",
       "    </tr>\n",
       "    <tr>\n",
       "      <th>4165576</th>\n",
       "      <td>10438</td>\n",
       "      <td>1515915625488010004</td>\n",
       "      <td>1515915625488010004-10438-63f7474467acb</td>\n",
       "      <td>open</td>\n",
       "      <td>mobile_push</td>\n",
       "      <td>2023-02-23</td>\n",
       "      <td>2023-02-23 11:03:18</td>\n",
       "    </tr>\n",
       "    <tr>\n",
       "      <th>2916183</th>\n",
       "      <td>8434</td>\n",
       "      <td>1515915625490740149</td>\n",
       "      <td>1515915625490740149-8434-638f2ed59b295</td>\n",
       "      <td>send</td>\n",
       "      <td>mobile_push</td>\n",
       "      <td>2022-12-06</td>\n",
       "      <td>2022-12-06 12:12:49</td>\n",
       "    </tr>\n",
       "    <tr>\n",
       "      <th>658340</th>\n",
       "      <td>5335</td>\n",
       "      <td>1515915625479850592</td>\n",
       "      <td>1515915625479850592-5335-62c7d2ab6b7fb</td>\n",
       "      <td>send</td>\n",
       "      <td>email</td>\n",
       "      <td>2022-07-08</td>\n",
       "      <td>2022-07-08 06:48:23</td>\n",
       "    </tr>\n",
       "    <tr>\n",
       "      <th>188696</th>\n",
       "      <td>4679</td>\n",
       "      <td>1515915625539302643</td>\n",
       "      <td>1515915625539302643-4679-6297223ee490f</td>\n",
       "      <td>open</td>\n",
       "      <td>email</td>\n",
       "      <td>2022-06-01</td>\n",
       "      <td>2022-06-01 15:09:08</td>\n",
       "    </tr>\n",
       "  </tbody>\n",
       "</table>\n",
       "</div>"
      ],
      "text/plain": [
       "         bulk_campaign_id            client_id  \\\n",
       "2560009              7845  1515915625468102400   \n",
       "4165576             10438  1515915625488010004   \n",
       "2916183              8434  1515915625490740149   \n",
       "658340               5335  1515915625479850592   \n",
       "188696               4679  1515915625539302643   \n",
       "\n",
       "                                      message_id     event      channel  \\\n",
       "2560009   1515915625468102400-7845-6373359a03ed7  purchase        email   \n",
       "4165576  1515915625488010004-10438-63f7474467acb      open  mobile_push   \n",
       "2916183   1515915625490740149-8434-638f2ed59b295      send  mobile_push   \n",
       "658340    1515915625479850592-5335-62c7d2ab6b7fb      send        email   \n",
       "188696    1515915625539302643-4679-6297223ee490f      open        email   \n",
       "\n",
       "               date           created_at  \n",
       "2560009  2022-11-15  2022-11-15 15:52:10  \n",
       "4165576  2023-02-23  2023-02-23 11:03:18  \n",
       "2916183  2022-12-06  2022-12-06 12:12:49  \n",
       "658340   2022-07-08  2022-07-08 06:48:23  \n",
       "188696   2022-06-01  2022-06-01 15:09:08  "
      ]
     },
     "metadata": {},
     "output_type": "display_data"
    },
    {
     "data": {
      "text/html": [
       "<span style='font-size: 1.5em; font-weight: bold; font-style: italic;'>Число пропусков в базе данных</span>"
      ],
      "text/plain": [
       "<IPython.core.display.HTML object>"
      ]
     },
     "metadata": {},
     "output_type": "display_data"
    },
    {
     "data": {
      "application/vnd.microsoft.datawrangler.viewer.v0+json": {
       "columns": [
        {
         "name": "index",
         "rawType": "object",
         "type": "string"
        },
        {
         "name": "0",
         "rawType": "int64",
         "type": "integer"
        }
       ],
       "ref": "71bf081a-d6fb-4f5e-8385-55e3b981138d",
       "rows": [],
       "shape": {
        "columns": 1,
        "rows": 0
       }
      },
      "text/plain": [
       "Series([], dtype: int64)"
      ]
     },
     "metadata": {},
     "output_type": "display_data"
    },
    {
     "data": {
      "text/plain": [
       "None"
      ]
     },
     "metadata": {},
     "output_type": "display_data"
    },
    {
     "data": {
      "text/html": [
       "<span style='font-size: 1.5em; font-weight: bold; font-style: italic;'>Характеристики базы данных</span>"
      ],
      "text/plain": [
       "<IPython.core.display.HTML object>"
      ]
     },
     "metadata": {},
     "output_type": "display_data"
    },
    {
     "data": {
      "application/vnd.microsoft.datawrangler.viewer.v0+json": {
       "columns": [
        {
         "name": "index",
         "rawType": "object",
         "type": "string"
        },
        {
         "name": "count",
         "rawType": "float64",
         "type": "float"
        },
        {
         "name": "mean",
         "rawType": "float64",
         "type": "float"
        },
        {
         "name": "std",
         "rawType": "float64",
         "type": "float"
        },
        {
         "name": "min",
         "rawType": "float64",
         "type": "float"
        },
        {
         "name": "25%",
         "rawType": "float64",
         "type": "float"
        },
        {
         "name": "50%",
         "rawType": "float64",
         "type": "float"
        },
        {
         "name": "75%",
         "rawType": "float64",
         "type": "float"
        },
        {
         "name": "max",
         "rawType": "float64",
         "type": "float"
        }
       ],
       "ref": "f669add7-5a4e-4370-ab03-42d329336336",
       "rows": [
        [
         "bulk_campaign_id",
         "12739798.0",
         "11604.58758710303",
         "3259.2111311897593",
         "548.0",
         "8746.0",
         "13516.0",
         "14158.0",
         "14657.0"
        ],
        [
         "client_id",
         "12739798.0",
         "1.5159156255748316e+18",
         "132970411.5589552",
         "1.515915625468061e+18",
         "1.5159156254891494e+18",
         "1.5159156255034322e+18",
         "1.5159156255912863e+18",
         "1.5159156260102886e+18"
        ]
       ],
       "shape": {
        "columns": 8,
        "rows": 2
       }
      },
      "text/html": [
       "<div>\n",
       "<style scoped>\n",
       "    .dataframe tbody tr th:only-of-type {\n",
       "        vertical-align: middle;\n",
       "    }\n",
       "\n",
       "    .dataframe tbody tr th {\n",
       "        vertical-align: top;\n",
       "    }\n",
       "\n",
       "    .dataframe thead th {\n",
       "        text-align: right;\n",
       "    }\n",
       "</style>\n",
       "<table border=\"1\" class=\"dataframe\">\n",
       "  <thead>\n",
       "    <tr style=\"text-align: right;\">\n",
       "      <th></th>\n",
       "      <th>count</th>\n",
       "      <th>mean</th>\n",
       "      <th>std</th>\n",
       "      <th>min</th>\n",
       "      <th>25%</th>\n",
       "      <th>50%</th>\n",
       "      <th>75%</th>\n",
       "      <th>max</th>\n",
       "    </tr>\n",
       "  </thead>\n",
       "  <tbody>\n",
       "    <tr>\n",
       "      <th>bulk_campaign_id</th>\n",
       "      <td>12739798.0</td>\n",
       "      <td>1.160459e+04</td>\n",
       "      <td>3.259211e+03</td>\n",
       "      <td>5.480000e+02</td>\n",
       "      <td>8.746000e+03</td>\n",
       "      <td>1.351600e+04</td>\n",
       "      <td>1.415800e+04</td>\n",
       "      <td>1.465700e+04</td>\n",
       "    </tr>\n",
       "    <tr>\n",
       "      <th>client_id</th>\n",
       "      <td>12739798.0</td>\n",
       "      <td>1.515916e+18</td>\n",
       "      <td>1.329704e+08</td>\n",
       "      <td>1.515916e+18</td>\n",
       "      <td>1.515916e+18</td>\n",
       "      <td>1.515916e+18</td>\n",
       "      <td>1.515916e+18</td>\n",
       "      <td>1.515916e+18</td>\n",
       "    </tr>\n",
       "  </tbody>\n",
       "</table>\n",
       "</div>"
      ],
      "text/plain": [
       "                       count          mean           std           min  \\\n",
       "bulk_campaign_id  12739798.0  1.160459e+04  3.259211e+03  5.480000e+02   \n",
       "client_id         12739798.0  1.515916e+18  1.329704e+08  1.515916e+18   \n",
       "\n",
       "                           25%           50%           75%           max  \n",
       "bulk_campaign_id  8.746000e+03  1.351600e+04  1.415800e+04  1.465700e+04  \n",
       "client_id         1.515916e+18  1.515916e+18  1.515916e+18  1.515916e+18  "
      ]
     },
     "metadata": {},
     "output_type": "display_data"
    }
   ],
   "source": [
    "app_msg = check_data(app_msg)"
   ]
  },
  {
   "cell_type": "code",
   "execution_count": 141,
   "id": "200b4ace",
   "metadata": {},
   "outputs": [
    {
     "data": {
      "text/plain": [
       "'2022-05-19'"
      ]
     },
     "metadata": {},
     "output_type": "display_data"
    },
    {
     "data": {
      "text/plain": [
       "'2024-02-15'"
      ]
     },
     "metadata": {},
     "output_type": "display_data"
    }
   ],
   "source": [
    "# посмотрим дату начала и конца событий\n",
    "display(app_msg['date'].min())\n",
    "display(app_msg['date'].max())"
   ]
  },
  {
   "cell_type": "code",
   "execution_count": 142,
   "id": "a2f184c1",
   "metadata": {},
   "outputs": [
    {
     "data": {
      "text/plain": [
       "array(['open', 'click', 'purchase', 'send', 'unsubscribe', 'hbq_spam',\n",
       "       'hard_bounce', 'subscribe', 'soft_bounce', 'complain', 'close'],\n",
       "      dtype=object)"
      ]
     },
     "metadata": {},
     "output_type": "display_data"
    },
    {
     "data": {
      "text/plain": [
       "array(['email', 'mobile_push'], dtype=object)"
      ]
     },
     "metadata": {},
     "output_type": "display_data"
    }
   ],
   "source": [
    "# посмотрим уники среди событий и канал распространения\n",
    "display(app_msg['event'].unique())\n",
    "display(app_msg['channel'].unique())"
   ]
  },
  {
   "cell_type": "markdown",
   "id": "d774b488",
   "metadata": {},
   "source": [
    "Что имеем:  \n",
    "open — письмо открыто  \n",
    "click — клик по ссылке в письме  \n",
    "purchase — покупка после перехода из письма  \n",
    "send — отправка письма  \n",
    "unsubscribe — отписка от рассылки  \n",
    "hbq_spam — сообщение отмечено как спам  \n",
    "hard_bounce — письмо не доставлено из-за постоянной ошибки (адрес не существует)  \n",
    "subscribe — подписка на рассылку  \n",
    "soft_bounce — письмо не доставлено из-за временной ошибки (ящик переполнен, сервер недоступен)  \n",
    "complain — жалоба пользователя (напр. “Это спам”)  \n",
    "close — завершение сессии (иногда: закрытие письма или вкладки)  "
   ]
  },
  {
   "cell_type": "code",
   "execution_count": 143,
   "id": "85960779",
   "metadata": {},
   "outputs": [
    {
     "data": {
      "text/plain": [
       "53329"
      ]
     },
     "metadata": {},
     "output_type": "display_data"
    }
   ],
   "source": [
    "# проверим сколько уникальных клиентов\n",
    "display(app_msg['client_id'].nunique())"
   ]
  },
  {
   "cell_type": "markdown",
   "id": "60b33013",
   "metadata": {},
   "source": [
    "Из 12.739.798 строк мы имеем 53.329 уникальных клиентов.  \n",
    "Нужна будет пересборка данных с агрегацией"
   ]
  },
  {
   "cell_type": "markdown",
   "id": "44302e82",
   "metadata": {},
   "source": [
    "Выводы:  \n",
    "Самая объемная база.  \n",
    "Столбцы  date, created_at имеют неверный формат данных - необходимо будет преобразовать.\n"
   ]
  },
  {
   "cell_type": "markdown",
   "id": "8e15627b",
   "metadata": {},
   "source": [
    "#### app_prch"
   ]
  },
  {
   "cell_type": "code",
   "execution_count": 144,
   "id": "8007c9ce",
   "metadata": {},
   "outputs": [
    {
     "data": {
      "text/html": [
       "<span style='font-size: 1.5em; font-weight: bold; font-style: italic;'>Общая информация базы данных</span>"
      ],
      "text/plain": [
       "<IPython.core.display.HTML object>"
      ]
     },
     "metadata": {},
     "output_type": "display_data"
    },
    {
     "name": "stdout",
     "output_type": "stream",
     "text": [
      "<class 'pandas.core.frame.DataFrame'>\n",
      "RangeIndex: 202208 entries, 0 to 202207\n",
      "Data columns (total 6 columns):\n",
      " #   Column        Non-Null Count   Dtype  \n",
      "---  ------        --------------   -----  \n",
      " 0   client_id     202208 non-null  int64  \n",
      " 1   quantity      202208 non-null  int64  \n",
      " 2   price         202208 non-null  float64\n",
      " 3   category_ids  202208 non-null  object \n",
      " 4   date          202208 non-null  object \n",
      " 5   message_id    202208 non-null  object \n",
      "dtypes: float64(1), int64(2), object(3)\n",
      "memory usage: 9.3+ MB\n"
     ]
    },
    {
     "data": {
      "text/plain": [
       "None"
      ]
     },
     "metadata": {},
     "output_type": "display_data"
    },
    {
     "data": {
      "text/html": [
       "<span style='font-size: 1.5em; font-weight: bold; font-style: italic;'>5 случайных строк</span>"
      ],
      "text/plain": [
       "<IPython.core.display.HTML object>"
      ]
     },
     "metadata": {},
     "output_type": "display_data"
    },
    {
     "data": {
      "application/vnd.microsoft.datawrangler.viewer.v0+json": {
       "columns": [
        {
         "name": "index",
         "rawType": "int64",
         "type": "integer"
        },
        {
         "name": "client_id",
         "rawType": "int64",
         "type": "integer"
        },
        {
         "name": "quantity",
         "rawType": "int64",
         "type": "integer"
        },
        {
         "name": "price",
         "rawType": "float64",
         "type": "float"
        },
        {
         "name": "category_ids",
         "rawType": "object",
         "type": "string"
        },
        {
         "name": "date",
         "rawType": "object",
         "type": "string"
        },
        {
         "name": "message_id",
         "rawType": "object",
         "type": "string"
        }
       ],
       "ref": "e03bb43d-f4bb-4676-b687-d201cbb02b78",
       "rows": [
        [
         "200632",
         "1515915625821124009",
         "1",
         "12.0",
         "[]",
         "2024-02-12",
         "1515915625821124009-14623-65c5c5ad57c63"
        ],
        [
         "197466",
         "1515915625768963587",
         "1",
         "1299.0",
         "['4', '27', '142', '496']",
         "2024-01-26",
         "1515915625768963587-14535-65b210e250849"
        ],
        [
         "13829",
         "1515915625475134951",
         "1",
         "699.0",
         "['4', '28', '124', '415']",
         "2022-06-16",
         "1515915625475134951-4918-62a97ced99478"
        ],
        [
         "198472",
         "1515915626005691446",
         "1",
         "399.0",
         "['4', '28', '260', '420']",
         "2024-01-31",
         "1515915626005691446-14561-65b7a1ce4b7ff"
        ],
        [
         "128039",
         "1515915625602828124",
         "1",
         "1999.0",
         "['4', '28', '244', '432']",
         "2023-06-03",
         "1515915625809747812-13076-6479c4561adf1"
        ]
       ],
       "shape": {
        "columns": 6,
        "rows": 5
       }
      },
      "text/html": [
       "<div>\n",
       "<style scoped>\n",
       "    .dataframe tbody tr th:only-of-type {\n",
       "        vertical-align: middle;\n",
       "    }\n",
       "\n",
       "    .dataframe tbody tr th {\n",
       "        vertical-align: top;\n",
       "    }\n",
       "\n",
       "    .dataframe thead th {\n",
       "        text-align: right;\n",
       "    }\n",
       "</style>\n",
       "<table border=\"1\" class=\"dataframe\">\n",
       "  <thead>\n",
       "    <tr style=\"text-align: right;\">\n",
       "      <th></th>\n",
       "      <th>client_id</th>\n",
       "      <th>quantity</th>\n",
       "      <th>price</th>\n",
       "      <th>category_ids</th>\n",
       "      <th>date</th>\n",
       "      <th>message_id</th>\n",
       "    </tr>\n",
       "  </thead>\n",
       "  <tbody>\n",
       "    <tr>\n",
       "      <th>200632</th>\n",
       "      <td>1515915625821124009</td>\n",
       "      <td>1</td>\n",
       "      <td>12.0</td>\n",
       "      <td>[]</td>\n",
       "      <td>2024-02-12</td>\n",
       "      <td>1515915625821124009-14623-65c5c5ad57c63</td>\n",
       "    </tr>\n",
       "    <tr>\n",
       "      <th>197466</th>\n",
       "      <td>1515915625768963587</td>\n",
       "      <td>1</td>\n",
       "      <td>1299.0</td>\n",
       "      <td>['4', '27', '142', '496']</td>\n",
       "      <td>2024-01-26</td>\n",
       "      <td>1515915625768963587-14535-65b210e250849</td>\n",
       "    </tr>\n",
       "    <tr>\n",
       "      <th>13829</th>\n",
       "      <td>1515915625475134951</td>\n",
       "      <td>1</td>\n",
       "      <td>699.0</td>\n",
       "      <td>['4', '28', '124', '415']</td>\n",
       "      <td>2022-06-16</td>\n",
       "      <td>1515915625475134951-4918-62a97ced99478</td>\n",
       "    </tr>\n",
       "    <tr>\n",
       "      <th>198472</th>\n",
       "      <td>1515915626005691446</td>\n",
       "      <td>1</td>\n",
       "      <td>399.0</td>\n",
       "      <td>['4', '28', '260', '420']</td>\n",
       "      <td>2024-01-31</td>\n",
       "      <td>1515915626005691446-14561-65b7a1ce4b7ff</td>\n",
       "    </tr>\n",
       "    <tr>\n",
       "      <th>128039</th>\n",
       "      <td>1515915625602828124</td>\n",
       "      <td>1</td>\n",
       "      <td>1999.0</td>\n",
       "      <td>['4', '28', '244', '432']</td>\n",
       "      <td>2023-06-03</td>\n",
       "      <td>1515915625809747812-13076-6479c4561adf1</td>\n",
       "    </tr>\n",
       "  </tbody>\n",
       "</table>\n",
       "</div>"
      ],
      "text/plain": [
       "                  client_id  quantity   price               category_ids  \\\n",
       "200632  1515915625821124009         1    12.0                         []   \n",
       "197466  1515915625768963587         1  1299.0  ['4', '27', '142', '496']   \n",
       "13829   1515915625475134951         1   699.0  ['4', '28', '124', '415']   \n",
       "198472  1515915626005691446         1   399.0  ['4', '28', '260', '420']   \n",
       "128039  1515915625602828124         1  1999.0  ['4', '28', '244', '432']   \n",
       "\n",
       "              date                               message_id  \n",
       "200632  2024-02-12  1515915625821124009-14623-65c5c5ad57c63  \n",
       "197466  2024-01-26  1515915625768963587-14535-65b210e250849  \n",
       "13829   2022-06-16   1515915625475134951-4918-62a97ced99478  \n",
       "198472  2024-01-31  1515915626005691446-14561-65b7a1ce4b7ff  \n",
       "128039  2023-06-03  1515915625809747812-13076-6479c4561adf1  "
      ]
     },
     "metadata": {},
     "output_type": "display_data"
    },
    {
     "data": {
      "text/html": [
       "<span style='font-size: 1.5em; font-weight: bold; font-style: italic;'>Число пропусков в базе данных</span>"
      ],
      "text/plain": [
       "<IPython.core.display.HTML object>"
      ]
     },
     "metadata": {},
     "output_type": "display_data"
    },
    {
     "data": {
      "application/vnd.microsoft.datawrangler.viewer.v0+json": {
       "columns": [
        {
         "name": "index",
         "rawType": "object",
         "type": "string"
        },
        {
         "name": "0",
         "rawType": "int64",
         "type": "integer"
        }
       ],
       "ref": "4ee8b814-75e5-4d4b-85cb-32baa026d6c9",
       "rows": [],
       "shape": {
        "columns": 1,
        "rows": 0
       }
      },
      "text/plain": [
       "Series([], dtype: int64)"
      ]
     },
     "metadata": {},
     "output_type": "display_data"
    },
    {
     "data": {
      "text/plain": [
       "None"
      ]
     },
     "metadata": {},
     "output_type": "display_data"
    },
    {
     "data": {
      "text/html": [
       "<span style='font-size: 1.5em; font-weight: bold; font-style: italic;'>Характеристики базы данных</span>"
      ],
      "text/plain": [
       "<IPython.core.display.HTML object>"
      ]
     },
     "metadata": {},
     "output_type": "display_data"
    },
    {
     "data": {
      "application/vnd.microsoft.datawrangler.viewer.v0+json": {
       "columns": [
        {
         "name": "index",
         "rawType": "object",
         "type": "string"
        },
        {
         "name": "count",
         "rawType": "float64",
         "type": "float"
        },
        {
         "name": "mean",
         "rawType": "float64",
         "type": "float"
        },
        {
         "name": "std",
         "rawType": "float64",
         "type": "float"
        },
        {
         "name": "min",
         "rawType": "float64",
         "type": "float"
        },
        {
         "name": "25%",
         "rawType": "float64",
         "type": "float"
        },
        {
         "name": "50%",
         "rawType": "float64",
         "type": "float"
        },
        {
         "name": "75%",
         "rawType": "float64",
         "type": "float"
        },
        {
         "name": "max",
         "rawType": "float64",
         "type": "float"
        }
       ],
       "ref": "5d566e2b-9128-45ae-b679-0fc1903ab5fa",
       "rows": [
        [
         "client_id",
         "202208.0",
         "1.515915625596211e+18",
         "145945755.9308841",
         "1.515915625468061e+18",
         "1.5159156254900813e+18",
         "1.515915625557177e+18",
         "1.515915625624392e+18",
         "1.5159156260104435e+18"
        ],
        [
         "quantity",
         "202208.0",
         "1.00648342300997",
         "0.1843836774490782",
         "1.0",
         "1.0",
         "1.0",
         "1.0",
         "30.0"
        ],
        [
         "price",
         "202208.0",
         "1193.3015162604843",
         "1342.2526635956428",
         "1.0",
         "352.0",
         "987.0",
         "1699.0",
         "85499.0"
        ]
       ],
       "shape": {
        "columns": 8,
        "rows": 3
       }
      },
      "text/html": [
       "<div>\n",
       "<style scoped>\n",
       "    .dataframe tbody tr th:only-of-type {\n",
       "        vertical-align: middle;\n",
       "    }\n",
       "\n",
       "    .dataframe tbody tr th {\n",
       "        vertical-align: top;\n",
       "    }\n",
       "\n",
       "    .dataframe thead th {\n",
       "        text-align: right;\n",
       "    }\n",
       "</style>\n",
       "<table border=\"1\" class=\"dataframe\">\n",
       "  <thead>\n",
       "    <tr style=\"text-align: right;\">\n",
       "      <th></th>\n",
       "      <th>count</th>\n",
       "      <th>mean</th>\n",
       "      <th>std</th>\n",
       "      <th>min</th>\n",
       "      <th>25%</th>\n",
       "      <th>50%</th>\n",
       "      <th>75%</th>\n",
       "      <th>max</th>\n",
       "    </tr>\n",
       "  </thead>\n",
       "  <tbody>\n",
       "    <tr>\n",
       "      <th>client_id</th>\n",
       "      <td>202208.0</td>\n",
       "      <td>1.515916e+18</td>\n",
       "      <td>1.459458e+08</td>\n",
       "      <td>1.515916e+18</td>\n",
       "      <td>1.515916e+18</td>\n",
       "      <td>1.515916e+18</td>\n",
       "      <td>1.515916e+18</td>\n",
       "      <td>1.515916e+18</td>\n",
       "    </tr>\n",
       "    <tr>\n",
       "      <th>quantity</th>\n",
       "      <td>202208.0</td>\n",
       "      <td>1.006483e+00</td>\n",
       "      <td>1.843837e-01</td>\n",
       "      <td>1.000000e+00</td>\n",
       "      <td>1.000000e+00</td>\n",
       "      <td>1.000000e+00</td>\n",
       "      <td>1.000000e+00</td>\n",
       "      <td>3.000000e+01</td>\n",
       "    </tr>\n",
       "    <tr>\n",
       "      <th>price</th>\n",
       "      <td>202208.0</td>\n",
       "      <td>1.193302e+03</td>\n",
       "      <td>1.342253e+03</td>\n",
       "      <td>1.000000e+00</td>\n",
       "      <td>3.520000e+02</td>\n",
       "      <td>9.870000e+02</td>\n",
       "      <td>1.699000e+03</td>\n",
       "      <td>8.549900e+04</td>\n",
       "    </tr>\n",
       "  </tbody>\n",
       "</table>\n",
       "</div>"
      ],
      "text/plain": [
       "              count          mean           std           min           25%  \\\n",
       "client_id  202208.0  1.515916e+18  1.459458e+08  1.515916e+18  1.515916e+18   \n",
       "quantity   202208.0  1.006483e+00  1.843837e-01  1.000000e+00  1.000000e+00   \n",
       "price      202208.0  1.193302e+03  1.342253e+03  1.000000e+00  3.520000e+02   \n",
       "\n",
       "                    50%           75%           max  \n",
       "client_id  1.515916e+18  1.515916e+18  1.515916e+18  \n",
       "quantity   1.000000e+00  1.000000e+00  3.000000e+01  \n",
       "price      9.870000e+02  1.699000e+03  8.549900e+04  "
      ]
     },
     "metadata": {},
     "output_type": "display_data"
    }
   ],
   "source": [
    "app_prch = check_data(app_prch)"
   ]
  },
  {
   "cell_type": "code",
   "execution_count": 145,
   "id": "46f6e472",
   "metadata": {},
   "outputs": [
    {
     "data": {
      "text/plain": [
       "49849"
      ]
     },
     "metadata": {},
     "output_type": "display_data"
    }
   ],
   "source": [
    "# проверим сколько уникальных клиентов совершило покупки\n",
    "display(app_prch['client_id'].nunique())"
   ]
  },
  {
   "cell_type": "code",
   "execution_count": 146,
   "id": "8fe18213",
   "metadata": {},
   "outputs": [
    {
     "data": {
      "text/plain": [
       "0.934744698006713"
      ]
     },
     "metadata": {},
     "output_type": "display_data"
    }
   ],
   "source": [
    "display(app_prch['client_id'].nunique() / app_msg['client_id'].nunique())"
   ]
  },
  {
   "cell_type": "markdown",
   "id": "d9a376b7",
   "metadata": {},
   "source": [
    "Т.е. после всех событий произвели покупку 93.4% уникальных пользователей в текущей выборке, и почти 7% проигнорировало.  \n",
    "В целом это очень хороший показатель."
   ]
  },
  {
   "cell_type": "markdown",
   "id": "0aa1603e",
   "metadata": {},
   "source": [
    "Выводы:  \n",
    "Столбец  date имеет неверный формат данных - необходимо будет преобразовать.  \n",
    "Столбец category_ids - надо будет преобразовывать и скорее всего это будет разряженная матрица, т.к. небольшой объем данных  \n",
    "ну и потом с такой матрицей умеет работать xgboost который и будем использовать в предсказаниях"
   ]
  },
  {
   "cell_type": "markdown",
   "id": "76610a6f",
   "metadata": {},
   "source": [
    "#### app_target"
   ]
  },
  {
   "cell_type": "code",
   "execution_count": 147,
   "id": "eecec9a7",
   "metadata": {},
   "outputs": [
    {
     "data": {
      "text/html": [
       "<span style='font-size: 1.5em; font-weight: bold; font-style: italic;'>Общая информация базы данных</span>"
      ],
      "text/plain": [
       "<IPython.core.display.HTML object>"
      ]
     },
     "metadata": {},
     "output_type": "display_data"
    },
    {
     "name": "stdout",
     "output_type": "stream",
     "text": [
      "<class 'pandas.core.frame.DataFrame'>\n",
      "RangeIndex: 49849 entries, 0 to 49848\n",
      "Data columns (total 2 columns):\n",
      " #   Column     Non-Null Count  Dtype\n",
      "---  ------     --------------  -----\n",
      " 0   client_id  49849 non-null  int64\n",
      " 1   target     49849 non-null  int64\n",
      "dtypes: int64(2)\n",
      "memory usage: 779.0 KB\n"
     ]
    },
    {
     "data": {
      "text/plain": [
       "None"
      ]
     },
     "metadata": {},
     "output_type": "display_data"
    },
    {
     "data": {
      "text/html": [
       "<span style='font-size: 1.5em; font-weight: bold; font-style: italic;'>5 случайных строк</span>"
      ],
      "text/plain": [
       "<IPython.core.display.HTML object>"
      ]
     },
     "metadata": {},
     "output_type": "display_data"
    },
    {
     "data": {
      "application/vnd.microsoft.datawrangler.viewer.v0+json": {
       "columns": [
        {
         "name": "index",
         "rawType": "int64",
         "type": "integer"
        },
        {
         "name": "client_id",
         "rawType": "int64",
         "type": "integer"
        },
        {
         "name": "target",
         "rawType": "int64",
         "type": "integer"
        }
       ],
       "ref": "ccbc67e1-9895-4c74-859e-a698fc18bcb0",
       "rows": [
        [
         "15755",
         "1515915625491116504",
         "0"
        ],
        [
         "2457",
         "1515915625468259443",
         "0"
        ],
        [
         "1752",
         "1515915625468200447",
         "0"
        ],
        [
         "24144",
         "1515915625551635880",
         "1"
        ],
        [
         "40795",
         "1515915625762624766",
         "0"
        ]
       ],
       "shape": {
        "columns": 2,
        "rows": 5
       }
      },
      "text/html": [
       "<div>\n",
       "<style scoped>\n",
       "    .dataframe tbody tr th:only-of-type {\n",
       "        vertical-align: middle;\n",
       "    }\n",
       "\n",
       "    .dataframe tbody tr th {\n",
       "        vertical-align: top;\n",
       "    }\n",
       "\n",
       "    .dataframe thead th {\n",
       "        text-align: right;\n",
       "    }\n",
       "</style>\n",
       "<table border=\"1\" class=\"dataframe\">\n",
       "  <thead>\n",
       "    <tr style=\"text-align: right;\">\n",
       "      <th></th>\n",
       "      <th>client_id</th>\n",
       "      <th>target</th>\n",
       "    </tr>\n",
       "  </thead>\n",
       "  <tbody>\n",
       "    <tr>\n",
       "      <th>15755</th>\n",
       "      <td>1515915625491116504</td>\n",
       "      <td>0</td>\n",
       "    </tr>\n",
       "    <tr>\n",
       "      <th>2457</th>\n",
       "      <td>1515915625468259443</td>\n",
       "      <td>0</td>\n",
       "    </tr>\n",
       "    <tr>\n",
       "      <th>1752</th>\n",
       "      <td>1515915625468200447</td>\n",
       "      <td>0</td>\n",
       "    </tr>\n",
       "    <tr>\n",
       "      <th>24144</th>\n",
       "      <td>1515915625551635880</td>\n",
       "      <td>1</td>\n",
       "    </tr>\n",
       "    <tr>\n",
       "      <th>40795</th>\n",
       "      <td>1515915625762624766</td>\n",
       "      <td>0</td>\n",
       "    </tr>\n",
       "  </tbody>\n",
       "</table>\n",
       "</div>"
      ],
      "text/plain": [
       "                 client_id  target\n",
       "15755  1515915625491116504       0\n",
       "2457   1515915625468259443       0\n",
       "1752   1515915625468200447       0\n",
       "24144  1515915625551635880       1\n",
       "40795  1515915625762624766       0"
      ]
     },
     "metadata": {},
     "output_type": "display_data"
    },
    {
     "data": {
      "text/html": [
       "<span style='font-size: 1.5em; font-weight: bold; font-style: italic;'>Число пропусков в базе данных</span>"
      ],
      "text/plain": [
       "<IPython.core.display.HTML object>"
      ]
     },
     "metadata": {},
     "output_type": "display_data"
    },
    {
     "data": {
      "application/vnd.microsoft.datawrangler.viewer.v0+json": {
       "columns": [
        {
         "name": "index",
         "rawType": "object",
         "type": "string"
        },
        {
         "name": "0",
         "rawType": "int64",
         "type": "integer"
        }
       ],
       "ref": "8c3eef10-21ce-4868-807c-4fb2566b0ae0",
       "rows": [],
       "shape": {
        "columns": 1,
        "rows": 0
       }
      },
      "text/plain": [
       "Series([], dtype: int64)"
      ]
     },
     "metadata": {},
     "output_type": "display_data"
    },
    {
     "data": {
      "text/plain": [
       "None"
      ]
     },
     "metadata": {},
     "output_type": "display_data"
    },
    {
     "data": {
      "text/html": [
       "<span style='font-size: 1.5em; font-weight: bold; font-style: italic;'>Характеристики базы данных</span>"
      ],
      "text/plain": [
       "<IPython.core.display.HTML object>"
      ]
     },
     "metadata": {},
     "output_type": "display_data"
    },
    {
     "data": {
      "application/vnd.microsoft.datawrangler.viewer.v0+json": {
       "columns": [
        {
         "name": "index",
         "rawType": "object",
         "type": "string"
        },
        {
         "name": "count",
         "rawType": "float64",
         "type": "float"
        },
        {
         "name": "mean",
         "rawType": "float64",
         "type": "float"
        },
        {
         "name": "std",
         "rawType": "float64",
         "type": "float"
        },
        {
         "name": "min",
         "rawType": "float64",
         "type": "float"
        },
        {
         "name": "25%",
         "rawType": "float64",
         "type": "float"
        },
        {
         "name": "50%",
         "rawType": "float64",
         "type": "float"
        },
        {
         "name": "75%",
         "rawType": "float64",
         "type": "float"
        },
        {
         "name": "max",
         "rawType": "float64",
         "type": "float"
        }
       ],
       "ref": "a5105368-c060-48a5-9d08-ddfdb07797b4",
       "rows": [
        [
         "client_id",
         "49849.0",
         "1.515915625598796e+18",
         "148794654.89060703",
         "1.515915625468061e+18",
         "1.5159156254899727e+18",
         "1.515915625556615e+18",
         "1.5159156256334088e+18",
         "1.5159156260104435e+18"
        ],
        [
         "target",
         "49849.0",
         "0.01927822022507974",
         "0.13750254446542706",
         "0.0",
         "0.0",
         "0.0",
         "0.0",
         "1.0"
        ]
       ],
       "shape": {
        "columns": 8,
        "rows": 2
       }
      },
      "text/html": [
       "<div>\n",
       "<style scoped>\n",
       "    .dataframe tbody tr th:only-of-type {\n",
       "        vertical-align: middle;\n",
       "    }\n",
       "\n",
       "    .dataframe tbody tr th {\n",
       "        vertical-align: top;\n",
       "    }\n",
       "\n",
       "    .dataframe thead th {\n",
       "        text-align: right;\n",
       "    }\n",
       "</style>\n",
       "<table border=\"1\" class=\"dataframe\">\n",
       "  <thead>\n",
       "    <tr style=\"text-align: right;\">\n",
       "      <th></th>\n",
       "      <th>count</th>\n",
       "      <th>mean</th>\n",
       "      <th>std</th>\n",
       "      <th>min</th>\n",
       "      <th>25%</th>\n",
       "      <th>50%</th>\n",
       "      <th>75%</th>\n",
       "      <th>max</th>\n",
       "    </tr>\n",
       "  </thead>\n",
       "  <tbody>\n",
       "    <tr>\n",
       "      <th>client_id</th>\n",
       "      <td>49849.0</td>\n",
       "      <td>1.515916e+18</td>\n",
       "      <td>1.487947e+08</td>\n",
       "      <td>1.515916e+18</td>\n",
       "      <td>1.515916e+18</td>\n",
       "      <td>1.515916e+18</td>\n",
       "      <td>1.515916e+18</td>\n",
       "      <td>1.515916e+18</td>\n",
       "    </tr>\n",
       "    <tr>\n",
       "      <th>target</th>\n",
       "      <td>49849.0</td>\n",
       "      <td>1.927822e-02</td>\n",
       "      <td>1.375025e-01</td>\n",
       "      <td>0.000000e+00</td>\n",
       "      <td>0.000000e+00</td>\n",
       "      <td>0.000000e+00</td>\n",
       "      <td>0.000000e+00</td>\n",
       "      <td>1.000000e+00</td>\n",
       "    </tr>\n",
       "  </tbody>\n",
       "</table>\n",
       "</div>"
      ],
      "text/plain": [
       "             count          mean           std           min           25%  \\\n",
       "client_id  49849.0  1.515916e+18  1.487947e+08  1.515916e+18  1.515916e+18   \n",
       "target     49849.0  1.927822e-02  1.375025e-01  0.000000e+00  0.000000e+00   \n",
       "\n",
       "                    50%           75%           max  \n",
       "client_id  1.515916e+18  1.515916e+18  1.515916e+18  \n",
       "target     0.000000e+00  0.000000e+00  1.000000e+00  "
      ]
     },
     "metadata": {},
     "output_type": "display_data"
    }
   ],
   "source": [
    "app_target = check_data(app_target)"
   ]
  },
  {
   "cell_type": "markdown",
   "id": "2f3bf49b",
   "metadata": {},
   "source": [
    "Выводы:  \n",
    "Ну тут все понятно, обсуждать нечего"
   ]
  },
  {
   "cell_type": "markdown",
   "id": "ded99126",
   "metadata": {},
   "source": [
    "#### event_type"
   ]
  },
  {
   "cell_type": "code",
   "execution_count": 148,
   "id": "722d7e90",
   "metadata": {},
   "outputs": [
    {
     "data": {
      "text/html": [
       "<span style='font-size: 1.5em; font-weight: bold; font-style: italic;'>Общая информация базы данных</span>"
      ],
      "text/plain": [
       "<IPython.core.display.HTML object>"
      ]
     },
     "metadata": {},
     "output_type": "display_data"
    },
    {
     "name": "stdout",
     "output_type": "stream",
     "text": [
      "<class 'pandas.core.frame.DataFrame'>\n",
      "RangeIndex: 131072 entries, 0 to 131071\n",
      "Data columns (total 24 columns):\n",
      " #   Column               Non-Null Count   Dtype \n",
      "---  ------               --------------   ----- \n",
      " 0   date                 131072 non-null  object\n",
      " 1   bulk_campaign_id     131072 non-null  int64 \n",
      " 2   count_click          131072 non-null  int64 \n",
      " 3   count_complain       131072 non-null  int64 \n",
      " 4   count_hard_bounce    131072 non-null  int64 \n",
      " 5   count_open           131072 non-null  int64 \n",
      " 6   count_purchase       131072 non-null  int64 \n",
      " 7   count_send           131072 non-null  int64 \n",
      " 8   count_soft_bounce    131072 non-null  int64 \n",
      " 9   count_subscribe      131072 non-null  int64 \n",
      " 10  count_unsubscribe    131072 non-null  int64 \n",
      " 11  nunique_click        131072 non-null  int64 \n",
      " 12  nunique_complain     131072 non-null  int64 \n",
      " 13  nunique_hard_bounce  131072 non-null  int64 \n",
      " 14  nunique_open         131072 non-null  int64 \n",
      " 15  nunique_purchase     131072 non-null  int64 \n",
      " 16  nunique_send         131072 non-null  int64 \n",
      " 17  nunique_soft_bounce  131072 non-null  int64 \n",
      " 18  nunique_subscribe    131072 non-null  int64 \n",
      " 19  nunique_unsubscribe  131072 non-null  int64 \n",
      " 20  count_hbq_spam       131072 non-null  int64 \n",
      " 21  nunique_hbq_spam     131072 non-null  int64 \n",
      " 22  count_close          131072 non-null  int64 \n",
      " 23  nunique_close        131072 non-null  int64 \n",
      "dtypes: int64(23), object(1)\n",
      "memory usage: 24.0+ MB\n"
     ]
    },
    {
     "data": {
      "text/plain": [
       "None"
      ]
     },
     "metadata": {},
     "output_type": "display_data"
    },
    {
     "data": {
      "text/html": [
       "<span style='font-size: 1.5em; font-weight: bold; font-style: italic;'>5 случайных строк</span>"
      ],
      "text/plain": [
       "<IPython.core.display.HTML object>"
      ]
     },
     "metadata": {},
     "output_type": "display_data"
    },
    {
     "data": {
      "application/vnd.microsoft.datawrangler.viewer.v0+json": {
       "columns": [
        {
         "name": "index",
         "rawType": "int64",
         "type": "integer"
        },
        {
         "name": "date",
         "rawType": "object",
         "type": "string"
        },
        {
         "name": "bulk_campaign_id",
         "rawType": "int64",
         "type": "integer"
        },
        {
         "name": "count_click",
         "rawType": "int64",
         "type": "integer"
        },
        {
         "name": "count_complain",
         "rawType": "int64",
         "type": "integer"
        },
        {
         "name": "count_hard_bounce",
         "rawType": "int64",
         "type": "integer"
        },
        {
         "name": "count_open",
         "rawType": "int64",
         "type": "integer"
        },
        {
         "name": "count_purchase",
         "rawType": "int64",
         "type": "integer"
        },
        {
         "name": "count_send",
         "rawType": "int64",
         "type": "integer"
        },
        {
         "name": "count_soft_bounce",
         "rawType": "int64",
         "type": "integer"
        },
        {
         "name": "count_subscribe",
         "rawType": "int64",
         "type": "integer"
        },
        {
         "name": "count_unsubscribe",
         "rawType": "int64",
         "type": "integer"
        },
        {
         "name": "nunique_click",
         "rawType": "int64",
         "type": "integer"
        },
        {
         "name": "nunique_complain",
         "rawType": "int64",
         "type": "integer"
        },
        {
         "name": "nunique_hard_bounce",
         "rawType": "int64",
         "type": "integer"
        },
        {
         "name": "nunique_open",
         "rawType": "int64",
         "type": "integer"
        },
        {
         "name": "nunique_purchase",
         "rawType": "int64",
         "type": "integer"
        },
        {
         "name": "nunique_send",
         "rawType": "int64",
         "type": "integer"
        },
        {
         "name": "nunique_soft_bounce",
         "rawType": "int64",
         "type": "integer"
        },
        {
         "name": "nunique_subscribe",
         "rawType": "int64",
         "type": "integer"
        },
        {
         "name": "nunique_unsubscribe",
         "rawType": "int64",
         "type": "integer"
        },
        {
         "name": "count_hbq_spam",
         "rawType": "int64",
         "type": "integer"
        },
        {
         "name": "nunique_hbq_spam",
         "rawType": "int64",
         "type": "integer"
        },
        {
         "name": "count_close",
         "rawType": "int64",
         "type": "integer"
        },
        {
         "name": "nunique_close",
         "rawType": "int64",
         "type": "integer"
        }
       ],
       "ref": "ae417112-700d-4856-8b4e-4191098676ab",
       "rows": [
        [
         "8876",
         "2022-07-12",
         "1625",
         "0",
         "0",
         "0",
         "3",
         "0",
         "0",
         "0",
         "0",
         "0",
         "0",
         "0",
         "0",
         "3",
         "0",
         "0",
         "0",
         "0",
         "0",
         "0",
         "0",
         "0",
         "0"
        ],
        [
         "23990",
         "2022-09-26",
         "5548",
         "0",
         "0",
         "0",
         "52",
         "0",
         "0",
         "0",
         "0",
         "1",
         "0",
         "0",
         "0",
         "51",
         "0",
         "0",
         "0",
         "0",
         "1",
         "0",
         "0",
         "0",
         "0"
        ],
        [
         "106035",
         "2024-01-31",
         "13427",
         "0",
         "0",
         "0",
         "12",
         "0",
         "0",
         "0",
         "0",
         "1",
         "0",
         "0",
         "0",
         "12",
         "0",
         "0",
         "0",
         "0",
         "1",
         "0",
         "0",
         "0",
         "0"
        ],
        [
         "130768",
         "2024-05-13",
         "15138",
         "2549",
         "0",
         "1195",
         "121771",
         "7",
         "166706",
         "158",
         "0",
         "0",
         "2442",
         "0",
         "1115",
         "119837",
         "7",
         "166706",
         "158",
         "0",
         "0",
         "0",
         "0",
         "0",
         "0"
        ],
        [
         "94650",
         "2023-12-02",
         "14105",
         "0",
         "0",
         "0",
         "42",
         "0",
         "0",
         "0",
         "0",
         "0",
         "0",
         "0",
         "0",
         "42",
         "0",
         "0",
         "0",
         "0",
         "0",
         "0",
         "0",
         "0",
         "0"
        ]
       ],
       "shape": {
        "columns": 24,
        "rows": 5
       }
      },
      "text/html": [
       "<div>\n",
       "<style scoped>\n",
       "    .dataframe tbody tr th:only-of-type {\n",
       "        vertical-align: middle;\n",
       "    }\n",
       "\n",
       "    .dataframe tbody tr th {\n",
       "        vertical-align: top;\n",
       "    }\n",
       "\n",
       "    .dataframe thead th {\n",
       "        text-align: right;\n",
       "    }\n",
       "</style>\n",
       "<table border=\"1\" class=\"dataframe\">\n",
       "  <thead>\n",
       "    <tr style=\"text-align: right;\">\n",
       "      <th></th>\n",
       "      <th>date</th>\n",
       "      <th>bulk_campaign_id</th>\n",
       "      <th>count_click</th>\n",
       "      <th>count_complain</th>\n",
       "      <th>count_hard_bounce</th>\n",
       "      <th>count_open</th>\n",
       "      <th>count_purchase</th>\n",
       "      <th>count_send</th>\n",
       "      <th>count_soft_bounce</th>\n",
       "      <th>count_subscribe</th>\n",
       "      <th>...</th>\n",
       "      <th>nunique_open</th>\n",
       "      <th>nunique_purchase</th>\n",
       "      <th>nunique_send</th>\n",
       "      <th>nunique_soft_bounce</th>\n",
       "      <th>nunique_subscribe</th>\n",
       "      <th>nunique_unsubscribe</th>\n",
       "      <th>count_hbq_spam</th>\n",
       "      <th>nunique_hbq_spam</th>\n",
       "      <th>count_close</th>\n",
       "      <th>nunique_close</th>\n",
       "    </tr>\n",
       "  </thead>\n",
       "  <tbody>\n",
       "    <tr>\n",
       "      <th>8876</th>\n",
       "      <td>2022-07-12</td>\n",
       "      <td>1625</td>\n",
       "      <td>0</td>\n",
       "      <td>0</td>\n",
       "      <td>0</td>\n",
       "      <td>3</td>\n",
       "      <td>0</td>\n",
       "      <td>0</td>\n",
       "      <td>0</td>\n",
       "      <td>0</td>\n",
       "      <td>...</td>\n",
       "      <td>3</td>\n",
       "      <td>0</td>\n",
       "      <td>0</td>\n",
       "      <td>0</td>\n",
       "      <td>0</td>\n",
       "      <td>0</td>\n",
       "      <td>0</td>\n",
       "      <td>0</td>\n",
       "      <td>0</td>\n",
       "      <td>0</td>\n",
       "    </tr>\n",
       "    <tr>\n",
       "      <th>23990</th>\n",
       "      <td>2022-09-26</td>\n",
       "      <td>5548</td>\n",
       "      <td>0</td>\n",
       "      <td>0</td>\n",
       "      <td>0</td>\n",
       "      <td>52</td>\n",
       "      <td>0</td>\n",
       "      <td>0</td>\n",
       "      <td>0</td>\n",
       "      <td>0</td>\n",
       "      <td>...</td>\n",
       "      <td>51</td>\n",
       "      <td>0</td>\n",
       "      <td>0</td>\n",
       "      <td>0</td>\n",
       "      <td>0</td>\n",
       "      <td>1</td>\n",
       "      <td>0</td>\n",
       "      <td>0</td>\n",
       "      <td>0</td>\n",
       "      <td>0</td>\n",
       "    </tr>\n",
       "    <tr>\n",
       "      <th>106035</th>\n",
       "      <td>2024-01-31</td>\n",
       "      <td>13427</td>\n",
       "      <td>0</td>\n",
       "      <td>0</td>\n",
       "      <td>0</td>\n",
       "      <td>12</td>\n",
       "      <td>0</td>\n",
       "      <td>0</td>\n",
       "      <td>0</td>\n",
       "      <td>0</td>\n",
       "      <td>...</td>\n",
       "      <td>12</td>\n",
       "      <td>0</td>\n",
       "      <td>0</td>\n",
       "      <td>0</td>\n",
       "      <td>0</td>\n",
       "      <td>1</td>\n",
       "      <td>0</td>\n",
       "      <td>0</td>\n",
       "      <td>0</td>\n",
       "      <td>0</td>\n",
       "    </tr>\n",
       "    <tr>\n",
       "      <th>130768</th>\n",
       "      <td>2024-05-13</td>\n",
       "      <td>15138</td>\n",
       "      <td>2549</td>\n",
       "      <td>0</td>\n",
       "      <td>1195</td>\n",
       "      <td>121771</td>\n",
       "      <td>7</td>\n",
       "      <td>166706</td>\n",
       "      <td>158</td>\n",
       "      <td>0</td>\n",
       "      <td>...</td>\n",
       "      <td>119837</td>\n",
       "      <td>7</td>\n",
       "      <td>166706</td>\n",
       "      <td>158</td>\n",
       "      <td>0</td>\n",
       "      <td>0</td>\n",
       "      <td>0</td>\n",
       "      <td>0</td>\n",
       "      <td>0</td>\n",
       "      <td>0</td>\n",
       "    </tr>\n",
       "    <tr>\n",
       "      <th>94650</th>\n",
       "      <td>2023-12-02</td>\n",
       "      <td>14105</td>\n",
       "      <td>0</td>\n",
       "      <td>0</td>\n",
       "      <td>0</td>\n",
       "      <td>42</td>\n",
       "      <td>0</td>\n",
       "      <td>0</td>\n",
       "      <td>0</td>\n",
       "      <td>0</td>\n",
       "      <td>...</td>\n",
       "      <td>42</td>\n",
       "      <td>0</td>\n",
       "      <td>0</td>\n",
       "      <td>0</td>\n",
       "      <td>0</td>\n",
       "      <td>0</td>\n",
       "      <td>0</td>\n",
       "      <td>0</td>\n",
       "      <td>0</td>\n",
       "      <td>0</td>\n",
       "    </tr>\n",
       "  </tbody>\n",
       "</table>\n",
       "<p>5 rows × 24 columns</p>\n",
       "</div>"
      ],
      "text/plain": [
       "              date  bulk_campaign_id  count_click  count_complain  \\\n",
       "8876    2022-07-12              1625            0               0   \n",
       "23990   2022-09-26              5548            0               0   \n",
       "106035  2024-01-31             13427            0               0   \n",
       "130768  2024-05-13             15138         2549               0   \n",
       "94650   2023-12-02             14105            0               0   \n",
       "\n",
       "        count_hard_bounce  count_open  count_purchase  count_send  \\\n",
       "8876                    0           3               0           0   \n",
       "23990                   0          52               0           0   \n",
       "106035                  0          12               0           0   \n",
       "130768               1195      121771               7      166706   \n",
       "94650                   0          42               0           0   \n",
       "\n",
       "        count_soft_bounce  count_subscribe  ...  nunique_open  \\\n",
       "8876                    0                0  ...             3   \n",
       "23990                   0                0  ...            51   \n",
       "106035                  0                0  ...            12   \n",
       "130768                158                0  ...        119837   \n",
       "94650                   0                0  ...            42   \n",
       "\n",
       "        nunique_purchase  nunique_send  nunique_soft_bounce  \\\n",
       "8876                   0             0                    0   \n",
       "23990                  0             0                    0   \n",
       "106035                 0             0                    0   \n",
       "130768                 7        166706                  158   \n",
       "94650                  0             0                    0   \n",
       "\n",
       "        nunique_subscribe  nunique_unsubscribe  count_hbq_spam  \\\n",
       "8876                    0                    0               0   \n",
       "23990                   0                    1               0   \n",
       "106035                  0                    1               0   \n",
       "130768                  0                    0               0   \n",
       "94650                   0                    0               0   \n",
       "\n",
       "        nunique_hbq_spam  count_close  nunique_close  \n",
       "8876                   0            0              0  \n",
       "23990                  0            0              0  \n",
       "106035                 0            0              0  \n",
       "130768                 0            0              0  \n",
       "94650                  0            0              0  \n",
       "\n",
       "[5 rows x 24 columns]"
      ]
     },
     "metadata": {},
     "output_type": "display_data"
    },
    {
     "data": {
      "text/html": [
       "<span style='font-size: 1.5em; font-weight: bold; font-style: italic;'>Число пропусков в базе данных</span>"
      ],
      "text/plain": [
       "<IPython.core.display.HTML object>"
      ]
     },
     "metadata": {},
     "output_type": "display_data"
    },
    {
     "data": {
      "application/vnd.microsoft.datawrangler.viewer.v0+json": {
       "columns": [
        {
         "name": "index",
         "rawType": "object",
         "type": "string"
        },
        {
         "name": "0",
         "rawType": "int64",
         "type": "integer"
        }
       ],
       "ref": "04d487a3-2084-4eb5-9812-7b642203579d",
       "rows": [],
       "shape": {
        "columns": 1,
        "rows": 0
       }
      },
      "text/plain": [
       "Series([], dtype: int64)"
      ]
     },
     "metadata": {},
     "output_type": "display_data"
    },
    {
     "data": {
      "text/plain": [
       "None"
      ]
     },
     "metadata": {},
     "output_type": "display_data"
    },
    {
     "data": {
      "text/html": [
       "<span style='font-size: 1.5em; font-weight: bold; font-style: italic;'>Характеристики базы данных</span>"
      ],
      "text/plain": [
       "<IPython.core.display.HTML object>"
      ]
     },
     "metadata": {},
     "output_type": "display_data"
    },
    {
     "data": {
      "application/vnd.microsoft.datawrangler.viewer.v0+json": {
       "columns": [
        {
         "name": "index",
         "rawType": "object",
         "type": "string"
        },
        {
         "name": "count",
         "rawType": "float64",
         "type": "float"
        },
        {
         "name": "mean",
         "rawType": "float64",
         "type": "float"
        },
        {
         "name": "std",
         "rawType": "float64",
         "type": "float"
        },
        {
         "name": "min",
         "rawType": "float64",
         "type": "float"
        },
        {
         "name": "25%",
         "rawType": "float64",
         "type": "float"
        },
        {
         "name": "50%",
         "rawType": "float64",
         "type": "float"
        },
        {
         "name": "75%",
         "rawType": "float64",
         "type": "float"
        },
        {
         "name": "max",
         "rawType": "float64",
         "type": "float"
        }
       ],
       "ref": "995ac91e-f4a9-4e94-9a98-2933c35f335b",
       "rows": [
        [
         "bulk_campaign_id",
         "131072.0",
         "8416.743377685547",
         "4877.3693057224045",
         "548.0",
         "4116.0",
         "7477.0",
         "13732.0",
         "15150.0"
        ],
        [
         "count_click",
         "131072.0",
         "90.98297119140625",
         "1275.5035642332123",
         "0.0",
         "0.0",
         "0.0",
         "2.0",
         "128453.0"
        ],
        [
         "count_complain",
         "131072.0",
         "0.9326553344726562",
         "30.198326489843303",
         "0.0",
         "0.0",
         "0.0",
         "0.0",
         "5160.0"
        ],
        [
         "count_hard_bounce",
         "131072.0",
         "78.47343444824219",
         "1961.317825739723",
         "0.0",
         "0.0",
         "0.0",
         "0.0",
         "287404.0"
        ],
        [
         "count_open",
         "131072.0",
         "3771.090690612793",
         "65160.66844426559",
         "0.0",
         "1.0",
         "6.0",
         "30.0",
         "5076151.0"
        ],
        [
         "count_purchase",
         "131072.0",
         "0.5779266357421875",
         "9.107040077980614",
         "0.0",
         "0.0",
         "0.0",
         "0.0",
         "1077.0"
        ],
        [
         "count_send",
         "131072.0",
         "11634.142318725586",
         "175709.5082897024",
         "0.0",
         "0.0",
         "0.0",
         "0.0",
         "11543513.0"
        ],
        [
         "count_soft_bounce",
         "131072.0",
         "27.80731201171875",
         "736.9447144484487",
         "0.0",
         "0.0",
         "0.0",
         "0.0",
         "76284.0"
        ],
        [
         "count_subscribe",
         "131072.0",
         "0.1405181884765625",
         "2.0727768212410997",
         "0.0",
         "0.0",
         "0.0",
         "0.0",
         "189.0"
        ],
        [
         "count_unsubscribe",
         "131072.0",
         "6.362678527832031",
         "79.17206939522323",
         "0.0",
         "0.0",
         "0.0",
         "1.0",
         "9089.0"
        ],
        [
         "nunique_click",
         "131072.0",
         "74.27601623535156",
         "1004.2714048761628",
         "0.0",
         "0.0",
         "0.0",
         "1.0",
         "75899.0"
        ],
        [
         "nunique_complain",
         "131072.0",
         "0.92132568359375",
         "29.715170300563305",
         "0.0",
         "0.0",
         "0.0",
         "0.0",
         "5043.0"
        ],
        [
         "nunique_hard_bounce",
         "131072.0",
         "77.39868927001953",
         "1913.3955105517152",
         "0.0",
         "0.0",
         "0.0",
         "0.0",
         "287341.0"
        ],
        [
         "nunique_open",
         "131072.0",
         "3683.0000228881836",
         "62586.4729162446",
         "0.0",
         "1.0",
         "6.0",
         "30.0",
         "2922440.0"
        ],
        [
         "nunique_purchase",
         "131072.0",
         "0.4651031494140625",
         "7.126367895117573",
         "0.0",
         "0.0",
         "0.0",
         "0.0",
         "779.0"
        ],
        [
         "nunique_send",
         "131072.0",
         "11537.164840698242",
         "172700.4890552492",
         "0.0",
         "0.0",
         "0.0",
         "0.0",
         "7094600.0"
        ],
        [
         "nunique_soft_bounce",
         "131072.0",
         "27.57379913330078",
         "734.0506996531889",
         "0.0",
         "0.0",
         "0.0",
         "0.0",
         "76281.0"
        ],
        [
         "nunique_subscribe",
         "131072.0",
         "0.134124755859375",
         "1.9764389650419572",
         "0.0",
         "0.0",
         "0.0",
         "0.0",
         "177.0"
        ],
        [
         "nunique_unsubscribe",
         "131072.0",
         "5.960601806640625",
         "73.28414772607994",
         "0.0",
         "0.0",
         "0.0",
         "1.0",
         "8299.0"
        ],
        [
         "count_hbq_spam",
         "131072.0",
         "0.81036376953125",
         "183.2985793098929",
         "0.0",
         "0.0",
         "0.0",
         "0.0",
         "63920.0"
        ],
        [
         "nunique_hbq_spam",
         "131072.0",
         "0.8097991943359375",
         "183.2982446993435",
         "0.0",
         "0.0",
         "0.0",
         "0.0",
         "63920.0"
        ],
        [
         "count_close",
         "131072.0",
         "7.62939453125e-06",
         "0.0027621358640099515",
         "0.0",
         "0.0",
         "0.0",
         "0.0",
         "1.0"
        ],
        [
         "nunique_close",
         "131072.0",
         "7.62939453125e-06",
         "0.0027621358640099515",
         "0.0",
         "0.0",
         "0.0",
         "0.0",
         "1.0"
        ]
       ],
       "shape": {
        "columns": 8,
        "rows": 23
       }
      },
      "text/html": [
       "<div>\n",
       "<style scoped>\n",
       "    .dataframe tbody tr th:only-of-type {\n",
       "        vertical-align: middle;\n",
       "    }\n",
       "\n",
       "    .dataframe tbody tr th {\n",
       "        vertical-align: top;\n",
       "    }\n",
       "\n",
       "    .dataframe thead th {\n",
       "        text-align: right;\n",
       "    }\n",
       "</style>\n",
       "<table border=\"1\" class=\"dataframe\">\n",
       "  <thead>\n",
       "    <tr style=\"text-align: right;\">\n",
       "      <th></th>\n",
       "      <th>count</th>\n",
       "      <th>mean</th>\n",
       "      <th>std</th>\n",
       "      <th>min</th>\n",
       "      <th>25%</th>\n",
       "      <th>50%</th>\n",
       "      <th>75%</th>\n",
       "      <th>max</th>\n",
       "    </tr>\n",
       "  </thead>\n",
       "  <tbody>\n",
       "    <tr>\n",
       "      <th>bulk_campaign_id</th>\n",
       "      <td>131072.0</td>\n",
       "      <td>8416.743378</td>\n",
       "      <td>4877.369306</td>\n",
       "      <td>548.0</td>\n",
       "      <td>4116.0</td>\n",
       "      <td>7477.0</td>\n",
       "      <td>13732.0</td>\n",
       "      <td>15150.0</td>\n",
       "    </tr>\n",
       "    <tr>\n",
       "      <th>count_click</th>\n",
       "      <td>131072.0</td>\n",
       "      <td>90.982971</td>\n",
       "      <td>1275.503564</td>\n",
       "      <td>0.0</td>\n",
       "      <td>0.0</td>\n",
       "      <td>0.0</td>\n",
       "      <td>2.0</td>\n",
       "      <td>128453.0</td>\n",
       "    </tr>\n",
       "    <tr>\n",
       "      <th>count_complain</th>\n",
       "      <td>131072.0</td>\n",
       "      <td>0.932655</td>\n",
       "      <td>30.198326</td>\n",
       "      <td>0.0</td>\n",
       "      <td>0.0</td>\n",
       "      <td>0.0</td>\n",
       "      <td>0.0</td>\n",
       "      <td>5160.0</td>\n",
       "    </tr>\n",
       "    <tr>\n",
       "      <th>count_hard_bounce</th>\n",
       "      <td>131072.0</td>\n",
       "      <td>78.473434</td>\n",
       "      <td>1961.317826</td>\n",
       "      <td>0.0</td>\n",
       "      <td>0.0</td>\n",
       "      <td>0.0</td>\n",
       "      <td>0.0</td>\n",
       "      <td>287404.0</td>\n",
       "    </tr>\n",
       "    <tr>\n",
       "      <th>count_open</th>\n",
       "      <td>131072.0</td>\n",
       "      <td>3771.090691</td>\n",
       "      <td>65160.668444</td>\n",
       "      <td>0.0</td>\n",
       "      <td>1.0</td>\n",
       "      <td>6.0</td>\n",
       "      <td>30.0</td>\n",
       "      <td>5076151.0</td>\n",
       "    </tr>\n",
       "    <tr>\n",
       "      <th>count_purchase</th>\n",
       "      <td>131072.0</td>\n",
       "      <td>0.577927</td>\n",
       "      <td>9.107040</td>\n",
       "      <td>0.0</td>\n",
       "      <td>0.0</td>\n",
       "      <td>0.0</td>\n",
       "      <td>0.0</td>\n",
       "      <td>1077.0</td>\n",
       "    </tr>\n",
       "    <tr>\n",
       "      <th>count_send</th>\n",
       "      <td>131072.0</td>\n",
       "      <td>11634.142319</td>\n",
       "      <td>175709.508290</td>\n",
       "      <td>0.0</td>\n",
       "      <td>0.0</td>\n",
       "      <td>0.0</td>\n",
       "      <td>0.0</td>\n",
       "      <td>11543513.0</td>\n",
       "    </tr>\n",
       "    <tr>\n",
       "      <th>count_soft_bounce</th>\n",
       "      <td>131072.0</td>\n",
       "      <td>27.807312</td>\n",
       "      <td>736.944714</td>\n",
       "      <td>0.0</td>\n",
       "      <td>0.0</td>\n",
       "      <td>0.0</td>\n",
       "      <td>0.0</td>\n",
       "      <td>76284.0</td>\n",
       "    </tr>\n",
       "    <tr>\n",
       "      <th>count_subscribe</th>\n",
       "      <td>131072.0</td>\n",
       "      <td>0.140518</td>\n",
       "      <td>2.072777</td>\n",
       "      <td>0.0</td>\n",
       "      <td>0.0</td>\n",
       "      <td>0.0</td>\n",
       "      <td>0.0</td>\n",
       "      <td>189.0</td>\n",
       "    </tr>\n",
       "    <tr>\n",
       "      <th>count_unsubscribe</th>\n",
       "      <td>131072.0</td>\n",
       "      <td>6.362679</td>\n",
       "      <td>79.172069</td>\n",
       "      <td>0.0</td>\n",
       "      <td>0.0</td>\n",
       "      <td>0.0</td>\n",
       "      <td>1.0</td>\n",
       "      <td>9089.0</td>\n",
       "    </tr>\n",
       "    <tr>\n",
       "      <th>nunique_click</th>\n",
       "      <td>131072.0</td>\n",
       "      <td>74.276016</td>\n",
       "      <td>1004.271405</td>\n",
       "      <td>0.0</td>\n",
       "      <td>0.0</td>\n",
       "      <td>0.0</td>\n",
       "      <td>1.0</td>\n",
       "      <td>75899.0</td>\n",
       "    </tr>\n",
       "    <tr>\n",
       "      <th>nunique_complain</th>\n",
       "      <td>131072.0</td>\n",
       "      <td>0.921326</td>\n",
       "      <td>29.715170</td>\n",
       "      <td>0.0</td>\n",
       "      <td>0.0</td>\n",
       "      <td>0.0</td>\n",
       "      <td>0.0</td>\n",
       "      <td>5043.0</td>\n",
       "    </tr>\n",
       "    <tr>\n",
       "      <th>nunique_hard_bounce</th>\n",
       "      <td>131072.0</td>\n",
       "      <td>77.398689</td>\n",
       "      <td>1913.395511</td>\n",
       "      <td>0.0</td>\n",
       "      <td>0.0</td>\n",
       "      <td>0.0</td>\n",
       "      <td>0.0</td>\n",
       "      <td>287341.0</td>\n",
       "    </tr>\n",
       "    <tr>\n",
       "      <th>nunique_open</th>\n",
       "      <td>131072.0</td>\n",
       "      <td>3683.000023</td>\n",
       "      <td>62586.472916</td>\n",
       "      <td>0.0</td>\n",
       "      <td>1.0</td>\n",
       "      <td>6.0</td>\n",
       "      <td>30.0</td>\n",
       "      <td>2922440.0</td>\n",
       "    </tr>\n",
       "    <tr>\n",
       "      <th>nunique_purchase</th>\n",
       "      <td>131072.0</td>\n",
       "      <td>0.465103</td>\n",
       "      <td>7.126368</td>\n",
       "      <td>0.0</td>\n",
       "      <td>0.0</td>\n",
       "      <td>0.0</td>\n",
       "      <td>0.0</td>\n",
       "      <td>779.0</td>\n",
       "    </tr>\n",
       "    <tr>\n",
       "      <th>nunique_send</th>\n",
       "      <td>131072.0</td>\n",
       "      <td>11537.164841</td>\n",
       "      <td>172700.489055</td>\n",
       "      <td>0.0</td>\n",
       "      <td>0.0</td>\n",
       "      <td>0.0</td>\n",
       "      <td>0.0</td>\n",
       "      <td>7094600.0</td>\n",
       "    </tr>\n",
       "    <tr>\n",
       "      <th>nunique_soft_bounce</th>\n",
       "      <td>131072.0</td>\n",
       "      <td>27.573799</td>\n",
       "      <td>734.050700</td>\n",
       "      <td>0.0</td>\n",
       "      <td>0.0</td>\n",
       "      <td>0.0</td>\n",
       "      <td>0.0</td>\n",
       "      <td>76281.0</td>\n",
       "    </tr>\n",
       "    <tr>\n",
       "      <th>nunique_subscribe</th>\n",
       "      <td>131072.0</td>\n",
       "      <td>0.134125</td>\n",
       "      <td>1.976439</td>\n",
       "      <td>0.0</td>\n",
       "      <td>0.0</td>\n",
       "      <td>0.0</td>\n",
       "      <td>0.0</td>\n",
       "      <td>177.0</td>\n",
       "    </tr>\n",
       "    <tr>\n",
       "      <th>nunique_unsubscribe</th>\n",
       "      <td>131072.0</td>\n",
       "      <td>5.960602</td>\n",
       "      <td>73.284148</td>\n",
       "      <td>0.0</td>\n",
       "      <td>0.0</td>\n",
       "      <td>0.0</td>\n",
       "      <td>1.0</td>\n",
       "      <td>8299.0</td>\n",
       "    </tr>\n",
       "    <tr>\n",
       "      <th>count_hbq_spam</th>\n",
       "      <td>131072.0</td>\n",
       "      <td>0.810364</td>\n",
       "      <td>183.298579</td>\n",
       "      <td>0.0</td>\n",
       "      <td>0.0</td>\n",
       "      <td>0.0</td>\n",
       "      <td>0.0</td>\n",
       "      <td>63920.0</td>\n",
       "    </tr>\n",
       "    <tr>\n",
       "      <th>nunique_hbq_spam</th>\n",
       "      <td>131072.0</td>\n",
       "      <td>0.809799</td>\n",
       "      <td>183.298245</td>\n",
       "      <td>0.0</td>\n",
       "      <td>0.0</td>\n",
       "      <td>0.0</td>\n",
       "      <td>0.0</td>\n",
       "      <td>63920.0</td>\n",
       "    </tr>\n",
       "    <tr>\n",
       "      <th>count_close</th>\n",
       "      <td>131072.0</td>\n",
       "      <td>0.000008</td>\n",
       "      <td>0.002762</td>\n",
       "      <td>0.0</td>\n",
       "      <td>0.0</td>\n",
       "      <td>0.0</td>\n",
       "      <td>0.0</td>\n",
       "      <td>1.0</td>\n",
       "    </tr>\n",
       "    <tr>\n",
       "      <th>nunique_close</th>\n",
       "      <td>131072.0</td>\n",
       "      <td>0.000008</td>\n",
       "      <td>0.002762</td>\n",
       "      <td>0.0</td>\n",
       "      <td>0.0</td>\n",
       "      <td>0.0</td>\n",
       "      <td>0.0</td>\n",
       "      <td>1.0</td>\n",
       "    </tr>\n",
       "  </tbody>\n",
       "</table>\n",
       "</div>"
      ],
      "text/plain": [
       "                        count          mean            std    min     25%  \\\n",
       "bulk_campaign_id     131072.0   8416.743378    4877.369306  548.0  4116.0   \n",
       "count_click          131072.0     90.982971    1275.503564    0.0     0.0   \n",
       "count_complain       131072.0      0.932655      30.198326    0.0     0.0   \n",
       "count_hard_bounce    131072.0     78.473434    1961.317826    0.0     0.0   \n",
       "count_open           131072.0   3771.090691   65160.668444    0.0     1.0   \n",
       "count_purchase       131072.0      0.577927       9.107040    0.0     0.0   \n",
       "count_send           131072.0  11634.142319  175709.508290    0.0     0.0   \n",
       "count_soft_bounce    131072.0     27.807312     736.944714    0.0     0.0   \n",
       "count_subscribe      131072.0      0.140518       2.072777    0.0     0.0   \n",
       "count_unsubscribe    131072.0      6.362679      79.172069    0.0     0.0   \n",
       "nunique_click        131072.0     74.276016    1004.271405    0.0     0.0   \n",
       "nunique_complain     131072.0      0.921326      29.715170    0.0     0.0   \n",
       "nunique_hard_bounce  131072.0     77.398689    1913.395511    0.0     0.0   \n",
       "nunique_open         131072.0   3683.000023   62586.472916    0.0     1.0   \n",
       "nunique_purchase     131072.0      0.465103       7.126368    0.0     0.0   \n",
       "nunique_send         131072.0  11537.164841  172700.489055    0.0     0.0   \n",
       "nunique_soft_bounce  131072.0     27.573799     734.050700    0.0     0.0   \n",
       "nunique_subscribe    131072.0      0.134125       1.976439    0.0     0.0   \n",
       "nunique_unsubscribe  131072.0      5.960602      73.284148    0.0     0.0   \n",
       "count_hbq_spam       131072.0      0.810364     183.298579    0.0     0.0   \n",
       "nunique_hbq_spam     131072.0      0.809799     183.298245    0.0     0.0   \n",
       "count_close          131072.0      0.000008       0.002762    0.0     0.0   \n",
       "nunique_close        131072.0      0.000008       0.002762    0.0     0.0   \n",
       "\n",
       "                        50%      75%         max  \n",
       "bulk_campaign_id     7477.0  13732.0     15150.0  \n",
       "count_click             0.0      2.0    128453.0  \n",
       "count_complain          0.0      0.0      5160.0  \n",
       "count_hard_bounce       0.0      0.0    287404.0  \n",
       "count_open              6.0     30.0   5076151.0  \n",
       "count_purchase          0.0      0.0      1077.0  \n",
       "count_send              0.0      0.0  11543513.0  \n",
       "count_soft_bounce       0.0      0.0     76284.0  \n",
       "count_subscribe         0.0      0.0       189.0  \n",
       "count_unsubscribe       0.0      1.0      9089.0  \n",
       "nunique_click           0.0      1.0     75899.0  \n",
       "nunique_complain        0.0      0.0      5043.0  \n",
       "nunique_hard_bounce     0.0      0.0    287341.0  \n",
       "nunique_open            6.0     30.0   2922440.0  \n",
       "nunique_purchase        0.0      0.0       779.0  \n",
       "nunique_send            0.0      0.0   7094600.0  \n",
       "nunique_soft_bounce     0.0      0.0     76281.0  \n",
       "nunique_subscribe       0.0      0.0       177.0  \n",
       "nunique_unsubscribe     0.0      1.0      8299.0  \n",
       "count_hbq_spam          0.0      0.0     63920.0  \n",
       "nunique_hbq_spam        0.0      0.0     63920.0  \n",
       "count_close             0.0      0.0         1.0  \n",
       "nunique_close           0.0      0.0         1.0  "
      ]
     },
     "metadata": {},
     "output_type": "display_data"
    }
   ],
   "source": [
    "event_type = check_data(event_type)"
   ]
  },
  {
   "cell_type": "markdown",
   "id": "6d2664a7",
   "metadata": {},
   "source": [
    "Вывод:  \n",
    "Здесь просто агрегированная статистика по событиям, не вижу смысла, что-то делать с этой таблицей в принципе"
   ]
  },
  {
   "cell_type": "markdown",
   "id": "fd7b6ce8",
   "metadata": {},
   "source": [
    "#### event_chanel"
   ]
  },
  {
   "cell_type": "code",
   "execution_count": 149,
   "id": "52073b4e",
   "metadata": {},
   "outputs": [
    {
     "data": {
      "text/html": [
       "<span style='font-size: 1.5em; font-weight: bold; font-style: italic;'>Общая информация базы данных</span>"
      ],
      "text/plain": [
       "<IPython.core.display.HTML object>"
      ]
     },
     "metadata": {},
     "output_type": "display_data"
    },
    {
     "name": "stdout",
     "output_type": "stream",
     "text": [
      "<class 'pandas.core.frame.DataFrame'>\n",
      "RangeIndex: 131072 entries, 0 to 131071\n",
      "Data columns (total 36 columns):\n",
      " #   Column                           Non-Null Count   Dtype \n",
      "---  ------                           --------------   ----- \n",
      " 0   date                             131072 non-null  object\n",
      " 1   bulk_campaign_id                 131072 non-null  int64 \n",
      " 2   count_click_email                131072 non-null  int64 \n",
      " 3   count_click_mobile_push          131072 non-null  int64 \n",
      " 4   count_open_email                 131072 non-null  int64 \n",
      " 5   count_open_mobile_push           131072 non-null  int64 \n",
      " 6   count_purchase_email             131072 non-null  int64 \n",
      " 7   count_purchase_mobile_push       131072 non-null  int64 \n",
      " 8   count_soft_bounce_email          131072 non-null  int64 \n",
      " 9   count_subscribe_email            131072 non-null  int64 \n",
      " 10  count_unsubscribe_email          131072 non-null  int64 \n",
      " 11  nunique_click_email              131072 non-null  int64 \n",
      " 12  nunique_click_mobile_push        131072 non-null  int64 \n",
      " 13  nunique_open_email               131072 non-null  int64 \n",
      " 14  nunique_open_mobile_push         131072 non-null  int64 \n",
      " 15  nunique_purchase_email           131072 non-null  int64 \n",
      " 16  nunique_purchase_mobile_push     131072 non-null  int64 \n",
      " 17  nunique_soft_bounce_email        131072 non-null  int64 \n",
      " 18  nunique_subscribe_email          131072 non-null  int64 \n",
      " 19  nunique_unsubscribe_email        131072 non-null  int64 \n",
      " 20  count_hard_bounce_mobile_push    131072 non-null  int64 \n",
      " 21  count_send_mobile_push           131072 non-null  int64 \n",
      " 22  nunique_hard_bounce_mobile_push  131072 non-null  int64 \n",
      " 23  nunique_send_mobile_push         131072 non-null  int64 \n",
      " 24  count_hard_bounce_email          131072 non-null  int64 \n",
      " 25  count_hbq_spam_email             131072 non-null  int64 \n",
      " 26  count_send_email                 131072 non-null  int64 \n",
      " 27  nunique_hard_bounce_email        131072 non-null  int64 \n",
      " 28  nunique_hbq_spam_email           131072 non-null  int64 \n",
      " 29  nunique_send_email               131072 non-null  int64 \n",
      " 30  count_soft_bounce_mobile_push    131072 non-null  int64 \n",
      " 31  nunique_soft_bounce_mobile_push  131072 non-null  int64 \n",
      " 32  count_complain_email             131072 non-null  int64 \n",
      " 33  nunique_complain_email           131072 non-null  int64 \n",
      " 34  count_close_mobile_push          131072 non-null  int64 \n",
      " 35  nunique_close_mobile_push        131072 non-null  int64 \n",
      "dtypes: int64(35), object(1)\n",
      "memory usage: 36.0+ MB\n"
     ]
    },
    {
     "data": {
      "text/plain": [
       "None"
      ]
     },
     "metadata": {},
     "output_type": "display_data"
    },
    {
     "data": {
      "text/html": [
       "<span style='font-size: 1.5em; font-weight: bold; font-style: italic;'>5 случайных строк</span>"
      ],
      "text/plain": [
       "<IPython.core.display.HTML object>"
      ]
     },
     "metadata": {},
     "output_type": "display_data"
    },
    {
     "data": {
      "application/vnd.microsoft.datawrangler.viewer.v0+json": {
       "columns": [
        {
         "name": "index",
         "rawType": "int64",
         "type": "integer"
        },
        {
         "name": "date",
         "rawType": "object",
         "type": "string"
        },
        {
         "name": "bulk_campaign_id",
         "rawType": "int64",
         "type": "integer"
        },
        {
         "name": "count_click_email",
         "rawType": "int64",
         "type": "integer"
        },
        {
         "name": "count_click_mobile_push",
         "rawType": "int64",
         "type": "integer"
        },
        {
         "name": "count_open_email",
         "rawType": "int64",
         "type": "integer"
        },
        {
         "name": "count_open_mobile_push",
         "rawType": "int64",
         "type": "integer"
        },
        {
         "name": "count_purchase_email",
         "rawType": "int64",
         "type": "integer"
        },
        {
         "name": "count_purchase_mobile_push",
         "rawType": "int64",
         "type": "integer"
        },
        {
         "name": "count_soft_bounce_email",
         "rawType": "int64",
         "type": "integer"
        },
        {
         "name": "count_subscribe_email",
         "rawType": "int64",
         "type": "integer"
        },
        {
         "name": "count_unsubscribe_email",
         "rawType": "int64",
         "type": "integer"
        },
        {
         "name": "nunique_click_email",
         "rawType": "int64",
         "type": "integer"
        },
        {
         "name": "nunique_click_mobile_push",
         "rawType": "int64",
         "type": "integer"
        },
        {
         "name": "nunique_open_email",
         "rawType": "int64",
         "type": "integer"
        },
        {
         "name": "nunique_open_mobile_push",
         "rawType": "int64",
         "type": "integer"
        },
        {
         "name": "nunique_purchase_email",
         "rawType": "int64",
         "type": "integer"
        },
        {
         "name": "nunique_purchase_mobile_push",
         "rawType": "int64",
         "type": "integer"
        },
        {
         "name": "nunique_soft_bounce_email",
         "rawType": "int64",
         "type": "integer"
        },
        {
         "name": "nunique_subscribe_email",
         "rawType": "int64",
         "type": "integer"
        },
        {
         "name": "nunique_unsubscribe_email",
         "rawType": "int64",
         "type": "integer"
        },
        {
         "name": "count_hard_bounce_mobile_push",
         "rawType": "int64",
         "type": "integer"
        },
        {
         "name": "count_send_mobile_push",
         "rawType": "int64",
         "type": "integer"
        },
        {
         "name": "nunique_hard_bounce_mobile_push",
         "rawType": "int64",
         "type": "integer"
        },
        {
         "name": "nunique_send_mobile_push",
         "rawType": "int64",
         "type": "integer"
        },
        {
         "name": "count_hard_bounce_email",
         "rawType": "int64",
         "type": "integer"
        },
        {
         "name": "count_hbq_spam_email",
         "rawType": "int64",
         "type": "integer"
        },
        {
         "name": "count_send_email",
         "rawType": "int64",
         "type": "integer"
        },
        {
         "name": "nunique_hard_bounce_email",
         "rawType": "int64",
         "type": "integer"
        },
        {
         "name": "nunique_hbq_spam_email",
         "rawType": "int64",
         "type": "integer"
        },
        {
         "name": "nunique_send_email",
         "rawType": "int64",
         "type": "integer"
        },
        {
         "name": "count_soft_bounce_mobile_push",
         "rawType": "int64",
         "type": "integer"
        },
        {
         "name": "nunique_soft_bounce_mobile_push",
         "rawType": "int64",
         "type": "integer"
        },
        {
         "name": "count_complain_email",
         "rawType": "int64",
         "type": "integer"
        },
        {
         "name": "nunique_complain_email",
         "rawType": "int64",
         "type": "integer"
        },
        {
         "name": "count_close_mobile_push",
         "rawType": "int64",
         "type": "integer"
        },
        {
         "name": "nunique_close_mobile_push",
         "rawType": "int64",
         "type": "integer"
        }
       ],
       "ref": "9909b565-2d51-4d1a-8cc5-74e8f517027a",
       "rows": [
        [
         "11070",
         "2022-07-23",
         "4895",
         "0",
         "0",
         "4",
         "0",
         "0",
         "0",
         "0",
         "0",
         "0",
         "0",
         "0",
         "4",
         "0",
         "0",
         "0",
         "0",
         "0",
         "0",
         "0",
         "0",
         "0",
         "0",
         "0",
         "0",
         "0",
         "0",
         "0",
         "0",
         "0",
         "0",
         "0",
         "0",
         "0",
         "0"
        ],
        [
         "33650",
         "2022-11-09",
         "7535",
         "25",
         "0",
         "290",
         "0",
         "1",
         "0",
         "0",
         "0",
         "10",
         "18",
         "0",
         "288",
         "0",
         "1",
         "0",
         "0",
         "0",
         "10",
         "0",
         "0",
         "0",
         "0",
         "0",
         "0",
         "0",
         "0",
         "0",
         "0",
         "0",
         "0",
         "0",
         "0",
         "0",
         "0"
        ],
        [
         "9667",
         "2022-07-16",
         "2229",
         "0",
         "0",
         "6",
         "0",
         "0",
         "0",
         "0",
         "0",
         "0",
         "0",
         "0",
         "5",
         "0",
         "0",
         "0",
         "0",
         "0",
         "0",
         "0",
         "0",
         "0",
         "0",
         "0",
         "0",
         "0",
         "0",
         "0",
         "0",
         "0",
         "0",
         "0",
         "0",
         "0",
         "0"
        ],
        [
         "107231",
         "2024-02-05",
         "14475",
         "0",
         "3",
         "0",
         "0",
         "0",
         "0",
         "0",
         "0",
         "0",
         "0",
         "2",
         "0",
         "0",
         "0",
         "0",
         "0",
         "0",
         "0",
         "0",
         "0",
         "0",
         "0",
         "0",
         "0",
         "0",
         "0",
         "0",
         "0",
         "0",
         "0",
         "0",
         "0",
         "0",
         "0"
        ],
        [
         "122365",
         "2024-04-10",
         "14540",
         "0",
         "0",
         "11",
         "0",
         "0",
         "0",
         "0",
         "0",
         "1",
         "0",
         "0",
         "11",
         "0",
         "0",
         "0",
         "0",
         "0",
         "1",
         "0",
         "0",
         "0",
         "0",
         "0",
         "0",
         "0",
         "0",
         "0",
         "0",
         "0",
         "0",
         "0",
         "0",
         "0",
         "0"
        ]
       ],
       "shape": {
        "columns": 36,
        "rows": 5
       }
      },
      "text/html": [
       "<div>\n",
       "<style scoped>\n",
       "    .dataframe tbody tr th:only-of-type {\n",
       "        vertical-align: middle;\n",
       "    }\n",
       "\n",
       "    .dataframe tbody tr th {\n",
       "        vertical-align: top;\n",
       "    }\n",
       "\n",
       "    .dataframe thead th {\n",
       "        text-align: right;\n",
       "    }\n",
       "</style>\n",
       "<table border=\"1\" class=\"dataframe\">\n",
       "  <thead>\n",
       "    <tr style=\"text-align: right;\">\n",
       "      <th></th>\n",
       "      <th>date</th>\n",
       "      <th>bulk_campaign_id</th>\n",
       "      <th>count_click_email</th>\n",
       "      <th>count_click_mobile_push</th>\n",
       "      <th>count_open_email</th>\n",
       "      <th>count_open_mobile_push</th>\n",
       "      <th>count_purchase_email</th>\n",
       "      <th>count_purchase_mobile_push</th>\n",
       "      <th>count_soft_bounce_email</th>\n",
       "      <th>count_subscribe_email</th>\n",
       "      <th>...</th>\n",
       "      <th>count_send_email</th>\n",
       "      <th>nunique_hard_bounce_email</th>\n",
       "      <th>nunique_hbq_spam_email</th>\n",
       "      <th>nunique_send_email</th>\n",
       "      <th>count_soft_bounce_mobile_push</th>\n",
       "      <th>nunique_soft_bounce_mobile_push</th>\n",
       "      <th>count_complain_email</th>\n",
       "      <th>nunique_complain_email</th>\n",
       "      <th>count_close_mobile_push</th>\n",
       "      <th>nunique_close_mobile_push</th>\n",
       "    </tr>\n",
       "  </thead>\n",
       "  <tbody>\n",
       "    <tr>\n",
       "      <th>11070</th>\n",
       "      <td>2022-07-23</td>\n",
       "      <td>4895</td>\n",
       "      <td>0</td>\n",
       "      <td>0</td>\n",
       "      <td>4</td>\n",
       "      <td>0</td>\n",
       "      <td>0</td>\n",
       "      <td>0</td>\n",
       "      <td>0</td>\n",
       "      <td>0</td>\n",
       "      <td>...</td>\n",
       "      <td>0</td>\n",
       "      <td>0</td>\n",
       "      <td>0</td>\n",
       "      <td>0</td>\n",
       "      <td>0</td>\n",
       "      <td>0</td>\n",
       "      <td>0</td>\n",
       "      <td>0</td>\n",
       "      <td>0</td>\n",
       "      <td>0</td>\n",
       "    </tr>\n",
       "    <tr>\n",
       "      <th>33650</th>\n",
       "      <td>2022-11-09</td>\n",
       "      <td>7535</td>\n",
       "      <td>25</td>\n",
       "      <td>0</td>\n",
       "      <td>290</td>\n",
       "      <td>0</td>\n",
       "      <td>1</td>\n",
       "      <td>0</td>\n",
       "      <td>0</td>\n",
       "      <td>0</td>\n",
       "      <td>...</td>\n",
       "      <td>0</td>\n",
       "      <td>0</td>\n",
       "      <td>0</td>\n",
       "      <td>0</td>\n",
       "      <td>0</td>\n",
       "      <td>0</td>\n",
       "      <td>0</td>\n",
       "      <td>0</td>\n",
       "      <td>0</td>\n",
       "      <td>0</td>\n",
       "    </tr>\n",
       "    <tr>\n",
       "      <th>9667</th>\n",
       "      <td>2022-07-16</td>\n",
       "      <td>2229</td>\n",
       "      <td>0</td>\n",
       "      <td>0</td>\n",
       "      <td>6</td>\n",
       "      <td>0</td>\n",
       "      <td>0</td>\n",
       "      <td>0</td>\n",
       "      <td>0</td>\n",
       "      <td>0</td>\n",
       "      <td>...</td>\n",
       "      <td>0</td>\n",
       "      <td>0</td>\n",
       "      <td>0</td>\n",
       "      <td>0</td>\n",
       "      <td>0</td>\n",
       "      <td>0</td>\n",
       "      <td>0</td>\n",
       "      <td>0</td>\n",
       "      <td>0</td>\n",
       "      <td>0</td>\n",
       "    </tr>\n",
       "    <tr>\n",
       "      <th>107231</th>\n",
       "      <td>2024-02-05</td>\n",
       "      <td>14475</td>\n",
       "      <td>0</td>\n",
       "      <td>3</td>\n",
       "      <td>0</td>\n",
       "      <td>0</td>\n",
       "      <td>0</td>\n",
       "      <td>0</td>\n",
       "      <td>0</td>\n",
       "      <td>0</td>\n",
       "      <td>...</td>\n",
       "      <td>0</td>\n",
       "      <td>0</td>\n",
       "      <td>0</td>\n",
       "      <td>0</td>\n",
       "      <td>0</td>\n",
       "      <td>0</td>\n",
       "      <td>0</td>\n",
       "      <td>0</td>\n",
       "      <td>0</td>\n",
       "      <td>0</td>\n",
       "    </tr>\n",
       "    <tr>\n",
       "      <th>122365</th>\n",
       "      <td>2024-04-10</td>\n",
       "      <td>14540</td>\n",
       "      <td>0</td>\n",
       "      <td>0</td>\n",
       "      <td>11</td>\n",
       "      <td>0</td>\n",
       "      <td>0</td>\n",
       "      <td>0</td>\n",
       "      <td>0</td>\n",
       "      <td>0</td>\n",
       "      <td>...</td>\n",
       "      <td>0</td>\n",
       "      <td>0</td>\n",
       "      <td>0</td>\n",
       "      <td>0</td>\n",
       "      <td>0</td>\n",
       "      <td>0</td>\n",
       "      <td>0</td>\n",
       "      <td>0</td>\n",
       "      <td>0</td>\n",
       "      <td>0</td>\n",
       "    </tr>\n",
       "  </tbody>\n",
       "</table>\n",
       "<p>5 rows × 36 columns</p>\n",
       "</div>"
      ],
      "text/plain": [
       "              date  bulk_campaign_id  count_click_email  \\\n",
       "11070   2022-07-23              4895                  0   \n",
       "33650   2022-11-09              7535                 25   \n",
       "9667    2022-07-16              2229                  0   \n",
       "107231  2024-02-05             14475                  0   \n",
       "122365  2024-04-10             14540                  0   \n",
       "\n",
       "        count_click_mobile_push  count_open_email  count_open_mobile_push  \\\n",
       "11070                         0                 4                       0   \n",
       "33650                         0               290                       0   \n",
       "9667                          0                 6                       0   \n",
       "107231                        3                 0                       0   \n",
       "122365                        0                11                       0   \n",
       "\n",
       "        count_purchase_email  count_purchase_mobile_push  \\\n",
       "11070                      0                           0   \n",
       "33650                      1                           0   \n",
       "9667                       0                           0   \n",
       "107231                     0                           0   \n",
       "122365                     0                           0   \n",
       "\n",
       "        count_soft_bounce_email  count_subscribe_email  ...  count_send_email  \\\n",
       "11070                         0                      0  ...                 0   \n",
       "33650                         0                      0  ...                 0   \n",
       "9667                          0                      0  ...                 0   \n",
       "107231                        0                      0  ...                 0   \n",
       "122365                        0                      0  ...                 0   \n",
       "\n",
       "        nunique_hard_bounce_email  nunique_hbq_spam_email  nunique_send_email  \\\n",
       "11070                           0                       0                   0   \n",
       "33650                           0                       0                   0   \n",
       "9667                            0                       0                   0   \n",
       "107231                          0                       0                   0   \n",
       "122365                          0                       0                   0   \n",
       "\n",
       "        count_soft_bounce_mobile_push  nunique_soft_bounce_mobile_push  \\\n",
       "11070                               0                                0   \n",
       "33650                               0                                0   \n",
       "9667                                0                                0   \n",
       "107231                              0                                0   \n",
       "122365                              0                                0   \n",
       "\n",
       "        count_complain_email  nunique_complain_email  count_close_mobile_push  \\\n",
       "11070                      0                       0                        0   \n",
       "33650                      0                       0                        0   \n",
       "9667                       0                       0                        0   \n",
       "107231                     0                       0                        0   \n",
       "122365                     0                       0                        0   \n",
       "\n",
       "        nunique_close_mobile_push  \n",
       "11070                           0  \n",
       "33650                           0  \n",
       "9667                            0  \n",
       "107231                          0  \n",
       "122365                          0  \n",
       "\n",
       "[5 rows x 36 columns]"
      ]
     },
     "metadata": {},
     "output_type": "display_data"
    },
    {
     "data": {
      "text/html": [
       "<span style='font-size: 1.5em; font-weight: bold; font-style: italic;'>Число пропусков в базе данных</span>"
      ],
      "text/plain": [
       "<IPython.core.display.HTML object>"
      ]
     },
     "metadata": {},
     "output_type": "display_data"
    },
    {
     "data": {
      "application/vnd.microsoft.datawrangler.viewer.v0+json": {
       "columns": [
        {
         "name": "index",
         "rawType": "object",
         "type": "string"
        },
        {
         "name": "0",
         "rawType": "int64",
         "type": "integer"
        }
       ],
       "ref": "75f98bfb-9b5a-42e9-8476-74a0ff002966",
       "rows": [],
       "shape": {
        "columns": 1,
        "rows": 0
       }
      },
      "text/plain": [
       "Series([], dtype: int64)"
      ]
     },
     "metadata": {},
     "output_type": "display_data"
    },
    {
     "data": {
      "text/plain": [
       "None"
      ]
     },
     "metadata": {},
     "output_type": "display_data"
    },
    {
     "data": {
      "text/html": [
       "<span style='font-size: 1.5em; font-weight: bold; font-style: italic;'>Характеристики базы данных</span>"
      ],
      "text/plain": [
       "<IPython.core.display.HTML object>"
      ]
     },
     "metadata": {},
     "output_type": "display_data"
    },
    {
     "data": {
      "application/vnd.microsoft.datawrangler.viewer.v0+json": {
       "columns": [
        {
         "name": "index",
         "rawType": "object",
         "type": "string"
        },
        {
         "name": "count",
         "rawType": "float64",
         "type": "float"
        },
        {
         "name": "mean",
         "rawType": "float64",
         "type": "float"
        },
        {
         "name": "std",
         "rawType": "float64",
         "type": "float"
        },
        {
         "name": "min",
         "rawType": "float64",
         "type": "float"
        },
        {
         "name": "25%",
         "rawType": "float64",
         "type": "float"
        },
        {
         "name": "50%",
         "rawType": "float64",
         "type": "float"
        },
        {
         "name": "75%",
         "rawType": "float64",
         "type": "float"
        },
        {
         "name": "max",
         "rawType": "float64",
         "type": "float"
        }
       ],
       "ref": "ab835535-9b2a-4f80-bb33-7a45b803875a",
       "rows": [
        [
         "bulk_campaign_id",
         "131072.0",
         "8416.743377685547",
         "4877.3693057224045",
         "548.0",
         "4116.0",
         "7477.0",
         "13732.0",
         "15150.0"
        ],
        [
         "count_click_email",
         "131072.0",
         "41.58216857910156",
         "745.484035080455",
         "0.0",
         "0.0",
         "0.0",
         "1.0",
         "59365.0"
        ],
        [
         "count_click_mobile_push",
         "131072.0",
         "49.40080261230469",
         "1036.9528977542113",
         "0.0",
         "0.0",
         "0.0",
         "0.0",
         "128453.0"
        ],
        [
         "count_open_email",
         "131072.0",
         "423.7060317993164",
         "9753.383722386743",
         "0.0",
         "1.0",
         "5.0",
         "23.0",
         "2597015.0"
        ],
        [
         "count_open_mobile_push",
         "131072.0",
         "3347.3846588134766",
         "64448.59078250343",
         "0.0",
         "0.0",
         "0.0",
         "0.0",
         "5076151.0"
        ],
        [
         "count_purchase_email",
         "131072.0",
         "0.35748291015625",
         "8.287483127001817",
         "0.0",
         "0.0",
         "0.0",
         "0.0",
         "1077.0"
        ],
        [
         "count_purchase_mobile_push",
         "131072.0",
         "0.2204437255859375",
         "3.796500142654757",
         "0.0",
         "0.0",
         "0.0",
         "0.0",
         "431.0"
        ],
        [
         "count_soft_bounce_email",
         "131072.0",
         "24.474822998046875",
         "727.0693870332206",
         "0.0",
         "0.0",
         "0.0",
         "0.0",
         "76284.0"
        ],
        [
         "count_subscribe_email",
         "131072.0",
         "0.1405181884765625",
         "2.0727768212410997",
         "0.0",
         "0.0",
         "0.0",
         "0.0",
         "189.0"
        ],
        [
         "count_unsubscribe_email",
         "131072.0",
         "6.362678527832031",
         "79.17206939522323",
         "0.0",
         "0.0",
         "0.0",
         "1.0",
         "9089.0"
        ],
        [
         "nunique_click_email",
         "131072.0",
         "31.396263122558594",
         "562.8833087380519",
         "0.0",
         "0.0",
         "0.0",
         "1.0",
         "45718.0"
        ],
        [
         "nunique_click_mobile_push",
         "131072.0",
         "42.87975311279297",
         "833.3162568684708",
         "0.0",
         "0.0",
         "0.0",
         "0.0",
         "75899.0"
        ],
        [
         "nunique_open_email",
         "131072.0",
         "411.66148376464844",
         "9519.712508743762",
         "0.0",
         "1.0",
         "5.0",
         "23.0",
         "2548617.0"
        ],
        [
         "nunique_open_mobile_push",
         "131072.0",
         "3271.338539123535",
         "61880.00528886076",
         "0.0",
         "0.0",
         "0.0",
         "0.0",
         "2922440.0"
        ],
        [
         "nunique_purchase_email",
         "131072.0",
         "0.28771209716796875",
         "6.484979231107378",
         "0.0",
         "0.0",
         "0.0",
         "0.0",
         "779.0"
        ],
        [
         "nunique_purchase_mobile_push",
         "131072.0",
         "0.17739105224609375",
         "2.9719084156088544",
         "0.0",
         "0.0",
         "0.0",
         "0.0",
         "359.0"
        ],
        [
         "nunique_soft_bounce_email",
         "131072.0",
         "24.26214599609375",
         "724.2709103964756",
         "0.0",
         "0.0",
         "0.0",
         "0.0",
         "76281.0"
        ],
        [
         "nunique_subscribe_email",
         "131072.0",
         "0.134124755859375",
         "1.9764389650419572",
         "0.0",
         "0.0",
         "0.0",
         "0.0",
         "177.0"
        ],
        [
         "nunique_unsubscribe_email",
         "131072.0",
         "5.960601806640625",
         "73.28414772607994",
         "0.0",
         "0.0",
         "0.0",
         "1.0",
         "8299.0"
        ],
        [
         "count_hard_bounce_mobile_push",
         "131072.0",
         "59.48344421386719",
         "1371.955350014624",
         "0.0",
         "0.0",
         "0.0",
         "0.0",
         "165526.0"
        ],
        [
         "count_send_mobile_push",
         "131072.0",
         "7444.561637878418",
         "139350.92093317286",
         "0.0",
         "0.0",
         "0.0",
         "0.0",
         "11543513.0"
        ],
        [
         "nunique_hard_bounce_mobile_push",
         "131072.0",
         "58.863006591796875",
         "1357.2712605162126",
         "0.0",
         "0.0",
         "0.0",
         "0.0",
         "165526.0"
        ],
        [
         "nunique_send_mobile_push",
         "131072.0",
         "7350.266906738281",
         "135579.92207175054",
         "0.0",
         "0.0",
         "0.0",
         "0.0",
         "6636578.0"
        ],
        [
         "count_hard_bounce_email",
         "131072.0",
         "18.989990234375",
         "1402.4141073222308",
         "0.0",
         "0.0",
         "0.0",
         "0.0",
         "287404.0"
        ],
        [
         "count_hbq_spam_email",
         "131072.0",
         "0.81036376953125",
         "183.2985793098929",
         "0.0",
         "0.0",
         "0.0",
         "0.0",
         "63920.0"
        ],
        [
         "count_send_email",
         "131072.0",
         "4189.580680847168",
         "107319.7642451543",
         "0.0",
         "0.0",
         "0.0",
         "0.0",
         "7094600.0"
        ],
        [
         "nunique_hard_bounce_email",
         "131072.0",
         "18.535682678222656",
         "1349.4736951300706",
         "0.0",
         "0.0",
         "0.0",
         "0.0",
         "287341.0"
        ],
        [
         "nunique_hbq_spam_email",
         "131072.0",
         "0.8097991943359375",
         "183.2982446993435",
         "0.0",
         "0.0",
         "0.0",
         "0.0",
         "63920.0"
        ],
        [
         "nunique_send_email",
         "131072.0",
         "4186.897933959961",
         "107261.80007431388",
         "0.0",
         "0.0",
         "0.0",
         "0.0",
         "7094600.0"
        ],
        [
         "count_soft_bounce_mobile_push",
         "131072.0",
         "3.332489013671875",
         "120.91626852783658",
         "0.0",
         "0.0",
         "0.0",
         "0.0",
         "21831.0"
        ],
        [
         "nunique_soft_bounce_mobile_push",
         "131072.0",
         "3.3116531372070312",
         "120.09485777760419",
         "0.0",
         "0.0",
         "0.0",
         "0.0",
         "21389.0"
        ],
        [
         "count_complain_email",
         "131072.0",
         "0.9326553344726562",
         "30.198326489843303",
         "0.0",
         "0.0",
         "0.0",
         "0.0",
         "5160.0"
        ],
        [
         "nunique_complain_email",
         "131072.0",
         "0.92132568359375",
         "29.715170300563305",
         "0.0",
         "0.0",
         "0.0",
         "0.0",
         "5043.0"
        ],
        [
         "count_close_mobile_push",
         "131072.0",
         "7.62939453125e-06",
         "0.0027621358640099515",
         "0.0",
         "0.0",
         "0.0",
         "0.0",
         "1.0"
        ],
        [
         "nunique_close_mobile_push",
         "131072.0",
         "7.62939453125e-06",
         "0.0027621358640099515",
         "0.0",
         "0.0",
         "0.0",
         "0.0",
         "1.0"
        ]
       ],
       "shape": {
        "columns": 8,
        "rows": 35
       }
      },
      "text/html": [
       "<div>\n",
       "<style scoped>\n",
       "    .dataframe tbody tr th:only-of-type {\n",
       "        vertical-align: middle;\n",
       "    }\n",
       "\n",
       "    .dataframe tbody tr th {\n",
       "        vertical-align: top;\n",
       "    }\n",
       "\n",
       "    .dataframe thead th {\n",
       "        text-align: right;\n",
       "    }\n",
       "</style>\n",
       "<table border=\"1\" class=\"dataframe\">\n",
       "  <thead>\n",
       "    <tr style=\"text-align: right;\">\n",
       "      <th></th>\n",
       "      <th>count</th>\n",
       "      <th>mean</th>\n",
       "      <th>std</th>\n",
       "      <th>min</th>\n",
       "      <th>25%</th>\n",
       "      <th>50%</th>\n",
       "      <th>75%</th>\n",
       "      <th>max</th>\n",
       "    </tr>\n",
       "  </thead>\n",
       "  <tbody>\n",
       "    <tr>\n",
       "      <th>bulk_campaign_id</th>\n",
       "      <td>131072.0</td>\n",
       "      <td>8416.743378</td>\n",
       "      <td>4877.369306</td>\n",
       "      <td>548.0</td>\n",
       "      <td>4116.0</td>\n",
       "      <td>7477.0</td>\n",
       "      <td>13732.0</td>\n",
       "      <td>15150.0</td>\n",
       "    </tr>\n",
       "    <tr>\n",
       "      <th>count_click_email</th>\n",
       "      <td>131072.0</td>\n",
       "      <td>41.582169</td>\n",
       "      <td>745.484035</td>\n",
       "      <td>0.0</td>\n",
       "      <td>0.0</td>\n",
       "      <td>0.0</td>\n",
       "      <td>1.0</td>\n",
       "      <td>59365.0</td>\n",
       "    </tr>\n",
       "    <tr>\n",
       "      <th>count_click_mobile_push</th>\n",
       "      <td>131072.0</td>\n",
       "      <td>49.400803</td>\n",
       "      <td>1036.952898</td>\n",
       "      <td>0.0</td>\n",
       "      <td>0.0</td>\n",
       "      <td>0.0</td>\n",
       "      <td>0.0</td>\n",
       "      <td>128453.0</td>\n",
       "    </tr>\n",
       "    <tr>\n",
       "      <th>count_open_email</th>\n",
       "      <td>131072.0</td>\n",
       "      <td>423.706032</td>\n",
       "      <td>9753.383722</td>\n",
       "      <td>0.0</td>\n",
       "      <td>1.0</td>\n",
       "      <td>5.0</td>\n",
       "      <td>23.0</td>\n",
       "      <td>2597015.0</td>\n",
       "    </tr>\n",
       "    <tr>\n",
       "      <th>count_open_mobile_push</th>\n",
       "      <td>131072.0</td>\n",
       "      <td>3347.384659</td>\n",
       "      <td>64448.590783</td>\n",
       "      <td>0.0</td>\n",
       "      <td>0.0</td>\n",
       "      <td>0.0</td>\n",
       "      <td>0.0</td>\n",
       "      <td>5076151.0</td>\n",
       "    </tr>\n",
       "    <tr>\n",
       "      <th>count_purchase_email</th>\n",
       "      <td>131072.0</td>\n",
       "      <td>0.357483</td>\n",
       "      <td>8.287483</td>\n",
       "      <td>0.0</td>\n",
       "      <td>0.0</td>\n",
       "      <td>0.0</td>\n",
       "      <td>0.0</td>\n",
       "      <td>1077.0</td>\n",
       "    </tr>\n",
       "    <tr>\n",
       "      <th>count_purchase_mobile_push</th>\n",
       "      <td>131072.0</td>\n",
       "      <td>0.220444</td>\n",
       "      <td>3.796500</td>\n",
       "      <td>0.0</td>\n",
       "      <td>0.0</td>\n",
       "      <td>0.0</td>\n",
       "      <td>0.0</td>\n",
       "      <td>431.0</td>\n",
       "    </tr>\n",
       "    <tr>\n",
       "      <th>count_soft_bounce_email</th>\n",
       "      <td>131072.0</td>\n",
       "      <td>24.474823</td>\n",
       "      <td>727.069387</td>\n",
       "      <td>0.0</td>\n",
       "      <td>0.0</td>\n",
       "      <td>0.0</td>\n",
       "      <td>0.0</td>\n",
       "      <td>76284.0</td>\n",
       "    </tr>\n",
       "    <tr>\n",
       "      <th>count_subscribe_email</th>\n",
       "      <td>131072.0</td>\n",
       "      <td>0.140518</td>\n",
       "      <td>2.072777</td>\n",
       "      <td>0.0</td>\n",
       "      <td>0.0</td>\n",
       "      <td>0.0</td>\n",
       "      <td>0.0</td>\n",
       "      <td>189.0</td>\n",
       "    </tr>\n",
       "    <tr>\n",
       "      <th>count_unsubscribe_email</th>\n",
       "      <td>131072.0</td>\n",
       "      <td>6.362679</td>\n",
       "      <td>79.172069</td>\n",
       "      <td>0.0</td>\n",
       "      <td>0.0</td>\n",
       "      <td>0.0</td>\n",
       "      <td>1.0</td>\n",
       "      <td>9089.0</td>\n",
       "    </tr>\n",
       "    <tr>\n",
       "      <th>nunique_click_email</th>\n",
       "      <td>131072.0</td>\n",
       "      <td>31.396263</td>\n",
       "      <td>562.883309</td>\n",
       "      <td>0.0</td>\n",
       "      <td>0.0</td>\n",
       "      <td>0.0</td>\n",
       "      <td>1.0</td>\n",
       "      <td>45718.0</td>\n",
       "    </tr>\n",
       "    <tr>\n",
       "      <th>nunique_click_mobile_push</th>\n",
       "      <td>131072.0</td>\n",
       "      <td>42.879753</td>\n",
       "      <td>833.316257</td>\n",
       "      <td>0.0</td>\n",
       "      <td>0.0</td>\n",
       "      <td>0.0</td>\n",
       "      <td>0.0</td>\n",
       "      <td>75899.0</td>\n",
       "    </tr>\n",
       "    <tr>\n",
       "      <th>nunique_open_email</th>\n",
       "      <td>131072.0</td>\n",
       "      <td>411.661484</td>\n",
       "      <td>9519.712509</td>\n",
       "      <td>0.0</td>\n",
       "      <td>1.0</td>\n",
       "      <td>5.0</td>\n",
       "      <td>23.0</td>\n",
       "      <td>2548617.0</td>\n",
       "    </tr>\n",
       "    <tr>\n",
       "      <th>nunique_open_mobile_push</th>\n",
       "      <td>131072.0</td>\n",
       "      <td>3271.338539</td>\n",
       "      <td>61880.005289</td>\n",
       "      <td>0.0</td>\n",
       "      <td>0.0</td>\n",
       "      <td>0.0</td>\n",
       "      <td>0.0</td>\n",
       "      <td>2922440.0</td>\n",
       "    </tr>\n",
       "    <tr>\n",
       "      <th>nunique_purchase_email</th>\n",
       "      <td>131072.0</td>\n",
       "      <td>0.287712</td>\n",
       "      <td>6.484979</td>\n",
       "      <td>0.0</td>\n",
       "      <td>0.0</td>\n",
       "      <td>0.0</td>\n",
       "      <td>0.0</td>\n",
       "      <td>779.0</td>\n",
       "    </tr>\n",
       "    <tr>\n",
       "      <th>nunique_purchase_mobile_push</th>\n",
       "      <td>131072.0</td>\n",
       "      <td>0.177391</td>\n",
       "      <td>2.971908</td>\n",
       "      <td>0.0</td>\n",
       "      <td>0.0</td>\n",
       "      <td>0.0</td>\n",
       "      <td>0.0</td>\n",
       "      <td>359.0</td>\n",
       "    </tr>\n",
       "    <tr>\n",
       "      <th>nunique_soft_bounce_email</th>\n",
       "      <td>131072.0</td>\n",
       "      <td>24.262146</td>\n",
       "      <td>724.270910</td>\n",
       "      <td>0.0</td>\n",
       "      <td>0.0</td>\n",
       "      <td>0.0</td>\n",
       "      <td>0.0</td>\n",
       "      <td>76281.0</td>\n",
       "    </tr>\n",
       "    <tr>\n",
       "      <th>nunique_subscribe_email</th>\n",
       "      <td>131072.0</td>\n",
       "      <td>0.134125</td>\n",
       "      <td>1.976439</td>\n",
       "      <td>0.0</td>\n",
       "      <td>0.0</td>\n",
       "      <td>0.0</td>\n",
       "      <td>0.0</td>\n",
       "      <td>177.0</td>\n",
       "    </tr>\n",
       "    <tr>\n",
       "      <th>nunique_unsubscribe_email</th>\n",
       "      <td>131072.0</td>\n",
       "      <td>5.960602</td>\n",
       "      <td>73.284148</td>\n",
       "      <td>0.0</td>\n",
       "      <td>0.0</td>\n",
       "      <td>0.0</td>\n",
       "      <td>1.0</td>\n",
       "      <td>8299.0</td>\n",
       "    </tr>\n",
       "    <tr>\n",
       "      <th>count_hard_bounce_mobile_push</th>\n",
       "      <td>131072.0</td>\n",
       "      <td>59.483444</td>\n",
       "      <td>1371.955350</td>\n",
       "      <td>0.0</td>\n",
       "      <td>0.0</td>\n",
       "      <td>0.0</td>\n",
       "      <td>0.0</td>\n",
       "      <td>165526.0</td>\n",
       "    </tr>\n",
       "    <tr>\n",
       "      <th>count_send_mobile_push</th>\n",
       "      <td>131072.0</td>\n",
       "      <td>7444.561638</td>\n",
       "      <td>139350.920933</td>\n",
       "      <td>0.0</td>\n",
       "      <td>0.0</td>\n",
       "      <td>0.0</td>\n",
       "      <td>0.0</td>\n",
       "      <td>11543513.0</td>\n",
       "    </tr>\n",
       "    <tr>\n",
       "      <th>nunique_hard_bounce_mobile_push</th>\n",
       "      <td>131072.0</td>\n",
       "      <td>58.863007</td>\n",
       "      <td>1357.271261</td>\n",
       "      <td>0.0</td>\n",
       "      <td>0.0</td>\n",
       "      <td>0.0</td>\n",
       "      <td>0.0</td>\n",
       "      <td>165526.0</td>\n",
       "    </tr>\n",
       "    <tr>\n",
       "      <th>nunique_send_mobile_push</th>\n",
       "      <td>131072.0</td>\n",
       "      <td>7350.266907</td>\n",
       "      <td>135579.922072</td>\n",
       "      <td>0.0</td>\n",
       "      <td>0.0</td>\n",
       "      <td>0.0</td>\n",
       "      <td>0.0</td>\n",
       "      <td>6636578.0</td>\n",
       "    </tr>\n",
       "    <tr>\n",
       "      <th>count_hard_bounce_email</th>\n",
       "      <td>131072.0</td>\n",
       "      <td>18.989990</td>\n",
       "      <td>1402.414107</td>\n",
       "      <td>0.0</td>\n",
       "      <td>0.0</td>\n",
       "      <td>0.0</td>\n",
       "      <td>0.0</td>\n",
       "      <td>287404.0</td>\n",
       "    </tr>\n",
       "    <tr>\n",
       "      <th>count_hbq_spam_email</th>\n",
       "      <td>131072.0</td>\n",
       "      <td>0.810364</td>\n",
       "      <td>183.298579</td>\n",
       "      <td>0.0</td>\n",
       "      <td>0.0</td>\n",
       "      <td>0.0</td>\n",
       "      <td>0.0</td>\n",
       "      <td>63920.0</td>\n",
       "    </tr>\n",
       "    <tr>\n",
       "      <th>count_send_email</th>\n",
       "      <td>131072.0</td>\n",
       "      <td>4189.580681</td>\n",
       "      <td>107319.764245</td>\n",
       "      <td>0.0</td>\n",
       "      <td>0.0</td>\n",
       "      <td>0.0</td>\n",
       "      <td>0.0</td>\n",
       "      <td>7094600.0</td>\n",
       "    </tr>\n",
       "    <tr>\n",
       "      <th>nunique_hard_bounce_email</th>\n",
       "      <td>131072.0</td>\n",
       "      <td>18.535683</td>\n",
       "      <td>1349.473695</td>\n",
       "      <td>0.0</td>\n",
       "      <td>0.0</td>\n",
       "      <td>0.0</td>\n",
       "      <td>0.0</td>\n",
       "      <td>287341.0</td>\n",
       "    </tr>\n",
       "    <tr>\n",
       "      <th>nunique_hbq_spam_email</th>\n",
       "      <td>131072.0</td>\n",
       "      <td>0.809799</td>\n",
       "      <td>183.298245</td>\n",
       "      <td>0.0</td>\n",
       "      <td>0.0</td>\n",
       "      <td>0.0</td>\n",
       "      <td>0.0</td>\n",
       "      <td>63920.0</td>\n",
       "    </tr>\n",
       "    <tr>\n",
       "      <th>nunique_send_email</th>\n",
       "      <td>131072.0</td>\n",
       "      <td>4186.897934</td>\n",
       "      <td>107261.800074</td>\n",
       "      <td>0.0</td>\n",
       "      <td>0.0</td>\n",
       "      <td>0.0</td>\n",
       "      <td>0.0</td>\n",
       "      <td>7094600.0</td>\n",
       "    </tr>\n",
       "    <tr>\n",
       "      <th>count_soft_bounce_mobile_push</th>\n",
       "      <td>131072.0</td>\n",
       "      <td>3.332489</td>\n",
       "      <td>120.916269</td>\n",
       "      <td>0.0</td>\n",
       "      <td>0.0</td>\n",
       "      <td>0.0</td>\n",
       "      <td>0.0</td>\n",
       "      <td>21831.0</td>\n",
       "    </tr>\n",
       "    <tr>\n",
       "      <th>nunique_soft_bounce_mobile_push</th>\n",
       "      <td>131072.0</td>\n",
       "      <td>3.311653</td>\n",
       "      <td>120.094858</td>\n",
       "      <td>0.0</td>\n",
       "      <td>0.0</td>\n",
       "      <td>0.0</td>\n",
       "      <td>0.0</td>\n",
       "      <td>21389.0</td>\n",
       "    </tr>\n",
       "    <tr>\n",
       "      <th>count_complain_email</th>\n",
       "      <td>131072.0</td>\n",
       "      <td>0.932655</td>\n",
       "      <td>30.198326</td>\n",
       "      <td>0.0</td>\n",
       "      <td>0.0</td>\n",
       "      <td>0.0</td>\n",
       "      <td>0.0</td>\n",
       "      <td>5160.0</td>\n",
       "    </tr>\n",
       "    <tr>\n",
       "      <th>nunique_complain_email</th>\n",
       "      <td>131072.0</td>\n",
       "      <td>0.921326</td>\n",
       "      <td>29.715170</td>\n",
       "      <td>0.0</td>\n",
       "      <td>0.0</td>\n",
       "      <td>0.0</td>\n",
       "      <td>0.0</td>\n",
       "      <td>5043.0</td>\n",
       "    </tr>\n",
       "    <tr>\n",
       "      <th>count_close_mobile_push</th>\n",
       "      <td>131072.0</td>\n",
       "      <td>0.000008</td>\n",
       "      <td>0.002762</td>\n",
       "      <td>0.0</td>\n",
       "      <td>0.0</td>\n",
       "      <td>0.0</td>\n",
       "      <td>0.0</td>\n",
       "      <td>1.0</td>\n",
       "    </tr>\n",
       "    <tr>\n",
       "      <th>nunique_close_mobile_push</th>\n",
       "      <td>131072.0</td>\n",
       "      <td>0.000008</td>\n",
       "      <td>0.002762</td>\n",
       "      <td>0.0</td>\n",
       "      <td>0.0</td>\n",
       "      <td>0.0</td>\n",
       "      <td>0.0</td>\n",
       "      <td>1.0</td>\n",
       "    </tr>\n",
       "  </tbody>\n",
       "</table>\n",
       "</div>"
      ],
      "text/plain": [
       "                                    count         mean            std    min  \\\n",
       "bulk_campaign_id                 131072.0  8416.743378    4877.369306  548.0   \n",
       "count_click_email                131072.0    41.582169     745.484035    0.0   \n",
       "count_click_mobile_push          131072.0    49.400803    1036.952898    0.0   \n",
       "count_open_email                 131072.0   423.706032    9753.383722    0.0   \n",
       "count_open_mobile_push           131072.0  3347.384659   64448.590783    0.0   \n",
       "count_purchase_email             131072.0     0.357483       8.287483    0.0   \n",
       "count_purchase_mobile_push       131072.0     0.220444       3.796500    0.0   \n",
       "count_soft_bounce_email          131072.0    24.474823     727.069387    0.0   \n",
       "count_subscribe_email            131072.0     0.140518       2.072777    0.0   \n",
       "count_unsubscribe_email          131072.0     6.362679      79.172069    0.0   \n",
       "nunique_click_email              131072.0    31.396263     562.883309    0.0   \n",
       "nunique_click_mobile_push        131072.0    42.879753     833.316257    0.0   \n",
       "nunique_open_email               131072.0   411.661484    9519.712509    0.0   \n",
       "nunique_open_mobile_push         131072.0  3271.338539   61880.005289    0.0   \n",
       "nunique_purchase_email           131072.0     0.287712       6.484979    0.0   \n",
       "nunique_purchase_mobile_push     131072.0     0.177391       2.971908    0.0   \n",
       "nunique_soft_bounce_email        131072.0    24.262146     724.270910    0.0   \n",
       "nunique_subscribe_email          131072.0     0.134125       1.976439    0.0   \n",
       "nunique_unsubscribe_email        131072.0     5.960602      73.284148    0.0   \n",
       "count_hard_bounce_mobile_push    131072.0    59.483444    1371.955350    0.0   \n",
       "count_send_mobile_push           131072.0  7444.561638  139350.920933    0.0   \n",
       "nunique_hard_bounce_mobile_push  131072.0    58.863007    1357.271261    0.0   \n",
       "nunique_send_mobile_push         131072.0  7350.266907  135579.922072    0.0   \n",
       "count_hard_bounce_email          131072.0    18.989990    1402.414107    0.0   \n",
       "count_hbq_spam_email             131072.0     0.810364     183.298579    0.0   \n",
       "count_send_email                 131072.0  4189.580681  107319.764245    0.0   \n",
       "nunique_hard_bounce_email        131072.0    18.535683    1349.473695    0.0   \n",
       "nunique_hbq_spam_email           131072.0     0.809799     183.298245    0.0   \n",
       "nunique_send_email               131072.0  4186.897934  107261.800074    0.0   \n",
       "count_soft_bounce_mobile_push    131072.0     3.332489     120.916269    0.0   \n",
       "nunique_soft_bounce_mobile_push  131072.0     3.311653     120.094858    0.0   \n",
       "count_complain_email             131072.0     0.932655      30.198326    0.0   \n",
       "nunique_complain_email           131072.0     0.921326      29.715170    0.0   \n",
       "count_close_mobile_push          131072.0     0.000008       0.002762    0.0   \n",
       "nunique_close_mobile_push        131072.0     0.000008       0.002762    0.0   \n",
       "\n",
       "                                    25%     50%      75%         max  \n",
       "bulk_campaign_id                 4116.0  7477.0  13732.0     15150.0  \n",
       "count_click_email                   0.0     0.0      1.0     59365.0  \n",
       "count_click_mobile_push             0.0     0.0      0.0    128453.0  \n",
       "count_open_email                    1.0     5.0     23.0   2597015.0  \n",
       "count_open_mobile_push              0.0     0.0      0.0   5076151.0  \n",
       "count_purchase_email                0.0     0.0      0.0      1077.0  \n",
       "count_purchase_mobile_push          0.0     0.0      0.0       431.0  \n",
       "count_soft_bounce_email             0.0     0.0      0.0     76284.0  \n",
       "count_subscribe_email               0.0     0.0      0.0       189.0  \n",
       "count_unsubscribe_email             0.0     0.0      1.0      9089.0  \n",
       "nunique_click_email                 0.0     0.0      1.0     45718.0  \n",
       "nunique_click_mobile_push           0.0     0.0      0.0     75899.0  \n",
       "nunique_open_email                  1.0     5.0     23.0   2548617.0  \n",
       "nunique_open_mobile_push            0.0     0.0      0.0   2922440.0  \n",
       "nunique_purchase_email              0.0     0.0      0.0       779.0  \n",
       "nunique_purchase_mobile_push        0.0     0.0      0.0       359.0  \n",
       "nunique_soft_bounce_email           0.0     0.0      0.0     76281.0  \n",
       "nunique_subscribe_email             0.0     0.0      0.0       177.0  \n",
       "nunique_unsubscribe_email           0.0     0.0      1.0      8299.0  \n",
       "count_hard_bounce_mobile_push       0.0     0.0      0.0    165526.0  \n",
       "count_send_mobile_push              0.0     0.0      0.0  11543513.0  \n",
       "nunique_hard_bounce_mobile_push     0.0     0.0      0.0    165526.0  \n",
       "nunique_send_mobile_push            0.0     0.0      0.0   6636578.0  \n",
       "count_hard_bounce_email             0.0     0.0      0.0    287404.0  \n",
       "count_hbq_spam_email                0.0     0.0      0.0     63920.0  \n",
       "count_send_email                    0.0     0.0      0.0   7094600.0  \n",
       "nunique_hard_bounce_email           0.0     0.0      0.0    287341.0  \n",
       "nunique_hbq_spam_email              0.0     0.0      0.0     63920.0  \n",
       "nunique_send_email                  0.0     0.0      0.0   7094600.0  \n",
       "count_soft_bounce_mobile_push       0.0     0.0      0.0     21831.0  \n",
       "nunique_soft_bounce_mobile_push     0.0     0.0      0.0     21389.0  \n",
       "count_complain_email                0.0     0.0      0.0      5160.0  \n",
       "nunique_complain_email              0.0     0.0      0.0      5043.0  \n",
       "count_close_mobile_push             0.0     0.0      0.0         1.0  \n",
       "nunique_close_mobile_push           0.0     0.0      0.0         1.0  "
      ]
     },
     "metadata": {},
     "output_type": "display_data"
    }
   ],
   "source": [
    "event_chanel = check_data(event_chanel)"
   ]
  },
  {
   "cell_type": "markdown",
   "id": "c43826db",
   "metadata": {},
   "source": [
    "Вывод:  \n",
    "По сути своей, тоже самое, что и прошлая таблица - статистика по событиям.  \n",
    "Возможно и есть смысл где-то использовать, но пока непонятно где и как"
   ]
  },
  {
   "cell_type": "markdown",
   "id": "1d4fab21",
   "metadata": {},
   "source": [
    "#### Выводы"
   ]
  },
  {
   "cell_type": "markdown",
   "id": "c3f0c3b0",
   "metadata": {},
   "source": [
    "Были подгружены и изучены предоставленные данные.  \n",
    "Глобально, для реализации задачи нам понадобится только 3 таблицы - apparel-messages, apparel-purchases и apparel-target_binary, т.к. эти таблицы несут основную смысловую нагрузку.  \n",
    "Две оставшиеся таблицы - статистика по ивентам и активности пользователей без привязки к этим самым пользователям и ничего нам не дадут.  \n",
    "\n"
   ]
  },
  {
   "cell_type": "markdown",
   "id": "d720b136",
   "metadata": {},
   "source": [
    "## Предобработка данных"
   ]
  },
  {
   "cell_type": "markdown",
   "id": "40ff9664",
   "metadata": {},
   "source": [
    "### Обработка имеющихся данных"
   ]
  },
  {
   "cell_type": "code",
   "execution_count": 150,
   "id": "24053df4",
   "metadata": {},
   "outputs": [],
   "source": [
    "# преобразуем даты\n",
    "app_msg[\"date\"] = pd.to_datetime(app_msg[\"date\"], errors=\"coerce\")\n",
    "app_msg[\"created_at\"] = pd.to_datetime(app_msg[\"created_at\"], errors=\"coerce\")\n",
    "\n",
    "app_prch[\"date\"] = pd.to_datetime(app_prch[\"date\"], errors=\"coerce\")"
   ]
  },
  {
   "cell_type": "markdown",
   "id": "be2d30de",
   "metadata": {},
   "source": [
    "### feature engineering"
   ]
  },
  {
   "cell_type": "markdown",
   "id": "0cea7a0e",
   "metadata": {},
   "source": [
    "Для начала поработаем с каждой таблицей по отдельности и сделаем, что-то новое.  \n",
    "\n",
    "app_msg\n",
    "Что мы можем сделать:  \n",
    "1) У нас есть дата реакции на ивент и дата создания ивента - скорость реакции на ивент, потом усредняем;  \n",
    "2) Есть канал и действие - соберем суммарное число действий по каждому каналу.  \n",
    "\n",
    "app_prch  \n",
    "Что мы можем сделать:  \n",
    "1) Время с момента последней покупки, сделаем в днях;  \n",
    "2) Среднее число товаров в заказе;  \n",
    "3) Средний чек заказа;  \n",
    "4) В какой категории больше всего покупок (предварительно разобьем category_ids на top и last id - глобальную категорию и конкретный товар);  \n",
    "5) Любимый товар;  \n",
    "6) Средний интервал между покупками, в днях;  \n",
    "7) Дней с последнего взаимодействия с рассылкой;  \n",
    "8) Сделаем группировку по 30/60/90/180/360 дней, а там агрегируем по числу покупок, числу итемов, сумме затрат от последней имеющейся у нас отчетной даты;  "
   ]
  },
  {
   "cell_type": "code",
   "execution_count": null,
   "id": "35ead0db",
   "metadata": {},
   "outputs": [],
   "source": [
    "app_msg.head()"
   ]
  },
  {
   "cell_type": "code",
   "execution_count": null,
   "id": "f7990552",
   "metadata": {},
   "outputs": [],
   "source": [
    "# в текущем виде данные не подходят для обучения, нужно агрегировать\n",
    "app_msg_agg = (\n",
    "    app_msg.groupby(\"client_id\")\n",
    "    .agg(\n",
    "        bulk_campaigns=(\"bulk_campaign_id\", \"nunique\"),             # сколько кампаний видел\n",
    "        messages=(\"message_id\", \"nunique\"),                         # сколько сообщений получил\n",
    "        events=(\"event\", \"nunique\"),                                # сколько уникальных событий\n",
    "        channels=(\"channel\", \"nunique\"),                            # через сколько каналов общались\n",
    "        first_date=(\"date\", \"min\"),                                 # первая дата активности\n",
    "        last_date=(\"date\", \"max\"),                                  # последняя дата активности\n",
    "        pop_event=(\"event\", lambda x: x.value_counts().idxmax())    # и самая популярная активность у бзера\n",
    "    )\n",
    "    .reset_index()\n",
    ")"
   ]
  },
  {
   "cell_type": "code",
   "execution_count": null,
   "id": "2c210a1d",
   "metadata": {},
   "outputs": [],
   "source": [
    "display(app_msg_agg.head())"
   ]
  },
  {
   "cell_type": "code",
   "execution_count": null,
   "id": "e5725b1b",
   "metadata": {},
   "outputs": [],
   "source": [
    "# разберем category_ids\n",
    "# превращаем в списки category_ids\n",
    "app_prch[\"category_ids\"] = app_prch[\"category_ids\"].apply(parse_category_ids)\n",
    "\n",
    "# берём первую категорию\n",
    "app_prch[\"category_ids_top\"] = app_prch[\"category_ids\"].apply(\n",
    "    lambda x: x[0] if len(x) > 0 else None\n",
    ").astype(\"Int16\")\n",
    "\n",
    "# берём последнюю непустую категорию\n",
    "app_prch[\"category_ids_last\"] = app_prch[\"category_ids\"].apply(\n",
    "    lambda x: next((i for i in reversed(x) if i not in [None, \"\", \"nan\"]), None)\n",
    ").astype(\"Int16\")"
   ]
  },
  {
   "cell_type": "code",
   "execution_count": null,
   "id": "c87c545a",
   "metadata": {},
   "outputs": [],
   "source": [
    "# собираем в кучу\n",
    "app_prch_agg = (\n",
    "    app_prch.groupby(\"client_id\")\n",
    "    .agg(\n",
    "        quantity_mean=(\"quantity\", \"mean\"),                                         # среднее число товаров в чеке\n",
    "        price_mean=(\"price\", \"mean\"),                                               # средняя цена позиции\n",
    "        last_date=(\"date\", \"max\"),                                                  # дата последней покупки\n",
    "        last_item=(\"category_ids_last\", \"last\"),                                    # последний купленный товар\n",
    "        last_cat_glob=(\"category_ids_top\", \"last\"),                                 # последняя купленная глобальная категория\n",
    "        unique_cat_count=(\"category_ids\", lambda x: len(set(i for sub in x for i in sub))),  # число уникальных категорий\n",
    "    )\n",
    "    .reset_index()\n",
    ")"
   ]
  },
  {
   "cell_type": "code",
   "execution_count": null,
   "id": "5274f90d",
   "metadata": {},
   "outputs": [],
   "source": [
    "display(app_prch_agg.info())\n",
    "display(app_prch_agg.head())"
   ]
  }
 ],
 "metadata": {
  "kernelspec": {
   "display_name": "practicum",
   "language": "python",
   "name": "python3"
  },
  "language_info": {
   "codemirror_mode": {
    "name": "ipython",
    "version": 3
   },
   "file_extension": ".py",
   "mimetype": "text/x-python",
   "name": "python",
   "nbconvert_exporter": "python",
   "pygments_lexer": "ipython3",
   "version": "3.12.3"
  }
 },
 "nbformat": 4,
 "nbformat_minor": 5
}
