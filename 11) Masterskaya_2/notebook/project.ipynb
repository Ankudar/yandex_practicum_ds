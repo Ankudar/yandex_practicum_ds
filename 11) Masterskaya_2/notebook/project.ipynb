{
 "cells": [
  {
   "cell_type": "markdown",
   "id": "4a9669be",
   "metadata": {},
   "source": [
    "# Проект Маркетинг"
   ]
  },
  {
   "cell_type": "markdown",
   "id": "58054e0e",
   "metadata": {},
   "source": [
    "## Описание"
   ]
  },
  {
   "cell_type": "markdown",
   "id": "43d18144",
   "metadata": {},
   "source": [
    "Интернет-магазин собирает историю покупателей, проводит рассылки предложений и планирует будущие продажи. Для оптимизации процессов надо выделить пользователей, которые готовы совершить покупку в ближайшее время."
   ]
  },
  {
   "cell_type": "markdown",
   "id": "ad4e738a",
   "metadata": {},
   "source": [
    "### Цель"
   ]
  },
  {
   "cell_type": "markdown",
   "id": "98ef6ec5",
   "metadata": {},
   "source": [
    "Предсказать вероятность покупки в течение 90 дней"
   ]
  },
  {
   "cell_type": "markdown",
   "id": "f0c818b8",
   "metadata": {},
   "source": [
    "### Задачи"
   ]
  },
  {
   "cell_type": "markdown",
   "id": "2f7f2539",
   "metadata": {},
   "source": [
    "● Изучить данные  \n",
    "● Разработать полезные признаки  \n",
    "● Создать модель для классификации пользователей  \n",
    "● Улучшить модель и максимизировать метрику roc_auc  \n",
    "● Выполнить тестирование  "
   ]
  },
  {
   "cell_type": "markdown",
   "id": "ff46d6d6",
   "metadata": {},
   "source": [
    "### Данные"
   ]
  },
  {
   "cell_type": "markdown",
   "id": "762824c7",
   "metadata": {},
   "source": [
    "apparel-purchases  \n",
    "история покупок  \n",
    "● client_id идентификатор пользователя  \n",
    "● quantity количество товаров в заказе  \n",
    "● price цена товара  \n",
    "● category_ids вложенные категории, к которым отнсится товар  \n",
    "● date дата покупки  \n",
    "● message_id идентификатор сообщения из рассылки  \n",
    "\n",
    "apparel-messages  \n",
    "история рекламных рассылок  \n",
    "● bulk_campaign_id идентификатор рекламной кампании  \n",
    "● client_id идентификатор пользователя  \n",
    "● message_id идентификатор сообщений  \n",
    "● event тип действия  \n",
    "● channel канал рассылки  \n",
    "● date дата рассылки  \n",
    "● created_at точное время создания сообщения  \n",
    "\n",
    "apparel-target_binary  \n",
    "совершит ли клиент покупку в течение следующих 90 дней  \n",
    "● client_id идентификатор пользователя  \n",
    "● target целевой признак  \n"
   ]
  },
  {
   "cell_type": "markdown",
   "id": "63ad7c92",
   "metadata": {},
   "source": [
    "## Подготовка к работе"
   ]
  },
  {
   "cell_type": "markdown",
   "id": "f6db99de",
   "metadata": {},
   "source": [
    "### Импорты"
   ]
  },
  {
   "cell_type": "code",
   "execution_count": 341,
   "id": "5c5200ba",
   "metadata": {},
   "outputs": [],
   "source": [
    "import pandas as pd\n",
    "import numpy as np\n",
    "import matplotlib.pyplot as plt\n",
    "import missingno as msno\n",
    "from IPython.display import HTML, display\n",
    "import seaborn as sns\n",
    "from datetime import datetime\n",
    "from tqdm import tqdm\n",
    "import time\n",
    "import re\n",
    "import ast"
   ]
  },
  {
   "cell_type": "markdown",
   "id": "ec596867",
   "metadata": {},
   "source": [
    "### Константы"
   ]
  },
  {
   "cell_type": "code",
   "execution_count": 342,
   "id": "a3073573",
   "metadata": {},
   "outputs": [],
   "source": [
    "RANDOM_STATE = 20"
   ]
  },
  {
   "cell_type": "markdown",
   "id": "8fb62051",
   "metadata": {},
   "source": [
    "### Функции"
   ]
  },
  {
   "cell_type": "code",
   "execution_count": 343,
   "id": "0bd9b75f",
   "metadata": {},
   "outputs": [],
   "source": [
    "# форматирования текста\n",
    "def format_display(text):\n",
    "    return HTML(f\"<span style='font-size: 1.5em; font-weight: bold; font-style: italic;'>{text}</span>\")\n",
    "\n",
    "# сделаем функцию оценки пропусков в датасетах\n",
    "def missing_data(data):\n",
    "    missing_data = data.isna().sum()\n",
    "    missing_data = missing_data[missing_data > 0]\n",
    "    display(missing_data)\n",
    "\n",
    "# функция для обработки пробелов\n",
    "def process_spaces(s):\n",
    "    if isinstance(s, str):\n",
    "        s = s.strip()\n",
    "        s = ' '.join(s.split())\n",
    "    return s\n",
    "\n",
    "# замена пробелов на нижнее подчеркинвание в названии столбцов\n",
    "def replace_spaces(s):\n",
    "    if isinstance(s, str):\n",
    "        s = s.strip()\n",
    "        s = '_'.join(s.split())\n",
    "    return s\n",
    "\n",
    "def drop_duplicated(data):\n",
    "    # проверка дубликатов\n",
    "    display(format_display(\"Проверим дубликаты и удалим, если есть\"))\n",
    "    num_duplicates = data.duplicated().sum()\n",
    "    display(num_duplicates)\n",
    "    \n",
    "    if num_duplicates > 0:\n",
    "        display(\"Удаляем\")\n",
    "        data = data.drop_duplicates(keep='first').reset_index(drop=True)  # обновляем DataFrame\n",
    "    else:\n",
    "        display(\"Дубликаты отсутствуют\")\n",
    "    return data\n",
    "\n",
    "def normalize_columns(columns):\n",
    "    new_cols = []\n",
    "    for col in columns:\n",
    "        # вставляем \"_\" перед заглавной буквой (латиница или кириллица), кроме первой\n",
    "        col = re.sub(r'(?<!^)(?=[A-ZА-ЯЁ])', '_', col)\n",
    "        # приводим к нижнему регистру\n",
    "        col = col.lower()\n",
    "        new_cols.append(col)\n",
    "    return new_cols\n",
    "\n",
    "def check_data(data):\n",
    "    # приведем все к нижнему регистру\n",
    "    data.columns = normalize_columns(data.columns)\n",
    "    \n",
    "    # удалим лишние пробелы в строках\n",
    "    data = data.map(process_spaces)\n",
    "\n",
    "    # и в названии столбцов\n",
    "    data.columns = [replace_spaces(col) for col in data.columns]\n",
    "    \n",
    "    # общая информация \n",
    "    display(format_display(\"Общая информация базы данных\"))\n",
    "    display(data.info())\n",
    "    \n",
    "    # 5 строк\n",
    "    display(format_display(\"5 случайных строк\"))\n",
    "    display(data.sample(5))\n",
    "    \n",
    "    # пропуски\n",
    "    display(format_display(\"Число пропусков в базе данных\"))\n",
    "    display(missing_data(data))\n",
    "\n",
    "    # проверка на наличие пропусков\n",
    "    if data.isnull().sum().sum() > 0:\n",
    "        display(format_display(\"Визуализация пропусков\"))\n",
    "        msno.bar(data)\n",
    "        plt.show()\n",
    "        \n",
    "    # средние характеристики\n",
    "    display(format_display(\"Характеристики базы данных\"))\n",
    "    display(data.describe().T)\n",
    "    \n",
    "    # data = drop_duplicated(data)\n",
    "    \n",
    "    return data  # возвращаем измененные данные\n",
    "\n",
    "def parse_category_ids(x):\n",
    "    if isinstance(x, str):\n",
    "        return ast.literal_eval(x)\n",
    "    return x\n",
    "\n",
    "def plot_combined(data, col=None, target=None, col_type=None, legend_loc='best'):\n",
    "    \"\"\"\n",
    "    Строит графики для числовых столбцов в DataFrame, автоматически определяя их типы (дискретные или непрерывные).\n",
    "\n",
    "    :param data: DataFrame, содержащий данные для визуализации.\n",
    "    :param col: Список столбцов для построения графиков. Если None, будут использованы все числовые столбцы.\n",
    "    :param target: Столбец, по которому будет производиться разделение (для hue в графиках).\n",
    "    :param col_type: Словарь, определяющий типы столбцов ('col' для непрерывных и 'dis' для дискретных).\n",
    "                     Если None, типы будут определены автоматически.\n",
    "    :param legend_loc: Положение легенды для графиков (по умолчанию 'best').\n",
    "    :return: None. Графики отображаются с помощью plt.show().\n",
    "    \"\"\"\n",
    "    \n",
    "    # Определяем числовые столбцы\n",
    "    if col is None:\n",
    "        numerical_columns = data.select_dtypes(include=['int', 'float']).columns.tolist()\n",
    "    else:\n",
    "        numerical_columns = col\n",
    "\n",
    "    # Если col_type не указан, определяем типы автоматически\n",
    "    if col_type is None:\n",
    "        col_type = {}\n",
    "        for col in numerical_columns:\n",
    "            unique_count = data[col].nunique()\n",
    "            if unique_count > 20:\n",
    "                col_type[col] = 'col'  # Непрерывные данные\n",
    "            else:\n",
    "                col_type[col] = 'dis'  # Дискретные данные\n",
    "\n",
    "    total_plots = len(numerical_columns) * 2\n",
    "    ncols = 2\n",
    "    nrows = (total_plots + ncols - 1) // ncols\n",
    "\n",
    "    fig, axs = plt.subplots(nrows=nrows, ncols=ncols, figsize=(12, 5 * nrows))\n",
    "    axs = axs.flatten()\n",
    "\n",
    "    index = 0\n",
    "\n",
    "    for col in numerical_columns:\n",
    "        # Определяем тип графика\n",
    "        plot_type = col_type.get(col)\n",
    "        if plot_type is None:\n",
    "            raise ValueError(f\"Тип для столбца '{col}' не указан в col_type.\")\n",
    "\n",
    "        # Гистограмма или countplot\n",
    "        if index < len(axs):\n",
    "            if plot_type == 'col':\n",
    "                if target is not None:\n",
    "                    sns.histplot(data, x=col, hue=target, bins=20, kde=True, ax=axs[index])\n",
    "                    handles, labels = axs[index].get_legend_handles_labels()\n",
    "                    if handles:\n",
    "                        axs[index].legend(title=target, loc=legend_loc)\n",
    "                else:\n",
    "                    sns.histplot(data[col].dropna(), bins=20, kde=True, ax=axs[index])\n",
    "                axs[index].set_title(f'Гистограмма: {col}')\n",
    "            elif plot_type == 'dis':\n",
    "                if target is not None:\n",
    "                    sns.countplot(data=data, x=col, hue=target, ax=axs[index])\n",
    "                    handles, labels = axs[index].get_legend_handles_labels()\n",
    "                    if handles:\n",
    "                        axs[index].legend(title=target, loc=legend_loc)\n",
    "                else:\n",
    "                    sns.countplot(data=data, x=col, ax=axs[index])\n",
    "                axs[index].set_title(f'Countplot: {col}')\n",
    "                # поворот подписей X для дискретных\n",
    "                axs[index].tick_params(axis='x', rotation=90)\n",
    "            index += 1\n",
    "\n",
    "        # Боксплот\n",
    "        if index < len(axs):\n",
    "            sns.boxplot(x=data[col], ax=axs[index])\n",
    "            axs[index].set_title(f'Боксплот: {col}')\n",
    "            # тоже поворачиваем, если дискретные значения\n",
    "            if plot_type == 'dis':\n",
    "                axs[index].tick_params(axis='x', rotation=90)\n",
    "            index += 1\n",
    "\n",
    "    # Отключаем оставшиеся оси\n",
    "    for j in range(index, len(axs)):\n",
    "        axs[j].axis('off')\n",
    "\n",
    "    plt.tight_layout()\n",
    "    plt.show()"
   ]
  },
  {
   "cell_type": "markdown",
   "id": "19c29023",
   "metadata": {},
   "source": [
    "## EDA"
   ]
  },
  {
   "cell_type": "markdown",
   "id": "d208ec76",
   "metadata": {},
   "source": [
    "### Подключим и почитаем данные"
   ]
  },
  {
   "cell_type": "code",
   "execution_count": 344,
   "id": "531287cb",
   "metadata": {},
   "outputs": [],
   "source": [
    "app_msg = pd.read_csv(\"../data/apparel-messages.csv\")\n",
    "app_prch = pd.read_csv(\"../data/apparel-purchases.csv\")\n",
    "app_target = pd.read_csv(\"../data/apparel-target_binary.csv\")\n",
    "event_type = pd.read_csv(\"../data/full_campaign_daily_event.csv\")\n",
    "event_chanel = pd.read_csv(\"../data/full_campaign_daily_event_channel.csv\")"
   ]
  },
  {
   "cell_type": "markdown",
   "id": "60de2df2",
   "metadata": {},
   "source": [
    "### Первичная оценка и обработка данных"
   ]
  },
  {
   "cell_type": "markdown",
   "id": "c06984d6",
   "metadata": {},
   "source": [
    "#### app_msg"
   ]
  },
  {
   "cell_type": "code",
   "execution_count": 345,
   "id": "c88eef7e",
   "metadata": {},
   "outputs": [
    {
     "data": {
      "text/html": [
       "<span style='font-size: 1.5em; font-weight: bold; font-style: italic;'>Общая информация базы данных</span>"
      ],
      "text/plain": [
       "<IPython.core.display.HTML object>"
      ]
     },
     "metadata": {},
     "output_type": "display_data"
    },
    {
     "name": "stdout",
     "output_type": "stream",
     "text": [
      "<class 'pandas.core.frame.DataFrame'>\n",
      "RangeIndex: 12739798 entries, 0 to 12739797\n",
      "Data columns (total 7 columns):\n",
      " #   Column            Dtype \n",
      "---  ------            ----- \n",
      " 0   bulk_campaign_id  int64 \n",
      " 1   client_id         int64 \n",
      " 2   message_id        object\n",
      " 3   event             object\n",
      " 4   channel           object\n",
      " 5   date              object\n",
      " 6   created_at        object\n",
      "dtypes: int64(2), object(5)\n",
      "memory usage: 680.4+ MB\n"
     ]
    },
    {
     "data": {
      "text/plain": [
       "None"
      ]
     },
     "metadata": {},
     "output_type": "display_data"
    },
    {
     "data": {
      "text/html": [
       "<span style='font-size: 1.5em; font-weight: bold; font-style: italic;'>5 случайных строк</span>"
      ],
      "text/plain": [
       "<IPython.core.display.HTML object>"
      ]
     },
     "metadata": {},
     "output_type": "display_data"
    },
    {
     "data": {
      "application/vnd.microsoft.datawrangler.viewer.v0+json": {
       "columns": [
        {
         "name": "index",
         "rawType": "int64",
         "type": "integer"
        },
        {
         "name": "bulk_campaign_id",
         "rawType": "int64",
         "type": "integer"
        },
        {
         "name": "client_id",
         "rawType": "int64",
         "type": "integer"
        },
        {
         "name": "message_id",
         "rawType": "object",
         "type": "string"
        },
        {
         "name": "event",
         "rawType": "object",
         "type": "string"
        },
        {
         "name": "channel",
         "rawType": "object",
         "type": "string"
        },
        {
         "name": "date",
         "rawType": "object",
         "type": "string"
        },
        {
         "name": "created_at",
         "rawType": "object",
         "type": "string"
        }
       ],
       "ref": "c8a21a1c-5195-40cf-8fb1-bbac9a7a370e",
       "rows": [
        [
         "3936487",
         "9945",
         "1515915625488636534",
         "1515915625488636534-9945-63e34e7cbe982",
         "send",
         "email",
         "2023-02-08",
         "2023-02-08 07:40:19"
        ],
        [
         "9702778",
         "14194",
         "1515915625987282736",
         "1515915625987282736-14194-65645af3be43b",
         "send",
         "mobile_push",
         "2023-11-27",
         "2023-11-27 10:03:54"
        ],
        [
         "2387318",
         "7803",
         "1515915625491258873",
         "1515915625491258873-7803-636dfeb435a1c",
         "click",
         "email",
         "2022-11-11",
         "2022-11-11 09:31:47"
        ],
        [
         "8954434",
         "14037",
         "1515915625468092226",
         "1515915625468092226-14037-6542400511580",
         "open",
         "mobile_push",
         "2023-11-01",
         "2023-11-01 14:39:40"
        ],
        [
         "10263517",
         "14284",
         "1515915625577709107",
         "1515915625577709107-14284-6576ec21b7f49",
         "open",
         "mobile_push",
         "2023-12-11",
         "2023-12-11 11:08:23"
        ]
       ],
       "shape": {
        "columns": 7,
        "rows": 5
       }
      },
      "text/html": [
       "<div>\n",
       "<style scoped>\n",
       "    .dataframe tbody tr th:only-of-type {\n",
       "        vertical-align: middle;\n",
       "    }\n",
       "\n",
       "    .dataframe tbody tr th {\n",
       "        vertical-align: top;\n",
       "    }\n",
       "\n",
       "    .dataframe thead th {\n",
       "        text-align: right;\n",
       "    }\n",
       "</style>\n",
       "<table border=\"1\" class=\"dataframe\">\n",
       "  <thead>\n",
       "    <tr style=\"text-align: right;\">\n",
       "      <th></th>\n",
       "      <th>bulk_campaign_id</th>\n",
       "      <th>client_id</th>\n",
       "      <th>message_id</th>\n",
       "      <th>event</th>\n",
       "      <th>channel</th>\n",
       "      <th>date</th>\n",
       "      <th>created_at</th>\n",
       "    </tr>\n",
       "  </thead>\n",
       "  <tbody>\n",
       "    <tr>\n",
       "      <th>3936487</th>\n",
       "      <td>9945</td>\n",
       "      <td>1515915625488636534</td>\n",
       "      <td>1515915625488636534-9945-63e34e7cbe982</td>\n",
       "      <td>send</td>\n",
       "      <td>email</td>\n",
       "      <td>2023-02-08</td>\n",
       "      <td>2023-02-08 07:40:19</td>\n",
       "    </tr>\n",
       "    <tr>\n",
       "      <th>9702778</th>\n",
       "      <td>14194</td>\n",
       "      <td>1515915625987282736</td>\n",
       "      <td>1515915625987282736-14194-65645af3be43b</td>\n",
       "      <td>send</td>\n",
       "      <td>mobile_push</td>\n",
       "      <td>2023-11-27</td>\n",
       "      <td>2023-11-27 10:03:54</td>\n",
       "    </tr>\n",
       "    <tr>\n",
       "      <th>2387318</th>\n",
       "      <td>7803</td>\n",
       "      <td>1515915625491258873</td>\n",
       "      <td>1515915625491258873-7803-636dfeb435a1c</td>\n",
       "      <td>click</td>\n",
       "      <td>email</td>\n",
       "      <td>2022-11-11</td>\n",
       "      <td>2022-11-11 09:31:47</td>\n",
       "    </tr>\n",
       "    <tr>\n",
       "      <th>8954434</th>\n",
       "      <td>14037</td>\n",
       "      <td>1515915625468092226</td>\n",
       "      <td>1515915625468092226-14037-6542400511580</td>\n",
       "      <td>open</td>\n",
       "      <td>mobile_push</td>\n",
       "      <td>2023-11-01</td>\n",
       "      <td>2023-11-01 14:39:40</td>\n",
       "    </tr>\n",
       "    <tr>\n",
       "      <th>10263517</th>\n",
       "      <td>14284</td>\n",
       "      <td>1515915625577709107</td>\n",
       "      <td>1515915625577709107-14284-6576ec21b7f49</td>\n",
       "      <td>open</td>\n",
       "      <td>mobile_push</td>\n",
       "      <td>2023-12-11</td>\n",
       "      <td>2023-12-11 11:08:23</td>\n",
       "    </tr>\n",
       "  </tbody>\n",
       "</table>\n",
       "</div>"
      ],
      "text/plain": [
       "          bulk_campaign_id            client_id  \\\n",
       "3936487               9945  1515915625488636534   \n",
       "9702778              14194  1515915625987282736   \n",
       "2387318               7803  1515915625491258873   \n",
       "8954434              14037  1515915625468092226   \n",
       "10263517             14284  1515915625577709107   \n",
       "\n",
       "                                       message_id  event      channel  \\\n",
       "3936487    1515915625488636534-9945-63e34e7cbe982   send        email   \n",
       "9702778   1515915625987282736-14194-65645af3be43b   send  mobile_push   \n",
       "2387318    1515915625491258873-7803-636dfeb435a1c  click        email   \n",
       "8954434   1515915625468092226-14037-6542400511580   open  mobile_push   \n",
       "10263517  1515915625577709107-14284-6576ec21b7f49   open  mobile_push   \n",
       "\n",
       "                date           created_at  \n",
       "3936487   2023-02-08  2023-02-08 07:40:19  \n",
       "9702778   2023-11-27  2023-11-27 10:03:54  \n",
       "2387318   2022-11-11  2022-11-11 09:31:47  \n",
       "8954434   2023-11-01  2023-11-01 14:39:40  \n",
       "10263517  2023-12-11  2023-12-11 11:08:23  "
      ]
     },
     "metadata": {},
     "output_type": "display_data"
    },
    {
     "data": {
      "text/html": [
       "<span style='font-size: 1.5em; font-weight: bold; font-style: italic;'>Число пропусков в базе данных</span>"
      ],
      "text/plain": [
       "<IPython.core.display.HTML object>"
      ]
     },
     "metadata": {},
     "output_type": "display_data"
    },
    {
     "data": {
      "application/vnd.microsoft.datawrangler.viewer.v0+json": {
       "columns": [
        {
         "name": "index",
         "rawType": "object",
         "type": "string"
        },
        {
         "name": "0",
         "rawType": "int64",
         "type": "integer"
        }
       ],
       "ref": "96970c9a-a83b-469c-b4a8-f94265568e94",
       "rows": [],
       "shape": {
        "columns": 1,
        "rows": 0
       }
      },
      "text/plain": [
       "Series([], dtype: int64)"
      ]
     },
     "metadata": {},
     "output_type": "display_data"
    },
    {
     "data": {
      "text/plain": [
       "None"
      ]
     },
     "metadata": {},
     "output_type": "display_data"
    },
    {
     "data": {
      "text/html": [
       "<span style='font-size: 1.5em; font-weight: bold; font-style: italic;'>Характеристики базы данных</span>"
      ],
      "text/plain": [
       "<IPython.core.display.HTML object>"
      ]
     },
     "metadata": {},
     "output_type": "display_data"
    },
    {
     "data": {
      "application/vnd.microsoft.datawrangler.viewer.v0+json": {
       "columns": [
        {
         "name": "index",
         "rawType": "object",
         "type": "string"
        },
        {
         "name": "count",
         "rawType": "float64",
         "type": "float"
        },
        {
         "name": "mean",
         "rawType": "float64",
         "type": "float"
        },
        {
         "name": "std",
         "rawType": "float64",
         "type": "float"
        },
        {
         "name": "min",
         "rawType": "float64",
         "type": "float"
        },
        {
         "name": "25%",
         "rawType": "float64",
         "type": "float"
        },
        {
         "name": "50%",
         "rawType": "float64",
         "type": "float"
        },
        {
         "name": "75%",
         "rawType": "float64",
         "type": "float"
        },
        {
         "name": "max",
         "rawType": "float64",
         "type": "float"
        }
       ],
       "ref": "4f338ca8-d9bd-49cb-aeac-1dc4eac58a96",
       "rows": [
        [
         "bulk_campaign_id",
         "12739798.0",
         "11604.58758710303",
         "3259.2111311897593",
         "548.0",
         "8746.0",
         "13516.0",
         "14158.0",
         "14657.0"
        ],
        [
         "client_id",
         "12739798.0",
         "1.5159156255748316e+18",
         "132970411.5589552",
         "1.515915625468061e+18",
         "1.5159156254891494e+18",
         "1.5159156255034322e+18",
         "1.5159156255912863e+18",
         "1.5159156260102886e+18"
        ]
       ],
       "shape": {
        "columns": 8,
        "rows": 2
       }
      },
      "text/html": [
       "<div>\n",
       "<style scoped>\n",
       "    .dataframe tbody tr th:only-of-type {\n",
       "        vertical-align: middle;\n",
       "    }\n",
       "\n",
       "    .dataframe tbody tr th {\n",
       "        vertical-align: top;\n",
       "    }\n",
       "\n",
       "    .dataframe thead th {\n",
       "        text-align: right;\n",
       "    }\n",
       "</style>\n",
       "<table border=\"1\" class=\"dataframe\">\n",
       "  <thead>\n",
       "    <tr style=\"text-align: right;\">\n",
       "      <th></th>\n",
       "      <th>count</th>\n",
       "      <th>mean</th>\n",
       "      <th>std</th>\n",
       "      <th>min</th>\n",
       "      <th>25%</th>\n",
       "      <th>50%</th>\n",
       "      <th>75%</th>\n",
       "      <th>max</th>\n",
       "    </tr>\n",
       "  </thead>\n",
       "  <tbody>\n",
       "    <tr>\n",
       "      <th>bulk_campaign_id</th>\n",
       "      <td>12739798.0</td>\n",
       "      <td>1.160459e+04</td>\n",
       "      <td>3.259211e+03</td>\n",
       "      <td>5.480000e+02</td>\n",
       "      <td>8.746000e+03</td>\n",
       "      <td>1.351600e+04</td>\n",
       "      <td>1.415800e+04</td>\n",
       "      <td>1.465700e+04</td>\n",
       "    </tr>\n",
       "    <tr>\n",
       "      <th>client_id</th>\n",
       "      <td>12739798.0</td>\n",
       "      <td>1.515916e+18</td>\n",
       "      <td>1.329704e+08</td>\n",
       "      <td>1.515916e+18</td>\n",
       "      <td>1.515916e+18</td>\n",
       "      <td>1.515916e+18</td>\n",
       "      <td>1.515916e+18</td>\n",
       "      <td>1.515916e+18</td>\n",
       "    </tr>\n",
       "  </tbody>\n",
       "</table>\n",
       "</div>"
      ],
      "text/plain": [
       "                       count          mean           std           min  \\\n",
       "bulk_campaign_id  12739798.0  1.160459e+04  3.259211e+03  5.480000e+02   \n",
       "client_id         12739798.0  1.515916e+18  1.329704e+08  1.515916e+18   \n",
       "\n",
       "                           25%           50%           75%           max  \n",
       "bulk_campaign_id  8.746000e+03  1.351600e+04  1.415800e+04  1.465700e+04  \n",
       "client_id         1.515916e+18  1.515916e+18  1.515916e+18  1.515916e+18  "
      ]
     },
     "metadata": {},
     "output_type": "display_data"
    }
   ],
   "source": [
    "app_msg = check_data(app_msg)"
   ]
  },
  {
   "cell_type": "code",
   "execution_count": 346,
   "id": "200b4ace",
   "metadata": {},
   "outputs": [
    {
     "data": {
      "text/plain": [
       "'2022-05-19'"
      ]
     },
     "metadata": {},
     "output_type": "display_data"
    },
    {
     "data": {
      "text/plain": [
       "'2024-02-15'"
      ]
     },
     "metadata": {},
     "output_type": "display_data"
    }
   ],
   "source": [
    "# посмотрим дату начала и конца событий\n",
    "first_date = app_msg['date'].min()\n",
    "last_date = app_msg['date'].max()\n",
    "display(first_date)\n",
    "display(last_date)"
   ]
  },
  {
   "cell_type": "code",
   "execution_count": 347,
   "id": "a2f184c1",
   "metadata": {},
   "outputs": [
    {
     "data": {
      "text/plain": [
       "array(['open', 'click', 'purchase', 'send', 'unsubscribe', 'hbq_spam',\n",
       "       'hard_bounce', 'subscribe', 'soft_bounce', 'complain', 'close'],\n",
       "      dtype=object)"
      ]
     },
     "metadata": {},
     "output_type": "display_data"
    },
    {
     "data": {
      "text/plain": [
       "array(['email', 'mobile_push'], dtype=object)"
      ]
     },
     "metadata": {},
     "output_type": "display_data"
    }
   ],
   "source": [
    "# посмотрим уники среди событий и канал распространения\n",
    "display(app_msg['event'].unique())\n",
    "display(app_msg['channel'].unique())"
   ]
  },
  {
   "cell_type": "markdown",
   "id": "d774b488",
   "metadata": {},
   "source": [
    "Что имеем:  \n",
    "open — письмо открыто  \n",
    "click — клик по ссылке в письме  \n",
    "purchase — покупка после перехода из письма  \n",
    "send — отправка письма  \n",
    "unsubscribe — отписка от рассылки  \n",
    "hbq_spam — сообщение отмечено как спам  \n",
    "hard_bounce — письмо не доставлено из-за постоянной ошибки (адрес не существует)  \n",
    "subscribe — подписка на рассылку  \n",
    "soft_bounce — письмо не доставлено из-за временной ошибки (ящик переполнен, сервер недоступен)  \n",
    "complain — жалоба пользователя (напр. “Это спам”)  \n",
    "close — завершение сессии (иногда: закрытие письма или вкладки)  "
   ]
  },
  {
   "cell_type": "code",
   "execution_count": 348,
   "id": "a7daa82a",
   "metadata": {},
   "outputs": [
    {
     "data": {
      "text/plain": [
       "np.int64(48610)"
      ]
     },
     "execution_count": 348,
     "metadata": {},
     "output_type": "execute_result"
    }
   ],
   "source": [
    "# посмотри число дубликатов в базе\n",
    "app_msg.duplicated().sum()"
   ]
  },
  {
   "cell_type": "markdown",
   "id": "90f0c04a",
   "metadata": {},
   "source": [
    "Вот тут тонкий момент:  \n",
    "1) Это косяк базы и надо просто удалить дубликаты и забыть про них;  \n",
    "2) Сомнения имею я, что это косяк и скорее всего это спамер просто отправил несколько мессаг и тогда из этого можно сделать бинарную фичу, что-то типа \"spam_factor\""
   ]
  },
  {
   "cell_type": "code",
   "execution_count": 349,
   "id": "85960779",
   "metadata": {},
   "outputs": [
    {
     "data": {
      "text/plain": [
       "53329"
      ]
     },
     "metadata": {},
     "output_type": "display_data"
    }
   ],
   "source": [
    "# проверим сколько уникальных клиентов\n",
    "display(app_msg['client_id'].nunique())"
   ]
  },
  {
   "cell_type": "markdown",
   "id": "60b33013",
   "metadata": {},
   "source": [
    "Из 12.739.798 строк мы имеем 53.329 уникальных клиентов.  \n",
    "Нужна будет пересборка данных с агрегацией"
   ]
  },
  {
   "cell_type": "markdown",
   "id": "44302e82",
   "metadata": {},
   "source": [
    "Выводы:  \n",
    "Самая объемная база.  \n",
    "Столбцы  date, created_at имеют неверный формат данных - необходимо будет преобразовать.\n"
   ]
  },
  {
   "cell_type": "markdown",
   "id": "8e15627b",
   "metadata": {},
   "source": [
    "#### app_prch"
   ]
  },
  {
   "cell_type": "code",
   "execution_count": 350,
   "id": "8007c9ce",
   "metadata": {},
   "outputs": [
    {
     "data": {
      "text/html": [
       "<span style='font-size: 1.5em; font-weight: bold; font-style: italic;'>Общая информация базы данных</span>"
      ],
      "text/plain": [
       "<IPython.core.display.HTML object>"
      ]
     },
     "metadata": {},
     "output_type": "display_data"
    },
    {
     "name": "stdout",
     "output_type": "stream",
     "text": [
      "<class 'pandas.core.frame.DataFrame'>\n",
      "RangeIndex: 202208 entries, 0 to 202207\n",
      "Data columns (total 6 columns):\n",
      " #   Column        Non-Null Count   Dtype  \n",
      "---  ------        --------------   -----  \n",
      " 0   client_id     202208 non-null  int64  \n",
      " 1   quantity      202208 non-null  int64  \n",
      " 2   price         202208 non-null  float64\n",
      " 3   category_ids  202208 non-null  object \n",
      " 4   date          202208 non-null  object \n",
      " 5   message_id    202208 non-null  object \n",
      "dtypes: float64(1), int64(2), object(3)\n",
      "memory usage: 9.3+ MB\n"
     ]
    },
    {
     "data": {
      "text/plain": [
       "None"
      ]
     },
     "metadata": {},
     "output_type": "display_data"
    },
    {
     "data": {
      "text/html": [
       "<span style='font-size: 1.5em; font-weight: bold; font-style: italic;'>5 случайных строк</span>"
      ],
      "text/plain": [
       "<IPython.core.display.HTML object>"
      ]
     },
     "metadata": {},
     "output_type": "display_data"
    },
    {
     "data": {
      "application/vnd.microsoft.datawrangler.viewer.v0+json": {
       "columns": [
        {
         "name": "index",
         "rawType": "int64",
         "type": "integer"
        },
        {
         "name": "client_id",
         "rawType": "int64",
         "type": "integer"
        },
        {
         "name": "quantity",
         "rawType": "int64",
         "type": "integer"
        },
        {
         "name": "price",
         "rawType": "float64",
         "type": "float"
        },
        {
         "name": "category_ids",
         "rawType": "object",
         "type": "string"
        },
        {
         "name": "date",
         "rawType": "object",
         "type": "string"
        },
        {
         "name": "message_id",
         "rawType": "object",
         "type": "string"
        }
       ],
       "ref": "7d7578b1-edf6-4ac7-a217-7c1851ca623d",
       "rows": [
        [
         "6091",
         "1515915625780988329",
         "1",
         "937.0",
         "['4', '28', '57', '431']",
         "2022-06-01",
         "1515915625780988329-4679-629722030001a"
        ],
        [
         "93332",
         "1515915625501275723",
         "1",
         "66.0",
         "['5562', '5633', '5627', '573']",
         "2023-03-22",
         "1515915625501275723-11144-641ad1f329394"
        ],
        [
         "21459",
         "1515915625559968668",
         "1",
         "2199.0",
         "['4', '31', '324', '1431']",
         "2022-07-08",
         "1515915625559968668-5286-62c52c04708db"
        ],
        [
         "113060",
         "1515915625810816440",
         "1",
         "699.0",
         "['4', '28', '275', '421']",
         "2023-04-28",
         "1515915625810816440-12218-644b826d7755e"
        ],
        [
         "116196",
         "1515915625576521259",
         "1",
         "979.0",
         "['4', '31', '326', '505']",
         "2023-05-01",
         "1515915625651274252-12218-644b8276f15ef"
        ]
       ],
       "shape": {
        "columns": 6,
        "rows": 5
       }
      },
      "text/html": [
       "<div>\n",
       "<style scoped>\n",
       "    .dataframe tbody tr th:only-of-type {\n",
       "        vertical-align: middle;\n",
       "    }\n",
       "\n",
       "    .dataframe tbody tr th {\n",
       "        vertical-align: top;\n",
       "    }\n",
       "\n",
       "    .dataframe thead th {\n",
       "        text-align: right;\n",
       "    }\n",
       "</style>\n",
       "<table border=\"1\" class=\"dataframe\">\n",
       "  <thead>\n",
       "    <tr style=\"text-align: right;\">\n",
       "      <th></th>\n",
       "      <th>client_id</th>\n",
       "      <th>quantity</th>\n",
       "      <th>price</th>\n",
       "      <th>category_ids</th>\n",
       "      <th>date</th>\n",
       "      <th>message_id</th>\n",
       "    </tr>\n",
       "  </thead>\n",
       "  <tbody>\n",
       "    <tr>\n",
       "      <th>6091</th>\n",
       "      <td>1515915625780988329</td>\n",
       "      <td>1</td>\n",
       "      <td>937.0</td>\n",
       "      <td>['4', '28', '57', '431']</td>\n",
       "      <td>2022-06-01</td>\n",
       "      <td>1515915625780988329-4679-629722030001a</td>\n",
       "    </tr>\n",
       "    <tr>\n",
       "      <th>93332</th>\n",
       "      <td>1515915625501275723</td>\n",
       "      <td>1</td>\n",
       "      <td>66.0</td>\n",
       "      <td>['5562', '5633', '5627', '573']</td>\n",
       "      <td>2023-03-22</td>\n",
       "      <td>1515915625501275723-11144-641ad1f329394</td>\n",
       "    </tr>\n",
       "    <tr>\n",
       "      <th>21459</th>\n",
       "      <td>1515915625559968668</td>\n",
       "      <td>1</td>\n",
       "      <td>2199.0</td>\n",
       "      <td>['4', '31', '324', '1431']</td>\n",
       "      <td>2022-07-08</td>\n",
       "      <td>1515915625559968668-5286-62c52c04708db</td>\n",
       "    </tr>\n",
       "    <tr>\n",
       "      <th>113060</th>\n",
       "      <td>1515915625810816440</td>\n",
       "      <td>1</td>\n",
       "      <td>699.0</td>\n",
       "      <td>['4', '28', '275', '421']</td>\n",
       "      <td>2023-04-28</td>\n",
       "      <td>1515915625810816440-12218-644b826d7755e</td>\n",
       "    </tr>\n",
       "    <tr>\n",
       "      <th>116196</th>\n",
       "      <td>1515915625576521259</td>\n",
       "      <td>1</td>\n",
       "      <td>979.0</td>\n",
       "      <td>['4', '31', '326', '505']</td>\n",
       "      <td>2023-05-01</td>\n",
       "      <td>1515915625651274252-12218-644b8276f15ef</td>\n",
       "    </tr>\n",
       "  </tbody>\n",
       "</table>\n",
       "</div>"
      ],
      "text/plain": [
       "                  client_id  quantity   price  \\\n",
       "6091    1515915625780988329         1   937.0   \n",
       "93332   1515915625501275723         1    66.0   \n",
       "21459   1515915625559968668         1  2199.0   \n",
       "113060  1515915625810816440         1   699.0   \n",
       "116196  1515915625576521259         1   979.0   \n",
       "\n",
       "                           category_ids        date  \\\n",
       "6091           ['4', '28', '57', '431']  2022-06-01   \n",
       "93332   ['5562', '5633', '5627', '573']  2023-03-22   \n",
       "21459        ['4', '31', '324', '1431']  2022-07-08   \n",
       "113060        ['4', '28', '275', '421']  2023-04-28   \n",
       "116196        ['4', '31', '326', '505']  2023-05-01   \n",
       "\n",
       "                                     message_id  \n",
       "6091     1515915625780988329-4679-629722030001a  \n",
       "93332   1515915625501275723-11144-641ad1f329394  \n",
       "21459    1515915625559968668-5286-62c52c04708db  \n",
       "113060  1515915625810816440-12218-644b826d7755e  \n",
       "116196  1515915625651274252-12218-644b8276f15ef  "
      ]
     },
     "metadata": {},
     "output_type": "display_data"
    },
    {
     "data": {
      "text/html": [
       "<span style='font-size: 1.5em; font-weight: bold; font-style: italic;'>Число пропусков в базе данных</span>"
      ],
      "text/plain": [
       "<IPython.core.display.HTML object>"
      ]
     },
     "metadata": {},
     "output_type": "display_data"
    },
    {
     "data": {
      "application/vnd.microsoft.datawrangler.viewer.v0+json": {
       "columns": [
        {
         "name": "index",
         "rawType": "object",
         "type": "string"
        },
        {
         "name": "0",
         "rawType": "int64",
         "type": "integer"
        }
       ],
       "ref": "a6aa5107-3092-49d1-8873-e6bab01821b4",
       "rows": [],
       "shape": {
        "columns": 1,
        "rows": 0
       }
      },
      "text/plain": [
       "Series([], dtype: int64)"
      ]
     },
     "metadata": {},
     "output_type": "display_data"
    },
    {
     "data": {
      "text/plain": [
       "None"
      ]
     },
     "metadata": {},
     "output_type": "display_data"
    },
    {
     "data": {
      "text/html": [
       "<span style='font-size: 1.5em; font-weight: bold; font-style: italic;'>Характеристики базы данных</span>"
      ],
      "text/plain": [
       "<IPython.core.display.HTML object>"
      ]
     },
     "metadata": {},
     "output_type": "display_data"
    },
    {
     "data": {
      "application/vnd.microsoft.datawrangler.viewer.v0+json": {
       "columns": [
        {
         "name": "index",
         "rawType": "object",
         "type": "string"
        },
        {
         "name": "count",
         "rawType": "float64",
         "type": "float"
        },
        {
         "name": "mean",
         "rawType": "float64",
         "type": "float"
        },
        {
         "name": "std",
         "rawType": "float64",
         "type": "float"
        },
        {
         "name": "min",
         "rawType": "float64",
         "type": "float"
        },
        {
         "name": "25%",
         "rawType": "float64",
         "type": "float"
        },
        {
         "name": "50%",
         "rawType": "float64",
         "type": "float"
        },
        {
         "name": "75%",
         "rawType": "float64",
         "type": "float"
        },
        {
         "name": "max",
         "rawType": "float64",
         "type": "float"
        }
       ],
       "ref": "66c7a261-6b4c-485c-a831-06ce9462b67c",
       "rows": [
        [
         "client_id",
         "202208.0",
         "1.515915625596211e+18",
         "145945755.9308841",
         "1.515915625468061e+18",
         "1.5159156254900813e+18",
         "1.515915625557177e+18",
         "1.515915625624392e+18",
         "1.5159156260104435e+18"
        ],
        [
         "quantity",
         "202208.0",
         "1.00648342300997",
         "0.1843836774490782",
         "1.0",
         "1.0",
         "1.0",
         "1.0",
         "30.0"
        ],
        [
         "price",
         "202208.0",
         "1193.3015162604843",
         "1342.2526635956428",
         "1.0",
         "352.0",
         "987.0",
         "1699.0",
         "85499.0"
        ]
       ],
       "shape": {
        "columns": 8,
        "rows": 3
       }
      },
      "text/html": [
       "<div>\n",
       "<style scoped>\n",
       "    .dataframe tbody tr th:only-of-type {\n",
       "        vertical-align: middle;\n",
       "    }\n",
       "\n",
       "    .dataframe tbody tr th {\n",
       "        vertical-align: top;\n",
       "    }\n",
       "\n",
       "    .dataframe thead th {\n",
       "        text-align: right;\n",
       "    }\n",
       "</style>\n",
       "<table border=\"1\" class=\"dataframe\">\n",
       "  <thead>\n",
       "    <tr style=\"text-align: right;\">\n",
       "      <th></th>\n",
       "      <th>count</th>\n",
       "      <th>mean</th>\n",
       "      <th>std</th>\n",
       "      <th>min</th>\n",
       "      <th>25%</th>\n",
       "      <th>50%</th>\n",
       "      <th>75%</th>\n",
       "      <th>max</th>\n",
       "    </tr>\n",
       "  </thead>\n",
       "  <tbody>\n",
       "    <tr>\n",
       "      <th>client_id</th>\n",
       "      <td>202208.0</td>\n",
       "      <td>1.515916e+18</td>\n",
       "      <td>1.459458e+08</td>\n",
       "      <td>1.515916e+18</td>\n",
       "      <td>1.515916e+18</td>\n",
       "      <td>1.515916e+18</td>\n",
       "      <td>1.515916e+18</td>\n",
       "      <td>1.515916e+18</td>\n",
       "    </tr>\n",
       "    <tr>\n",
       "      <th>quantity</th>\n",
       "      <td>202208.0</td>\n",
       "      <td>1.006483e+00</td>\n",
       "      <td>1.843837e-01</td>\n",
       "      <td>1.000000e+00</td>\n",
       "      <td>1.000000e+00</td>\n",
       "      <td>1.000000e+00</td>\n",
       "      <td>1.000000e+00</td>\n",
       "      <td>3.000000e+01</td>\n",
       "    </tr>\n",
       "    <tr>\n",
       "      <th>price</th>\n",
       "      <td>202208.0</td>\n",
       "      <td>1.193302e+03</td>\n",
       "      <td>1.342253e+03</td>\n",
       "      <td>1.000000e+00</td>\n",
       "      <td>3.520000e+02</td>\n",
       "      <td>9.870000e+02</td>\n",
       "      <td>1.699000e+03</td>\n",
       "      <td>8.549900e+04</td>\n",
       "    </tr>\n",
       "  </tbody>\n",
       "</table>\n",
       "</div>"
      ],
      "text/plain": [
       "              count          mean           std           min           25%  \\\n",
       "client_id  202208.0  1.515916e+18  1.459458e+08  1.515916e+18  1.515916e+18   \n",
       "quantity   202208.0  1.006483e+00  1.843837e-01  1.000000e+00  1.000000e+00   \n",
       "price      202208.0  1.193302e+03  1.342253e+03  1.000000e+00  3.520000e+02   \n",
       "\n",
       "                    50%           75%           max  \n",
       "client_id  1.515916e+18  1.515916e+18  1.515916e+18  \n",
       "quantity   1.000000e+00  1.000000e+00  3.000000e+01  \n",
       "price      9.870000e+02  1.699000e+03  8.549900e+04  "
      ]
     },
     "metadata": {},
     "output_type": "display_data"
    }
   ],
   "source": [
    "app_prch = check_data(app_prch)"
   ]
  },
  {
   "cell_type": "code",
   "execution_count": 351,
   "id": "46f6e472",
   "metadata": {},
   "outputs": [
    {
     "data": {
      "text/plain": [
       "49849"
      ]
     },
     "metadata": {},
     "output_type": "display_data"
    }
   ],
   "source": [
    "# проверим сколько уникальных клиентов совершило покупки\n",
    "display(app_prch['client_id'].nunique())"
   ]
  },
  {
   "cell_type": "code",
   "execution_count": 352,
   "id": "8fe18213",
   "metadata": {},
   "outputs": [
    {
     "data": {
      "text/plain": [
       "0.934744698006713"
      ]
     },
     "metadata": {},
     "output_type": "display_data"
    }
   ],
   "source": [
    "display(app_prch['client_id'].nunique() / app_msg['client_id'].nunique())"
   ]
  },
  {
   "cell_type": "markdown",
   "id": "d9a376b7",
   "metadata": {},
   "source": [
    "Т.е. после всех событий произвели покупку 93.4% уникальных пользователей в текущей выборке, и почти 7% проигнорировало.  \n",
    "В целом это очень хороший показатель."
   ]
  },
  {
   "cell_type": "code",
   "execution_count": 353,
   "id": "b1d18d3f",
   "metadata": {},
   "outputs": [
    {
     "data": {
      "application/vnd.microsoft.datawrangler.viewer.v0+json": {
       "columns": [
        {
         "name": "index",
         "rawType": "int64",
         "type": "integer"
        },
        {
         "name": "client_id",
         "rawType": "int64",
         "type": "integer"
        },
        {
         "name": "quantity",
         "rawType": "int64",
         "type": "integer"
        },
        {
         "name": "price",
         "rawType": "float64",
         "type": "float"
        },
        {
         "name": "category_ids",
         "rawType": "object",
         "type": "string"
        },
        {
         "name": "date",
         "rawType": "object",
         "type": "string"
        },
        {
         "name": "message_id",
         "rawType": "object",
         "type": "string"
        }
       ],
       "ref": "2f92cf69-2823-4bd1-864d-74385cd3210e",
       "rows": [
        [
         "22153",
         "1515915625558323436",
         "1",
         "1.0",
         "[]",
         "2022-07-09",
         "1515915625487742246-5335-62c7d2d1281c7"
        ],
        [
         "22154",
         "1515915625558323436",
         "1",
         "1.0",
         "[]",
         "2022-07-09",
         "1515915625487742246-5335-62c7d2d1281c7"
        ],
        [
         "49215",
         "1515915625474537721",
         "1",
         "7.0",
         "[]",
         "2022-11-12",
         "1515915625474537721-7803-636dfed5eb8b6"
        ],
        [
         "53223",
         "1515915625720375281",
         "1",
         "5.0",
         "[]",
         "2022-11-13",
         "1515915625720375281-7818-636f6ec29a382"
        ],
        [
         "59056",
         "1515915625867975448",
         "1",
         "7.0",
         "[]",
         "2022-11-16",
         "1515915625766044118-7879-63748749d81b5"
        ],
        [
         "59057",
         "1515915625867975448",
         "1",
         "7.0",
         "[]",
         "2022-11-16",
         "1515915625766044118-7879-63748749d81b5"
        ],
        [
         "60268",
         "1515915625489294901",
         "1",
         "7.0",
         "[]",
         "2022-11-23",
         "1515915625489294901-8033-637dbe1f75aa9"
        ],
        [
         "60290",
         "1515915625490074212",
         "1",
         "5.0",
         "[]",
         "2022-11-23",
         "1515915625490074212-8033-637dbe1bc0afd"
        ],
        [
         "60291",
         "1515915625490074212",
         "1",
         "5.0",
         "[]",
         "2022-11-23",
         "1515915625490074212-8033-637dbe1bc0afd"
        ],
        [
         "60346",
         "1515915625493281183",
         "1",
         "5.0",
         "[]",
         "2022-11-23",
         "1515915625493281183-8033-637dbe370f66c"
        ],
        [
         "60347",
         "1515915625493281183",
         "1",
         "5.0",
         "[]",
         "2022-11-23",
         "1515915625493281183-8033-637dbe370f66c"
        ],
        [
         "60985",
         "1515915625841684833",
         "1",
         "8.0",
         "[]",
         "2022-11-25",
         "1515915625557466818-8082-637e2775587b9"
        ],
        [
         "60986",
         "1515915625841684833",
         "1",
         "8.0",
         "[]",
         "2022-11-25",
         "1515915625557466818-8082-637e2775587b9"
        ],
        [
         "60987",
         "1515915625841684833",
         "1",
         "6.0",
         "[]",
         "2022-11-25",
         "1515915625557466818-8082-637e2775587b9"
        ],
        [
         "60988",
         "1515915625841684833",
         "1",
         "6.0",
         "[]",
         "2022-11-25",
         "1515915625557466818-8082-637e2775587b9"
        ],
        [
         "61003",
         "1515915625862288599",
         "1",
         "10.0",
         "[]",
         "2022-11-25",
         "1515915625862288599-8131-637f83818d0cb"
        ],
        [
         "61004",
         "1515915625862288599",
         "1",
         "10.0",
         "[]",
         "2022-11-25",
         "1515915625862288599-8131-637f83818d0cb"
        ],
        [
         "61070",
         "1515915625484340126",
         "1",
         "7.0",
         "[]",
         "2022-11-26",
         "1515915625484340126-8169-6381ebae6a95b"
        ],
        [
         "61071",
         "1515915625484340126",
         "1",
         "7.0",
         "[]",
         "2022-11-26",
         "1515915625484340126-8169-6381ebae6a95b"
        ],
        [
         "61086",
         "1515915625487990902",
         "1",
         "7.0",
         "[]",
         "2022-11-26",
         "1515915625487990902-8169-6381ebae95854"
        ],
        [
         "61087",
         "1515915625487990902",
         "1",
         "7.0",
         "[]",
         "2022-11-26",
         "1515915625487990902-8169-6381ebae95854"
        ],
        [
         "61127",
         "1515915625491017579",
         "1",
         "5.0",
         "[]",
         "2022-11-26",
         "1515915625491017579-8033-637dbe5987441"
        ],
        [
         "61128",
         "1515915625491017579",
         "1",
         "5.0",
         "[]",
         "2022-11-26",
         "1515915625491017579-8033-637dbe5987441"
        ],
        [
         "61196",
         "1515915625544054208",
         "1",
         "5.0",
         "[]",
         "2022-11-26",
         "1515915625544054208-8082-637e2774c1c04"
        ],
        [
         "61305",
         "1515915625573900827",
         "1",
         "7.0",
         "[]",
         "2022-11-26",
         "1515915625573900827-8082-637e27774d215"
        ],
        [
         "61306",
         "1515915625573900827",
         "1",
         "7.0",
         "[]",
         "2022-11-26",
         "1515915625573900827-8082-637e27774d215"
        ],
        [
         "61322",
         "1515915625577012947",
         "1",
         "5.0",
         "[]",
         "2022-11-26",
         "1515915625577012947-8082-637e2777a7381"
        ],
        [
         "61323",
         "1515915625577012947",
         "1",
         "5.0",
         "[]",
         "2022-11-26",
         "1515915625577012947-8082-637e2777a7381"
        ],
        [
         "61442",
         "1515915625780957132",
         "1",
         "7.0",
         "[]",
         "2022-11-26",
         "1515915625780957132-8033-637dbe1e3304e"
        ],
        [
         "61443",
         "1515915625780957132",
         "1",
         "7.0",
         "[]",
         "2022-11-26",
         "1515915625780957132-8033-637dbe1e3304e"
        ],
        [
         "61468",
         "1515915625831585819",
         "1",
         "7.0",
         "[]",
         "2022-11-26",
         "1515915625831585819-8169-6381ebc679ca1"
        ],
        [
         "61469",
         "1515915625831585819",
         "1",
         "7.0",
         "[]",
         "2022-11-26",
         "1515915625831585819-8169-6381ebc679ca1"
        ],
        [
         "61623",
         "1515915625490616841",
         "1",
         "5.0",
         "[]",
         "2022-11-27",
         "1515915625490616841-8169-6381ebaf7d2f7"
        ],
        [
         "61624",
         "1515915625490616841",
         "1",
         "5.0",
         "[]",
         "2022-11-27",
         "1515915625490616841-8169-6381ebaf7d2f7"
        ],
        [
         "61722",
         "1515915625564383551",
         "1",
         "5.0",
         "[]",
         "2022-11-27",
         "1515915625564383551-8169-6381ebb565ef7"
        ],
        [
         "61723",
         "1515915625564383551",
         "1",
         "5.0",
         "[]",
         "2022-11-27",
         "1515915625564383551-8169-6381ebb565ef7"
        ],
        [
         "61770",
         "1515915625577311275",
         "1",
         "7.0",
         "[]",
         "2022-11-27",
         "1515915625815096168-8169-6381ebc501bd6"
        ],
        [
         "61771",
         "1515915625577311275",
         "1",
         "7.0",
         "[]",
         "2022-11-27",
         "1515915625815096168-8169-6381ebc501bd6"
        ],
        [
         "61789",
         "1515915625583244183",
         "1",
         "7.0",
         "[]",
         "2022-11-27",
         "1515915625583244183-8169-6381ebb70891c"
        ],
        [
         "61790",
         "1515915625583244183",
         "1",
         "7.0",
         "[]",
         "2022-11-27",
         "1515915625583244183-8169-6381ebb70891c"
        ],
        [
         "61860",
         "1515915625689243228",
         "1",
         "5.0",
         "[]",
         "2022-11-27",
         "1515915625689243228-8169-6381ebbc96437"
        ],
        [
         "61861",
         "1515915625689243228",
         "1",
         "5.0",
         "[]",
         "2022-11-27",
         "1515915625689243228-8169-6381ebbc96437"
        ],
        [
         "61862",
         "1515915625689243228",
         "1",
         "5.0",
         "[]",
         "2022-11-27",
         "1515915625689243228-8169-6381ebbc96437"
        ],
        [
         "61879",
         "1515915625827130384",
         "1",
         "7.0",
         "[]",
         "2022-11-27",
         "1515915625827130384-8169-6381ebc64e5d2"
        ],
        [
         "61880",
         "1515915625827130384",
         "1",
         "7.0",
         "[]",
         "2022-11-27",
         "1515915625827130384-8169-6381ebc64e5d2"
        ],
        [
         "61936",
         "1515915625472205475",
         "1",
         "7.0",
         "[]",
         "2022-11-28",
         "1515915625472205475-8218-63848a5fe5b67"
        ],
        [
         "61937",
         "1515915625472205475",
         "1",
         "7.0",
         "[]",
         "2022-11-28",
         "1515915625472205475-8218-63848a5fe5b67"
        ],
        [
         "61940",
         "1515915625481170342",
         "1",
         "7.0",
         "[]",
         "2022-11-28",
         "1515915625481170342-8218-63848a6cde582"
        ],
        [
         "61941",
         "1515915625481170342",
         "1",
         "7.0",
         "[]",
         "2022-11-28",
         "1515915625481170342-8218-63848a6cde582"
        ],
        [
         "61957",
         "1515915625488692640",
         "1",
         "10.0",
         "[]",
         "2022-11-28",
         "1515915625488692640-8218-63848a76ca8ac"
        ]
       ],
       "shape": {
        "columns": 6,
        "rows": 5579
       }
      },
      "text/html": [
       "<div>\n",
       "<style scoped>\n",
       "    .dataframe tbody tr th:only-of-type {\n",
       "        vertical-align: middle;\n",
       "    }\n",
       "\n",
       "    .dataframe tbody tr th {\n",
       "        vertical-align: top;\n",
       "    }\n",
       "\n",
       "    .dataframe thead th {\n",
       "        text-align: right;\n",
       "    }\n",
       "</style>\n",
       "<table border=\"1\" class=\"dataframe\">\n",
       "  <thead>\n",
       "    <tr style=\"text-align: right;\">\n",
       "      <th></th>\n",
       "      <th>client_id</th>\n",
       "      <th>quantity</th>\n",
       "      <th>price</th>\n",
       "      <th>category_ids</th>\n",
       "      <th>date</th>\n",
       "      <th>message_id</th>\n",
       "    </tr>\n",
       "  </thead>\n",
       "  <tbody>\n",
       "    <tr>\n",
       "      <th>22153</th>\n",
       "      <td>1515915625558323436</td>\n",
       "      <td>1</td>\n",
       "      <td>1.0</td>\n",
       "      <td>[]</td>\n",
       "      <td>2022-07-09</td>\n",
       "      <td>1515915625487742246-5335-62c7d2d1281c7</td>\n",
       "    </tr>\n",
       "    <tr>\n",
       "      <th>22154</th>\n",
       "      <td>1515915625558323436</td>\n",
       "      <td>1</td>\n",
       "      <td>1.0</td>\n",
       "      <td>[]</td>\n",
       "      <td>2022-07-09</td>\n",
       "      <td>1515915625487742246-5335-62c7d2d1281c7</td>\n",
       "    </tr>\n",
       "    <tr>\n",
       "      <th>49215</th>\n",
       "      <td>1515915625474537721</td>\n",
       "      <td>1</td>\n",
       "      <td>7.0</td>\n",
       "      <td>[]</td>\n",
       "      <td>2022-11-12</td>\n",
       "      <td>1515915625474537721-7803-636dfed5eb8b6</td>\n",
       "    </tr>\n",
       "    <tr>\n",
       "      <th>53223</th>\n",
       "      <td>1515915625720375281</td>\n",
       "      <td>1</td>\n",
       "      <td>5.0</td>\n",
       "      <td>[]</td>\n",
       "      <td>2022-11-13</td>\n",
       "      <td>1515915625720375281-7818-636f6ec29a382</td>\n",
       "    </tr>\n",
       "    <tr>\n",
       "      <th>59056</th>\n",
       "      <td>1515915625867975448</td>\n",
       "      <td>1</td>\n",
       "      <td>7.0</td>\n",
       "      <td>[]</td>\n",
       "      <td>2022-11-16</td>\n",
       "      <td>1515915625766044118-7879-63748749d81b5</td>\n",
       "    </tr>\n",
       "    <tr>\n",
       "      <th>...</th>\n",
       "      <td>...</td>\n",
       "      <td>...</td>\n",
       "      <td>...</td>\n",
       "      <td>...</td>\n",
       "      <td>...</td>\n",
       "      <td>...</td>\n",
       "    </tr>\n",
       "    <tr>\n",
       "      <th>201990</th>\n",
       "      <td>1515915625641742458</td>\n",
       "      <td>1</td>\n",
       "      <td>7.0</td>\n",
       "      <td>[]</td>\n",
       "      <td>2024-02-16</td>\n",
       "      <td>1515915625766077627-14668-65cf5246bd490</td>\n",
       "    </tr>\n",
       "    <tr>\n",
       "      <th>202068</th>\n",
       "      <td>1515915625955716904</td>\n",
       "      <td>1</td>\n",
       "      <td>7.0</td>\n",
       "      <td>[]</td>\n",
       "      <td>2024-02-16</td>\n",
       "      <td>1515915625955716904-14668-65cf5252e767c</td>\n",
       "    </tr>\n",
       "    <tr>\n",
       "      <th>202069</th>\n",
       "      <td>1515915625955716904</td>\n",
       "      <td>1</td>\n",
       "      <td>7.0</td>\n",
       "      <td>[]</td>\n",
       "      <td>2024-02-16</td>\n",
       "      <td>1515915625955716904-14668-65cf5252e767c</td>\n",
       "    </tr>\n",
       "    <tr>\n",
       "      <th>202144</th>\n",
       "      <td>1515915626007712189</td>\n",
       "      <td>1</td>\n",
       "      <td>12.0</td>\n",
       "      <td>[]</td>\n",
       "      <td>2024-02-16</td>\n",
       "      <td>1515915626007712189-14648-65cdb6d1c0c2a</td>\n",
       "    </tr>\n",
       "    <tr>\n",
       "      <th>202145</th>\n",
       "      <td>1515915626007712189</td>\n",
       "      <td>1</td>\n",
       "      <td>12.0</td>\n",
       "      <td>[]</td>\n",
       "      <td>2024-02-16</td>\n",
       "      <td>1515915626007712189-14648-65cdb6d1c0c2a</td>\n",
       "    </tr>\n",
       "  </tbody>\n",
       "</table>\n",
       "<p>5579 rows × 6 columns</p>\n",
       "</div>"
      ],
      "text/plain": [
       "                  client_id  quantity  price category_ids        date  \\\n",
       "22153   1515915625558323436         1    1.0           []  2022-07-09   \n",
       "22154   1515915625558323436         1    1.0           []  2022-07-09   \n",
       "49215   1515915625474537721         1    7.0           []  2022-11-12   \n",
       "53223   1515915625720375281         1    5.0           []  2022-11-13   \n",
       "59056   1515915625867975448         1    7.0           []  2022-11-16   \n",
       "...                     ...       ...    ...          ...         ...   \n",
       "201990  1515915625641742458         1    7.0           []  2024-02-16   \n",
       "202068  1515915625955716904         1    7.0           []  2024-02-16   \n",
       "202069  1515915625955716904         1    7.0           []  2024-02-16   \n",
       "202144  1515915626007712189         1   12.0           []  2024-02-16   \n",
       "202145  1515915626007712189         1   12.0           []  2024-02-16   \n",
       "\n",
       "                                     message_id  \n",
       "22153    1515915625487742246-5335-62c7d2d1281c7  \n",
       "22154    1515915625487742246-5335-62c7d2d1281c7  \n",
       "49215    1515915625474537721-7803-636dfed5eb8b6  \n",
       "53223    1515915625720375281-7818-636f6ec29a382  \n",
       "59056    1515915625766044118-7879-63748749d81b5  \n",
       "...                                         ...  \n",
       "201990  1515915625766077627-14668-65cf5246bd490  \n",
       "202068  1515915625955716904-14668-65cf5252e767c  \n",
       "202069  1515915625955716904-14668-65cf5252e767c  \n",
       "202144  1515915626007712189-14648-65cdb6d1c0c2a  \n",
       "202145  1515915626007712189-14648-65cdb6d1c0c2a  \n",
       "\n",
       "[5579 rows x 6 columns]"
      ]
     },
     "execution_count": 353,
     "metadata": {},
     "output_type": "execute_result"
    }
   ],
   "source": [
    "# и еще посмотрим категории\n",
    "app_prch[app_prch['category_ids'] == '[]']"
   ]
  },
  {
   "cell_type": "code",
   "execution_count": 354,
   "id": "9f0072da",
   "metadata": {},
   "outputs": [
    {
     "data": {
      "image/png": "[encoded data removed]",
      "text/plain": [
       "<Figure size 1200x1500 with 6 Axes>"
      ]
     },
     "metadata": {},
     "output_type": "display_data"
    }
   ],
   "source": [
    "# тут еще заодно проведем более глубокий анализ данных\n",
    "plot_combined(app_prch, col=None, target=None, col_type=None, legend_loc='best')"
   ]
  },
  {
   "cell_type": "code",
   "execution_count": 355,
   "id": "a5c4ba80",
   "metadata": {},
   "outputs": [
    {
     "data": {
      "application/vnd.microsoft.datawrangler.viewer.v0+json": {
       "columns": [
        {
         "name": "index",
         "rawType": "int64",
         "type": "integer"
        },
        {
         "name": "client_id",
         "rawType": "int64",
         "type": "integer"
        },
        {
         "name": "quantity",
         "rawType": "int64",
         "type": "integer"
        },
        {
         "name": "price",
         "rawType": "float64",
         "type": "float"
        },
        {
         "name": "category_ids",
         "rawType": "object",
         "type": "string"
        },
        {
         "name": "date",
         "rawType": "object",
         "type": "string"
        },
        {
         "name": "message_id",
         "rawType": "object",
         "type": "string"
        }
       ],
       "ref": "e48b9e08-ab20-409d-beaa-53eacacf8126",
       "rows": [
        [
         "20226",
         "1515915625558928490",
         "1",
         "2.0",
         "['5562', '5597', '5691', '889']",
         "2022-07-06",
         "1515915625558928490-5286-62c52c06da8ee"
        ],
        [
         "21424",
         "1515915625559762595",
         "10",
         "2.0",
         "['5562', '5597', '5691', '889']",
         "2022-07-08",
         "1515915625471544776-5335-62c7d2c4cc9fd"
        ],
        [
         "21425",
         "1515915625559762595",
         "10",
         "2.0",
         "['5562', '5597', '5691', '889']",
         "2022-07-08",
         "1515915625471544776-5335-62c7d2c4cc9fd"
        ],
        [
         "22153",
         "1515915625558323436",
         "1",
         "1.0",
         "[]",
         "2022-07-09",
         "1515915625487742246-5335-62c7d2d1281c7"
        ],
        [
         "22154",
         "1515915625558323436",
         "1",
         "1.0",
         "[]",
         "2022-07-09",
         "1515915625487742246-5335-62c7d2d1281c7"
        ],
        [
         "23702",
         "1515915625540239255",
         "25",
         "2.0",
         "['5562', '5597', '5691', '889']",
         "2022-07-14",
         "1515915625540239255-5403-62ce6dd7d68a1"
        ],
        [
         "23865",
         "1515915625740853027",
         "1",
         "2.0",
         "['5562', '5597', '5691', '889']",
         "2022-07-14",
         "1515915625491240655-5403-62ce6db70596e"
        ],
        [
         "23866",
         "1515915625740853027",
         "20",
         "2.0",
         "['5562', '5597', '5691', '889']",
         "2022-07-14",
         "1515915625491240655-5403-62ce6db70596e"
        ],
        [
         "23867",
         "1515915625740853027",
         "20",
         "2.0",
         "['5562', '5597', '5691', '889']",
         "2022-07-14",
         "1515915625491240655-5403-62ce6db70596e"
        ],
        [
         "25448",
         "1515915625500388501",
         "3",
         "2.0",
         "['5562', '5597', '5691', '889']",
         "2022-07-21",
         "1515915625500388501-5515-62d79a0994814"
        ],
        [
         "26788",
         "1515915625501345850",
         "2",
         "2.0",
         "['5562', '5597', '5691', '889']",
         "2022-07-28",
         "1515915625501345850-5679-62e251ad7c729"
        ],
        [
         "28835",
         "1515915625500339541",
         "1",
         "2.0",
         "['5562', '5597', '5691', '889']",
         "2022-08-04",
         "1515915625500339541-5801-62ea7f6e19dc1"
        ],
        [
         "28836",
         "1515915625500339541",
         "1",
         "2.0",
         "['5562', '5597', '5691', '889']",
         "2022-08-04",
         "1515915625500339541-5801-62ea7f6e19dc1"
        ],
        [
         "28837",
         "1515915625500339541",
         "1",
         "2.0",
         "['5562', '5597', '5691', '889']",
         "2022-08-04",
         "1515915625500339541-5801-62ea7f6e19dc1"
        ],
        [
         "28838",
         "1515915625500339541",
         "1",
         "2.0",
         "['5562', '5597', '5691', '889']",
         "2022-08-04",
         "1515915625500339541-5801-62ea7f6e19dc1"
        ],
        [
         "29321",
         "1515915625553851975",
         "1",
         "2.0",
         "['5562', '5597', '5691', '889']",
         "2022-08-05",
         "1515915625553851975-5784-62eb67777256b"
        ],
        [
         "31437",
         "1515915625487346390",
         "1",
         "2.0",
         "['5562', '5597', '5691', '889']",
         "2022-08-16",
         "1515915625566861559-5893-62fb442c100e9"
        ],
        [
         "32063",
         "1515915625490679651",
         "1",
         "1.0",
         "['4', '28', '44', '1594']",
         "2022-08-19",
         "1515915625490679651-5922-62ff354e68cd3"
        ],
        [
         "32064",
         "1515915625490679651",
         "1",
         "1.0",
         "['4', '28', '44', '1594']",
         "2022-08-19",
         "1515915625490679651-5922-62ff354e68cd3"
        ],
        [
         "32283",
         "1515915625578652401",
         "1",
         "1.0",
         "[None]",
         "2022-08-19",
         "1515915625815834300-5922-62ff35494e05f"
        ],
        [
         "32284",
         "1515915625578652401",
         "1",
         "1.0",
         "[None]",
         "2022-08-19",
         "1515915625815834300-5922-62ff35494e05f"
        ],
        [
         "34764",
         "1515915625489484833",
         "1",
         "1.0",
         "[None]",
         "2022-08-30",
         "1515915625489484833-6223-630c908c900eb"
        ],
        [
         "34765",
         "1515915625489484833",
         "1",
         "1.0",
         "[None]",
         "2022-08-30",
         "1515915625489484833-6223-630c908c900eb"
        ],
        [
         "35513",
         "1515915625500293160",
         "2",
         "2.0",
         "['5562', '5597', '5691', '889']",
         "2022-09-01",
         "1515915625500293160-6223-630c908929370"
        ],
        [
         "35514",
         "1515915625500293160",
         "2",
         "2.0",
         "['5562', '5597', '5691', '889']",
         "2022-09-01",
         "1515915625500293160-6223-630c908929370"
        ],
        [
         "35515",
         "1515915625500293160",
         "2",
         "2.0",
         "['5562', '5597', '5691', '889']",
         "2022-09-01",
         "1515915625500293160-6223-630c908929370"
        ],
        [
         "36682",
         "1515915625549584822",
         "1",
         "1.0",
         "[None]",
         "2022-09-05",
         "1515915625488164089-6251-6311b13197ff5"
        ],
        [
         "36683",
         "1515915625549584822",
         "1",
         "1.0",
         "[None]",
         "2022-09-05",
         "1515915625488164089-6251-6311b13197ff5"
        ],
        [
         "37005",
         "1515915625548883766",
         "30",
         "2.0",
         "['5562', '5597', '5691', '889']",
         "2022-09-06",
         "1515915625548883766-6283-6316e248bbbf9"
        ],
        [
         "37024",
         "1515915625557414971",
         "1",
         "1.0",
         "[None]",
         "2022-09-06",
         "1515915625557414971-6283-6316e233a8984"
        ],
        [
         "37025",
         "1515915625557414971",
         "1",
         "1.0",
         "[None]",
         "2022-09-06",
         "1515915625557414971-6283-6316e233a8984"
        ],
        [
         "37176",
         "1515915625815774023",
         "1",
         "1.0",
         "[None]",
         "2022-09-06",
         "1515915625815774023-6283-6316e22faf930"
        ],
        [
         "37177",
         "1515915625815774023",
         "1",
         "1.0",
         "[None]",
         "2022-09-06",
         "1515915625815774023-6283-6316e22faf930"
        ],
        [
         "37257",
         "1515915625487556549",
         "1",
         "1.0",
         "[None]",
         "2022-09-07",
         "1515915625487556549-6283-6316e2540811c"
        ],
        [
         "37258",
         "1515915625487556549",
         "1",
         "1.0",
         "[None]",
         "2022-09-07",
         "1515915625487556549-6283-6316e2540811c"
        ],
        [
         "37458",
         "1515915625661560387",
         "1",
         "1.0",
         "[None]",
         "2022-09-07",
         "1515915625661560387-6384-6317018db0491"
        ],
        [
         "37459",
         "1515915625661560387",
         "1",
         "1.0",
         "[None]",
         "2022-09-07",
         "1515915625661560387-6384-6317018db0491"
        ],
        [
         "37488",
         "1515915625468214193",
         "1",
         "2.0",
         "['4', '27', '84', '1382']",
         "2022-09-08",
         "1515915625468214193-6401-6319eae266d00"
        ],
        [
         "37640",
         "1515915625640962488",
         "1",
         "2.0",
         "[None]",
         "2022-09-08",
         "1515915625640962488-6400-63189ce8ea967"
        ],
        [
         "37641",
         "1515915625640962488",
         "1",
         "2.0",
         "[None]",
         "2022-09-08",
         "1515915625640962488-6400-63189ce8ea967"
        ],
        [
         "37642",
         "1515915625640962488",
         "1",
         "1.0",
         "[None]",
         "2022-09-08",
         "1515915625640962488-6400-63189ce8ea967"
        ],
        [
         "37643",
         "1515915625640962488",
         "1",
         "1.0",
         "[None]",
         "2022-09-08",
         "1515915625640962488-6400-63189ce8ea967"
        ],
        [
         "37826",
         "1515915625488041632",
         "1",
         "2.0",
         "['5562', '5597', '5691', '889']",
         "2022-09-09",
         "1515915625488041632-6336-63198505ee106"
        ],
        [
         "37827",
         "1515915625488041632",
         "1",
         "2.0",
         "['5562', '5597', '5691', '889']",
         "2022-09-09",
         "1515915625488041632-6336-63198505ee106"
        ],
        [
         "37828",
         "1515915625488041632",
         "1",
         "2.0",
         "['5562', '5597', '5691', '889']",
         "2022-09-09",
         "1515915625488041632-6336-63198505ee106"
        ],
        [
         "37829",
         "1515915625488041632",
         "1",
         "2.0",
         "['5562', '5597', '5691', '889']",
         "2022-09-09",
         "1515915625488041632-6336-63198505ee106"
        ],
        [
         "37830",
         "1515915625488041632",
         "1",
         "2.0",
         "['5562', '5597', '5691', '889']",
         "2022-09-09",
         "1515915625488041632-6336-63198505ee106"
        ],
        [
         "37831",
         "1515915625488041632",
         "1",
         "2.0",
         "['5562', '5597', '5691', '889']",
         "2022-09-09",
         "1515915625488041632-6336-63198505ee106"
        ],
        [
         "37832",
         "1515915625488041632",
         "1",
         "2.0",
         "['5562', '5597', '5691', '889']",
         "2022-09-09",
         "1515915625488041632-6336-63198505ee106"
        ],
        [
         "37833",
         "1515915625488041632",
         "1",
         "2.0",
         "['5562', '5597', '5691', '889']",
         "2022-09-09",
         "1515915625488041632-6336-63198505ee106"
        ]
       ],
       "shape": {
        "columns": 6,
        "rows": 1818
       }
      },
      "text/html": [
       "<div>\n",
       "<style scoped>\n",
       "    .dataframe tbody tr th:only-of-type {\n",
       "        vertical-align: middle;\n",
       "    }\n",
       "\n",
       "    .dataframe tbody tr th {\n",
       "        vertical-align: top;\n",
       "    }\n",
       "\n",
       "    .dataframe thead th {\n",
       "        text-align: right;\n",
       "    }\n",
       "</style>\n",
       "<table border=\"1\" class=\"dataframe\">\n",
       "  <thead>\n",
       "    <tr style=\"text-align: right;\">\n",
       "      <th></th>\n",
       "      <th>client_id</th>\n",
       "      <th>quantity</th>\n",
       "      <th>price</th>\n",
       "      <th>category_ids</th>\n",
       "      <th>date</th>\n",
       "      <th>message_id</th>\n",
       "    </tr>\n",
       "  </thead>\n",
       "  <tbody>\n",
       "    <tr>\n",
       "      <th>20226</th>\n",
       "      <td>1515915625558928490</td>\n",
       "      <td>1</td>\n",
       "      <td>2.0</td>\n",
       "      <td>['5562', '5597', '5691', '889']</td>\n",
       "      <td>2022-07-06</td>\n",
       "      <td>1515915625558928490-5286-62c52c06da8ee</td>\n",
       "    </tr>\n",
       "    <tr>\n",
       "      <th>21424</th>\n",
       "      <td>1515915625559762595</td>\n",
       "      <td>10</td>\n",
       "      <td>2.0</td>\n",
       "      <td>['5562', '5597', '5691', '889']</td>\n",
       "      <td>2022-07-08</td>\n",
       "      <td>1515915625471544776-5335-62c7d2c4cc9fd</td>\n",
       "    </tr>\n",
       "    <tr>\n",
       "      <th>21425</th>\n",
       "      <td>1515915625559762595</td>\n",
       "      <td>10</td>\n",
       "      <td>2.0</td>\n",
       "      <td>['5562', '5597', '5691', '889']</td>\n",
       "      <td>2022-07-08</td>\n",
       "      <td>1515915625471544776-5335-62c7d2c4cc9fd</td>\n",
       "    </tr>\n",
       "    <tr>\n",
       "      <th>22153</th>\n",
       "      <td>1515915625558323436</td>\n",
       "      <td>1</td>\n",
       "      <td>1.0</td>\n",
       "      <td>[]</td>\n",
       "      <td>2022-07-09</td>\n",
       "      <td>1515915625487742246-5335-62c7d2d1281c7</td>\n",
       "    </tr>\n",
       "    <tr>\n",
       "      <th>22154</th>\n",
       "      <td>1515915625558323436</td>\n",
       "      <td>1</td>\n",
       "      <td>1.0</td>\n",
       "      <td>[]</td>\n",
       "      <td>2022-07-09</td>\n",
       "      <td>1515915625487742246-5335-62c7d2d1281c7</td>\n",
       "    </tr>\n",
       "    <tr>\n",
       "      <th>...</th>\n",
       "      <td>...</td>\n",
       "      <td>...</td>\n",
       "      <td>...</td>\n",
       "      <td>...</td>\n",
       "      <td>...</td>\n",
       "      <td>...</td>\n",
       "    </tr>\n",
       "    <tr>\n",
       "      <th>199858</th>\n",
       "      <td>1515915625648416429</td>\n",
       "      <td>1</td>\n",
       "      <td>2.0</td>\n",
       "      <td>[]</td>\n",
       "      <td>2024-02-09</td>\n",
       "      <td>1515915625648416429-14627-65c64f90a6f73</td>\n",
       "    </tr>\n",
       "    <tr>\n",
       "      <th>199859</th>\n",
       "      <td>1515915625648416429</td>\n",
       "      <td>1</td>\n",
       "      <td>2.0</td>\n",
       "      <td>[]</td>\n",
       "      <td>2024-02-09</td>\n",
       "      <td>1515915625648416429-14627-65c64f90a6f73</td>\n",
       "    </tr>\n",
       "    <tr>\n",
       "      <th>201246</th>\n",
       "      <td>1515915625558967191</td>\n",
       "      <td>1</td>\n",
       "      <td>1.0</td>\n",
       "      <td>[]</td>\n",
       "      <td>2024-02-14</td>\n",
       "      <td>1515915625980158750-14649-65cca1c3cc334</td>\n",
       "    </tr>\n",
       "    <tr>\n",
       "      <th>201247</th>\n",
       "      <td>1515915625558967191</td>\n",
       "      <td>1</td>\n",
       "      <td>1.0</td>\n",
       "      <td>[]</td>\n",
       "      <td>2024-02-14</td>\n",
       "      <td>1515915625980158750-14649-65cca1c3cc334</td>\n",
       "    </tr>\n",
       "    <tr>\n",
       "      <th>201933</th>\n",
       "      <td>1515915625578473908</td>\n",
       "      <td>1</td>\n",
       "      <td>2.0</td>\n",
       "      <td>['5562', '5589', '5624', '1690']</td>\n",
       "      <td>2024-02-16</td>\n",
       "      <td>1515915625578473908-14656-65cdbeaa81cf6</td>\n",
       "    </tr>\n",
       "  </tbody>\n",
       "</table>\n",
       "<p>1818 rows × 6 columns</p>\n",
       "</div>"
      ],
      "text/plain": [
       "                  client_id  quantity  price  \\\n",
       "20226   1515915625558928490         1    2.0   \n",
       "21424   1515915625559762595        10    2.0   \n",
       "21425   1515915625559762595        10    2.0   \n",
       "22153   1515915625558323436         1    1.0   \n",
       "22154   1515915625558323436         1    1.0   \n",
       "...                     ...       ...    ...   \n",
       "199858  1515915625648416429         1    2.0   \n",
       "199859  1515915625648416429         1    2.0   \n",
       "201246  1515915625558967191         1    1.0   \n",
       "201247  1515915625558967191         1    1.0   \n",
       "201933  1515915625578473908         1    2.0   \n",
       "\n",
       "                            category_ids        date  \\\n",
       "20226    ['5562', '5597', '5691', '889']  2022-07-06   \n",
       "21424    ['5562', '5597', '5691', '889']  2022-07-08   \n",
       "21425    ['5562', '5597', '5691', '889']  2022-07-08   \n",
       "22153                                 []  2022-07-09   \n",
       "22154                                 []  2022-07-09   \n",
       "...                                  ...         ...   \n",
       "199858                                []  2024-02-09   \n",
       "199859                                []  2024-02-09   \n",
       "201246                                []  2024-02-14   \n",
       "201247                                []  2024-02-14   \n",
       "201933  ['5562', '5589', '5624', '1690']  2024-02-16   \n",
       "\n",
       "                                     message_id  \n",
       "20226    1515915625558928490-5286-62c52c06da8ee  \n",
       "21424    1515915625471544776-5335-62c7d2c4cc9fd  \n",
       "21425    1515915625471544776-5335-62c7d2c4cc9fd  \n",
       "22153    1515915625487742246-5335-62c7d2d1281c7  \n",
       "22154    1515915625487742246-5335-62c7d2d1281c7  \n",
       "...                                         ...  \n",
       "199858  1515915625648416429-14627-65c64f90a6f73  \n",
       "199859  1515915625648416429-14627-65c64f90a6f73  \n",
       "201246  1515915625980158750-14649-65cca1c3cc334  \n",
       "201247  1515915625980158750-14649-65cca1c3cc334  \n",
       "201933  1515915625578473908-14656-65cdbeaa81cf6  \n",
       "\n",
       "[1818 rows x 6 columns]"
      ]
     },
     "execution_count": 355,
     "metadata": {},
     "output_type": "execute_result"
    }
   ],
   "source": [
    "# здесь нам интересно глянуть цены, сколько нулей и где\n",
    "app_prch[app_prch['price'] < 3]"
   ]
  },
  {
   "cell_type": "markdown",
   "id": "ecd577d2",
   "metadata": {},
   "source": [
    "Нулевых нет, уже хорошо.  \n",
    "Ну, а цена в одну единицу в целом бывает.  \n",
    "Также видим, что появились непонятные категории - пустые или None, что тоже не очень хорошо, но их обработает дальше."
   ]
  },
  {
   "cell_type": "markdown",
   "id": "0aa1603e",
   "metadata": {},
   "source": [
    "Выводы:  \n",
    "Столбец  date имеет неверный формат данных - необходимо будет преобразовать.  \n",
    "Столбец category_ids - тут 2 варианта развития событий:  \n",
    "- возьмем только глобальную категорию и конкретный товар, т.е. 1е и последнее значение;  \n",
    "- можно будет преобразовывать в разряженную матрица, т.к. небольшой объем данных  \n",
    "ну и потом с такой матрицей умеет работать xgboost который и будем использовать в предсказаниях;"
   ]
  },
  {
   "cell_type": "markdown",
   "id": "76610a6f",
   "metadata": {},
   "source": [
    "#### app_target"
   ]
  },
  {
   "cell_type": "code",
   "execution_count": 356,
   "id": "eecec9a7",
   "metadata": {},
   "outputs": [
    {
     "data": {
      "text/html": [
       "<span style='font-size: 1.5em; font-weight: bold; font-style: italic;'>Общая информация базы данных</span>"
      ],
      "text/plain": [
       "<IPython.core.display.HTML object>"
      ]
     },
     "metadata": {},
     "output_type": "display_data"
    },
    {
     "name": "stdout",
     "output_type": "stream",
     "text": [
      "<class 'pandas.core.frame.DataFrame'>\n",
      "RangeIndex: 49849 entries, 0 to 49848\n",
      "Data columns (total 2 columns):\n",
      " #   Column     Non-Null Count  Dtype\n",
      "---  ------     --------------  -----\n",
      " 0   client_id  49849 non-null  int64\n",
      " 1   target     49849 non-null  int64\n",
      "dtypes: int64(2)\n",
      "memory usage: 779.0 KB\n"
     ]
    },
    {
     "data": {
      "text/plain": [
       "None"
      ]
     },
     "metadata": {},
     "output_type": "display_data"
    },
    {
     "data": {
      "text/html": [
       "<span style='font-size: 1.5em; font-weight: bold; font-style: italic;'>5 случайных строк</span>"
      ],
      "text/plain": [
       "<IPython.core.display.HTML object>"
      ]
     },
     "metadata": {},
     "output_type": "display_data"
    },
    {
     "data": {
      "application/vnd.microsoft.datawrangler.viewer.v0+json": {
       "columns": [
        {
         "name": "index",
         "rawType": "int64",
         "type": "integer"
        },
        {
         "name": "client_id",
         "rawType": "int64",
         "type": "integer"
        },
        {
         "name": "target",
         "rawType": "int64",
         "type": "integer"
        }
       ],
       "ref": "0aad7d5e-8359-48a2-85f5-a578975f7634",
       "rows": [
        [
         "35191",
         "1515915625594341406",
         "0"
        ],
        [
         "16131",
         "1515915625491263785",
         "0"
        ],
        [
         "34997",
         "1515915625591285759",
         "0"
        ],
        [
         "11619",
         "1515915625489659005",
         "0"
        ],
        [
         "22913",
         "1515915625544014205",
         "0"
        ]
       ],
       "shape": {
        "columns": 2,
        "rows": 5
       }
      },
      "text/html": [
       "<div>\n",
       "<style scoped>\n",
       "    .dataframe tbody tr th:only-of-type {\n",
       "        vertical-align: middle;\n",
       "    }\n",
       "\n",
       "    .dataframe tbody tr th {\n",
       "        vertical-align: top;\n",
       "    }\n",
       "\n",
       "    .dataframe thead th {\n",
       "        text-align: right;\n",
       "    }\n",
       "</style>\n",
       "<table border=\"1\" class=\"dataframe\">\n",
       "  <thead>\n",
       "    <tr style=\"text-align: right;\">\n",
       "      <th></th>\n",
       "      <th>client_id</th>\n",
       "      <th>target</th>\n",
       "    </tr>\n",
       "  </thead>\n",
       "  <tbody>\n",
       "    <tr>\n",
       "      <th>35191</th>\n",
       "      <td>1515915625594341406</td>\n",
       "      <td>0</td>\n",
       "    </tr>\n",
       "    <tr>\n",
       "      <th>16131</th>\n",
       "      <td>1515915625491263785</td>\n",
       "      <td>0</td>\n",
       "    </tr>\n",
       "    <tr>\n",
       "      <th>34997</th>\n",
       "      <td>1515915625591285759</td>\n",
       "      <td>0</td>\n",
       "    </tr>\n",
       "    <tr>\n",
       "      <th>11619</th>\n",
       "      <td>1515915625489659005</td>\n",
       "      <td>0</td>\n",
       "    </tr>\n",
       "    <tr>\n",
       "      <th>22913</th>\n",
       "      <td>1515915625544014205</td>\n",
       "      <td>0</td>\n",
       "    </tr>\n",
       "  </tbody>\n",
       "</table>\n",
       "</div>"
      ],
      "text/plain": [
       "                 client_id  target\n",
       "35191  1515915625594341406       0\n",
       "16131  1515915625491263785       0\n",
       "34997  1515915625591285759       0\n",
       "11619  1515915625489659005       0\n",
       "22913  1515915625544014205       0"
      ]
     },
     "metadata": {},
     "output_type": "display_data"
    },
    {
     "data": {
      "text/html": [
       "<span style='font-size: 1.5em; font-weight: bold; font-style: italic;'>Число пропусков в базе данных</span>"
      ],
      "text/plain": [
       "<IPython.core.display.HTML object>"
      ]
     },
     "metadata": {},
     "output_type": "display_data"
    },
    {
     "data": {
      "application/vnd.microsoft.datawrangler.viewer.v0+json": {
       "columns": [
        {
         "name": "index",
         "rawType": "object",
         "type": "string"
        },
        {
         "name": "0",
         "rawType": "int64",
         "type": "integer"
        }
       ],
       "ref": "968858b5-9548-4f49-ae5f-ee44368dc079",
       "rows": [],
       "shape": {
        "columns": 1,
        "rows": 0
       }
      },
      "text/plain": [
       "Series([], dtype: int64)"
      ]
     },
     "metadata": {},
     "output_type": "display_data"
    },
    {
     "data": {
      "text/plain": [
       "None"
      ]
     },
     "metadata": {},
     "output_type": "display_data"
    },
    {
     "data": {
      "text/html": [
       "<span style='font-size: 1.5em; font-weight: bold; font-style: italic;'>Характеристики базы данных</span>"
      ],
      "text/plain": [
       "<IPython.core.display.HTML object>"
      ]
     },
     "metadata": {},
     "output_type": "display_data"
    },
    {
     "data": {
      "application/vnd.microsoft.datawrangler.viewer.v0+json": {
       "columns": [
        {
         "name": "index",
         "rawType": "object",
         "type": "string"
        },
        {
         "name": "count",
         "rawType": "float64",
         "type": "float"
        },
        {
         "name": "mean",
         "rawType": "float64",
         "type": "float"
        },
        {
         "name": "std",
         "rawType": "float64",
         "type": "float"
        },
        {
         "name": "min",
         "rawType": "float64",
         "type": "float"
        },
        {
         "name": "25%",
         "rawType": "float64",
         "type": "float"
        },
        {
         "name": "50%",
         "rawType": "float64",
         "type": "float"
        },
        {
         "name": "75%",
         "rawType": "float64",
         "type": "float"
        },
        {
         "name": "max",
         "rawType": "float64",
         "type": "float"
        }
       ],
       "ref": "b0880575-45d6-499d-8db4-2813edeee07a",
       "rows": [
        [
         "client_id",
         "49849.0",
         "1.515915625598796e+18",
         "148794654.89060703",
         "1.515915625468061e+18",
         "1.5159156254899727e+18",
         "1.515915625556615e+18",
         "1.5159156256334088e+18",
         "1.5159156260104435e+18"
        ],
        [
         "target",
         "49849.0",
         "0.01927822022507974",
         "0.13750254446542706",
         "0.0",
         "0.0",
         "0.0",
         "0.0",
         "1.0"
        ]
       ],
       "shape": {
        "columns": 8,
        "rows": 2
       }
      },
      "text/html": [
       "<div>\n",
       "<style scoped>\n",
       "    .dataframe tbody tr th:only-of-type {\n",
       "        vertical-align: middle;\n",
       "    }\n",
       "\n",
       "    .dataframe tbody tr th {\n",
       "        vertical-align: top;\n",
       "    }\n",
       "\n",
       "    .dataframe thead th {\n",
       "        text-align: right;\n",
       "    }\n",
       "</style>\n",
       "<table border=\"1\" class=\"dataframe\">\n",
       "  <thead>\n",
       "    <tr style=\"text-align: right;\">\n",
       "      <th></th>\n",
       "      <th>count</th>\n",
       "      <th>mean</th>\n",
       "      <th>std</th>\n",
       "      <th>min</th>\n",
       "      <th>25%</th>\n",
       "      <th>50%</th>\n",
       "      <th>75%</th>\n",
       "      <th>max</th>\n",
       "    </tr>\n",
       "  </thead>\n",
       "  <tbody>\n",
       "    <tr>\n",
       "      <th>client_id</th>\n",
       "      <td>49849.0</td>\n",
       "      <td>1.515916e+18</td>\n",
       "      <td>1.487947e+08</td>\n",
       "      <td>1.515916e+18</td>\n",
       "      <td>1.515916e+18</td>\n",
       "      <td>1.515916e+18</td>\n",
       "      <td>1.515916e+18</td>\n",
       "      <td>1.515916e+18</td>\n",
       "    </tr>\n",
       "    <tr>\n",
       "      <th>target</th>\n",
       "      <td>49849.0</td>\n",
       "      <td>1.927822e-02</td>\n",
       "      <td>1.375025e-01</td>\n",
       "      <td>0.000000e+00</td>\n",
       "      <td>0.000000e+00</td>\n",
       "      <td>0.000000e+00</td>\n",
       "      <td>0.000000e+00</td>\n",
       "      <td>1.000000e+00</td>\n",
       "    </tr>\n",
       "  </tbody>\n",
       "</table>\n",
       "</div>"
      ],
      "text/plain": [
       "             count          mean           std           min           25%  \\\n",
       "client_id  49849.0  1.515916e+18  1.487947e+08  1.515916e+18  1.515916e+18   \n",
       "target     49849.0  1.927822e-02  1.375025e-01  0.000000e+00  0.000000e+00   \n",
       "\n",
       "                    50%           75%           max  \n",
       "client_id  1.515916e+18  1.515916e+18  1.515916e+18  \n",
       "target     0.000000e+00  0.000000e+00  1.000000e+00  "
      ]
     },
     "metadata": {},
     "output_type": "display_data"
    }
   ],
   "source": [
    "app_target = check_data(app_target)"
   ]
  },
  {
   "cell_type": "markdown",
   "id": "2f3bf49b",
   "metadata": {},
   "source": [
    "Выводы:  \n",
    "Ну тут все понятно, обсуждать нечего"
   ]
  },
  {
   "cell_type": "markdown",
   "id": "ded99126",
   "metadata": {},
   "source": [
    "#### event_type"
   ]
  },
  {
   "cell_type": "code",
   "execution_count": 357,
   "id": "722d7e90",
   "metadata": {},
   "outputs": [
    {
     "data": {
      "text/html": [
       "<span style='font-size: 1.5em; font-weight: bold; font-style: italic;'>Общая информация базы данных</span>"
      ],
      "text/plain": [
       "<IPython.core.display.HTML object>"
      ]
     },
     "metadata": {},
     "output_type": "display_data"
    },
    {
     "name": "stdout",
     "output_type": "stream",
     "text": [
      "<class 'pandas.core.frame.DataFrame'>\n",
      "RangeIndex: 131072 entries, 0 to 131071\n",
      "Data columns (total 24 columns):\n",
      " #   Column               Non-Null Count   Dtype \n",
      "---  ------               --------------   ----- \n",
      " 0   date                 131072 non-null  object\n",
      " 1   bulk_campaign_id     131072 non-null  int64 \n",
      " 2   count_click          131072 non-null  int64 \n",
      " 3   count_complain       131072 non-null  int64 \n",
      " 4   count_hard_bounce    131072 non-null  int64 \n",
      " 5   count_open           131072 non-null  int64 \n",
      " 6   count_purchase       131072 non-null  int64 \n",
      " 7   count_send           131072 non-null  int64 \n",
      " 8   count_soft_bounce    131072 non-null  int64 \n",
      " 9   count_subscribe      131072 non-null  int64 \n",
      " 10  count_unsubscribe    131072 non-null  int64 \n",
      " 11  nunique_click        131072 non-null  int64 \n",
      " 12  nunique_complain     131072 non-null  int64 \n",
      " 13  nunique_hard_bounce  131072 non-null  int64 \n",
      " 14  nunique_open         131072 non-null  int64 \n",
      " 15  nunique_purchase     131072 non-null  int64 \n",
      " 16  nunique_send         131072 non-null  int64 \n",
      " 17  nunique_soft_bounce  131072 non-null  int64 \n",
      " 18  nunique_subscribe    131072 non-null  int64 \n",
      " 19  nunique_unsubscribe  131072 non-null  int64 \n",
      " 20  count_hbq_spam       131072 non-null  int64 \n",
      " 21  nunique_hbq_spam     131072 non-null  int64 \n",
      " 22  count_close          131072 non-null  int64 \n",
      " 23  nunique_close        131072 non-null  int64 \n",
      "dtypes: int64(23), object(1)\n",
      "memory usage: 24.0+ MB\n"
     ]
    },
    {
     "data": {
      "text/plain": [
       "None"
      ]
     },
     "metadata": {},
     "output_type": "display_data"
    },
    {
     "data": {
      "text/html": [
       "<span style='font-size: 1.5em; font-weight: bold; font-style: italic;'>5 случайных строк</span>"
      ],
      "text/plain": [
       "<IPython.core.display.HTML object>"
      ]
     },
     "metadata": {},
     "output_type": "display_data"
    },
    {
     "data": {
      "application/vnd.microsoft.datawrangler.viewer.v0+json": {
       "columns": [
        {
         "name": "index",
         "rawType": "int64",
         "type": "integer"
        },
        {
         "name": "date",
         "rawType": "object",
         "type": "string"
        },
        {
         "name": "bulk_campaign_id",
         "rawType": "int64",
         "type": "integer"
        },
        {
         "name": "count_click",
         "rawType": "int64",
         "type": "integer"
        },
        {
         "name": "count_complain",
         "rawType": "int64",
         "type": "integer"
        },
        {
         "name": "count_hard_bounce",
         "rawType": "int64",
         "type": "integer"
        },
        {
         "name": "count_open",
         "rawType": "int64",
         "type": "integer"
        },
        {
         "name": "count_purchase",
         "rawType": "int64",
         "type": "integer"
        },
        {
         "name": "count_send",
         "rawType": "int64",
         "type": "integer"
        },
        {
         "name": "count_soft_bounce",
         "rawType": "int64",
         "type": "integer"
        },
        {
         "name": "count_subscribe",
         "rawType": "int64",
         "type": "integer"
        },
        {
         "name": "count_unsubscribe",
         "rawType": "int64",
         "type": "integer"
        },
        {
         "name": "nunique_click",
         "rawType": "int64",
         "type": "integer"
        },
        {
         "name": "nunique_complain",
         "rawType": "int64",
         "type": "integer"
        },
        {
         "name": "nunique_hard_bounce",
         "rawType": "int64",
         "type": "integer"
        },
        {
         "name": "nunique_open",
         "rawType": "int64",
         "type": "integer"
        },
        {
         "name": "nunique_purchase",
         "rawType": "int64",
         "type": "integer"
        },
        {
         "name": "nunique_send",
         "rawType": "int64",
         "type": "integer"
        },
        {
         "name": "nunique_soft_bounce",
         "rawType": "int64",
         "type": "integer"
        },
        {
         "name": "nunique_subscribe",
         "rawType": "int64",
         "type": "integer"
        },
        {
         "name": "nunique_unsubscribe",
         "rawType": "int64",
         "type": "integer"
        },
        {
         "name": "count_hbq_spam",
         "rawType": "int64",
         "type": "integer"
        },
        {
         "name": "nunique_hbq_spam",
         "rawType": "int64",
         "type": "integer"
        },
        {
         "name": "count_close",
         "rawType": "int64",
         "type": "integer"
        },
        {
         "name": "nunique_close",
         "rawType": "int64",
         "type": "integer"
        }
       ],
       "ref": "bbcec51c-d442-4562-bfd7-2933816a2ecd",
       "rows": [
        [
         "80856",
         "2023-07-15",
         "4956",
         "1",
         "0",
         "0",
         "0",
         "0",
         "0",
         "0",
         "0",
         "0",
         "1",
         "0",
         "0",
         "0",
         "0",
         "0",
         "0",
         "0",
         "0",
         "0",
         "0",
         "0",
         "0"
        ],
        [
         "22959",
         "2022-09-21",
         "5403",
         "0",
         "0",
         "0",
         "84",
         "0",
         "0",
         "0",
         "0",
         "3",
         "0",
         "0",
         "0",
         "83",
         "0",
         "0",
         "0",
         "0",
         "3",
         "0",
         "0",
         "0",
         "0"
        ],
        [
         "116818",
         "2024-03-18",
         "14715",
         "1",
         "0",
         "0",
         "0",
         "0",
         "0",
         "0",
         "0",
         "0",
         "1",
         "0",
         "0",
         "0",
         "0",
         "0",
         "0",
         "0",
         "0",
         "0",
         "0",
         "0",
         "0"
        ],
        [
         "9294",
         "2022-07-14",
         "2406",
         "0",
         "0",
         "0",
         "2",
         "0",
         "0",
         "0",
         "0",
         "0",
         "0",
         "0",
         "0",
         "2",
         "0",
         "0",
         "0",
         "0",
         "0",
         "0",
         "0",
         "0",
         "0"
        ],
        [
         "19544",
         "2022-09-05",
         "3749",
         "0",
         "0",
         "0",
         "10",
         "0",
         "0",
         "0",
         "0",
         "0",
         "0",
         "0",
         "0",
         "10",
         "0",
         "0",
         "0",
         "0",
         "0",
         "0",
         "0",
         "0",
         "0"
        ]
       ],
       "shape": {
        "columns": 24,
        "rows": 5
       }
      },
      "text/html": [
       "<div>\n",
       "<style scoped>\n",
       "    .dataframe tbody tr th:only-of-type {\n",
       "        vertical-align: middle;\n",
       "    }\n",
       "\n",
       "    .dataframe tbody tr th {\n",
       "        vertical-align: top;\n",
       "    }\n",
       "\n",
       "    .dataframe thead th {\n",
       "        text-align: right;\n",
       "    }\n",
       "</style>\n",
       "<table border=\"1\" class=\"dataframe\">\n",
       "  <thead>\n",
       "    <tr style=\"text-align: right;\">\n",
       "      <th></th>\n",
       "      <th>date</th>\n",
       "      <th>bulk_campaign_id</th>\n",
       "      <th>count_click</th>\n",
       "      <th>count_complain</th>\n",
       "      <th>count_hard_bounce</th>\n",
       "      <th>count_open</th>\n",
       "      <th>count_purchase</th>\n",
       "      <th>count_send</th>\n",
       "      <th>count_soft_bounce</th>\n",
       "      <th>count_subscribe</th>\n",
       "      <th>...</th>\n",
       "      <th>nunique_open</th>\n",
       "      <th>nunique_purchase</th>\n",
       "      <th>nunique_send</th>\n",
       "      <th>nunique_soft_bounce</th>\n",
       "      <th>nunique_subscribe</th>\n",
       "      <th>nunique_unsubscribe</th>\n",
       "      <th>count_hbq_spam</th>\n",
       "      <th>nunique_hbq_spam</th>\n",
       "      <th>count_close</th>\n",
       "      <th>nunique_close</th>\n",
       "    </tr>\n",
       "  </thead>\n",
       "  <tbody>\n",
       "    <tr>\n",
       "      <th>80856</th>\n",
       "      <td>2023-07-15</td>\n",
       "      <td>4956</td>\n",
       "      <td>1</td>\n",
       "      <td>0</td>\n",
       "      <td>0</td>\n",
       "      <td>0</td>\n",
       "      <td>0</td>\n",
       "      <td>0</td>\n",
       "      <td>0</td>\n",
       "      <td>0</td>\n",
       "      <td>...</td>\n",
       "      <td>0</td>\n",
       "      <td>0</td>\n",
       "      <td>0</td>\n",
       "      <td>0</td>\n",
       "      <td>0</td>\n",
       "      <td>0</td>\n",
       "      <td>0</td>\n",
       "      <td>0</td>\n",
       "      <td>0</td>\n",
       "      <td>0</td>\n",
       "    </tr>\n",
       "    <tr>\n",
       "      <th>22959</th>\n",
       "      <td>2022-09-21</td>\n",
       "      <td>5403</td>\n",
       "      <td>0</td>\n",
       "      <td>0</td>\n",
       "      <td>0</td>\n",
       "      <td>84</td>\n",
       "      <td>0</td>\n",
       "      <td>0</td>\n",
       "      <td>0</td>\n",
       "      <td>0</td>\n",
       "      <td>...</td>\n",
       "      <td>83</td>\n",
       "      <td>0</td>\n",
       "      <td>0</td>\n",
       "      <td>0</td>\n",
       "      <td>0</td>\n",
       "      <td>3</td>\n",
       "      <td>0</td>\n",
       "      <td>0</td>\n",
       "      <td>0</td>\n",
       "      <td>0</td>\n",
       "    </tr>\n",
       "    <tr>\n",
       "      <th>116818</th>\n",
       "      <td>2024-03-18</td>\n",
       "      <td>14715</td>\n",
       "      <td>1</td>\n",
       "      <td>0</td>\n",
       "      <td>0</td>\n",
       "      <td>0</td>\n",
       "      <td>0</td>\n",
       "      <td>0</td>\n",
       "      <td>0</td>\n",
       "      <td>0</td>\n",
       "      <td>...</td>\n",
       "      <td>0</td>\n",
       "      <td>0</td>\n",
       "      <td>0</td>\n",
       "      <td>0</td>\n",
       "      <td>0</td>\n",
       "      <td>0</td>\n",
       "      <td>0</td>\n",
       "      <td>0</td>\n",
       "      <td>0</td>\n",
       "      <td>0</td>\n",
       "    </tr>\n",
       "    <tr>\n",
       "      <th>9294</th>\n",
       "      <td>2022-07-14</td>\n",
       "      <td>2406</td>\n",
       "      <td>0</td>\n",
       "      <td>0</td>\n",
       "      <td>0</td>\n",
       "      <td>2</td>\n",
       "      <td>0</td>\n",
       "      <td>0</td>\n",
       "      <td>0</td>\n",
       "      <td>0</td>\n",
       "      <td>...</td>\n",
       "      <td>2</td>\n",
       "      <td>0</td>\n",
       "      <td>0</td>\n",
       "      <td>0</td>\n",
       "      <td>0</td>\n",
       "      <td>0</td>\n",
       "      <td>0</td>\n",
       "      <td>0</td>\n",
       "      <td>0</td>\n",
       "      <td>0</td>\n",
       "    </tr>\n",
       "    <tr>\n",
       "      <th>19544</th>\n",
       "      <td>2022-09-05</td>\n",
       "      <td>3749</td>\n",
       "      <td>0</td>\n",
       "      <td>0</td>\n",
       "      <td>0</td>\n",
       "      <td>10</td>\n",
       "      <td>0</td>\n",
       "      <td>0</td>\n",
       "      <td>0</td>\n",
       "      <td>0</td>\n",
       "      <td>...</td>\n",
       "      <td>10</td>\n",
       "      <td>0</td>\n",
       "      <td>0</td>\n",
       "      <td>0</td>\n",
       "      <td>0</td>\n",
       "      <td>0</td>\n",
       "      <td>0</td>\n",
       "      <td>0</td>\n",
       "      <td>0</td>\n",
       "      <td>0</td>\n",
       "    </tr>\n",
       "  </tbody>\n",
       "</table>\n",
       "<p>5 rows × 24 columns</p>\n",
       "</div>"
      ],
      "text/plain": [
       "              date  bulk_campaign_id  count_click  count_complain  \\\n",
       "80856   2023-07-15              4956            1               0   \n",
       "22959   2022-09-21              5403            0               0   \n",
       "116818  2024-03-18             14715            1               0   \n",
       "9294    2022-07-14              2406            0               0   \n",
       "19544   2022-09-05              3749            0               0   \n",
       "\n",
       "        count_hard_bounce  count_open  count_purchase  count_send  \\\n",
       "80856                   0           0               0           0   \n",
       "22959                   0          84               0           0   \n",
       "116818                  0           0               0           0   \n",
       "9294                    0           2               0           0   \n",
       "19544                   0          10               0           0   \n",
       "\n",
       "        count_soft_bounce  count_subscribe  ...  nunique_open  \\\n",
       "80856                   0                0  ...             0   \n",
       "22959                   0                0  ...            83   \n",
       "116818                  0                0  ...             0   \n",
       "9294                    0                0  ...             2   \n",
       "19544                   0                0  ...            10   \n",
       "\n",
       "        nunique_purchase  nunique_send  nunique_soft_bounce  \\\n",
       "80856                  0             0                    0   \n",
       "22959                  0             0                    0   \n",
       "116818                 0             0                    0   \n",
       "9294                   0             0                    0   \n",
       "19544                  0             0                    0   \n",
       "\n",
       "        nunique_subscribe  nunique_unsubscribe  count_hbq_spam  \\\n",
       "80856                   0                    0               0   \n",
       "22959                   0                    3               0   \n",
       "116818                  0                    0               0   \n",
       "9294                    0                    0               0   \n",
       "19544                   0                    0               0   \n",
       "\n",
       "        nunique_hbq_spam  count_close  nunique_close  \n",
       "80856                  0            0              0  \n",
       "22959                  0            0              0  \n",
       "116818                 0            0              0  \n",
       "9294                   0            0              0  \n",
       "19544                  0            0              0  \n",
       "\n",
       "[5 rows x 24 columns]"
      ]
     },
     "metadata": {},
     "output_type": "display_data"
    },
    {
     "data": {
      "text/html": [
       "<span style='font-size: 1.5em; font-weight: bold; font-style: italic;'>Число пропусков в базе данных</span>"
      ],
      "text/plain": [
       "<IPython.core.display.HTML object>"
      ]
     },
     "metadata": {},
     "output_type": "display_data"
    },
    {
     "data": {
      "application/vnd.microsoft.datawrangler.viewer.v0+json": {
       "columns": [
        {
         "name": "index",
         "rawType": "object",
         "type": "string"
        },
        {
         "name": "0",
         "rawType": "int64",
         "type": "integer"
        }
       ],
       "ref": "fa0d7be9-3a96-45b7-bfeb-b796002019c4",
       "rows": [],
       "shape": {
        "columns": 1,
        "rows": 0
       }
      },
      "text/plain": [
       "Series([], dtype: int64)"
      ]
     },
     "metadata": {},
     "output_type": "display_data"
    },
    {
     "data": {
      "text/plain": [
       "None"
      ]
     },
     "metadata": {},
     "output_type": "display_data"
    },
    {
     "data": {
      "text/html": [
       "<span style='font-size: 1.5em; font-weight: bold; font-style: italic;'>Характеристики базы данных</span>"
      ],
      "text/plain": [
       "<IPython.core.display.HTML object>"
      ]
     },
     "metadata": {},
     "output_type": "display_data"
    },
    {
     "data": {
      "application/vnd.microsoft.datawrangler.viewer.v0+json": {
       "columns": [
        {
         "name": "index",
         "rawType": "object",
         "type": "string"
        },
        {
         "name": "count",
         "rawType": "float64",
         "type": "float"
        },
        {
         "name": "mean",
         "rawType": "float64",
         "type": "float"
        },
        {
         "name": "std",
         "rawType": "float64",
         "type": "float"
        },
        {
         "name": "min",
         "rawType": "float64",
         "type": "float"
        },
        {
         "name": "25%",
         "rawType": "float64",
         "type": "float"
        },
        {
         "name": "50%",
         "rawType": "float64",
         "type": "float"
        },
        {
         "name": "75%",
         "rawType": "float64",
         "type": "float"
        },
        {
         "name": "max",
         "rawType": "float64",
         "type": "float"
        }
       ],
       "ref": "2fc46d57-85c5-4aa1-9950-c68fc1fe7568",
       "rows": [
        [
         "bulk_campaign_id",
         "131072.0",
         "8416.743377685547",
         "4877.3693057224045",
         "548.0",
         "4116.0",
         "7477.0",
         "13732.0",
         "15150.0"
        ],
        [
         "count_click",
         "131072.0",
         "90.98297119140625",
         "1275.5035642332123",
         "0.0",
         "0.0",
         "0.0",
         "2.0",
         "128453.0"
        ],
        [
         "count_complain",
         "131072.0",
         "0.9326553344726562",
         "30.198326489843303",
         "0.0",
         "0.0",
         "0.0",
         "0.0",
         "5160.0"
        ],
        [
         "count_hard_bounce",
         "131072.0",
         "78.47343444824219",
         "1961.317825739723",
         "0.0",
         "0.0",
         "0.0",
         "0.0",
         "287404.0"
        ],
        [
         "count_open",
         "131072.0",
         "3771.090690612793",
         "65160.66844426559",
         "0.0",
         "1.0",
         "6.0",
         "30.0",
         "5076151.0"
        ],
        [
         "count_purchase",
         "131072.0",
         "0.5779266357421875",
         "9.107040077980614",
         "0.0",
         "0.0",
         "0.0",
         "0.0",
         "1077.0"
        ],
        [
         "count_send",
         "131072.0",
         "11634.142318725586",
         "175709.5082897024",
         "0.0",
         "0.0",
         "0.0",
         "0.0",
         "11543513.0"
        ],
        [
         "count_soft_bounce",
         "131072.0",
         "27.80731201171875",
         "736.9447144484487",
         "0.0",
         "0.0",
         "0.0",
         "0.0",
         "76284.0"
        ],
        [
         "count_subscribe",
         "131072.0",
         "0.1405181884765625",
         "2.0727768212410997",
         "0.0",
         "0.0",
         "0.0",
         "0.0",
         "189.0"
        ],
        [
         "count_unsubscribe",
         "131072.0",
         "6.362678527832031",
         "79.17206939522323",
         "0.0",
         "0.0",
         "0.0",
         "1.0",
         "9089.0"
        ],
        [
         "nunique_click",
         "131072.0",
         "74.27601623535156",
         "1004.2714048761628",
         "0.0",
         "0.0",
         "0.0",
         "1.0",
         "75899.0"
        ],
        [
         "nunique_complain",
         "131072.0",
         "0.92132568359375",
         "29.715170300563305",
         "0.0",
         "0.0",
         "0.0",
         "0.0",
         "5043.0"
        ],
        [
         "nunique_hard_bounce",
         "131072.0",
         "77.39868927001953",
         "1913.3955105517152",
         "0.0",
         "0.0",
         "0.0",
         "0.0",
         "287341.0"
        ],
        [
         "nunique_open",
         "131072.0",
         "3683.0000228881836",
         "62586.4729162446",
         "0.0",
         "1.0",
         "6.0",
         "30.0",
         "2922440.0"
        ],
        [
         "nunique_purchase",
         "131072.0",
         "0.4651031494140625",
         "7.126367895117573",
         "0.0",
         "0.0",
         "0.0",
         "0.0",
         "779.0"
        ],
        [
         "nunique_send",
         "131072.0",
         "11537.164840698242",
         "172700.4890552492",
         "0.0",
         "0.0",
         "0.0",
         "0.0",
         "7094600.0"
        ],
        [
         "nunique_soft_bounce",
         "131072.0",
         "27.57379913330078",
         "734.0506996531889",
         "0.0",
         "0.0",
         "0.0",
         "0.0",
         "76281.0"
        ],
        [
         "nunique_subscribe",
         "131072.0",
         "0.134124755859375",
         "1.9764389650419572",
         "0.0",
         "0.0",
         "0.0",
         "0.0",
         "177.0"
        ],
        [
         "nunique_unsubscribe",
         "131072.0",
         "5.960601806640625",
         "73.28414772607994",
         "0.0",
         "0.0",
         "0.0",
         "1.0",
         "8299.0"
        ],
        [
         "count_hbq_spam",
         "131072.0",
         "0.81036376953125",
         "183.2985793098929",
         "0.0",
         "0.0",
         "0.0",
         "0.0",
         "63920.0"
        ],
        [
         "nunique_hbq_spam",
         "131072.0",
         "0.8097991943359375",
         "183.2982446993435",
         "0.0",
         "0.0",
         "0.0",
         "0.0",
         "63920.0"
        ],
        [
         "count_close",
         "131072.0",
         "7.62939453125e-06",
         "0.0027621358640099515",
         "0.0",
         "0.0",
         "0.0",
         "0.0",
         "1.0"
        ],
        [
         "nunique_close",
         "131072.0",
         "7.62939453125e-06",
         "0.0027621358640099515",
         "0.0",
         "0.0",
         "0.0",
         "0.0",
         "1.0"
        ]
       ],
       "shape": {
        "columns": 8,
        "rows": 23
       }
      },
      "text/html": [
       "<div>\n",
       "<style scoped>\n",
       "    .dataframe tbody tr th:only-of-type {\n",
       "        vertical-align: middle;\n",
       "    }\n",
       "\n",
       "    .dataframe tbody tr th {\n",
       "        vertical-align: top;\n",
       "    }\n",
       "\n",
       "    .dataframe thead th {\n",
       "        text-align: right;\n",
       "    }\n",
       "</style>\n",
       "<table border=\"1\" class=\"dataframe\">\n",
       "  <thead>\n",
       "    <tr style=\"text-align: right;\">\n",
       "      <th></th>\n",
       "      <th>count</th>\n",
       "      <th>mean</th>\n",
       "      <th>std</th>\n",
       "      <th>min</th>\n",
       "      <th>25%</th>\n",
       "      <th>50%</th>\n",
       "      <th>75%</th>\n",
       "      <th>max</th>\n",
       "    </tr>\n",
       "  </thead>\n",
       "  <tbody>\n",
       "    <tr>\n",
       "      <th>bulk_campaign_id</th>\n",
       "      <td>131072.0</td>\n",
       "      <td>8416.743378</td>\n",
       "      <td>4877.369306</td>\n",
       "      <td>548.0</td>\n",
       "      <td>4116.0</td>\n",
       "      <td>7477.0</td>\n",
       "      <td>13732.0</td>\n",
       "      <td>15150.0</td>\n",
       "    </tr>\n",
       "    <tr>\n",
       "      <th>count_click</th>\n",
       "      <td>131072.0</td>\n",
       "      <td>90.982971</td>\n",
       "      <td>1275.503564</td>\n",
       "      <td>0.0</td>\n",
       "      <td>0.0</td>\n",
       "      <td>0.0</td>\n",
       "      <td>2.0</td>\n",
       "      <td>128453.0</td>\n",
       "    </tr>\n",
       "    <tr>\n",
       "      <th>count_complain</th>\n",
       "      <td>131072.0</td>\n",
       "      <td>0.932655</td>\n",
       "      <td>30.198326</td>\n",
       "      <td>0.0</td>\n",
       "      <td>0.0</td>\n",
       "      <td>0.0</td>\n",
       "      <td>0.0</td>\n",
       "      <td>5160.0</td>\n",
       "    </tr>\n",
       "    <tr>\n",
       "      <th>count_hard_bounce</th>\n",
       "      <td>131072.0</td>\n",
       "      <td>78.473434</td>\n",
       "      <td>1961.317826</td>\n",
       "      <td>0.0</td>\n",
       "      <td>0.0</td>\n",
       "      <td>0.0</td>\n",
       "      <td>0.0</td>\n",
       "      <td>287404.0</td>\n",
       "    </tr>\n",
       "    <tr>\n",
       "      <th>count_open</th>\n",
       "      <td>131072.0</td>\n",
       "      <td>3771.090691</td>\n",
       "      <td>65160.668444</td>\n",
       "      <td>0.0</td>\n",
       "      <td>1.0</td>\n",
       "      <td>6.0</td>\n",
       "      <td>30.0</td>\n",
       "      <td>5076151.0</td>\n",
       "    </tr>\n",
       "    <tr>\n",
       "      <th>count_purchase</th>\n",
       "      <td>131072.0</td>\n",
       "      <td>0.577927</td>\n",
       "      <td>9.107040</td>\n",
       "      <td>0.0</td>\n",
       "      <td>0.0</td>\n",
       "      <td>0.0</td>\n",
       "      <td>0.0</td>\n",
       "      <td>1077.0</td>\n",
       "    </tr>\n",
       "    <tr>\n",
       "      <th>count_send</th>\n",
       "      <td>131072.0</td>\n",
       "      <td>11634.142319</td>\n",
       "      <td>175709.508290</td>\n",
       "      <td>0.0</td>\n",
       "      <td>0.0</td>\n",
       "      <td>0.0</td>\n",
       "      <td>0.0</td>\n",
       "      <td>11543513.0</td>\n",
       "    </tr>\n",
       "    <tr>\n",
       "      <th>count_soft_bounce</th>\n",
       "      <td>131072.0</td>\n",
       "      <td>27.807312</td>\n",
       "      <td>736.944714</td>\n",
       "      <td>0.0</td>\n",
       "      <td>0.0</td>\n",
       "      <td>0.0</td>\n",
       "      <td>0.0</td>\n",
       "      <td>76284.0</td>\n",
       "    </tr>\n",
       "    <tr>\n",
       "      <th>count_subscribe</th>\n",
       "      <td>131072.0</td>\n",
       "      <td>0.140518</td>\n",
       "      <td>2.072777</td>\n",
       "      <td>0.0</td>\n",
       "      <td>0.0</td>\n",
       "      <td>0.0</td>\n",
       "      <td>0.0</td>\n",
       "      <td>189.0</td>\n",
       "    </tr>\n",
       "    <tr>\n",
       "      <th>count_unsubscribe</th>\n",
       "      <td>131072.0</td>\n",
       "      <td>6.362679</td>\n",
       "      <td>79.172069</td>\n",
       "      <td>0.0</td>\n",
       "      <td>0.0</td>\n",
       "      <td>0.0</td>\n",
       "      <td>1.0</td>\n",
       "      <td>9089.0</td>\n",
       "    </tr>\n",
       "    <tr>\n",
       "      <th>nunique_click</th>\n",
       "      <td>131072.0</td>\n",
       "      <td>74.276016</td>\n",
       "      <td>1004.271405</td>\n",
       "      <td>0.0</td>\n",
       "      <td>0.0</td>\n",
       "      <td>0.0</td>\n",
       "      <td>1.0</td>\n",
       "      <td>75899.0</td>\n",
       "    </tr>\n",
       "    <tr>\n",
       "      <th>nunique_complain</th>\n",
       "      <td>131072.0</td>\n",
       "      <td>0.921326</td>\n",
       "      <td>29.715170</td>\n",
       "      <td>0.0</td>\n",
       "      <td>0.0</td>\n",
       "      <td>0.0</td>\n",
       "      <td>0.0</td>\n",
       "      <td>5043.0</td>\n",
       "    </tr>\n",
       "    <tr>\n",
       "      <th>nunique_hard_bounce</th>\n",
       "      <td>131072.0</td>\n",
       "      <td>77.398689</td>\n",
       "      <td>1913.395511</td>\n",
       "      <td>0.0</td>\n",
       "      <td>0.0</td>\n",
       "      <td>0.0</td>\n",
       "      <td>0.0</td>\n",
       "      <td>287341.0</td>\n",
       "    </tr>\n",
       "    <tr>\n",
       "      <th>nunique_open</th>\n",
       "      <td>131072.0</td>\n",
       "      <td>3683.000023</td>\n",
       "      <td>62586.472916</td>\n",
       "      <td>0.0</td>\n",
       "      <td>1.0</td>\n",
       "      <td>6.0</td>\n",
       "      <td>30.0</td>\n",
       "      <td>2922440.0</td>\n",
       "    </tr>\n",
       "    <tr>\n",
       "      <th>nunique_purchase</th>\n",
       "      <td>131072.0</td>\n",
       "      <td>0.465103</td>\n",
       "      <td>7.126368</td>\n",
       "      <td>0.0</td>\n",
       "      <td>0.0</td>\n",
       "      <td>0.0</td>\n",
       "      <td>0.0</td>\n",
       "      <td>779.0</td>\n",
       "    </tr>\n",
       "    <tr>\n",
       "      <th>nunique_send</th>\n",
       "      <td>131072.0</td>\n",
       "      <td>11537.164841</td>\n",
       "      <td>172700.489055</td>\n",
       "      <td>0.0</td>\n",
       "      <td>0.0</td>\n",
       "      <td>0.0</td>\n",
       "      <td>0.0</td>\n",
       "      <td>7094600.0</td>\n",
       "    </tr>\n",
       "    <tr>\n",
       "      <th>nunique_soft_bounce</th>\n",
       "      <td>131072.0</td>\n",
       "      <td>27.573799</td>\n",
       "      <td>734.050700</td>\n",
       "      <td>0.0</td>\n",
       "      <td>0.0</td>\n",
       "      <td>0.0</td>\n",
       "      <td>0.0</td>\n",
       "      <td>76281.0</td>\n",
       "    </tr>\n",
       "    <tr>\n",
       "      <th>nunique_subscribe</th>\n",
       "      <td>131072.0</td>\n",
       "      <td>0.134125</td>\n",
       "      <td>1.976439</td>\n",
       "      <td>0.0</td>\n",
       "      <td>0.0</td>\n",
       "      <td>0.0</td>\n",
       "      <td>0.0</td>\n",
       "      <td>177.0</td>\n",
       "    </tr>\n",
       "    <tr>\n",
       "      <th>nunique_unsubscribe</th>\n",
       "      <td>131072.0</td>\n",
       "      <td>5.960602</td>\n",
       "      <td>73.284148</td>\n",
       "      <td>0.0</td>\n",
       "      <td>0.0</td>\n",
       "      <td>0.0</td>\n",
       "      <td>1.0</td>\n",
       "      <td>8299.0</td>\n",
       "    </tr>\n",
       "    <tr>\n",
       "      <th>count_hbq_spam</th>\n",
       "      <td>131072.0</td>\n",
       "      <td>0.810364</td>\n",
       "      <td>183.298579</td>\n",
       "      <td>0.0</td>\n",
       "      <td>0.0</td>\n",
       "      <td>0.0</td>\n",
       "      <td>0.0</td>\n",
       "      <td>63920.0</td>\n",
       "    </tr>\n",
       "    <tr>\n",
       "      <th>nunique_hbq_spam</th>\n",
       "      <td>131072.0</td>\n",
       "      <td>0.809799</td>\n",
       "      <td>183.298245</td>\n",
       "      <td>0.0</td>\n",
       "      <td>0.0</td>\n",
       "      <td>0.0</td>\n",
       "      <td>0.0</td>\n",
       "      <td>63920.0</td>\n",
       "    </tr>\n",
       "    <tr>\n",
       "      <th>count_close</th>\n",
       "      <td>131072.0</td>\n",
       "      <td>0.000008</td>\n",
       "      <td>0.002762</td>\n",
       "      <td>0.0</td>\n",
       "      <td>0.0</td>\n",
       "      <td>0.0</td>\n",
       "      <td>0.0</td>\n",
       "      <td>1.0</td>\n",
       "    </tr>\n",
       "    <tr>\n",
       "      <th>nunique_close</th>\n",
       "      <td>131072.0</td>\n",
       "      <td>0.000008</td>\n",
       "      <td>0.002762</td>\n",
       "      <td>0.0</td>\n",
       "      <td>0.0</td>\n",
       "      <td>0.0</td>\n",
       "      <td>0.0</td>\n",
       "      <td>1.0</td>\n",
       "    </tr>\n",
       "  </tbody>\n",
       "</table>\n",
       "</div>"
      ],
      "text/plain": [
       "                        count          mean            std    min     25%  \\\n",
       "bulk_campaign_id     131072.0   8416.743378    4877.369306  548.0  4116.0   \n",
       "count_click          131072.0     90.982971    1275.503564    0.0     0.0   \n",
       "count_complain       131072.0      0.932655      30.198326    0.0     0.0   \n",
       "count_hard_bounce    131072.0     78.473434    1961.317826    0.0     0.0   \n",
       "count_open           131072.0   3771.090691   65160.668444    0.0     1.0   \n",
       "count_purchase       131072.0      0.577927       9.107040    0.0     0.0   \n",
       "count_send           131072.0  11634.142319  175709.508290    0.0     0.0   \n",
       "count_soft_bounce    131072.0     27.807312     736.944714    0.0     0.0   \n",
       "count_subscribe      131072.0      0.140518       2.072777    0.0     0.0   \n",
       "count_unsubscribe    131072.0      6.362679      79.172069    0.0     0.0   \n",
       "nunique_click        131072.0     74.276016    1004.271405    0.0     0.0   \n",
       "nunique_complain     131072.0      0.921326      29.715170    0.0     0.0   \n",
       "nunique_hard_bounce  131072.0     77.398689    1913.395511    0.0     0.0   \n",
       "nunique_open         131072.0   3683.000023   62586.472916    0.0     1.0   \n",
       "nunique_purchase     131072.0      0.465103       7.126368    0.0     0.0   \n",
       "nunique_send         131072.0  11537.164841  172700.489055    0.0     0.0   \n",
       "nunique_soft_bounce  131072.0     27.573799     734.050700    0.0     0.0   \n",
       "nunique_subscribe    131072.0      0.134125       1.976439    0.0     0.0   \n",
       "nunique_unsubscribe  131072.0      5.960602      73.284148    0.0     0.0   \n",
       "count_hbq_spam       131072.0      0.810364     183.298579    0.0     0.0   \n",
       "nunique_hbq_spam     131072.0      0.809799     183.298245    0.0     0.0   \n",
       "count_close          131072.0      0.000008       0.002762    0.0     0.0   \n",
       "nunique_close        131072.0      0.000008       0.002762    0.0     0.0   \n",
       "\n",
       "                        50%      75%         max  \n",
       "bulk_campaign_id     7477.0  13732.0     15150.0  \n",
       "count_click             0.0      2.0    128453.0  \n",
       "count_complain          0.0      0.0      5160.0  \n",
       "count_hard_bounce       0.0      0.0    287404.0  \n",
       "count_open              6.0     30.0   5076151.0  \n",
       "count_purchase          0.0      0.0      1077.0  \n",
       "count_send              0.0      0.0  11543513.0  \n",
       "count_soft_bounce       0.0      0.0     76284.0  \n",
       "count_subscribe         0.0      0.0       189.0  \n",
       "count_unsubscribe       0.0      1.0      9089.0  \n",
       "nunique_click           0.0      1.0     75899.0  \n",
       "nunique_complain        0.0      0.0      5043.0  \n",
       "nunique_hard_bounce     0.0      0.0    287341.0  \n",
       "nunique_open            6.0     30.0   2922440.0  \n",
       "nunique_purchase        0.0      0.0       779.0  \n",
       "nunique_send            0.0      0.0   7094600.0  \n",
       "nunique_soft_bounce     0.0      0.0     76281.0  \n",
       "nunique_subscribe       0.0      0.0       177.0  \n",
       "nunique_unsubscribe     0.0      1.0      8299.0  \n",
       "count_hbq_spam          0.0      0.0     63920.0  \n",
       "nunique_hbq_spam        0.0      0.0     63920.0  \n",
       "count_close             0.0      0.0         1.0  \n",
       "nunique_close           0.0      0.0         1.0  "
      ]
     },
     "metadata": {},
     "output_type": "display_data"
    }
   ],
   "source": [
    "event_type = check_data(event_type)"
   ]
  },
  {
   "cell_type": "markdown",
   "id": "6d2664a7",
   "metadata": {},
   "source": [
    "Вывод:  \n",
    "Здесь просто агрегированная статистика по событиям, не вижу смысла, что-то делать с этой таблицей в принципе"
   ]
  },
  {
   "cell_type": "markdown",
   "id": "fd7b6ce8",
   "metadata": {},
   "source": [
    "#### event_chanel"
   ]
  },
  {
   "cell_type": "code",
   "execution_count": 358,
   "id": "52073b4e",
   "metadata": {},
   "outputs": [
    {
     "data": {
      "text/html": [
       "<span style='font-size: 1.5em; font-weight: bold; font-style: italic;'>Общая информация базы данных</span>"
      ],
      "text/plain": [
       "<IPython.core.display.HTML object>"
      ]
     },
     "metadata": {},
     "output_type": "display_data"
    },
    {
     "name": "stdout",
     "output_type": "stream",
     "text": [
      "<class 'pandas.core.frame.DataFrame'>\n",
      "RangeIndex: 131072 entries, 0 to 131071\n",
      "Data columns (total 36 columns):\n",
      " #   Column                           Non-Null Count   Dtype \n",
      "---  ------                           --------------   ----- \n",
      " 0   date                             131072 non-null  object\n",
      " 1   bulk_campaign_id                 131072 non-null  int64 \n",
      " 2   count_click_email                131072 non-null  int64 \n",
      " 3   count_click_mobile_push          131072 non-null  int64 \n",
      " 4   count_open_email                 131072 non-null  int64 \n",
      " 5   count_open_mobile_push           131072 non-null  int64 \n",
      " 6   count_purchase_email             131072 non-null  int64 \n",
      " 7   count_purchase_mobile_push       131072 non-null  int64 \n",
      " 8   count_soft_bounce_email          131072 non-null  int64 \n",
      " 9   count_subscribe_email            131072 non-null  int64 \n",
      " 10  count_unsubscribe_email          131072 non-null  int64 \n",
      " 11  nunique_click_email              131072 non-null  int64 \n",
      " 12  nunique_click_mobile_push        131072 non-null  int64 \n",
      " 13  nunique_open_email               131072 non-null  int64 \n",
      " 14  nunique_open_mobile_push         131072 non-null  int64 \n",
      " 15  nunique_purchase_email           131072 non-null  int64 \n",
      " 16  nunique_purchase_mobile_push     131072 non-null  int64 \n",
      " 17  nunique_soft_bounce_email        131072 non-null  int64 \n",
      " 18  nunique_subscribe_email          131072 non-null  int64 \n",
      " 19  nunique_unsubscribe_email        131072 non-null  int64 \n",
      " 20  count_hard_bounce_mobile_push    131072 non-null  int64 \n",
      " 21  count_send_mobile_push           131072 non-null  int64 \n",
      " 22  nunique_hard_bounce_mobile_push  131072 non-null  int64 \n",
      " 23  nunique_send_mobile_push         131072 non-null  int64 \n",
      " 24  count_hard_bounce_email          131072 non-null  int64 \n",
      " 25  count_hbq_spam_email             131072 non-null  int64 \n",
      " 26  count_send_email                 131072 non-null  int64 \n",
      " 27  nunique_hard_bounce_email        131072 non-null  int64 \n",
      " 28  nunique_hbq_spam_email           131072 non-null  int64 \n",
      " 29  nunique_send_email               131072 non-null  int64 \n",
      " 30  count_soft_bounce_mobile_push    131072 non-null  int64 \n",
      " 31  nunique_soft_bounce_mobile_push  131072 non-null  int64 \n",
      " 32  count_complain_email             131072 non-null  int64 \n",
      " 33  nunique_complain_email           131072 non-null  int64 \n",
      " 34  count_close_mobile_push          131072 non-null  int64 \n",
      " 35  nunique_close_mobile_push        131072 non-null  int64 \n",
      "dtypes: int64(35), object(1)\n",
      "memory usage: 36.0+ MB\n"
     ]
    },
    {
     "data": {
      "text/plain": [
       "None"
      ]
     },
     "metadata": {},
     "output_type": "display_data"
    },
    {
     "data": {
      "text/html": [
       "<span style='font-size: 1.5em; font-weight: bold; font-style: italic;'>5 случайных строк</span>"
      ],
      "text/plain": [
       "<IPython.core.display.HTML object>"
      ]
     },
     "metadata": {},
     "output_type": "display_data"
    },
    {
     "data": {
      "application/vnd.microsoft.datawrangler.viewer.v0+json": {
       "columns": [
        {
         "name": "index",
         "rawType": "int64",
         "type": "integer"
        },
        {
         "name": "date",
         "rawType": "object",
         "type": "string"
        },
        {
         "name": "bulk_campaign_id",
         "rawType": "int64",
         "type": "integer"
        },
        {
         "name": "count_click_email",
         "rawType": "int64",
         "type": "integer"
        },
        {
         "name": "count_click_mobile_push",
         "rawType": "int64",
         "type": "integer"
        },
        {
         "name": "count_open_email",
         "rawType": "int64",
         "type": "integer"
        },
        {
         "name": "count_open_mobile_push",
         "rawType": "int64",
         "type": "integer"
        },
        {
         "name": "count_purchase_email",
         "rawType": "int64",
         "type": "integer"
        },
        {
         "name": "count_purchase_mobile_push",
         "rawType": "int64",
         "type": "integer"
        },
        {
         "name": "count_soft_bounce_email",
         "rawType": "int64",
         "type": "integer"
        },
        {
         "name": "count_subscribe_email",
         "rawType": "int64",
         "type": "integer"
        },
        {
         "name": "count_unsubscribe_email",
         "rawType": "int64",
         "type": "integer"
        },
        {
         "name": "nunique_click_email",
         "rawType": "int64",
         "type": "integer"
        },
        {
         "name": "nunique_click_mobile_push",
         "rawType": "int64",
         "type": "integer"
        },
        {
         "name": "nunique_open_email",
         "rawType": "int64",
         "type": "integer"
        },
        {
         "name": "nunique_open_mobile_push",
         "rawType": "int64",
         "type": "integer"
        },
        {
         "name": "nunique_purchase_email",
         "rawType": "int64",
         "type": "integer"
        },
        {
         "name": "nunique_purchase_mobile_push",
         "rawType": "int64",
         "type": "integer"
        },
        {
         "name": "nunique_soft_bounce_email",
         "rawType": "int64",
         "type": "integer"
        },
        {
         "name": "nunique_subscribe_email",
         "rawType": "int64",
         "type": "integer"
        },
        {
         "name": "nunique_unsubscribe_email",
         "rawType": "int64",
         "type": "integer"
        },
        {
         "name": "count_hard_bounce_mobile_push",
         "rawType": "int64",
         "type": "integer"
        },
        {
         "name": "count_send_mobile_push",
         "rawType": "int64",
         "type": "integer"
        },
        {
         "name": "nunique_hard_bounce_mobile_push",
         "rawType": "int64",
         "type": "integer"
        },
        {
         "name": "nunique_send_mobile_push",
         "rawType": "int64",
         "type": "integer"
        },
        {
         "name": "count_hard_bounce_email",
         "rawType": "int64",
         "type": "integer"
        },
        {
         "name": "count_hbq_spam_email",
         "rawType": "int64",
         "type": "integer"
        },
        {
         "name": "count_send_email",
         "rawType": "int64",
         "type": "integer"
        },
        {
         "name": "nunique_hard_bounce_email",
         "rawType": "int64",
         "type": "integer"
        },
        {
         "name": "nunique_hbq_spam_email",
         "rawType": "int64",
         "type": "integer"
        },
        {
         "name": "nunique_send_email",
         "rawType": "int64",
         "type": "integer"
        },
        {
         "name": "count_soft_bounce_mobile_push",
         "rawType": "int64",
         "type": "integer"
        },
        {
         "name": "nunique_soft_bounce_mobile_push",
         "rawType": "int64",
         "type": "integer"
        },
        {
         "name": "count_complain_email",
         "rawType": "int64",
         "type": "integer"
        },
        {
         "name": "nunique_complain_email",
         "rawType": "int64",
         "type": "integer"
        },
        {
         "name": "count_close_mobile_push",
         "rawType": "int64",
         "type": "integer"
        },
        {
         "name": "nunique_close_mobile_push",
         "rawType": "int64",
         "type": "integer"
        }
       ],
       "ref": "08526efc-207c-4fe7-88cd-a2c82e501cb1",
       "rows": [
        [
         "112187",
         "2024-02-27",
         "14657",
         "6",
         "0",
         "292",
         "0",
         "0",
         "0",
         "0",
         "0",
         "7",
         "4",
         "0",
         "291",
         "0",
         "0",
         "0",
         "0",
         "0",
         "6",
         "0",
         "0",
         "0",
         "0",
         "0",
         "0",
         "0",
         "0",
         "0",
         "0",
         "0",
         "0",
         "0",
         "0",
         "0",
         "0"
        ],
        [
         "3943",
         "2022-06-14",
         "4902",
         "139",
         "0",
         "1991",
         "0",
         "0",
         "0",
         "224",
         "3",
         "274",
         "79",
         "0",
         "1822",
         "0",
         "0",
         "0",
         "224",
         "3",
         "256",
         "0",
         "0",
         "0",
         "0",
         "9714",
         "3",
         "19237",
         "9676",
         "3",
         "19234",
         "0",
         "0",
         "0",
         "0",
         "0",
         "0"
        ],
        [
         "20812",
         "2022-09-11",
         "4617",
         "2",
         "0",
         "29",
         "0",
         "0",
         "0",
         "0",
         "0",
         "0",
         "1",
         "0",
         "27",
         "0",
         "0",
         "0",
         "0",
         "0",
         "0",
         "0",
         "0",
         "0",
         "0",
         "0",
         "0",
         "0",
         "0",
         "0",
         "0",
         "0",
         "0",
         "0",
         "0",
         "0",
         "0"
        ],
        [
         "41458",
         "2022-12-12",
         "3169",
         "0",
         "0",
         "13",
         "0",
         "0",
         "0",
         "0",
         "0",
         "0",
         "0",
         "0",
         "12",
         "0",
         "0",
         "0",
         "0",
         "0",
         "0",
         "0",
         "0",
         "0",
         "0",
         "0",
         "0",
         "0",
         "0",
         "0",
         "0",
         "0",
         "0",
         "0",
         "0",
         "0",
         "0"
        ],
        [
         "126902",
         "2024-04-28",
         "14719",
         "0",
         "0",
         "78",
         "0",
         "0",
         "0",
         "0",
         "0",
         "0",
         "0",
         "0",
         "76",
         "0",
         "0",
         "0",
         "0",
         "0",
         "0",
         "0",
         "0",
         "0",
         "0",
         "0",
         "0",
         "0",
         "0",
         "0",
         "0",
         "0",
         "0",
         "0",
         "0",
         "0",
         "0"
        ]
       ],
       "shape": {
        "columns": 36,
        "rows": 5
       }
      },
      "text/html": [
       "<div>\n",
       "<style scoped>\n",
       "    .dataframe tbody tr th:only-of-type {\n",
       "        vertical-align: middle;\n",
       "    }\n",
       "\n",
       "    .dataframe tbody tr th {\n",
       "        vertical-align: top;\n",
       "    }\n",
       "\n",
       "    .dataframe thead th {\n",
       "        text-align: right;\n",
       "    }\n",
       "</style>\n",
       "<table border=\"1\" class=\"dataframe\">\n",
       "  <thead>\n",
       "    <tr style=\"text-align: right;\">\n",
       "      <th></th>\n",
       "      <th>date</th>\n",
       "      <th>bulk_campaign_id</th>\n",
       "      <th>count_click_email</th>\n",
       "      <th>count_click_mobile_push</th>\n",
       "      <th>count_open_email</th>\n",
       "      <th>count_open_mobile_push</th>\n",
       "      <th>count_purchase_email</th>\n",
       "      <th>count_purchase_mobile_push</th>\n",
       "      <th>count_soft_bounce_email</th>\n",
       "      <th>count_subscribe_email</th>\n",
       "      <th>...</th>\n",
       "      <th>count_send_email</th>\n",
       "      <th>nunique_hard_bounce_email</th>\n",
       "      <th>nunique_hbq_spam_email</th>\n",
       "      <th>nunique_send_email</th>\n",
       "      <th>count_soft_bounce_mobile_push</th>\n",
       "      <th>nunique_soft_bounce_mobile_push</th>\n",
       "      <th>count_complain_email</th>\n",
       "      <th>nunique_complain_email</th>\n",
       "      <th>count_close_mobile_push</th>\n",
       "      <th>nunique_close_mobile_push</th>\n",
       "    </tr>\n",
       "  </thead>\n",
       "  <tbody>\n",
       "    <tr>\n",
       "      <th>112187</th>\n",
       "      <td>2024-02-27</td>\n",
       "      <td>14657</td>\n",
       "      <td>6</td>\n",
       "      <td>0</td>\n",
       "      <td>292</td>\n",
       "      <td>0</td>\n",
       "      <td>0</td>\n",
       "      <td>0</td>\n",
       "      <td>0</td>\n",
       "      <td>0</td>\n",
       "      <td>...</td>\n",
       "      <td>0</td>\n",
       "      <td>0</td>\n",
       "      <td>0</td>\n",
       "      <td>0</td>\n",
       "      <td>0</td>\n",
       "      <td>0</td>\n",
       "      <td>0</td>\n",
       "      <td>0</td>\n",
       "      <td>0</td>\n",
       "      <td>0</td>\n",
       "    </tr>\n",
       "    <tr>\n",
       "      <th>3943</th>\n",
       "      <td>2022-06-14</td>\n",
       "      <td>4902</td>\n",
       "      <td>139</td>\n",
       "      <td>0</td>\n",
       "      <td>1991</td>\n",
       "      <td>0</td>\n",
       "      <td>0</td>\n",
       "      <td>0</td>\n",
       "      <td>224</td>\n",
       "      <td>3</td>\n",
       "      <td>...</td>\n",
       "      <td>19237</td>\n",
       "      <td>9676</td>\n",
       "      <td>3</td>\n",
       "      <td>19234</td>\n",
       "      <td>0</td>\n",
       "      <td>0</td>\n",
       "      <td>0</td>\n",
       "      <td>0</td>\n",
       "      <td>0</td>\n",
       "      <td>0</td>\n",
       "    </tr>\n",
       "    <tr>\n",
       "      <th>20812</th>\n",
       "      <td>2022-09-11</td>\n",
       "      <td>4617</td>\n",
       "      <td>2</td>\n",
       "      <td>0</td>\n",
       "      <td>29</td>\n",
       "      <td>0</td>\n",
       "      <td>0</td>\n",
       "      <td>0</td>\n",
       "      <td>0</td>\n",
       "      <td>0</td>\n",
       "      <td>...</td>\n",
       "      <td>0</td>\n",
       "      <td>0</td>\n",
       "      <td>0</td>\n",
       "      <td>0</td>\n",
       "      <td>0</td>\n",
       "      <td>0</td>\n",
       "      <td>0</td>\n",
       "      <td>0</td>\n",
       "      <td>0</td>\n",
       "      <td>0</td>\n",
       "    </tr>\n",
       "    <tr>\n",
       "      <th>41458</th>\n",
       "      <td>2022-12-12</td>\n",
       "      <td>3169</td>\n",
       "      <td>0</td>\n",
       "      <td>0</td>\n",
       "      <td>13</td>\n",
       "      <td>0</td>\n",
       "      <td>0</td>\n",
       "      <td>0</td>\n",
       "      <td>0</td>\n",
       "      <td>0</td>\n",
       "      <td>...</td>\n",
       "      <td>0</td>\n",
       "      <td>0</td>\n",
       "      <td>0</td>\n",
       "      <td>0</td>\n",
       "      <td>0</td>\n",
       "      <td>0</td>\n",
       "      <td>0</td>\n",
       "      <td>0</td>\n",
       "      <td>0</td>\n",
       "      <td>0</td>\n",
       "    </tr>\n",
       "    <tr>\n",
       "      <th>126902</th>\n",
       "      <td>2024-04-28</td>\n",
       "      <td>14719</td>\n",
       "      <td>0</td>\n",
       "      <td>0</td>\n",
       "      <td>78</td>\n",
       "      <td>0</td>\n",
       "      <td>0</td>\n",
       "      <td>0</td>\n",
       "      <td>0</td>\n",
       "      <td>0</td>\n",
       "      <td>...</td>\n",
       "      <td>0</td>\n",
       "      <td>0</td>\n",
       "      <td>0</td>\n",
       "      <td>0</td>\n",
       "      <td>0</td>\n",
       "      <td>0</td>\n",
       "      <td>0</td>\n",
       "      <td>0</td>\n",
       "      <td>0</td>\n",
       "      <td>0</td>\n",
       "    </tr>\n",
       "  </tbody>\n",
       "</table>\n",
       "<p>5 rows × 36 columns</p>\n",
       "</div>"
      ],
      "text/plain": [
       "              date  bulk_campaign_id  count_click_email  \\\n",
       "112187  2024-02-27             14657                  6   \n",
       "3943    2022-06-14              4902                139   \n",
       "20812   2022-09-11              4617                  2   \n",
       "41458   2022-12-12              3169                  0   \n",
       "126902  2024-04-28             14719                  0   \n",
       "\n",
       "        count_click_mobile_push  count_open_email  count_open_mobile_push  \\\n",
       "112187                        0               292                       0   \n",
       "3943                          0              1991                       0   \n",
       "20812                         0                29                       0   \n",
       "41458                         0                13                       0   \n",
       "126902                        0                78                       0   \n",
       "\n",
       "        count_purchase_email  count_purchase_mobile_push  \\\n",
       "112187                     0                           0   \n",
       "3943                       0                           0   \n",
       "20812                      0                           0   \n",
       "41458                      0                           0   \n",
       "126902                     0                           0   \n",
       "\n",
       "        count_soft_bounce_email  count_subscribe_email  ...  count_send_email  \\\n",
       "112187                        0                      0  ...                 0   \n",
       "3943                        224                      3  ...             19237   \n",
       "20812                         0                      0  ...                 0   \n",
       "41458                         0                      0  ...                 0   \n",
       "126902                        0                      0  ...                 0   \n",
       "\n",
       "        nunique_hard_bounce_email  nunique_hbq_spam_email  nunique_send_email  \\\n",
       "112187                          0                       0                   0   \n",
       "3943                         9676                       3               19234   \n",
       "20812                           0                       0                   0   \n",
       "41458                           0                       0                   0   \n",
       "126902                          0                       0                   0   \n",
       "\n",
       "        count_soft_bounce_mobile_push  nunique_soft_bounce_mobile_push  \\\n",
       "112187                              0                                0   \n",
       "3943                                0                                0   \n",
       "20812                               0                                0   \n",
       "41458                               0                                0   \n",
       "126902                              0                                0   \n",
       "\n",
       "        count_complain_email  nunique_complain_email  count_close_mobile_push  \\\n",
       "112187                     0                       0                        0   \n",
       "3943                       0                       0                        0   \n",
       "20812                      0                       0                        0   \n",
       "41458                      0                       0                        0   \n",
       "126902                     0                       0                        0   \n",
       "\n",
       "        nunique_close_mobile_push  \n",
       "112187                          0  \n",
       "3943                            0  \n",
       "20812                           0  \n",
       "41458                           0  \n",
       "126902                          0  \n",
       "\n",
       "[5 rows x 36 columns]"
      ]
     },
     "metadata": {},
     "output_type": "display_data"
    },
    {
     "data": {
      "text/html": [
       "<span style='font-size: 1.5em; font-weight: bold; font-style: italic;'>Число пропусков в базе данных</span>"
      ],
      "text/plain": [
       "<IPython.core.display.HTML object>"
      ]
     },
     "metadata": {},
     "output_type": "display_data"
    },
    {
     "data": {
      "application/vnd.microsoft.datawrangler.viewer.v0+json": {
       "columns": [
        {
         "name": "index",
         "rawType": "object",
         "type": "string"
        },
        {
         "name": "0",
         "rawType": "int64",
         "type": "integer"
        }
       ],
       "ref": "cfb46133-4f46-4ec9-b65e-a86744413d09",
       "rows": [],
       "shape": {
        "columns": 1,
        "rows": 0
       }
      },
      "text/plain": [
       "Series([], dtype: int64)"
      ]
     },
     "metadata": {},
     "output_type": "display_data"
    },
    {
     "data": {
      "text/plain": [
       "None"
      ]
     },
     "metadata": {},
     "output_type": "display_data"
    },
    {
     "data": {
      "text/html": [
       "<span style='font-size: 1.5em; font-weight: bold; font-style: italic;'>Характеристики базы данных</span>"
      ],
      "text/plain": [
       "<IPython.core.display.HTML object>"
      ]
     },
     "metadata": {},
     "output_type": "display_data"
    },
    {
     "data": {
      "application/vnd.microsoft.datawrangler.viewer.v0+json": {
       "columns": [
        {
         "name": "index",
         "rawType": "object",
         "type": "string"
        },
        {
         "name": "count",
         "rawType": "float64",
         "type": "float"
        },
        {
         "name": "mean",
         "rawType": "float64",
         "type": "float"
        },
        {
         "name": "std",
         "rawType": "float64",
         "type": "float"
        },
        {
         "name": "min",
         "rawType": "float64",
         "type": "float"
        },
        {
         "name": "25%",
         "rawType": "float64",
         "type": "float"
        },
        {
         "name": "50%",
         "rawType": "float64",
         "type": "float"
        },
        {
         "name": "75%",
         "rawType": "float64",
         "type": "float"
        },
        {
         "name": "max",
         "rawType": "float64",
         "type": "float"
        }
       ],
       "ref": "75dd5adf-742e-4c24-92bb-a22845d108ba",
       "rows": [
        [
         "bulk_campaign_id",
         "131072.0",
         "8416.743377685547",
         "4877.3693057224045",
         "548.0",
         "4116.0",
         "7477.0",
         "13732.0",
         "15150.0"
        ],
        [
         "count_click_email",
         "131072.0",
         "41.58216857910156",
         "745.484035080455",
         "0.0",
         "0.0",
         "0.0",
         "1.0",
         "59365.0"
        ],
        [
         "count_click_mobile_push",
         "131072.0",
         "49.40080261230469",
         "1036.9528977542113",
         "0.0",
         "0.0",
         "0.0",
         "0.0",
         "128453.0"
        ],
        [
         "count_open_email",
         "131072.0",
         "423.7060317993164",
         "9753.383722386743",
         "0.0",
         "1.0",
         "5.0",
         "23.0",
         "2597015.0"
        ],
        [
         "count_open_mobile_push",
         "131072.0",
         "3347.3846588134766",
         "64448.59078250343",
         "0.0",
         "0.0",
         "0.0",
         "0.0",
         "5076151.0"
        ],
        [
         "count_purchase_email",
         "131072.0",
         "0.35748291015625",
         "8.287483127001817",
         "0.0",
         "0.0",
         "0.0",
         "0.0",
         "1077.0"
        ],
        [
         "count_purchase_mobile_push",
         "131072.0",
         "0.2204437255859375",
         "3.796500142654757",
         "0.0",
         "0.0",
         "0.0",
         "0.0",
         "431.0"
        ],
        [
         "count_soft_bounce_email",
         "131072.0",
         "24.474822998046875",
         "727.0693870332206",
         "0.0",
         "0.0",
         "0.0",
         "0.0",
         "76284.0"
        ],
        [
         "count_subscribe_email",
         "131072.0",
         "0.1405181884765625",
         "2.0727768212410997",
         "0.0",
         "0.0",
         "0.0",
         "0.0",
         "189.0"
        ],
        [
         "count_unsubscribe_email",
         "131072.0",
         "6.362678527832031",
         "79.17206939522323",
         "0.0",
         "0.0",
         "0.0",
         "1.0",
         "9089.0"
        ],
        [
         "nunique_click_email",
         "131072.0",
         "31.396263122558594",
         "562.8833087380519",
         "0.0",
         "0.0",
         "0.0",
         "1.0",
         "45718.0"
        ],
        [
         "nunique_click_mobile_push",
         "131072.0",
         "42.87975311279297",
         "833.3162568684708",
         "0.0",
         "0.0",
         "0.0",
         "0.0",
         "75899.0"
        ],
        [
         "nunique_open_email",
         "131072.0",
         "411.66148376464844",
         "9519.712508743762",
         "0.0",
         "1.0",
         "5.0",
         "23.0",
         "2548617.0"
        ],
        [
         "nunique_open_mobile_push",
         "131072.0",
         "3271.338539123535",
         "61880.00528886076",
         "0.0",
         "0.0",
         "0.0",
         "0.0",
         "2922440.0"
        ],
        [
         "nunique_purchase_email",
         "131072.0",
         "0.28771209716796875",
         "6.484979231107378",
         "0.0",
         "0.0",
         "0.0",
         "0.0",
         "779.0"
        ],
        [
         "nunique_purchase_mobile_push",
         "131072.0",
         "0.17739105224609375",
         "2.9719084156088544",
         "0.0",
         "0.0",
         "0.0",
         "0.0",
         "359.0"
        ],
        [
         "nunique_soft_bounce_email",
         "131072.0",
         "24.26214599609375",
         "724.2709103964756",
         "0.0",
         "0.0",
         "0.0",
         "0.0",
         "76281.0"
        ],
        [
         "nunique_subscribe_email",
         "131072.0",
         "0.134124755859375",
         "1.9764389650419572",
         "0.0",
         "0.0",
         "0.0",
         "0.0",
         "177.0"
        ],
        [
         "nunique_unsubscribe_email",
         "131072.0",
         "5.960601806640625",
         "73.28414772607994",
         "0.0",
         "0.0",
         "0.0",
         "1.0",
         "8299.0"
        ],
        [
         "count_hard_bounce_mobile_push",
         "131072.0",
         "59.48344421386719",
         "1371.955350014624",
         "0.0",
         "0.0",
         "0.0",
         "0.0",
         "165526.0"
        ],
        [
         "count_send_mobile_push",
         "131072.0",
         "7444.561637878418",
         "139350.92093317286",
         "0.0",
         "0.0",
         "0.0",
         "0.0",
         "11543513.0"
        ],
        [
         "nunique_hard_bounce_mobile_push",
         "131072.0",
         "58.863006591796875",
         "1357.2712605162126",
         "0.0",
         "0.0",
         "0.0",
         "0.0",
         "165526.0"
        ],
        [
         "nunique_send_mobile_push",
         "131072.0",
         "7350.266906738281",
         "135579.92207175054",
         "0.0",
         "0.0",
         "0.0",
         "0.0",
         "6636578.0"
        ],
        [
         "count_hard_bounce_email",
         "131072.0",
         "18.989990234375",
         "1402.4141073222308",
         "0.0",
         "0.0",
         "0.0",
         "0.0",
         "287404.0"
        ],
        [
         "count_hbq_spam_email",
         "131072.0",
         "0.81036376953125",
         "183.2985793098929",
         "0.0",
         "0.0",
         "0.0",
         "0.0",
         "63920.0"
        ],
        [
         "count_send_email",
         "131072.0",
         "4189.580680847168",
         "107319.7642451543",
         "0.0",
         "0.0",
         "0.0",
         "0.0",
         "7094600.0"
        ],
        [
         "nunique_hard_bounce_email",
         "131072.0",
         "18.535682678222656",
         "1349.4736951300706",
         "0.0",
         "0.0",
         "0.0",
         "0.0",
         "287341.0"
        ],
        [
         "nunique_hbq_spam_email",
         "131072.0",
         "0.8097991943359375",
         "183.2982446993435",
         "0.0",
         "0.0",
         "0.0",
         "0.0",
         "63920.0"
        ],
        [
         "nunique_send_email",
         "131072.0",
         "4186.897933959961",
         "107261.80007431388",
         "0.0",
         "0.0",
         "0.0",
         "0.0",
         "7094600.0"
        ],
        [
         "count_soft_bounce_mobile_push",
         "131072.0",
         "3.332489013671875",
         "120.91626852783658",
         "0.0",
         "0.0",
         "0.0",
         "0.0",
         "21831.0"
        ],
        [
         "nunique_soft_bounce_mobile_push",
         "131072.0",
         "3.3116531372070312",
         "120.09485777760419",
         "0.0",
         "0.0",
         "0.0",
         "0.0",
         "21389.0"
        ],
        [
         "count_complain_email",
         "131072.0",
         "0.9326553344726562",
         "30.198326489843303",
         "0.0",
         "0.0",
         "0.0",
         "0.0",
         "5160.0"
        ],
        [
         "nunique_complain_email",
         "131072.0",
         "0.92132568359375",
         "29.715170300563305",
         "0.0",
         "0.0",
         "0.0",
         "0.0",
         "5043.0"
        ],
        [
         "count_close_mobile_push",
         "131072.0",
         "7.62939453125e-06",
         "0.0027621358640099515",
         "0.0",
         "0.0",
         "0.0",
         "0.0",
         "1.0"
        ],
        [
         "nunique_close_mobile_push",
         "131072.0",
         "7.62939453125e-06",
         "0.0027621358640099515",
         "0.0",
         "0.0",
         "0.0",
         "0.0",
         "1.0"
        ]
       ],
       "shape": {
        "columns": 8,
        "rows": 35
       }
      },
      "text/html": [
       "<div>\n",
       "<style scoped>\n",
       "    .dataframe tbody tr th:only-of-type {\n",
       "        vertical-align: middle;\n",
       "    }\n",
       "\n",
       "    .dataframe tbody tr th {\n",
       "        vertical-align: top;\n",
       "    }\n",
       "\n",
       "    .dataframe thead th {\n",
       "        text-align: right;\n",
       "    }\n",
       "</style>\n",
       "<table border=\"1\" class=\"dataframe\">\n",
       "  <thead>\n",
       "    <tr style=\"text-align: right;\">\n",
       "      <th></th>\n",
       "      <th>count</th>\n",
       "      <th>mean</th>\n",
       "      <th>std</th>\n",
       "      <th>min</th>\n",
       "      <th>25%</th>\n",
       "      <th>50%</th>\n",
       "      <th>75%</th>\n",
       "      <th>max</th>\n",
       "    </tr>\n",
       "  </thead>\n",
       "  <tbody>\n",
       "    <tr>\n",
       "      <th>bulk_campaign_id</th>\n",
       "      <td>131072.0</td>\n",
       "      <td>8416.743378</td>\n",
       "      <td>4877.369306</td>\n",
       "      <td>548.0</td>\n",
       "      <td>4116.0</td>\n",
       "      <td>7477.0</td>\n",
       "      <td>13732.0</td>\n",
       "      <td>15150.0</td>\n",
       "    </tr>\n",
       "    <tr>\n",
       "      <th>count_click_email</th>\n",
       "      <td>131072.0</td>\n",
       "      <td>41.582169</td>\n",
       "      <td>745.484035</td>\n",
       "      <td>0.0</td>\n",
       "      <td>0.0</td>\n",
       "      <td>0.0</td>\n",
       "      <td>1.0</td>\n",
       "      <td>59365.0</td>\n",
       "    </tr>\n",
       "    <tr>\n",
       "      <th>count_click_mobile_push</th>\n",
       "      <td>131072.0</td>\n",
       "      <td>49.400803</td>\n",
       "      <td>1036.952898</td>\n",
       "      <td>0.0</td>\n",
       "      <td>0.0</td>\n",
       "      <td>0.0</td>\n",
       "      <td>0.0</td>\n",
       "      <td>128453.0</td>\n",
       "    </tr>\n",
       "    <tr>\n",
       "      <th>count_open_email</th>\n",
       "      <td>131072.0</td>\n",
       "      <td>423.706032</td>\n",
       "      <td>9753.383722</td>\n",
       "      <td>0.0</td>\n",
       "      <td>1.0</td>\n",
       "      <td>5.0</td>\n",
       "      <td>23.0</td>\n",
       "      <td>2597015.0</td>\n",
       "    </tr>\n",
       "    <tr>\n",
       "      <th>count_open_mobile_push</th>\n",
       "      <td>131072.0</td>\n",
       "      <td>3347.384659</td>\n",
       "      <td>64448.590783</td>\n",
       "      <td>0.0</td>\n",
       "      <td>0.0</td>\n",
       "      <td>0.0</td>\n",
       "      <td>0.0</td>\n",
       "      <td>5076151.0</td>\n",
       "    </tr>\n",
       "    <tr>\n",
       "      <th>count_purchase_email</th>\n",
       "      <td>131072.0</td>\n",
       "      <td>0.357483</td>\n",
       "      <td>8.287483</td>\n",
       "      <td>0.0</td>\n",
       "      <td>0.0</td>\n",
       "      <td>0.0</td>\n",
       "      <td>0.0</td>\n",
       "      <td>1077.0</td>\n",
       "    </tr>\n",
       "    <tr>\n",
       "      <th>count_purchase_mobile_push</th>\n",
       "      <td>131072.0</td>\n",
       "      <td>0.220444</td>\n",
       "      <td>3.796500</td>\n",
       "      <td>0.0</td>\n",
       "      <td>0.0</td>\n",
       "      <td>0.0</td>\n",
       "      <td>0.0</td>\n",
       "      <td>431.0</td>\n",
       "    </tr>\n",
       "    <tr>\n",
       "      <th>count_soft_bounce_email</th>\n",
       "      <td>131072.0</td>\n",
       "      <td>24.474823</td>\n",
       "      <td>727.069387</td>\n",
       "      <td>0.0</td>\n",
       "      <td>0.0</td>\n",
       "      <td>0.0</td>\n",
       "      <td>0.0</td>\n",
       "      <td>76284.0</td>\n",
       "    </tr>\n",
       "    <tr>\n",
       "      <th>count_subscribe_email</th>\n",
       "      <td>131072.0</td>\n",
       "      <td>0.140518</td>\n",
       "      <td>2.072777</td>\n",
       "      <td>0.0</td>\n",
       "      <td>0.0</td>\n",
       "      <td>0.0</td>\n",
       "      <td>0.0</td>\n",
       "      <td>189.0</td>\n",
       "    </tr>\n",
       "    <tr>\n",
       "      <th>count_unsubscribe_email</th>\n",
       "      <td>131072.0</td>\n",
       "      <td>6.362679</td>\n",
       "      <td>79.172069</td>\n",
       "      <td>0.0</td>\n",
       "      <td>0.0</td>\n",
       "      <td>0.0</td>\n",
       "      <td>1.0</td>\n",
       "      <td>9089.0</td>\n",
       "    </tr>\n",
       "    <tr>\n",
       "      <th>nunique_click_email</th>\n",
       "      <td>131072.0</td>\n",
       "      <td>31.396263</td>\n",
       "      <td>562.883309</td>\n",
       "      <td>0.0</td>\n",
       "      <td>0.0</td>\n",
       "      <td>0.0</td>\n",
       "      <td>1.0</td>\n",
       "      <td>45718.0</td>\n",
       "    </tr>\n",
       "    <tr>\n",
       "      <th>nunique_click_mobile_push</th>\n",
       "      <td>131072.0</td>\n",
       "      <td>42.879753</td>\n",
       "      <td>833.316257</td>\n",
       "      <td>0.0</td>\n",
       "      <td>0.0</td>\n",
       "      <td>0.0</td>\n",
       "      <td>0.0</td>\n",
       "      <td>75899.0</td>\n",
       "    </tr>\n",
       "    <tr>\n",
       "      <th>nunique_open_email</th>\n",
       "      <td>131072.0</td>\n",
       "      <td>411.661484</td>\n",
       "      <td>9519.712509</td>\n",
       "      <td>0.0</td>\n",
       "      <td>1.0</td>\n",
       "      <td>5.0</td>\n",
       "      <td>23.0</td>\n",
       "      <td>2548617.0</td>\n",
       "    </tr>\n",
       "    <tr>\n",
       "      <th>nunique_open_mobile_push</th>\n",
       "      <td>131072.0</td>\n",
       "      <td>3271.338539</td>\n",
       "      <td>61880.005289</td>\n",
       "      <td>0.0</td>\n",
       "      <td>0.0</td>\n",
       "      <td>0.0</td>\n",
       "      <td>0.0</td>\n",
       "      <td>2922440.0</td>\n",
       "    </tr>\n",
       "    <tr>\n",
       "      <th>nunique_purchase_email</th>\n",
       "      <td>131072.0</td>\n",
       "      <td>0.287712</td>\n",
       "      <td>6.484979</td>\n",
       "      <td>0.0</td>\n",
       "      <td>0.0</td>\n",
       "      <td>0.0</td>\n",
       "      <td>0.0</td>\n",
       "      <td>779.0</td>\n",
       "    </tr>\n",
       "    <tr>\n",
       "      <th>nunique_purchase_mobile_push</th>\n",
       "      <td>131072.0</td>\n",
       "      <td>0.177391</td>\n",
       "      <td>2.971908</td>\n",
       "      <td>0.0</td>\n",
       "      <td>0.0</td>\n",
       "      <td>0.0</td>\n",
       "      <td>0.0</td>\n",
       "      <td>359.0</td>\n",
       "    </tr>\n",
       "    <tr>\n",
       "      <th>nunique_soft_bounce_email</th>\n",
       "      <td>131072.0</td>\n",
       "      <td>24.262146</td>\n",
       "      <td>724.270910</td>\n",
       "      <td>0.0</td>\n",
       "      <td>0.0</td>\n",
       "      <td>0.0</td>\n",
       "      <td>0.0</td>\n",
       "      <td>76281.0</td>\n",
       "    </tr>\n",
       "    <tr>\n",
       "      <th>nunique_subscribe_email</th>\n",
       "      <td>131072.0</td>\n",
       "      <td>0.134125</td>\n",
       "      <td>1.976439</td>\n",
       "      <td>0.0</td>\n",
       "      <td>0.0</td>\n",
       "      <td>0.0</td>\n",
       "      <td>0.0</td>\n",
       "      <td>177.0</td>\n",
       "    </tr>\n",
       "    <tr>\n",
       "      <th>nunique_unsubscribe_email</th>\n",
       "      <td>131072.0</td>\n",
       "      <td>5.960602</td>\n",
       "      <td>73.284148</td>\n",
       "      <td>0.0</td>\n",
       "      <td>0.0</td>\n",
       "      <td>0.0</td>\n",
       "      <td>1.0</td>\n",
       "      <td>8299.0</td>\n",
       "    </tr>\n",
       "    <tr>\n",
       "      <th>count_hard_bounce_mobile_push</th>\n",
       "      <td>131072.0</td>\n",
       "      <td>59.483444</td>\n",
       "      <td>1371.955350</td>\n",
       "      <td>0.0</td>\n",
       "      <td>0.0</td>\n",
       "      <td>0.0</td>\n",
       "      <td>0.0</td>\n",
       "      <td>165526.0</td>\n",
       "    </tr>\n",
       "    <tr>\n",
       "      <th>count_send_mobile_push</th>\n",
       "      <td>131072.0</td>\n",
       "      <td>7444.561638</td>\n",
       "      <td>139350.920933</td>\n",
       "      <td>0.0</td>\n",
       "      <td>0.0</td>\n",
       "      <td>0.0</td>\n",
       "      <td>0.0</td>\n",
       "      <td>11543513.0</td>\n",
       "    </tr>\n",
       "    <tr>\n",
       "      <th>nunique_hard_bounce_mobile_push</th>\n",
       "      <td>131072.0</td>\n",
       "      <td>58.863007</td>\n",
       "      <td>1357.271261</td>\n",
       "      <td>0.0</td>\n",
       "      <td>0.0</td>\n",
       "      <td>0.0</td>\n",
       "      <td>0.0</td>\n",
       "      <td>165526.0</td>\n",
       "    </tr>\n",
       "    <tr>\n",
       "      <th>nunique_send_mobile_push</th>\n",
       "      <td>131072.0</td>\n",
       "      <td>7350.266907</td>\n",
       "      <td>135579.922072</td>\n",
       "      <td>0.0</td>\n",
       "      <td>0.0</td>\n",
       "      <td>0.0</td>\n",
       "      <td>0.0</td>\n",
       "      <td>6636578.0</td>\n",
       "    </tr>\n",
       "    <tr>\n",
       "      <th>count_hard_bounce_email</th>\n",
       "      <td>131072.0</td>\n",
       "      <td>18.989990</td>\n",
       "      <td>1402.414107</td>\n",
       "      <td>0.0</td>\n",
       "      <td>0.0</td>\n",
       "      <td>0.0</td>\n",
       "      <td>0.0</td>\n",
       "      <td>287404.0</td>\n",
       "    </tr>\n",
       "    <tr>\n",
       "      <th>count_hbq_spam_email</th>\n",
       "      <td>131072.0</td>\n",
       "      <td>0.810364</td>\n",
       "      <td>183.298579</td>\n",
       "      <td>0.0</td>\n",
       "      <td>0.0</td>\n",
       "      <td>0.0</td>\n",
       "      <td>0.0</td>\n",
       "      <td>63920.0</td>\n",
       "    </tr>\n",
       "    <tr>\n",
       "      <th>count_send_email</th>\n",
       "      <td>131072.0</td>\n",
       "      <td>4189.580681</td>\n",
       "      <td>107319.764245</td>\n",
       "      <td>0.0</td>\n",
       "      <td>0.0</td>\n",
       "      <td>0.0</td>\n",
       "      <td>0.0</td>\n",
       "      <td>7094600.0</td>\n",
       "    </tr>\n",
       "    <tr>\n",
       "      <th>nunique_hard_bounce_email</th>\n",
       "      <td>131072.0</td>\n",
       "      <td>18.535683</td>\n",
       "      <td>1349.473695</td>\n",
       "      <td>0.0</td>\n",
       "      <td>0.0</td>\n",
       "      <td>0.0</td>\n",
       "      <td>0.0</td>\n",
       "      <td>287341.0</td>\n",
       "    </tr>\n",
       "    <tr>\n",
       "      <th>nunique_hbq_spam_email</th>\n",
       "      <td>131072.0</td>\n",
       "      <td>0.809799</td>\n",
       "      <td>183.298245</td>\n",
       "      <td>0.0</td>\n",
       "      <td>0.0</td>\n",
       "      <td>0.0</td>\n",
       "      <td>0.0</td>\n",
       "      <td>63920.0</td>\n",
       "    </tr>\n",
       "    <tr>\n",
       "      <th>nunique_send_email</th>\n",
       "      <td>131072.0</td>\n",
       "      <td>4186.897934</td>\n",
       "      <td>107261.800074</td>\n",
       "      <td>0.0</td>\n",
       "      <td>0.0</td>\n",
       "      <td>0.0</td>\n",
       "      <td>0.0</td>\n",
       "      <td>7094600.0</td>\n",
       "    </tr>\n",
       "    <tr>\n",
       "      <th>count_soft_bounce_mobile_push</th>\n",
       "      <td>131072.0</td>\n",
       "      <td>3.332489</td>\n",
       "      <td>120.916269</td>\n",
       "      <td>0.0</td>\n",
       "      <td>0.0</td>\n",
       "      <td>0.0</td>\n",
       "      <td>0.0</td>\n",
       "      <td>21831.0</td>\n",
       "    </tr>\n",
       "    <tr>\n",
       "      <th>nunique_soft_bounce_mobile_push</th>\n",
       "      <td>131072.0</td>\n",
       "      <td>3.311653</td>\n",
       "      <td>120.094858</td>\n",
       "      <td>0.0</td>\n",
       "      <td>0.0</td>\n",
       "      <td>0.0</td>\n",
       "      <td>0.0</td>\n",
       "      <td>21389.0</td>\n",
       "    </tr>\n",
       "    <tr>\n",
       "      <th>count_complain_email</th>\n",
       "      <td>131072.0</td>\n",
       "      <td>0.932655</td>\n",
       "      <td>30.198326</td>\n",
       "      <td>0.0</td>\n",
       "      <td>0.0</td>\n",
       "      <td>0.0</td>\n",
       "      <td>0.0</td>\n",
       "      <td>5160.0</td>\n",
       "    </tr>\n",
       "    <tr>\n",
       "      <th>nunique_complain_email</th>\n",
       "      <td>131072.0</td>\n",
       "      <td>0.921326</td>\n",
       "      <td>29.715170</td>\n",
       "      <td>0.0</td>\n",
       "      <td>0.0</td>\n",
       "      <td>0.0</td>\n",
       "      <td>0.0</td>\n",
       "      <td>5043.0</td>\n",
       "    </tr>\n",
       "    <tr>\n",
       "      <th>count_close_mobile_push</th>\n",
       "      <td>131072.0</td>\n",
       "      <td>0.000008</td>\n",
       "      <td>0.002762</td>\n",
       "      <td>0.0</td>\n",
       "      <td>0.0</td>\n",
       "      <td>0.0</td>\n",
       "      <td>0.0</td>\n",
       "      <td>1.0</td>\n",
       "    </tr>\n",
       "    <tr>\n",
       "      <th>nunique_close_mobile_push</th>\n",
       "      <td>131072.0</td>\n",
       "      <td>0.000008</td>\n",
       "      <td>0.002762</td>\n",
       "      <td>0.0</td>\n",
       "      <td>0.0</td>\n",
       "      <td>0.0</td>\n",
       "      <td>0.0</td>\n",
       "      <td>1.0</td>\n",
       "    </tr>\n",
       "  </tbody>\n",
       "</table>\n",
       "</div>"
      ],
      "text/plain": [
       "                                    count         mean            std    min  \\\n",
       "bulk_campaign_id                 131072.0  8416.743378    4877.369306  548.0   \n",
       "count_click_email                131072.0    41.582169     745.484035    0.0   \n",
       "count_click_mobile_push          131072.0    49.400803    1036.952898    0.0   \n",
       "count_open_email                 131072.0   423.706032    9753.383722    0.0   \n",
       "count_open_mobile_push           131072.0  3347.384659   64448.590783    0.0   \n",
       "count_purchase_email             131072.0     0.357483       8.287483    0.0   \n",
       "count_purchase_mobile_push       131072.0     0.220444       3.796500    0.0   \n",
       "count_soft_bounce_email          131072.0    24.474823     727.069387    0.0   \n",
       "count_subscribe_email            131072.0     0.140518       2.072777    0.0   \n",
       "count_unsubscribe_email          131072.0     6.362679      79.172069    0.0   \n",
       "nunique_click_email              131072.0    31.396263     562.883309    0.0   \n",
       "nunique_click_mobile_push        131072.0    42.879753     833.316257    0.0   \n",
       "nunique_open_email               131072.0   411.661484    9519.712509    0.0   \n",
       "nunique_open_mobile_push         131072.0  3271.338539   61880.005289    0.0   \n",
       "nunique_purchase_email           131072.0     0.287712       6.484979    0.0   \n",
       "nunique_purchase_mobile_push     131072.0     0.177391       2.971908    0.0   \n",
       "nunique_soft_bounce_email        131072.0    24.262146     724.270910    0.0   \n",
       "nunique_subscribe_email          131072.0     0.134125       1.976439    0.0   \n",
       "nunique_unsubscribe_email        131072.0     5.960602      73.284148    0.0   \n",
       "count_hard_bounce_mobile_push    131072.0    59.483444    1371.955350    0.0   \n",
       "count_send_mobile_push           131072.0  7444.561638  139350.920933    0.0   \n",
       "nunique_hard_bounce_mobile_push  131072.0    58.863007    1357.271261    0.0   \n",
       "nunique_send_mobile_push         131072.0  7350.266907  135579.922072    0.0   \n",
       "count_hard_bounce_email          131072.0    18.989990    1402.414107    0.0   \n",
       "count_hbq_spam_email             131072.0     0.810364     183.298579    0.0   \n",
       "count_send_email                 131072.0  4189.580681  107319.764245    0.0   \n",
       "nunique_hard_bounce_email        131072.0    18.535683    1349.473695    0.0   \n",
       "nunique_hbq_spam_email           131072.0     0.809799     183.298245    0.0   \n",
       "nunique_send_email               131072.0  4186.897934  107261.800074    0.0   \n",
       "count_soft_bounce_mobile_push    131072.0     3.332489     120.916269    0.0   \n",
       "nunique_soft_bounce_mobile_push  131072.0     3.311653     120.094858    0.0   \n",
       "count_complain_email             131072.0     0.932655      30.198326    0.0   \n",
       "nunique_complain_email           131072.0     0.921326      29.715170    0.0   \n",
       "count_close_mobile_push          131072.0     0.000008       0.002762    0.0   \n",
       "nunique_close_mobile_push        131072.0     0.000008       0.002762    0.0   \n",
       "\n",
       "                                    25%     50%      75%         max  \n",
       "bulk_campaign_id                 4116.0  7477.0  13732.0     15150.0  \n",
       "count_click_email                   0.0     0.0      1.0     59365.0  \n",
       "count_click_mobile_push             0.0     0.0      0.0    128453.0  \n",
       "count_open_email                    1.0     5.0     23.0   2597015.0  \n",
       "count_open_mobile_push              0.0     0.0      0.0   5076151.0  \n",
       "count_purchase_email                0.0     0.0      0.0      1077.0  \n",
       "count_purchase_mobile_push          0.0     0.0      0.0       431.0  \n",
       "count_soft_bounce_email             0.0     0.0      0.0     76284.0  \n",
       "count_subscribe_email               0.0     0.0      0.0       189.0  \n",
       "count_unsubscribe_email             0.0     0.0      1.0      9089.0  \n",
       "nunique_click_email                 0.0     0.0      1.0     45718.0  \n",
       "nunique_click_mobile_push           0.0     0.0      0.0     75899.0  \n",
       "nunique_open_email                  1.0     5.0     23.0   2548617.0  \n",
       "nunique_open_mobile_push            0.0     0.0      0.0   2922440.0  \n",
       "nunique_purchase_email              0.0     0.0      0.0       779.0  \n",
       "nunique_purchase_mobile_push        0.0     0.0      0.0       359.0  \n",
       "nunique_soft_bounce_email           0.0     0.0      0.0     76281.0  \n",
       "nunique_subscribe_email             0.0     0.0      0.0       177.0  \n",
       "nunique_unsubscribe_email           0.0     0.0      1.0      8299.0  \n",
       "count_hard_bounce_mobile_push       0.0     0.0      0.0    165526.0  \n",
       "count_send_mobile_push              0.0     0.0      0.0  11543513.0  \n",
       "nunique_hard_bounce_mobile_push     0.0     0.0      0.0    165526.0  \n",
       "nunique_send_mobile_push            0.0     0.0      0.0   6636578.0  \n",
       "count_hard_bounce_email             0.0     0.0      0.0    287404.0  \n",
       "count_hbq_spam_email                0.0     0.0      0.0     63920.0  \n",
       "count_send_email                    0.0     0.0      0.0   7094600.0  \n",
       "nunique_hard_bounce_email           0.0     0.0      0.0    287341.0  \n",
       "nunique_hbq_spam_email              0.0     0.0      0.0     63920.0  \n",
       "nunique_send_email                  0.0     0.0      0.0   7094600.0  \n",
       "count_soft_bounce_mobile_push       0.0     0.0      0.0     21831.0  \n",
       "nunique_soft_bounce_mobile_push     0.0     0.0      0.0     21389.0  \n",
       "count_complain_email                0.0     0.0      0.0      5160.0  \n",
       "nunique_complain_email              0.0     0.0      0.0      5043.0  \n",
       "count_close_mobile_push             0.0     0.0      0.0         1.0  \n",
       "nunique_close_mobile_push           0.0     0.0      0.0         1.0  "
      ]
     },
     "metadata": {},
     "output_type": "display_data"
    }
   ],
   "source": [
    "event_chanel = check_data(event_chanel)"
   ]
  },
  {
   "cell_type": "markdown",
   "id": "c43826db",
   "metadata": {},
   "source": [
    "Вывод:  \n",
    "По сути своей, тоже самое, что и прошлая таблица - статистика по событиям.  \n",
    "Возможно и есть смысл где-то использовать, но пока непонятно где и как"
   ]
  },
  {
   "cell_type": "markdown",
   "id": "1d4fab21",
   "metadata": {},
   "source": [
    "#### Выводы"
   ]
  },
  {
   "cell_type": "markdown",
   "id": "c3f0c3b0",
   "metadata": {},
   "source": [
    "Были подгружены и изучены предоставленные данные.  \n",
    "Глобально, для реализации задачи нам понадобится только 3 таблицы - apparel-messages, apparel-purchases и apparel-target_binary, т.к. эти таблицы несут основную смысловую нагрузку.  \n",
    "Две оставшиеся таблицы - статистика по ивентам и активности пользователей без привязки к этим самым пользователям и ничего нам не дадут.  \n",
    "\n"
   ]
  },
  {
   "cell_type": "markdown",
   "id": "d720b136",
   "metadata": {},
   "source": [
    "## Предобработка данных"
   ]
  },
  {
   "cell_type": "markdown",
   "id": "40ff9664",
   "metadata": {},
   "source": [
    "### Обработка имеющихся данных"
   ]
  },
  {
   "cell_type": "code",
   "execution_count": 359,
   "id": "24053df4",
   "metadata": {},
   "outputs": [],
   "source": [
    "# преобразуем даты\n",
    "app_msg[\"date\"] = pd.to_datetime(app_msg[\"date\"], errors=\"coerce\")\n",
    "app_msg[\"created_at\"] = pd.to_datetime(app_msg[\"created_at\"], errors=\"coerce\")\n",
    "\n",
    "app_prch[\"date\"] = pd.to_datetime(app_prch[\"date\"], errors=\"coerce\")"
   ]
  },
  {
   "cell_type": "markdown",
   "id": "be2d30de",
   "metadata": {},
   "source": [
    "### feature engineering"
   ]
  },
  {
   "cell_type": "markdown",
   "id": "0cea7a0e",
   "metadata": {},
   "source": [
    "Для начала поработаем с каждой таблицей по отдельности и сделаем, что-то новое.  \n",
    "\n",
    "app_msg\n",
    "Что мы можем сделать:  \n",
    "1) У нас есть дата реакции на ивент и дата создания ивента - скорость реакции на ивент, потом усредняем;  \n",
    "2) Есть канал и действие - соберем суммарное число действий по каждому каналу;  \n",
    "3) Сделать бинарную фичу \"spam_factor\", т.е. берем дубли, смотрим кого заспамили - тем 1, кого нет - 0.  \n",
    "\n",
    "app_prch  \n",
    "Что мы можем сделать:  \n",
    "1) Время с момента последней покупки, сделаем в днях;  \n",
    "2) Среднее число товаров в заказе;  \n",
    "3) Средний чек заказа;  \n",
    "4) Средняя цена итема;  \n",
    "5) В какой категории больше всего покупок (предварительно разобьем category_ids на top и last id - глобальную категорию и конкретный товар);  \n",
    "6) Любимый товар;  \n",
    "7) Любимая категория;  \n",
    "8) Средний интервал между покупками, в днях;  \n",
    "9) Дней с последнего взаимодействия с рассылкой;  \n",
    "10) Сделаем группировку по 30/60/90/180/360 дней, а там агрегируем по числу покупок, числу итемов, сумме затрат от последней имеющейся у нас отчетной даты;  "
   ]
  },
  {
   "cell_type": "markdown",
   "id": "6c4a1324",
   "metadata": {},
   "source": [
    "#### app_msg"
   ]
  },
  {
   "cell_type": "code",
   "execution_count": 360,
   "id": "35ead0db",
   "metadata": {},
   "outputs": [
    {
     "data": {
      "application/vnd.microsoft.datawrangler.viewer.v0+json": {
       "columns": [
        {
         "name": "index",
         "rawType": "int64",
         "type": "integer"
        },
        {
         "name": "bulk_campaign_id",
         "rawType": "int64",
         "type": "integer"
        },
        {
         "name": "client_id",
         "rawType": "int64",
         "type": "integer"
        },
        {
         "name": "message_id",
         "rawType": "object",
         "type": "string"
        },
        {
         "name": "event",
         "rawType": "object",
         "type": "string"
        },
        {
         "name": "channel",
         "rawType": "object",
         "type": "string"
        },
        {
         "name": "date",
         "rawType": "datetime64[ns]",
         "type": "datetime"
        },
        {
         "name": "created_at",
         "rawType": "datetime64[ns]",
         "type": "datetime"
        }
       ],
       "ref": "d8e31edc-297b-4f5a-9fe8-c7724c13a52c",
       "rows": [
        [
         "0",
         "4439",
         "1515915625626736623",
         "1515915625626736623-4439-6283415ac07ea",
         "open",
         "email",
         "2022-05-19 00:00:00",
         "2022-05-19 00:14:20"
        ],
        [
         "1",
         "4439",
         "1515915625490086521",
         "1515915625490086521-4439-62834150016dd",
         "open",
         "email",
         "2022-05-19 00:00:00",
         "2022-05-19 00:39:34"
        ],
        [
         "2",
         "4439",
         "1515915625553578558",
         "1515915625553578558-4439-6283415b36b4f",
         "open",
         "email",
         "2022-05-19 00:00:00",
         "2022-05-19 00:51:49"
        ],
        [
         "3",
         "4439",
         "1515915625553578558",
         "1515915625553578558-4439-6283415b36b4f",
         "click",
         "email",
         "2022-05-19 00:00:00",
         "2022-05-19 00:52:20"
        ],
        [
         "4",
         "4439",
         "1515915625471518311",
         "1515915625471518311-4439-628341570c133",
         "open",
         "email",
         "2022-05-19 00:00:00",
         "2022-05-19 00:56:52"
        ]
       ],
       "shape": {
        "columns": 7,
        "rows": 5
       }
      },
      "text/html": [
       "<div>\n",
       "<style scoped>\n",
       "    .dataframe tbody tr th:only-of-type {\n",
       "        vertical-align: middle;\n",
       "    }\n",
       "\n",
       "    .dataframe tbody tr th {\n",
       "        vertical-align: top;\n",
       "    }\n",
       "\n",
       "    .dataframe thead th {\n",
       "        text-align: right;\n",
       "    }\n",
       "</style>\n",
       "<table border=\"1\" class=\"dataframe\">\n",
       "  <thead>\n",
       "    <tr style=\"text-align: right;\">\n",
       "      <th></th>\n",
       "      <th>bulk_campaign_id</th>\n",
       "      <th>client_id</th>\n",
       "      <th>message_id</th>\n",
       "      <th>event</th>\n",
       "      <th>channel</th>\n",
       "      <th>date</th>\n",
       "      <th>created_at</th>\n",
       "    </tr>\n",
       "  </thead>\n",
       "  <tbody>\n",
       "    <tr>\n",
       "      <th>0</th>\n",
       "      <td>4439</td>\n",
       "      <td>1515915625626736623</td>\n",
       "      <td>1515915625626736623-4439-6283415ac07ea</td>\n",
       "      <td>open</td>\n",
       "      <td>email</td>\n",
       "      <td>2022-05-19</td>\n",
       "      <td>2022-05-19 00:14:20</td>\n",
       "    </tr>\n",
       "    <tr>\n",
       "      <th>1</th>\n",
       "      <td>4439</td>\n",
       "      <td>1515915625490086521</td>\n",
       "      <td>1515915625490086521-4439-62834150016dd</td>\n",
       "      <td>open</td>\n",
       "      <td>email</td>\n",
       "      <td>2022-05-19</td>\n",
       "      <td>2022-05-19 00:39:34</td>\n",
       "    </tr>\n",
       "    <tr>\n",
       "      <th>2</th>\n",
       "      <td>4439</td>\n",
       "      <td>1515915625553578558</td>\n",
       "      <td>1515915625553578558-4439-6283415b36b4f</td>\n",
       "      <td>open</td>\n",
       "      <td>email</td>\n",
       "      <td>2022-05-19</td>\n",
       "      <td>2022-05-19 00:51:49</td>\n",
       "    </tr>\n",
       "    <tr>\n",
       "      <th>3</th>\n",
       "      <td>4439</td>\n",
       "      <td>1515915625553578558</td>\n",
       "      <td>1515915625553578558-4439-6283415b36b4f</td>\n",
       "      <td>click</td>\n",
       "      <td>email</td>\n",
       "      <td>2022-05-19</td>\n",
       "      <td>2022-05-19 00:52:20</td>\n",
       "    </tr>\n",
       "    <tr>\n",
       "      <th>4</th>\n",
       "      <td>4439</td>\n",
       "      <td>1515915625471518311</td>\n",
       "      <td>1515915625471518311-4439-628341570c133</td>\n",
       "      <td>open</td>\n",
       "      <td>email</td>\n",
       "      <td>2022-05-19</td>\n",
       "      <td>2022-05-19 00:56:52</td>\n",
       "    </tr>\n",
       "  </tbody>\n",
       "</table>\n",
       "</div>"
      ],
      "text/plain": [
       "   bulk_campaign_id            client_id  \\\n",
       "0              4439  1515915625626736623   \n",
       "1              4439  1515915625490086521   \n",
       "2              4439  1515915625553578558   \n",
       "3              4439  1515915625553578558   \n",
       "4              4439  1515915625471518311   \n",
       "\n",
       "                               message_id  event channel       date  \\\n",
       "0  1515915625626736623-4439-6283415ac07ea   open   email 2022-05-19   \n",
       "1  1515915625490086521-4439-62834150016dd   open   email 2022-05-19   \n",
       "2  1515915625553578558-4439-6283415b36b4f   open   email 2022-05-19   \n",
       "3  1515915625553578558-4439-6283415b36b4f  click   email 2022-05-19   \n",
       "4  1515915625471518311-4439-628341570c133   open   email 2022-05-19   \n",
       "\n",
       "           created_at  \n",
       "0 2022-05-19 00:14:20  \n",
       "1 2022-05-19 00:39:34  \n",
       "2 2022-05-19 00:51:49  \n",
       "3 2022-05-19 00:52:20  \n",
       "4 2022-05-19 00:56:52  "
      ]
     },
     "execution_count": 360,
     "metadata": {},
     "output_type": "execute_result"
    }
   ],
   "source": [
    "app_msg.head()"
   ]
  },
  {
   "cell_type": "code",
   "execution_count": 361,
   "id": "68d55399",
   "metadata": {},
   "outputs": [],
   "source": [
    "# У нас есть дата реакции на ивент и дата создания ивента - скорость реакции\n",
    "app_msg[\"reaction_for_event\"] = (\n",
    "    (app_msg[\"date\"].dt.normalize() - app_msg[\"created_at\"].dt.normalize())\n",
    "    .dt.days.astype(\"int16\")\n",
    ")"
   ]
  },
  {
   "cell_type": "code",
   "execution_count": 362,
   "id": "f4fe080b",
   "metadata": {},
   "outputs": [
    {
     "data": {
      "text/plain": [
       "array([0], dtype=int16)"
      ]
     },
     "execution_count": 362,
     "metadata": {},
     "output_type": "execute_result"
    }
   ],
   "source": [
    "app_msg['reaction_for_event'].unique()"
   ]
  },
  {
   "cell_type": "markdown",
   "id": "7a8ebacd",
   "metadata": {},
   "source": [
    "Неожиданно, все реагируют на ивенты в тот же день.  \n",
    "В таком случае этот признак для нас бесполезен"
   ]
  },
  {
   "cell_type": "code",
   "execution_count": 363,
   "id": "f7990552",
   "metadata": {},
   "outputs": [],
   "source": [
    "# теперь агрегируем данные\n",
    "app_msg_agg = (\n",
    "    app_msg.groupby(\"client_id\")\n",
    "    .agg(\n",
    "        bulk_campaigns=(\"bulk_campaign_id\", \"nunique\"),             # сколько кампаний видел\n",
    "        messages=(\"message_id\", \"nunique\"),                         # сколько сообщений получил\n",
    "        events=(\"event\", \"nunique\"),                                # сколько уникальных событий\n",
    "        channels=(\"channel\", \"nunique\"),                            # через сколько каналов общались\n",
    "        first_date=(\"date\", \"min\"),                                 # первая дата активности\n",
    "        last_date=(\"date\", \"max\"),                                  # последняя дата активности\n",
    "        pop_event=(\"event\", lambda x: x.value_counts().idxmax())    # и самая популярная активность у юзера\n",
    "    )\n",
    "    .reset_index()\n",
    ")"
   ]
  },
  {
   "cell_type": "code",
   "execution_count": 364,
   "id": "8e4c2960",
   "metadata": {},
   "outputs": [],
   "source": [
    "# считаем число действий по каналам и событиям\n",
    "channel_event_counts = (\n",
    "    pd.crosstab(\n",
    "        index=app_msg[\"client_id\"],\n",
    "        columns=[app_msg[\"channel\"], app_msg[\"event\"]]\n",
    "    )\n",
    ")\n",
    "\n",
    "# делаем имена колонок: actions_<channel>_<event>\n",
    "channel_event_counts.columns = [\n",
    "    f\"actions_{ch}_{ev}\" for ch, ev in channel_event_counts.columns\n",
    "]\n",
    "\n",
    "# собираем в кучу\n",
    "channel_event_counts = channel_event_counts.reset_index()\n",
    "app_msg_agg = app_msg_agg.merge(channel_event_counts, on=\"client_id\", how=\"left\")"
   ]
  },
  {
   "cell_type": "code",
   "execution_count": 365,
   "id": "8f227a55",
   "metadata": {},
   "outputs": [],
   "source": [
    "# считаем количество дублей сообщений на юзера\n",
    "dup_counts = (\n",
    "    app_msg.groupby(\"client_id\")\n",
    "    .agg(dup_count=(\"message_id\", lambda x: app_msg.loc[x.index].duplicated().sum()))\n",
    "    .reset_index()\n",
    ")\n",
    "\n",
    "# spam_factor = 1 если дублей >= 2, иначе 0\n",
    "dup_counts[\"spam_factor\"] = (dup_counts[\"dup_count\"] >= 2).astype(int)\n",
    "\n",
    "# объединяем с агрегатами\n",
    "app_msg_agg = app_msg_agg.merge(dup_counts, on=\"client_id\", how=\"left\")\n",
    "app_msg_agg[[\"dup_count\", \"spam_factor\"]] = app_msg_agg[[\"dup_count\", \"spam_factor\"]].fillna(0).astype(int)"
   ]
  },
  {
   "cell_type": "code",
   "execution_count": 366,
   "id": "8148c5f9",
   "metadata": {},
   "outputs": [
    {
     "data": {
      "application/vnd.microsoft.datawrangler.viewer.v0+json": {
       "columns": [
        {
         "name": "index",
         "rawType": "int64",
         "type": "integer"
        },
        {
         "name": "client_id",
         "rawType": "int64",
         "type": "integer"
        },
        {
         "name": "bulk_campaigns",
         "rawType": "int64",
         "type": "integer"
        },
        {
         "name": "messages",
         "rawType": "int64",
         "type": "integer"
        },
        {
         "name": "events",
         "rawType": "int64",
         "type": "integer"
        },
        {
         "name": "channels",
         "rawType": "int64",
         "type": "integer"
        },
        {
         "name": "first_date",
         "rawType": "datetime64[ns]",
         "type": "datetime"
        },
        {
         "name": "last_date",
         "rawType": "datetime64[ns]",
         "type": "datetime"
        },
        {
         "name": "pop_event",
         "rawType": "object",
         "type": "string"
        },
        {
         "name": "actions_email_click",
         "rawType": "int64",
         "type": "integer"
        },
        {
         "name": "actions_email_complain",
         "rawType": "int64",
         "type": "integer"
        },
        {
         "name": "actions_email_hard_bounce",
         "rawType": "int64",
         "type": "integer"
        },
        {
         "name": "actions_email_hbq_spam",
         "rawType": "int64",
         "type": "integer"
        },
        {
         "name": "actions_email_open",
         "rawType": "int64",
         "type": "integer"
        },
        {
         "name": "actions_email_purchase",
         "rawType": "int64",
         "type": "integer"
        },
        {
         "name": "actions_email_send",
         "rawType": "int64",
         "type": "integer"
        },
        {
         "name": "actions_email_soft_bounce",
         "rawType": "int64",
         "type": "integer"
        },
        {
         "name": "actions_email_subscribe",
         "rawType": "int64",
         "type": "integer"
        },
        {
         "name": "actions_email_unsubscribe",
         "rawType": "int64",
         "type": "integer"
        },
        {
         "name": "actions_mobile_push_click",
         "rawType": "int64",
         "type": "integer"
        },
        {
         "name": "actions_mobile_push_close",
         "rawType": "int64",
         "type": "integer"
        },
        {
         "name": "actions_mobile_push_hard_bounce",
         "rawType": "int64",
         "type": "integer"
        },
        {
         "name": "actions_mobile_push_open",
         "rawType": "int64",
         "type": "integer"
        },
        {
         "name": "actions_mobile_push_purchase",
         "rawType": "int64",
         "type": "integer"
        },
        {
         "name": "actions_mobile_push_send",
         "rawType": "int64",
         "type": "integer"
        },
        {
         "name": "actions_mobile_push_soft_bounce",
         "rawType": "int64",
         "type": "integer"
        },
        {
         "name": "dup_count",
         "rawType": "int64",
         "type": "integer"
        },
        {
         "name": "spam_factor",
         "rawType": "int64",
         "type": "integer"
        }
       ],
       "ref": "8f2dec0e-59eb-4ee5-892c-dfdc1c39ab8b",
       "rows": [
        [
         "3",
         "1515915625468061100",
         "265",
         "268",
         "6",
         "1",
         "2022-05-19 00:00:00",
         "2024-02-15 00:00:00",
         "send",
         "0",
         "0",
         "0",
         "0",
         "0",
         "0",
         "0",
         "0",
         "0",
         "0",
         "1",
         "0",
         "1",
         "163",
         "1",
         "267",
         "1",
         "6",
         "1"
        ],
        [
         "9",
         "1515915625468061994",
         "339",
         "346",
         "4",
         "2",
         "2022-05-25 00:00:00",
         "2024-02-14 00:00:00",
         "send",
         "0",
         "0",
         "0",
         "0",
         "0",
         "0",
         "96",
         "0",
         "0",
         "0",
         "11",
         "0",
         "0",
         "21",
         "2",
         "250",
         "0",
         "2",
         "1"
        ],
        [
         "10",
         "1515915625468062158",
         "113",
         "113",
         "4",
         "1",
         "2022-05-20 00:00:00",
         "2024-02-13 00:00:00",
         "send",
         "31",
         "0",
         "0",
         "0",
         "28",
         "2",
         "113",
         "0",
         "0",
         "0",
         "0",
         "0",
         "0",
         "0",
         "0",
         "0",
         "0",
         "2",
         "1"
        ],
        [
         "48",
         "1515915625468064438",
         "219",
         "225",
         "6",
         "2",
         "2022-05-19 00:00:00",
         "2024-02-15 00:00:00",
         "send",
         "120",
         "0",
         "0",
         "0",
         "82",
         "9",
         "145",
         "0",
         "0",
         "0",
         "2",
         "0",
         "1",
         "78",
         "0",
         "79",
         "1",
         "2",
         "1"
        ],
        [
         "53",
         "1515915625468064943",
         "288",
         "291",
         "5",
         "2",
         "2022-05-19 00:00:00",
         "2024-02-15 00:00:00",
         "send",
         "3",
         "0",
         "0",
         "0",
         "7",
         "2",
         "150",
         "0",
         "0",
         "0",
         "1",
         "0",
         "2",
         "142",
         "0",
         "141",
         "0",
         "4",
         "1"
        ],
        [
         "56",
         "1515915625468065092",
         "251",
         "255",
         "4",
         "2",
         "2022-05-20 00:00:00",
         "2024-02-13 00:00:00",
         "send",
         "8",
         "0",
         "0",
         "0",
         "36",
         "4",
         "133",
         "0",
         "0",
         "0",
         "0",
         "0",
         "0",
         "0",
         "0",
         "122",
         "0",
         "3",
         "1"
        ],
        [
         "60",
         "1515915625468065450",
         "139",
         "139",
         "4",
         "2",
         "2022-05-19 00:00:00",
         "2024-02-15 00:00:00",
         "send",
         "6",
         "0",
         "0",
         "0",
         "7",
         "1",
         "121",
         "0",
         "0",
         "0",
         "0",
         "0",
         "0",
         "22",
         "0",
         "18",
         "0",
         "3",
         "1"
        ],
        [
         "62",
         "1515915625468065652",
         "273",
         "277",
         "5",
         "2",
         "2022-05-25 00:00:00",
         "2024-02-14 00:00:00",
         "send",
         "7",
         "0",
         "0",
         "0",
         "24",
         "0",
         "102",
         "0",
         "0",
         "1",
         "28",
         "0",
         "0",
         "0",
         "3",
         "175",
         "0",
         "3",
         "1"
        ],
        [
         "73",
         "1515915625468066580",
         "280",
         "288",
         "4",
         "2",
         "2022-05-20 00:00:00",
         "2024-02-15 00:00:00",
         "send",
         "30",
         "0",
         "0",
         "0",
         "30",
         "1",
         "181",
         "0",
         "0",
         "0",
         "0",
         "0",
         "0",
         "116",
         "0",
         "107",
         "0",
         "7",
         "1"
        ],
        [
         "103",
         "1515915625468068690",
         "122",
         "122",
         "4",
         "1",
         "2022-05-20 00:00:00",
         "2024-02-15 00:00:00",
         "send",
         "91",
         "0",
         "0",
         "0",
         "68",
         "4",
         "122",
         "0",
         "0",
         "0",
         "0",
         "0",
         "0",
         "0",
         "0",
         "0",
         "0",
         "8",
         "1"
        ],
        [
         "104",
         "1515915625468068833",
         "264",
         "271",
         "3",
         "2",
         "2022-05-25 00:00:00",
         "2024-02-14 00:00:00",
         "send",
         "0",
         "0",
         "0",
         "0",
         "0",
         "0",
         "19",
         "0",
         "0",
         "0",
         "27",
         "0",
         "0",
         "0",
         "2",
         "252",
         "0",
         "3",
         "1"
        ],
        [
         "105",
         "1515915625468068840",
         "358",
         "360",
         "4",
         "2",
         "2022-05-20 00:00:00",
         "2024-02-15 00:00:00",
         "send",
         "0",
         "0",
         "0",
         "0",
         "73",
         "0",
         "125",
         "0",
         "0",
         "0",
         "5",
         "0",
         "0",
         "162",
         "2",
         "235",
         "0",
         "38",
         "1"
        ],
        [
         "110",
         "1515915625468068931",
         "164",
         "164",
         "5",
         "2",
         "2022-05-25 00:00:00",
         "2024-02-13 00:00:00",
         "send",
         "5",
         "0",
         "0",
         "0",
         "4",
         "8",
         "150",
         "0",
         "0",
         "0",
         "0",
         "0",
         "2",
         "12",
         "0",
         "14",
         "0",
         "4",
         "1"
        ],
        [
         "159",
         "1515915625468071652",
         "160",
         "160",
         "4",
         "1",
         "2022-05-19 00:00:00",
         "2024-02-13 00:00:00",
         "send",
         "44",
         "0",
         "0",
         "0",
         "46",
         "17",
         "160",
         "0",
         "0",
         "0",
         "0",
         "0",
         "0",
         "0",
         "0",
         "0",
         "0",
         "7",
         "1"
        ],
        [
         "173",
         "1515915625468072367",
         "275",
         "279",
         "4",
         "2",
         "2022-05-25 00:00:00",
         "2024-02-15 00:00:00",
         "send",
         "23",
         "0",
         "0",
         "0",
         "18",
         "3",
         "119",
         "0",
         "0",
         "0",
         "23",
         "0",
         "0",
         "83",
         "0",
         "160",
         "0",
         "9",
         "1"
        ],
        [
         "178",
         "1515915625468072652",
         "139",
         "139",
         "5",
         "1",
         "2022-05-20 00:00:00",
         "2024-01-12 00:00:00",
         "send",
         "22",
         "0",
         "0",
         "0",
         "26",
         "1",
         "139",
         "0",
         "0",
         "1",
         "0",
         "0",
         "0",
         "0",
         "0",
         "0",
         "0",
         "2",
         "1"
        ],
        [
         "184",
         "1515915625468073040",
         "316",
         "317",
         "4",
         "2",
         "2022-05-19 00:00:00",
         "2024-02-14 00:00:00",
         "send",
         "0",
         "0",
         "1",
         "0",
         "0",
         "0",
         "56",
         "0",
         "0",
         "0",
         "19",
         "0",
         "0",
         "0",
         "1",
         "261",
         "0",
         "2",
         "1"
        ],
        [
         "185",
         "1515915625468073058",
         "313",
         "316",
         "5",
         "2",
         "2022-05-19 00:00:00",
         "2024-02-15 00:00:00",
         "send",
         "3",
         "0",
         "0",
         "0",
         "8",
         "0",
         "148",
         "0",
         "0",
         "0",
         "23",
         "0",
         "4",
         "0",
         "2",
         "168",
         "0",
         "2",
         "1"
        ],
        [
         "193",
         "1515915625468073358",
         "237",
         "238",
         "5",
         "2",
         "2022-05-25 00:00:00",
         "2024-02-15 00:00:00",
         "send",
         "10",
         "0",
         "0",
         "0",
         "8",
         "5",
         "146",
         "0",
         "0",
         "0",
         "0",
         "0",
         "1",
         "92",
         "0",
         "92",
         "0",
         "4",
         "1"
        ],
        [
         "203",
         "1515915625468073833",
         "120",
         "120",
         "4",
         "1",
         "2022-05-20 00:00:00",
         "2024-02-15 00:00:00",
         "open",
         "171",
         "0",
         "0",
         "0",
         "199",
         "3",
         "121",
         "0",
         "0",
         "0",
         "0",
         "0",
         "0",
         "0",
         "0",
         "0",
         "0",
         "4",
         "1"
        ],
        [
         "222",
         "1515915625468075378",
         "266",
         "269",
         "3",
         "1",
         "2022-05-19 00:00:00",
         "2024-02-14 00:00:00",
         "send",
         "0",
         "0",
         "0",
         "0",
         "0",
         "0",
         "0",
         "0",
         "0",
         "0",
         "32",
         "0",
         "0",
         "0",
         "3",
         "269",
         "0",
         "2",
         "1"
        ],
        [
         "223",
         "1515915625468075382",
         "133",
         "133",
         "4",
         "1",
         "2022-05-20 00:00:00",
         "2024-02-13 00:00:00",
         "send",
         "21",
         "0",
         "0",
         "0",
         "22",
         "1",
         "133",
         "0",
         "0",
         "0",
         "0",
         "0",
         "0",
         "0",
         "0",
         "0",
         "0",
         "2",
         "1"
        ],
        [
         "231",
         "1515915625468075817",
         "166",
         "166",
         "4",
         "1",
         "2022-05-19 00:00:00",
         "2024-02-13 00:00:00",
         "send",
         "22",
         "0",
         "0",
         "0",
         "34",
         "1",
         "167",
         "0",
         "0",
         "0",
         "0",
         "0",
         "0",
         "0",
         "0",
         "0",
         "0",
         "2",
         "1"
        ],
        [
         "237",
         "1515915625468076267",
         "231",
         "231",
         "4",
         "2",
         "2022-05-25 00:00:00",
         "2024-02-13 00:00:00",
         "send",
         "1",
         "0",
         "0",
         "0",
         "7",
         "0",
         "104",
         "0",
         "0",
         "0",
         "2",
         "0",
         "2",
         "115",
         "0",
         "127",
         "0",
         "3",
         "1"
        ],
        [
         "256",
         "1515915625468077284",
         "232",
         "237",
         "4",
         "1",
         "2022-05-19 00:00:00",
         "2024-02-14 00:00:00",
         "send",
         "0",
         "0",
         "0",
         "0",
         "0",
         "0",
         "0",
         "0",
         "0",
         "0",
         "19",
         "0",
         "0",
         "119",
         "1",
         "237",
         "0",
         "2",
         "1"
        ],
        [
         "272",
         "1515915625468078180",
         "139",
         "141",
         "5",
         "2",
         "2022-05-19 00:00:00",
         "2024-02-14 00:00:00",
         "send",
         "10",
         "0",
         "0",
         "0",
         "9",
         "6",
         "76",
         "0",
         "0",
         "0",
         "0",
         "0",
         "3",
         "56",
         "0",
         "65",
         "0",
         "7",
         "1"
        ],
        [
         "278",
         "1515915625468078544",
         "306",
         "309",
         "4",
         "2",
         "2022-05-19 00:00:00",
         "2024-02-14 00:00:00",
         "send",
         "0",
         "0",
         "0",
         "0",
         "5",
         "0",
         "34",
         "0",
         "0",
         "0",
         "25",
         "0",
         "0",
         "71",
         "6",
         "275",
         "0",
         "2",
         "1"
        ],
        [
         "287",
         "1515915625468078794",
         "304",
         "306",
         "4",
         "2",
         "2022-05-25 00:00:00",
         "2024-02-15 00:00:00",
         "send",
         "33",
         "0",
         "0",
         "0",
         "53",
         "0",
         "128",
         "0",
         "0",
         "0",
         "4",
         "0",
         "3",
         "176",
         "0",
         "178",
         "0",
         "8",
         "1"
        ],
        [
         "297",
         "1515915625468079633",
         "277",
         "284",
         "4",
         "2",
         "2022-05-19 00:00:00",
         "2024-02-14 00:00:00",
         "send",
         "0",
         "0",
         "0",
         "0",
         "0",
         "0",
         "18",
         "0",
         "0",
         "0",
         "38",
         "0",
         "0",
         "21",
         "3",
         "266",
         "0",
         "5",
         "1"
        ],
        [
         "302",
         "1515915625468079811",
         "117",
         "117",
         "5",
         "2",
         "2022-05-20 00:00:00",
         "2024-02-15 00:00:00",
         "send",
         "76",
         "0",
         "0",
         "0",
         "85",
         "3",
         "100",
         "0",
         "0",
         "0",
         "1",
         "0",
         "4",
         "9",
         "0",
         "17",
         "0",
         "2",
         "1"
        ],
        [
         "307",
         "1515915625468079941",
         "331",
         "333",
         "6",
         "2",
         "2022-05-19 00:00:00",
         "2024-02-15 00:00:00",
         "send",
         "19",
         "0",
         "0",
         "0",
         "38",
         "1",
         "125",
         "1",
         "0",
         "0",
         "4",
         "0",
         "1",
         "161",
         "0",
         "208",
         "0",
         "2",
         "1"
        ],
        [
         "313",
         "1515915625468080257",
         "174",
         "174",
         "4",
         "1",
         "2022-05-26 00:00:00",
         "2024-02-13 00:00:00",
         "send",
         "92",
         "0",
         "0",
         "0",
         "3",
         "1",
         "174",
         "0",
         "0",
         "0",
         "0",
         "0",
         "0",
         "0",
         "0",
         "0",
         "0",
         "2",
         "1"
        ],
        [
         "319",
         "1515915625468080545",
         "265",
         "271",
         "4",
         "2",
         "2022-05-25 00:00:00",
         "2024-02-15 00:00:00",
         "send",
         "66",
         "0",
         "0",
         "0",
         "71",
         "7",
         "94",
         "0",
         "0",
         "0",
         "2",
         "0",
         "0",
         "133",
         "0",
         "177",
         "0",
         "4",
         "1"
        ],
        [
         "322",
         "1515915625468080751",
         "224",
         "224",
         "5",
         "2",
         "2022-05-20 00:00:00",
         "2024-02-13 00:00:00",
         "send",
         "9",
         "0",
         "0",
         "0",
         "48",
         "1",
         "167",
         "0",
         "0",
         "0",
         "3",
         "0",
         "2",
         "0",
         "0",
         "58",
         "0",
         "2",
         "1"
        ],
        [
         "330",
         "1515915625468081030",
         "119",
         "119",
         "4",
         "1",
         "2022-05-20 00:00:00",
         "2024-02-13 00:00:00",
         "send",
         "15",
         "0",
         "0",
         "0",
         "54",
         "1",
         "119",
         "0",
         "0",
         "0",
         "0",
         "0",
         "0",
         "0",
         "0",
         "0",
         "0",
         "7",
         "1"
        ],
        [
         "348",
         "1515915625468082749",
         "148",
         "148",
         "4",
         "1",
         "2022-06-09 00:00:00",
         "2024-02-14 00:00:00",
         "send",
         "0",
         "0",
         "0",
         "0",
         "0",
         "0",
         "0",
         "0",
         "0",
         "0",
         "11",
         "0",
         "1",
         "0",
         "1",
         "148",
         "0",
         "2",
         "1"
        ],
        [
         "355",
         "1515915625468083691",
         "177",
         "180",
         "4",
         "2",
         "2022-05-23 00:00:00",
         "2024-02-15 00:00:00",
         "send",
         "2",
         "0",
         "0",
         "0",
         "9",
         "4",
         "13",
         "0",
         "0",
         "0",
         "8",
         "0",
         "0",
         "155",
         "0",
         "166",
         "0",
         "2",
         "1"
        ],
        [
         "375",
         "1515915625468085731",
         "130",
         "130",
         "5",
         "2",
         "2022-05-25 00:00:00",
         "2024-02-15 00:00:00",
         "send",
         "11",
         "0",
         "0",
         "0",
         "9",
         "2",
         "115",
         "0",
         "0",
         "0",
         "5",
         "0",
         "1",
         "14",
         "0",
         "16",
         "0",
         "2",
         "1"
        ],
        [
         "378",
         "1515915625468085867",
         "191",
         "193",
         "5",
         "2",
         "2022-05-20 00:00:00",
         "2024-02-15 00:00:00",
         "send",
         "9",
         "0",
         "0",
         "0",
         "15",
         "1",
         "100",
         "9",
         "0",
         "0",
         "11",
         "0",
         "0",
         "71",
         "0",
         "93",
         "0",
         "4",
         "1"
        ],
        [
         "386",
         "1515915625468086601",
         "215",
         "216",
         "4",
         "2",
         "2022-05-19 00:00:00",
         "2024-02-14 00:00:00",
         "send",
         "9",
         "0",
         "0",
         "0",
         "15",
         "4",
         "17",
         "0",
         "0",
         "0",
         "32",
         "0",
         "0",
         "0",
         "1",
         "199",
         "0",
         "2",
         "1"
        ],
        [
         "399",
         "1515915625468087388",
         "370",
         "371",
         "4",
         "2",
         "2022-05-19 00:00:00",
         "2024-02-15 00:00:00",
         "send",
         "4",
         "0",
         "0",
         "0",
         "20",
         "3",
         "212",
         "0",
         "0",
         "0",
         "0",
         "0",
         "0",
         "153",
         "0",
         "159",
         "0",
         "2",
         "1"
        ],
        [
         "409",
         "1515915625468088213",
         "377",
         "379",
         "6",
         "2",
         "2022-05-19 00:00:00",
         "2024-02-15 00:00:00",
         "send",
         "3",
         "0",
         "0",
         "0",
         "21",
         "1",
         "186",
         "0",
         "0",
         "0",
         "26",
         "0",
         "1",
         "64",
         "0",
         "192",
         "1",
         "2",
         "1"
        ],
        [
         "424",
         "1515915625468089219",
         "244",
         "250",
         "3",
         "1",
         "2022-06-18 00:00:00",
         "2024-02-14 00:00:00",
         "send",
         "0",
         "0",
         "0",
         "0",
         "0",
         "0",
         "0",
         "0",
         "0",
         "0",
         "26",
         "0",
         "0",
         "0",
         "2",
         "250",
         "0",
         "3",
         "1"
        ],
        [
         "457",
         "1515915625468092317",
         "312",
         "321",
         "4",
         "2",
         "2022-05-20 00:00:00",
         "2024-02-14 00:00:00",
         "send",
         "1",
         "0",
         "0",
         "0",
         "18",
         "0",
         "59",
         "0",
         "0",
         "0",
         "15",
         "0",
         "0",
         "4",
         "1",
         "262",
         "0",
         "2",
         "1"
        ],
        [
         "459",
         "1515915625468092370",
         "271",
         "277",
         "4",
         "2",
         "2022-05-20 00:00:00",
         "2024-02-14 00:00:00",
         "send",
         "1",
         "0",
         "0",
         "0",
         "3",
         "0",
         "33",
         "0",
         "0",
         "0",
         "7",
         "0",
         "0",
         "0",
         "1",
         "244",
         "0",
         "2",
         "1"
        ],
        [
         "464",
         "1515915625468092876",
         "376",
         "376",
         "5",
         "2",
         "2022-05-19 00:00:00",
         "2024-02-15 00:00:00",
         "send",
         "7",
         "0",
         "0",
         "0",
         "9",
         "1",
         "255",
         "0",
         "0",
         "0",
         "0",
         "0",
         "5",
         "100",
         "0",
         "121",
         "0",
         "4",
         "1"
        ],
        [
         "477",
         "1515915625468093571",
         "201",
         "204",
         "3",
         "2",
         "2022-05-20 00:00:00",
         "2024-02-15 00:00:00",
         "send",
         "0",
         "0",
         "0",
         "0",
         "0",
         "0",
         "61",
         "0",
         "0",
         "0",
         "5",
         "0",
         "0",
         "71",
         "0",
         "143",
         "0",
         "8",
         "1"
        ],
        [
         "478",
         "1515915625468093702",
         "151",
         "151",
         "4",
         "2",
         "2022-05-25 00:00:00",
         "2024-02-13 00:00:00",
         "send",
         "94",
         "0",
         "0",
         "0",
         "75",
         "3",
         "150",
         "0",
         "0",
         "0",
         "0",
         "0",
         "0",
         "1",
         "0",
         "1",
         "0",
         "2",
         "1"
        ],
        [
         "482",
         "1515915625468093889",
         "122",
         "122",
         "4",
         "1",
         "2022-05-20 00:00:00",
         "2024-02-13 00:00:00",
         "click",
         "132",
         "0",
         "0",
         "0",
         "84",
         "1",
         "122",
         "0",
         "0",
         "0",
         "0",
         "0",
         "0",
         "0",
         "0",
         "0",
         "0",
         "3",
         "1"
        ],
        [
         "500",
         "1515915625468095015",
         "149",
         "149",
         "5",
         "2",
         "2022-05-25 00:00:00",
         "2024-02-13 00:00:00",
         "send",
         "9",
         "0",
         "0",
         "0",
         "11",
         "2",
         "144",
         "0",
         "0",
         "0",
         "0",
         "0",
         "1",
         "1",
         "0",
         "5",
         "0",
         "2",
         "1"
        ]
       ],
       "shape": {
        "columns": 27,
        "rows": 4936
       }
      },
      "text/html": [
       "<div>\n",
       "<style scoped>\n",
       "    .dataframe tbody tr th:only-of-type {\n",
       "        vertical-align: middle;\n",
       "    }\n",
       "\n",
       "    .dataframe tbody tr th {\n",
       "        vertical-align: top;\n",
       "    }\n",
       "\n",
       "    .dataframe thead th {\n",
       "        text-align: right;\n",
       "    }\n",
       "</style>\n",
       "<table border=\"1\" class=\"dataframe\">\n",
       "  <thead>\n",
       "    <tr style=\"text-align: right;\">\n",
       "      <th></th>\n",
       "      <th>client_id</th>\n",
       "      <th>bulk_campaigns</th>\n",
       "      <th>messages</th>\n",
       "      <th>events</th>\n",
       "      <th>channels</th>\n",
       "      <th>first_date</th>\n",
       "      <th>last_date</th>\n",
       "      <th>pop_event</th>\n",
       "      <th>actions_email_click</th>\n",
       "      <th>actions_email_complain</th>\n",
       "      <th>...</th>\n",
       "      <th>actions_email_unsubscribe</th>\n",
       "      <th>actions_mobile_push_click</th>\n",
       "      <th>actions_mobile_push_close</th>\n",
       "      <th>actions_mobile_push_hard_bounce</th>\n",
       "      <th>actions_mobile_push_open</th>\n",
       "      <th>actions_mobile_push_purchase</th>\n",
       "      <th>actions_mobile_push_send</th>\n",
       "      <th>actions_mobile_push_soft_bounce</th>\n",
       "      <th>dup_count</th>\n",
       "      <th>spam_factor</th>\n",
       "    </tr>\n",
       "  </thead>\n",
       "  <tbody>\n",
       "    <tr>\n",
       "      <th>3</th>\n",
       "      <td>1515915625468061100</td>\n",
       "      <td>265</td>\n",
       "      <td>268</td>\n",
       "      <td>6</td>\n",
       "      <td>1</td>\n",
       "      <td>2022-05-19</td>\n",
       "      <td>2024-02-15</td>\n",
       "      <td>send</td>\n",
       "      <td>0</td>\n",
       "      <td>0</td>\n",
       "      <td>...</td>\n",
       "      <td>0</td>\n",
       "      <td>1</td>\n",
       "      <td>0</td>\n",
       "      <td>1</td>\n",
       "      <td>163</td>\n",
       "      <td>1</td>\n",
       "      <td>267</td>\n",
       "      <td>1</td>\n",
       "      <td>6</td>\n",
       "      <td>1</td>\n",
       "    </tr>\n",
       "    <tr>\n",
       "      <th>9</th>\n",
       "      <td>1515915625468061994</td>\n",
       "      <td>339</td>\n",
       "      <td>346</td>\n",
       "      <td>4</td>\n",
       "      <td>2</td>\n",
       "      <td>2022-05-25</td>\n",
       "      <td>2024-02-14</td>\n",
       "      <td>send</td>\n",
       "      <td>0</td>\n",
       "      <td>0</td>\n",
       "      <td>...</td>\n",
       "      <td>0</td>\n",
       "      <td>11</td>\n",
       "      <td>0</td>\n",
       "      <td>0</td>\n",
       "      <td>21</td>\n",
       "      <td>2</td>\n",
       "      <td>250</td>\n",
       "      <td>0</td>\n",
       "      <td>2</td>\n",
       "      <td>1</td>\n",
       "    </tr>\n",
       "    <tr>\n",
       "      <th>10</th>\n",
       "      <td>1515915625468062158</td>\n",
       "      <td>113</td>\n",
       "      <td>113</td>\n",
       "      <td>4</td>\n",
       "      <td>1</td>\n",
       "      <td>2022-05-20</td>\n",
       "      <td>2024-02-13</td>\n",
       "      <td>send</td>\n",
       "      <td>31</td>\n",
       "      <td>0</td>\n",
       "      <td>...</td>\n",
       "      <td>0</td>\n",
       "      <td>0</td>\n",
       "      <td>0</td>\n",
       "      <td>0</td>\n",
       "      <td>0</td>\n",
       "      <td>0</td>\n",
       "      <td>0</td>\n",
       "      <td>0</td>\n",
       "      <td>2</td>\n",
       "      <td>1</td>\n",
       "    </tr>\n",
       "    <tr>\n",
       "      <th>48</th>\n",
       "      <td>1515915625468064438</td>\n",
       "      <td>219</td>\n",
       "      <td>225</td>\n",
       "      <td>6</td>\n",
       "      <td>2</td>\n",
       "      <td>2022-05-19</td>\n",
       "      <td>2024-02-15</td>\n",
       "      <td>send</td>\n",
       "      <td>120</td>\n",
       "      <td>0</td>\n",
       "      <td>...</td>\n",
       "      <td>0</td>\n",
       "      <td>2</td>\n",
       "      <td>0</td>\n",
       "      <td>1</td>\n",
       "      <td>78</td>\n",
       "      <td>0</td>\n",
       "      <td>79</td>\n",
       "      <td>1</td>\n",
       "      <td>2</td>\n",
       "      <td>1</td>\n",
       "    </tr>\n",
       "    <tr>\n",
       "      <th>53</th>\n",
       "      <td>1515915625468064943</td>\n",
       "      <td>288</td>\n",
       "      <td>291</td>\n",
       "      <td>5</td>\n",
       "      <td>2</td>\n",
       "      <td>2022-05-19</td>\n",
       "      <td>2024-02-15</td>\n",
       "      <td>send</td>\n",
       "      <td>3</td>\n",
       "      <td>0</td>\n",
       "      <td>...</td>\n",
       "      <td>0</td>\n",
       "      <td>1</td>\n",
       "      <td>0</td>\n",
       "      <td>2</td>\n",
       "      <td>142</td>\n",
       "      <td>0</td>\n",
       "      <td>141</td>\n",
       "      <td>0</td>\n",
       "      <td>4</td>\n",
       "      <td>1</td>\n",
       "    </tr>\n",
       "    <tr>\n",
       "      <th>...</th>\n",
       "      <td>...</td>\n",
       "      <td>...</td>\n",
       "      <td>...</td>\n",
       "      <td>...</td>\n",
       "      <td>...</td>\n",
       "      <td>...</td>\n",
       "      <td>...</td>\n",
       "      <td>...</td>\n",
       "      <td>...</td>\n",
       "      <td>...</td>\n",
       "      <td>...</td>\n",
       "      <td>...</td>\n",
       "      <td>...</td>\n",
       "      <td>...</td>\n",
       "      <td>...</td>\n",
       "      <td>...</td>\n",
       "      <td>...</td>\n",
       "      <td>...</td>\n",
       "      <td>...</td>\n",
       "      <td>...</td>\n",
       "      <td>...</td>\n",
       "    </tr>\n",
       "    <tr>\n",
       "      <th>53218</th>\n",
       "      <td>1515915626008498025</td>\n",
       "      <td>10</td>\n",
       "      <td>10</td>\n",
       "      <td>5</td>\n",
       "      <td>1</td>\n",
       "      <td>2024-01-22</td>\n",
       "      <td>2024-02-14</td>\n",
       "      <td>open</td>\n",
       "      <td>0</td>\n",
       "      <td>0</td>\n",
       "      <td>...</td>\n",
       "      <td>0</td>\n",
       "      <td>3</td>\n",
       "      <td>0</td>\n",
       "      <td>1</td>\n",
       "      <td>14</td>\n",
       "      <td>1</td>\n",
       "      <td>10</td>\n",
       "      <td>0</td>\n",
       "      <td>3</td>\n",
       "      <td>1</td>\n",
       "    </tr>\n",
       "    <tr>\n",
       "      <th>53219</th>\n",
       "      <td>1515915626008514147</td>\n",
       "      <td>4</td>\n",
       "      <td>4</td>\n",
       "      <td>4</td>\n",
       "      <td>1</td>\n",
       "      <td>2024-01-22</td>\n",
       "      <td>2024-02-02</td>\n",
       "      <td>click</td>\n",
       "      <td>0</td>\n",
       "      <td>0</td>\n",
       "      <td>...</td>\n",
       "      <td>0</td>\n",
       "      <td>7</td>\n",
       "      <td>0</td>\n",
       "      <td>0</td>\n",
       "      <td>4</td>\n",
       "      <td>2</td>\n",
       "      <td>4</td>\n",
       "      <td>0</td>\n",
       "      <td>2</td>\n",
       "      <td>1</td>\n",
       "    </tr>\n",
       "    <tr>\n",
       "      <th>53225</th>\n",
       "      <td>1515915626008582277</td>\n",
       "      <td>1</td>\n",
       "      <td>1</td>\n",
       "      <td>3</td>\n",
       "      <td>1</td>\n",
       "      <td>2024-01-22</td>\n",
       "      <td>2024-02-10</td>\n",
       "      <td>click</td>\n",
       "      <td>0</td>\n",
       "      <td>0</td>\n",
       "      <td>...</td>\n",
       "      <td>0</td>\n",
       "      <td>19</td>\n",
       "      <td>0</td>\n",
       "      <td>0</td>\n",
       "      <td>1</td>\n",
       "      <td>0</td>\n",
       "      <td>1</td>\n",
       "      <td>0</td>\n",
       "      <td>5</td>\n",
       "      <td>1</td>\n",
       "    </tr>\n",
       "    <tr>\n",
       "      <th>53248</th>\n",
       "      <td>1515915626009118362</td>\n",
       "      <td>4</td>\n",
       "      <td>4</td>\n",
       "      <td>5</td>\n",
       "      <td>1</td>\n",
       "      <td>2024-01-28</td>\n",
       "      <td>2024-02-14</td>\n",
       "      <td>click</td>\n",
       "      <td>0</td>\n",
       "      <td>0</td>\n",
       "      <td>...</td>\n",
       "      <td>0</td>\n",
       "      <td>7</td>\n",
       "      <td>0</td>\n",
       "      <td>1</td>\n",
       "      <td>3</td>\n",
       "      <td>2</td>\n",
       "      <td>4</td>\n",
       "      <td>0</td>\n",
       "      <td>2</td>\n",
       "      <td>1</td>\n",
       "    </tr>\n",
       "    <tr>\n",
       "      <th>53250</th>\n",
       "      <td>1515915626009128566</td>\n",
       "      <td>13</td>\n",
       "      <td>13</td>\n",
       "      <td>2</td>\n",
       "      <td>1</td>\n",
       "      <td>2024-01-29</td>\n",
       "      <td>2024-02-15</td>\n",
       "      <td>click</td>\n",
       "      <td>0</td>\n",
       "      <td>0</td>\n",
       "      <td>...</td>\n",
       "      <td>0</td>\n",
       "      <td>18</td>\n",
       "      <td>0</td>\n",
       "      <td>0</td>\n",
       "      <td>0</td>\n",
       "      <td>0</td>\n",
       "      <td>13</td>\n",
       "      <td>0</td>\n",
       "      <td>2</td>\n",
       "      <td>1</td>\n",
       "    </tr>\n",
       "  </tbody>\n",
       "</table>\n",
       "<p>4936 rows × 27 columns</p>\n",
       "</div>"
      ],
      "text/plain": [
       "                 client_id  bulk_campaigns  messages  events  channels  \\\n",
       "3      1515915625468061100             265       268       6         1   \n",
       "9      1515915625468061994             339       346       4         2   \n",
       "10     1515915625468062158             113       113       4         1   \n",
       "48     1515915625468064438             219       225       6         2   \n",
       "53     1515915625468064943             288       291       5         2   \n",
       "...                    ...             ...       ...     ...       ...   \n",
       "53218  1515915626008498025              10        10       5         1   \n",
       "53219  1515915626008514147               4         4       4         1   \n",
       "53225  1515915626008582277               1         1       3         1   \n",
       "53248  1515915626009118362               4         4       5         1   \n",
       "53250  1515915626009128566              13        13       2         1   \n",
       "\n",
       "      first_date  last_date pop_event  actions_email_click  \\\n",
       "3     2022-05-19 2024-02-15      send                    0   \n",
       "9     2022-05-25 2024-02-14      send                    0   \n",
       "10    2022-05-20 2024-02-13      send                   31   \n",
       "48    2022-05-19 2024-02-15      send                  120   \n",
       "53    2022-05-19 2024-02-15      send                    3   \n",
       "...          ...        ...       ...                  ...   \n",
       "53218 2024-01-22 2024-02-14      open                    0   \n",
       "53219 2024-01-22 2024-02-02     click                    0   \n",
       "53225 2024-01-22 2024-02-10     click                    0   \n",
       "53248 2024-01-28 2024-02-14     click                    0   \n",
       "53250 2024-01-29 2024-02-15     click                    0   \n",
       "\n",
       "       actions_email_complain  ...  actions_email_unsubscribe  \\\n",
       "3                           0  ...                          0   \n",
       "9                           0  ...                          0   \n",
       "10                          0  ...                          0   \n",
       "48                          0  ...                          0   \n",
       "53                          0  ...                          0   \n",
       "...                       ...  ...                        ...   \n",
       "53218                       0  ...                          0   \n",
       "53219                       0  ...                          0   \n",
       "53225                       0  ...                          0   \n",
       "53248                       0  ...                          0   \n",
       "53250                       0  ...                          0   \n",
       "\n",
       "       actions_mobile_push_click  actions_mobile_push_close  \\\n",
       "3                              1                          0   \n",
       "9                             11                          0   \n",
       "10                             0                          0   \n",
       "48                             2                          0   \n",
       "53                             1                          0   \n",
       "...                          ...                        ...   \n",
       "53218                          3                          0   \n",
       "53219                          7                          0   \n",
       "53225                         19                          0   \n",
       "53248                          7                          0   \n",
       "53250                         18                          0   \n",
       "\n",
       "       actions_mobile_push_hard_bounce  actions_mobile_push_open  \\\n",
       "3                                    1                       163   \n",
       "9                                    0                        21   \n",
       "10                                   0                         0   \n",
       "48                                   1                        78   \n",
       "53                                   2                       142   \n",
       "...                                ...                       ...   \n",
       "53218                                1                        14   \n",
       "53219                                0                         4   \n",
       "53225                                0                         1   \n",
       "53248                                1                         3   \n",
       "53250                                0                         0   \n",
       "\n",
       "       actions_mobile_push_purchase  actions_mobile_push_send  \\\n",
       "3                                 1                       267   \n",
       "9                                 2                       250   \n",
       "10                                0                         0   \n",
       "48                                0                        79   \n",
       "53                                0                       141   \n",
       "...                             ...                       ...   \n",
       "53218                             1                        10   \n",
       "53219                             2                         4   \n",
       "53225                             0                         1   \n",
       "53248                             2                         4   \n",
       "53250                             0                        13   \n",
       "\n",
       "       actions_mobile_push_soft_bounce  dup_count  spam_factor  \n",
       "3                                    1          6            1  \n",
       "9                                    0          2            1  \n",
       "10                                   0          2            1  \n",
       "48                                   1          2            1  \n",
       "53                                   0          4            1  \n",
       "...                                ...        ...          ...  \n",
       "53218                                0          3            1  \n",
       "53219                                0          2            1  \n",
       "53225                                0          5            1  \n",
       "53248                                0          2            1  \n",
       "53250                                0          2            1  \n",
       "\n",
       "[4936 rows x 27 columns]"
      ]
     },
     "execution_count": 366,
     "metadata": {},
     "output_type": "execute_result"
    }
   ],
   "source": [
    "app_msg_agg[app_msg_agg[\"spam_factor\"] == 1]"
   ]
  },
  {
   "cell_type": "code",
   "execution_count": 367,
   "id": "2c210a1d",
   "metadata": {},
   "outputs": [
    {
     "data": {
      "application/vnd.microsoft.datawrangler.viewer.v0+json": {
       "columns": [
        {
         "name": "index",
         "rawType": "int64",
         "type": "integer"
        },
        {
         "name": "client_id",
         "rawType": "int64",
         "type": "integer"
        },
        {
         "name": "bulk_campaigns",
         "rawType": "int64",
         "type": "integer"
        },
        {
         "name": "messages",
         "rawType": "int64",
         "type": "integer"
        },
        {
         "name": "events",
         "rawType": "int64",
         "type": "integer"
        },
        {
         "name": "channels",
         "rawType": "int64",
         "type": "integer"
        },
        {
         "name": "first_date",
         "rawType": "datetime64[ns]",
         "type": "datetime"
        },
        {
         "name": "last_date",
         "rawType": "datetime64[ns]",
         "type": "datetime"
        },
        {
         "name": "pop_event",
         "rawType": "object",
         "type": "string"
        },
        {
         "name": "actions_email_click",
         "rawType": "int64",
         "type": "integer"
        },
        {
         "name": "actions_email_complain",
         "rawType": "int64",
         "type": "integer"
        },
        {
         "name": "actions_email_hard_bounce",
         "rawType": "int64",
         "type": "integer"
        },
        {
         "name": "actions_email_hbq_spam",
         "rawType": "int64",
         "type": "integer"
        },
        {
         "name": "actions_email_open",
         "rawType": "int64",
         "type": "integer"
        },
        {
         "name": "actions_email_purchase",
         "rawType": "int64",
         "type": "integer"
        },
        {
         "name": "actions_email_send",
         "rawType": "int64",
         "type": "integer"
        },
        {
         "name": "actions_email_soft_bounce",
         "rawType": "int64",
         "type": "integer"
        },
        {
         "name": "actions_email_subscribe",
         "rawType": "int64",
         "type": "integer"
        },
        {
         "name": "actions_email_unsubscribe",
         "rawType": "int64",
         "type": "integer"
        },
        {
         "name": "actions_mobile_push_click",
         "rawType": "int64",
         "type": "integer"
        },
        {
         "name": "actions_mobile_push_close",
         "rawType": "int64",
         "type": "integer"
        },
        {
         "name": "actions_mobile_push_hard_bounce",
         "rawType": "int64",
         "type": "integer"
        },
        {
         "name": "actions_mobile_push_open",
         "rawType": "int64",
         "type": "integer"
        },
        {
         "name": "actions_mobile_push_purchase",
         "rawType": "int64",
         "type": "integer"
        },
        {
         "name": "actions_mobile_push_send",
         "rawType": "int64",
         "type": "integer"
        },
        {
         "name": "actions_mobile_push_soft_bounce",
         "rawType": "int64",
         "type": "integer"
        },
        {
         "name": "dup_count",
         "rawType": "int64",
         "type": "integer"
        },
        {
         "name": "spam_factor",
         "rawType": "int64",
         "type": "integer"
        }
       ],
       "ref": "1113483a-9ed0-4795-9b69-d84c7797097b",
       "rows": [
        [
         "0",
         "1515915625468060902",
         "127",
         "127",
         "5",
         "1",
         "2022-05-19 00:00:00",
         "2024-01-19 00:00:00",
         "send",
         "10",
         "0",
         "0",
         "0",
         "35",
         "5",
         "126",
         "0",
         "0",
         "1",
         "0",
         "0",
         "0",
         "0",
         "0",
         "0",
         "0",
         "0",
         "0"
        ],
        [
         "1",
         "1515915625468061003",
         "154",
         "154",
         "4",
         "1",
         "2022-05-20 00:00:00",
         "2024-02-13 00:00:00",
         "send",
         "6",
         "0",
         "0",
         "0",
         "5",
         "1",
         "154",
         "0",
         "0",
         "0",
         "0",
         "0",
         "0",
         "0",
         "0",
         "0",
         "0",
         "1",
         "0"
        ],
        [
         "2",
         "1515915625468061099",
         "215",
         "215",
         "4",
         "2",
         "2022-05-19 00:00:00",
         "2024-02-13 00:00:00",
         "send",
         "8",
         "0",
         "0",
         "0",
         "17",
         "0",
         "157",
         "0",
         "0",
         "0",
         "0",
         "0",
         "2",
         "34",
         "0",
         "58",
         "0",
         "0",
         "0"
        ],
        [
         "3",
         "1515915625468061100",
         "265",
         "268",
         "6",
         "1",
         "2022-05-19 00:00:00",
         "2024-02-15 00:00:00",
         "send",
         "0",
         "0",
         "0",
         "0",
         "0",
         "0",
         "0",
         "0",
         "0",
         "0",
         "1",
         "0",
         "1",
         "163",
         "1",
         "267",
         "1",
         "6",
         "1"
        ],
        [
         "4",
         "1515915625468061170",
         "240",
         "243",
         "4",
         "2",
         "2022-05-25 00:00:00",
         "2024-02-15 00:00:00",
         "send",
         "16",
         "0",
         "0",
         "0",
         "19",
         "3",
         "164",
         "0",
         "0",
         "0",
         "0",
         "0",
         "0",
         "12",
         "0",
         "79",
         "0",
         "0",
         "0"
        ]
       ],
       "shape": {
        "columns": 27,
        "rows": 5
       }
      },
      "text/html": [
       "<div>\n",
       "<style scoped>\n",
       "    .dataframe tbody tr th:only-of-type {\n",
       "        vertical-align: middle;\n",
       "    }\n",
       "\n",
       "    .dataframe tbody tr th {\n",
       "        vertical-align: top;\n",
       "    }\n",
       "\n",
       "    .dataframe thead th {\n",
       "        text-align: right;\n",
       "    }\n",
       "</style>\n",
       "<table border=\"1\" class=\"dataframe\">\n",
       "  <thead>\n",
       "    <tr style=\"text-align: right;\">\n",
       "      <th></th>\n",
       "      <th>client_id</th>\n",
       "      <th>bulk_campaigns</th>\n",
       "      <th>messages</th>\n",
       "      <th>events</th>\n",
       "      <th>channels</th>\n",
       "      <th>first_date</th>\n",
       "      <th>last_date</th>\n",
       "      <th>pop_event</th>\n",
       "      <th>actions_email_click</th>\n",
       "      <th>actions_email_complain</th>\n",
       "      <th>...</th>\n",
       "      <th>actions_email_unsubscribe</th>\n",
       "      <th>actions_mobile_push_click</th>\n",
       "      <th>actions_mobile_push_close</th>\n",
       "      <th>actions_mobile_push_hard_bounce</th>\n",
       "      <th>actions_mobile_push_open</th>\n",
       "      <th>actions_mobile_push_purchase</th>\n",
       "      <th>actions_mobile_push_send</th>\n",
       "      <th>actions_mobile_push_soft_bounce</th>\n",
       "      <th>dup_count</th>\n",
       "      <th>spam_factor</th>\n",
       "    </tr>\n",
       "  </thead>\n",
       "  <tbody>\n",
       "    <tr>\n",
       "      <th>0</th>\n",
       "      <td>1515915625468060902</td>\n",
       "      <td>127</td>\n",
       "      <td>127</td>\n",
       "      <td>5</td>\n",
       "      <td>1</td>\n",
       "      <td>2022-05-19</td>\n",
       "      <td>2024-01-19</td>\n",
       "      <td>send</td>\n",
       "      <td>10</td>\n",
       "      <td>0</td>\n",
       "      <td>...</td>\n",
       "      <td>1</td>\n",
       "      <td>0</td>\n",
       "      <td>0</td>\n",
       "      <td>0</td>\n",
       "      <td>0</td>\n",
       "      <td>0</td>\n",
       "      <td>0</td>\n",
       "      <td>0</td>\n",
       "      <td>0</td>\n",
       "      <td>0</td>\n",
       "    </tr>\n",
       "    <tr>\n",
       "      <th>1</th>\n",
       "      <td>1515915625468061003</td>\n",
       "      <td>154</td>\n",
       "      <td>154</td>\n",
       "      <td>4</td>\n",
       "      <td>1</td>\n",
       "      <td>2022-05-20</td>\n",
       "      <td>2024-02-13</td>\n",
       "      <td>send</td>\n",
       "      <td>6</td>\n",
       "      <td>0</td>\n",
       "      <td>...</td>\n",
       "      <td>0</td>\n",
       "      <td>0</td>\n",
       "      <td>0</td>\n",
       "      <td>0</td>\n",
       "      <td>0</td>\n",
       "      <td>0</td>\n",
       "      <td>0</td>\n",
       "      <td>0</td>\n",
       "      <td>1</td>\n",
       "      <td>0</td>\n",
       "    </tr>\n",
       "    <tr>\n",
       "      <th>2</th>\n",
       "      <td>1515915625468061099</td>\n",
       "      <td>215</td>\n",
       "      <td>215</td>\n",
       "      <td>4</td>\n",
       "      <td>2</td>\n",
       "      <td>2022-05-19</td>\n",
       "      <td>2024-02-13</td>\n",
       "      <td>send</td>\n",
       "      <td>8</td>\n",
       "      <td>0</td>\n",
       "      <td>...</td>\n",
       "      <td>0</td>\n",
       "      <td>0</td>\n",
       "      <td>0</td>\n",
       "      <td>2</td>\n",
       "      <td>34</td>\n",
       "      <td>0</td>\n",
       "      <td>58</td>\n",
       "      <td>0</td>\n",
       "      <td>0</td>\n",
       "      <td>0</td>\n",
       "    </tr>\n",
       "    <tr>\n",
       "      <th>3</th>\n",
       "      <td>1515915625468061100</td>\n",
       "      <td>265</td>\n",
       "      <td>268</td>\n",
       "      <td>6</td>\n",
       "      <td>1</td>\n",
       "      <td>2022-05-19</td>\n",
       "      <td>2024-02-15</td>\n",
       "      <td>send</td>\n",
       "      <td>0</td>\n",
       "      <td>0</td>\n",
       "      <td>...</td>\n",
       "      <td>0</td>\n",
       "      <td>1</td>\n",
       "      <td>0</td>\n",
       "      <td>1</td>\n",
       "      <td>163</td>\n",
       "      <td>1</td>\n",
       "      <td>267</td>\n",
       "      <td>1</td>\n",
       "      <td>6</td>\n",
       "      <td>1</td>\n",
       "    </tr>\n",
       "    <tr>\n",
       "      <th>4</th>\n",
       "      <td>1515915625468061170</td>\n",
       "      <td>240</td>\n",
       "      <td>243</td>\n",
       "      <td>4</td>\n",
       "      <td>2</td>\n",
       "      <td>2022-05-25</td>\n",
       "      <td>2024-02-15</td>\n",
       "      <td>send</td>\n",
       "      <td>16</td>\n",
       "      <td>0</td>\n",
       "      <td>...</td>\n",
       "      <td>0</td>\n",
       "      <td>0</td>\n",
       "      <td>0</td>\n",
       "      <td>0</td>\n",
       "      <td>12</td>\n",
       "      <td>0</td>\n",
       "      <td>79</td>\n",
       "      <td>0</td>\n",
       "      <td>0</td>\n",
       "      <td>0</td>\n",
       "    </tr>\n",
       "  </tbody>\n",
       "</table>\n",
       "<p>5 rows × 27 columns</p>\n",
       "</div>"
      ],
      "text/plain": [
       "             client_id  bulk_campaigns  messages  events  channels first_date  \\\n",
       "0  1515915625468060902             127       127       5         1 2022-05-19   \n",
       "1  1515915625468061003             154       154       4         1 2022-05-20   \n",
       "2  1515915625468061099             215       215       4         2 2022-05-19   \n",
       "3  1515915625468061100             265       268       6         1 2022-05-19   \n",
       "4  1515915625468061170             240       243       4         2 2022-05-25   \n",
       "\n",
       "   last_date pop_event  actions_email_click  actions_email_complain  ...  \\\n",
       "0 2024-01-19      send                   10                       0  ...   \n",
       "1 2024-02-13      send                    6                       0  ...   \n",
       "2 2024-02-13      send                    8                       0  ...   \n",
       "3 2024-02-15      send                    0                       0  ...   \n",
       "4 2024-02-15      send                   16                       0  ...   \n",
       "\n",
       "   actions_email_unsubscribe  actions_mobile_push_click  \\\n",
       "0                          1                          0   \n",
       "1                          0                          0   \n",
       "2                          0                          0   \n",
       "3                          0                          1   \n",
       "4                          0                          0   \n",
       "\n",
       "   actions_mobile_push_close  actions_mobile_push_hard_bounce  \\\n",
       "0                          0                                0   \n",
       "1                          0                                0   \n",
       "2                          0                                2   \n",
       "3                          0                                1   \n",
       "4                          0                                0   \n",
       "\n",
       "   actions_mobile_push_open  actions_mobile_push_purchase  \\\n",
       "0                         0                             0   \n",
       "1                         0                             0   \n",
       "2                        34                             0   \n",
       "3                       163                             1   \n",
       "4                        12                             0   \n",
       "\n",
       "   actions_mobile_push_send  actions_mobile_push_soft_bounce  dup_count  \\\n",
       "0                         0                                0          0   \n",
       "1                         0                                0          1   \n",
       "2                        58                                0          0   \n",
       "3                       267                                1          6   \n",
       "4                        79                                0          0   \n",
       "\n",
       "   spam_factor  \n",
       "0            0  \n",
       "1            0  \n",
       "2            0  \n",
       "3            1  \n",
       "4            0  \n",
       "\n",
       "[5 rows x 27 columns]"
      ]
     },
     "metadata": {},
     "output_type": "display_data"
    },
    {
     "name": "stdout",
     "output_type": "stream",
     "text": [
      "<class 'pandas.core.frame.DataFrame'>\n",
      "RangeIndex: 53329 entries, 0 to 53328\n",
      "Data columns (total 27 columns):\n",
      " #   Column                           Non-Null Count  Dtype         \n",
      "---  ------                           --------------  -----         \n",
      " 0   client_id                        53329 non-null  int64         \n",
      " 1   bulk_campaigns                   53329 non-null  int64         \n",
      " 2   messages                         53329 non-null  int64         \n",
      " 3   events                           53329 non-null  int64         \n",
      " 4   channels                         53329 non-null  int64         \n",
      " 5   first_date                       53329 non-null  datetime64[ns]\n",
      " 6   last_date                        53329 non-null  datetime64[ns]\n",
      " 7   pop_event                        53329 non-null  object        \n",
      " 8   actions_email_click              53329 non-null  int64         \n",
      " 9   actions_email_complain           53329 non-null  int64         \n",
      " 10  actions_email_hard_bounce        53329 non-null  int64         \n",
      " 11  actions_email_hbq_spam           53329 non-null  int64         \n",
      " 12  actions_email_open               53329 non-null  int64         \n",
      " 13  actions_email_purchase           53329 non-null  int64         \n",
      " 14  actions_email_send               53329 non-null  int64         \n",
      " 15  actions_email_soft_bounce        53329 non-null  int64         \n",
      " 16  actions_email_subscribe          53329 non-null  int64         \n",
      " 17  actions_email_unsubscribe        53329 non-null  int64         \n",
      " 18  actions_mobile_push_click        53329 non-null  int64         \n",
      " 19  actions_mobile_push_close        53329 non-null  int64         \n",
      " 20  actions_mobile_push_hard_bounce  53329 non-null  int64         \n",
      " 21  actions_mobile_push_open         53329 non-null  int64         \n",
      " 22  actions_mobile_push_purchase     53329 non-null  int64         \n",
      " 23  actions_mobile_push_send         53329 non-null  int64         \n",
      " 24  actions_mobile_push_soft_bounce  53329 non-null  int64         \n",
      " 25  dup_count                        53329 non-null  int64         \n",
      " 26  spam_factor                      53329 non-null  int64         \n",
      "dtypes: datetime64[ns](2), int64(24), object(1)\n",
      "memory usage: 11.0+ MB\n"
     ]
    },
    {
     "data": {
      "text/plain": [
       "None"
      ]
     },
     "metadata": {},
     "output_type": "display_data"
    }
   ],
   "source": [
    "display(app_msg_agg.head())\n",
    "display(app_msg_agg.info())"
   ]
  },
  {
   "cell_type": "markdown",
   "id": "00e6a03a",
   "metadata": {},
   "source": [
    "Выглядит жутко, но мы закрываем глаза и продолжаем делать :)"
   ]
  },
  {
   "cell_type": "markdown",
   "id": "f553fb32",
   "metadata": {},
   "source": [
    "#### app_prch"
   ]
  },
  {
   "cell_type": "code",
   "execution_count": 368,
   "id": "e5725b1b",
   "metadata": {},
   "outputs": [],
   "source": [
    "# начнем с разбора category_ids\n",
    "# превращаем в списки category_ids\n",
    "app_prch[\"category_ids\"] = app_prch[\"category_ids\"].apply(parse_category_ids)\n",
    "\n",
    "# берём первую категорию\n",
    "app_prch[\"category_ids_top\"] = app_prch[\"category_ids\"].apply(\n",
    "    lambda x: x[0] if len(x) > 0 else None\n",
    ").astype(\"Int16\")\n",
    "\n",
    "# берём последнюю непустую категорию\n",
    "app_prch[\"category_ids_last\"] = app_prch[\"category_ids\"].apply(\n",
    "    lambda x: next((i for i in reversed(x) if i not in [None, \"\", \"nan\"]), None)\n",
    ").astype(\"Int16\")"
   ]
  },
  {
   "cell_type": "code",
   "execution_count": 370,
   "id": "db5d15a2",
   "metadata": {},
   "outputs": [
    {
     "data": {
      "application/vnd.microsoft.datawrangler.viewer.v0+json": {
       "columns": [
        {
         "name": "index",
         "rawType": "int64",
         "type": "integer"
        },
        {
         "name": "client_id",
         "rawType": "int64",
         "type": "integer"
        },
        {
         "name": "last_purchase_date",
         "rawType": "datetime64[ns]",
         "type": "datetime"
        },
        {
         "name": "days_from_last_purchase",
         "rawType": "int16",
         "type": "integer"
        }
       ],
       "ref": "d9bffcd4-a2fa-4669-84f1-f020f9837451",
       "rows": [
        [
         "0",
         "1515915625468060902",
         "2022-05-27 00:00:00",
         "629"
        ],
        [
         "1",
         "1515915625468061003",
         "2023-01-04 00:00:00",
         "407"
        ],
        [
         "2",
         "1515915625468061099",
         "2022-05-17 00:00:00",
         "639"
        ],
        [
         "3",
         "1515915625468061100",
         "2024-02-10 00:00:00",
         "5"
        ],
        [
         "4",
         "1515915625468061170",
         "2023-06-17 00:00:00",
         "243"
        ]
       ],
       "shape": {
        "columns": 3,
        "rows": 5
       }
      },
      "text/html": [
       "<div>\n",
       "<style scoped>\n",
       "    .dataframe tbody tr th:only-of-type {\n",
       "        vertical-align: middle;\n",
       "    }\n",
       "\n",
       "    .dataframe tbody tr th {\n",
       "        vertical-align: top;\n",
       "    }\n",
       "\n",
       "    .dataframe thead th {\n",
       "        text-align: right;\n",
       "    }\n",
       "</style>\n",
       "<table border=\"1\" class=\"dataframe\">\n",
       "  <thead>\n",
       "    <tr style=\"text-align: right;\">\n",
       "      <th></th>\n",
       "      <th>client_id</th>\n",
       "      <th>last_purchase_date</th>\n",
       "      <th>days_from_last_purchase</th>\n",
       "    </tr>\n",
       "  </thead>\n",
       "  <tbody>\n",
       "    <tr>\n",
       "      <th>0</th>\n",
       "      <td>1515915625468060902</td>\n",
       "      <td>2022-05-27</td>\n",
       "      <td>629</td>\n",
       "    </tr>\n",
       "    <tr>\n",
       "      <th>1</th>\n",
       "      <td>1515915625468061003</td>\n",
       "      <td>2023-01-04</td>\n",
       "      <td>407</td>\n",
       "    </tr>\n",
       "    <tr>\n",
       "      <th>2</th>\n",
       "      <td>1515915625468061099</td>\n",
       "      <td>2022-05-17</td>\n",
       "      <td>639</td>\n",
       "    </tr>\n",
       "    <tr>\n",
       "      <th>3</th>\n",
       "      <td>1515915625468061100</td>\n",
       "      <td>2024-02-10</td>\n",
       "      <td>5</td>\n",
       "    </tr>\n",
       "    <tr>\n",
       "      <th>4</th>\n",
       "      <td>1515915625468061170</td>\n",
       "      <td>2023-06-17</td>\n",
       "      <td>243</td>\n",
       "    </tr>\n",
       "  </tbody>\n",
       "</table>\n",
       "</div>"
      ],
      "text/plain": [
       "             client_id last_purchase_date  days_from_last_purchase\n",
       "0  1515915625468060902         2022-05-27                      629\n",
       "1  1515915625468061003         2023-01-04                      407\n",
       "2  1515915625468061099         2022-05-17                      639\n",
       "3  1515915625468061100         2024-02-10                        5\n",
       "4  1515915625468061170         2023-06-17                      243"
      ]
     },
     "execution_count": 370,
     "metadata": {},
     "output_type": "execute_result"
    }
   ],
   "source": [
    "# время с момента последней покупки (в днях)\n",
    "last_date = pd.to_datetime(last_date)\n",
    "\n",
    "last_purchase = (\n",
    "    app_prch.groupby(\"client_id\")[\"date\"].max()\n",
    "    .reset_index(name=\"last_purchase_date\")\n",
    ")\n",
    "\n",
    "last_purchase[\"days_from_last_purchase\"] = (\n",
    "    (last_date - last_purchase[\"last_purchase_date\"]).dt.days.astype(\"int16\")\n",
    ")\n",
    "last_purchase.head()"
   ]
  },
  {
   "cell_type": "code",
   "execution_count": 371,
   "id": "a9d964f1",
   "metadata": {},
   "outputs": [
    {
     "data": {
      "application/vnd.microsoft.datawrangler.viewer.v0+json": {
       "columns": [
        {
         "name": "index",
         "rawType": "int64",
         "type": "integer"
        },
        {
         "name": "client_id",
         "rawType": "int64",
         "type": "integer"
        },
        {
         "name": "avg_items_per_order",
         "rawType": "float64",
         "type": "float"
        }
       ],
       "ref": "19a23574-8b81-465d-86f1-1c2e905a92d1",
       "rows": [
        [
         "0",
         "1515915625468060902",
         "7.0"
        ],
        [
         "1",
         "1515915625468061003",
         "7.0"
        ],
        [
         "2",
         "1515915625468061099",
         "1.0"
        ],
        [
         "3",
         "1515915625468061100",
         "2.0"
        ],
        [
         "4",
         "1515915625468061170",
         "4.0"
        ]
       ],
       "shape": {
        "columns": 2,
        "rows": 5
       }
      },
      "text/html": [
       "<div>\n",
       "<style scoped>\n",
       "    .dataframe tbody tr th:only-of-type {\n",
       "        vertical-align: middle;\n",
       "    }\n",
       "\n",
       "    .dataframe tbody tr th {\n",
       "        vertical-align: top;\n",
       "    }\n",
       "\n",
       "    .dataframe thead th {\n",
       "        text-align: right;\n",
       "    }\n",
       "</style>\n",
       "<table border=\"1\" class=\"dataframe\">\n",
       "  <thead>\n",
       "    <tr style=\"text-align: right;\">\n",
       "      <th></th>\n",
       "      <th>client_id</th>\n",
       "      <th>avg_items_per_order</th>\n",
       "    </tr>\n",
       "  </thead>\n",
       "  <tbody>\n",
       "    <tr>\n",
       "      <th>0</th>\n",
       "      <td>1515915625468060902</td>\n",
       "      <td>7.0</td>\n",
       "    </tr>\n",
       "    <tr>\n",
       "      <th>1</th>\n",
       "      <td>1515915625468061003</td>\n",
       "      <td>7.0</td>\n",
       "    </tr>\n",
       "    <tr>\n",
       "      <th>2</th>\n",
       "      <td>1515915625468061099</td>\n",
       "      <td>1.0</td>\n",
       "    </tr>\n",
       "    <tr>\n",
       "      <th>3</th>\n",
       "      <td>1515915625468061100</td>\n",
       "      <td>2.0</td>\n",
       "    </tr>\n",
       "    <tr>\n",
       "      <th>4</th>\n",
       "      <td>1515915625468061170</td>\n",
       "      <td>4.0</td>\n",
       "    </tr>\n",
       "  </tbody>\n",
       "</table>\n",
       "</div>"
      ],
      "text/plain": [
       "             client_id  avg_items_per_order\n",
       "0  1515915625468060902                  7.0\n",
       "1  1515915625468061003                  7.0\n",
       "2  1515915625468061099                  1.0\n",
       "3  1515915625468061100                  2.0\n",
       "4  1515915625468061170                  4.0"
      ]
     },
     "execution_count": 371,
     "metadata": {},
     "output_type": "execute_result"
    }
   ],
   "source": [
    "# среднее число товаров в заказе\n",
    "avg_items_per_order = (\n",
    "    app_prch.groupby([\"client_id\", \"message_id\"])[\"quantity\"].sum()\n",
    "    .groupby(\"client_id\").median()\n",
    "    .reset_index(name=\"avg_items_per_order\")\n",
    ")\n",
    "avg_items_per_order.head()"
   ]
  },
  {
   "cell_type": "code",
   "execution_count": 372,
   "id": "0b99738f",
   "metadata": {},
   "outputs": [
    {
     "data": {
      "application/vnd.microsoft.datawrangler.viewer.v0+json": {
       "columns": [
        {
         "name": "index",
         "rawType": "int64",
         "type": "integer"
        },
        {
         "name": "client_id",
         "rawType": "int64",
         "type": "integer"
        },
        {
         "name": "avg_order_sum",
         "rawType": "float64",
         "type": "float"
        }
       ],
       "ref": "20237d7c-60e8-4b64-b9cb-5077b031be96",
       "rows": [
        [
         "0",
         "1515915625468060902",
         "6993.0"
        ],
        [
         "1",
         "1515915625468061003",
         "16235.0"
        ],
        [
         "2",
         "1515915625468061099",
         "299.0"
        ],
        [
         "3",
         "1515915625468061100",
         "2098.0"
        ],
        [
         "4",
         "1515915625468061170",
         "11200.333333333334"
        ]
       ],
       "shape": {
        "columns": 2,
        "rows": 5
       }
      },
      "text/html": [
       "<div>\n",
       "<style scoped>\n",
       "    .dataframe tbody tr th:only-of-type {\n",
       "        vertical-align: middle;\n",
       "    }\n",
       "\n",
       "    .dataframe tbody tr th {\n",
       "        vertical-align: top;\n",
       "    }\n",
       "\n",
       "    .dataframe thead th {\n",
       "        text-align: right;\n",
       "    }\n",
       "</style>\n",
       "<table border=\"1\" class=\"dataframe\">\n",
       "  <thead>\n",
       "    <tr style=\"text-align: right;\">\n",
       "      <th></th>\n",
       "      <th>client_id</th>\n",
       "      <th>avg_order_sum</th>\n",
       "    </tr>\n",
       "  </thead>\n",
       "  <tbody>\n",
       "    <tr>\n",
       "      <th>0</th>\n",
       "      <td>1515915625468060902</td>\n",
       "      <td>6993.000000</td>\n",
       "    </tr>\n",
       "    <tr>\n",
       "      <th>1</th>\n",
       "      <td>1515915625468061003</td>\n",
       "      <td>16235.000000</td>\n",
       "    </tr>\n",
       "    <tr>\n",
       "      <th>2</th>\n",
       "      <td>1515915625468061099</td>\n",
       "      <td>299.000000</td>\n",
       "    </tr>\n",
       "    <tr>\n",
       "      <th>3</th>\n",
       "      <td>1515915625468061100</td>\n",
       "      <td>2098.000000</td>\n",
       "    </tr>\n",
       "    <tr>\n",
       "      <th>4</th>\n",
       "      <td>1515915625468061170</td>\n",
       "      <td>11200.333333</td>\n",
       "    </tr>\n",
       "  </tbody>\n",
       "</table>\n",
       "</div>"
      ],
      "text/plain": [
       "             client_id  avg_order_sum\n",
       "0  1515915625468060902    6993.000000\n",
       "1  1515915625468061003   16235.000000\n",
       "2  1515915625468061099     299.000000\n",
       "3  1515915625468061100    2098.000000\n",
       "4  1515915625468061170   11200.333333"
      ]
     },
     "execution_count": 372,
     "metadata": {},
     "output_type": "execute_result"
    }
   ],
   "source": [
    "# средний чек заказа\n",
    "avg_order_sum = (\n",
    "    app_prch.groupby([\"client_id\", \"message_id\"])\n",
    "    .apply(lambda df: (df[\"quantity\"] * df[\"price\"]).sum(), include_groups=False)\n",
    "    .groupby(\"client_id\").mean()\n",
    "    .reset_index(name=\"avg_order_sum\")\n",
    ")\n",
    "avg_order_sum.head()"
   ]
  },
  {
   "cell_type": "code",
   "execution_count": 373,
   "id": "05827522",
   "metadata": {},
   "outputs": [
    {
     "data": {
      "application/vnd.microsoft.datawrangler.viewer.v0+json": {
       "columns": [
        {
         "name": "index",
         "rawType": "int64",
         "type": "integer"
        },
        {
         "name": "client_id",
         "rawType": "int64",
         "type": "integer"
        },
        {
         "name": "avg_item_price",
         "rawType": "float64",
         "type": "float"
        }
       ],
       "ref": "9f54b150-59e3-49f8-a50f-56c72e0dd955",
       "rows": [
        [
         "0",
         "1515915625468060902",
         "999.0"
        ],
        [
         "1",
         "1515915625468061003",
         "2319.285714285714"
        ],
        [
         "2",
         "1515915625468061099",
         "299.0"
        ],
        [
         "3",
         "1515915625468061100",
         "1049.0"
        ],
        [
         "4",
         "1515915625468061170",
         "1768.4736842105262"
        ]
       ],
       "shape": {
        "columns": 2,
        "rows": 5
       }
      },
      "text/html": [
       "<div>\n",
       "<style scoped>\n",
       "    .dataframe tbody tr th:only-of-type {\n",
       "        vertical-align: middle;\n",
       "    }\n",
       "\n",
       "    .dataframe tbody tr th {\n",
       "        vertical-align: top;\n",
       "    }\n",
       "\n",
       "    .dataframe thead th {\n",
       "        text-align: right;\n",
       "    }\n",
       "</style>\n",
       "<table border=\"1\" class=\"dataframe\">\n",
       "  <thead>\n",
       "    <tr style=\"text-align: right;\">\n",
       "      <th></th>\n",
       "      <th>client_id</th>\n",
       "      <th>avg_item_price</th>\n",
       "    </tr>\n",
       "  </thead>\n",
       "  <tbody>\n",
       "    <tr>\n",
       "      <th>0</th>\n",
       "      <td>1515915625468060902</td>\n",
       "      <td>999.000000</td>\n",
       "    </tr>\n",
       "    <tr>\n",
       "      <th>1</th>\n",
       "      <td>1515915625468061003</td>\n",
       "      <td>2319.285714</td>\n",
       "    </tr>\n",
       "    <tr>\n",
       "      <th>2</th>\n",
       "      <td>1515915625468061099</td>\n",
       "      <td>299.000000</td>\n",
       "    </tr>\n",
       "    <tr>\n",
       "      <th>3</th>\n",
       "      <td>1515915625468061100</td>\n",
       "      <td>1049.000000</td>\n",
       "    </tr>\n",
       "    <tr>\n",
       "      <th>4</th>\n",
       "      <td>1515915625468061170</td>\n",
       "      <td>1768.473684</td>\n",
       "    </tr>\n",
       "  </tbody>\n",
       "</table>\n",
       "</div>"
      ],
      "text/plain": [
       "             client_id  avg_item_price\n",
       "0  1515915625468060902      999.000000\n",
       "1  1515915625468061003     2319.285714\n",
       "2  1515915625468061099      299.000000\n",
       "3  1515915625468061100     1049.000000\n",
       "4  1515915625468061170     1768.473684"
      ]
     },
     "execution_count": 373,
     "metadata": {},
     "output_type": "execute_result"
    }
   ],
   "source": [
    "# средняя цена итема\n",
    "avg_item_price = (\n",
    "    (app_prch[\"price\"] * app_prch[\"quantity\"])\n",
    "    .groupby(app_prch[\"client_id\"]).sum()\n",
    "    / app_prch.groupby(\"client_id\")[\"quantity\"].sum()\n",
    ")\n",
    "avg_item_price = avg_item_price.reset_index(name=\"avg_item_price\")\n",
    "avg_item_price.head()"
   ]
  },
  {
   "cell_type": "code",
   "execution_count": 374,
   "id": "ed54d175",
   "metadata": {},
   "outputs": [
    {
     "data": {
      "application/vnd.microsoft.datawrangler.viewer.v0+json": {
       "columns": [
        {
         "name": "index",
         "rawType": "int64",
         "type": "integer"
        },
        {
         "name": "client_id",
         "rawType": "int64",
         "type": "integer"
        },
        {
         "name": "fav_category_top",
         "rawType": "Int16",
         "type": "integer"
        }
       ],
       "ref": "e9a4a6c5-9ad6-4a2d-a042-b47a0ef34e2a",
       "rows": [
        [
         "0",
         "1515915625468060902",
         "4"
        ],
        [
         "1",
         "1515915625468061003",
         "4"
        ],
        [
         "2",
         "1515915625468061099",
         "4"
        ],
        [
         "3",
         "1515915625468061100",
         "4"
        ],
        [
         "4",
         "1515915625468061170",
         "4"
        ]
       ],
       "shape": {
        "columns": 2,
        "rows": 5
       }
      },
      "text/html": [
       "<div>\n",
       "<style scoped>\n",
       "    .dataframe tbody tr th:only-of-type {\n",
       "        vertical-align: middle;\n",
       "    }\n",
       "\n",
       "    .dataframe tbody tr th {\n",
       "        vertical-align: top;\n",
       "    }\n",
       "\n",
       "    .dataframe thead th {\n",
       "        text-align: right;\n",
       "    }\n",
       "</style>\n",
       "<table border=\"1\" class=\"dataframe\">\n",
       "  <thead>\n",
       "    <tr style=\"text-align: right;\">\n",
       "      <th></th>\n",
       "      <th>client_id</th>\n",
       "      <th>fav_category_top</th>\n",
       "    </tr>\n",
       "  </thead>\n",
       "  <tbody>\n",
       "    <tr>\n",
       "      <th>0</th>\n",
       "      <td>1515915625468060902</td>\n",
       "      <td>4</td>\n",
       "    </tr>\n",
       "    <tr>\n",
       "      <th>1</th>\n",
       "      <td>1515915625468061003</td>\n",
       "      <td>4</td>\n",
       "    </tr>\n",
       "    <tr>\n",
       "      <th>2</th>\n",
       "      <td>1515915625468061099</td>\n",
       "      <td>4</td>\n",
       "    </tr>\n",
       "    <tr>\n",
       "      <th>3</th>\n",
       "      <td>1515915625468061100</td>\n",
       "      <td>4</td>\n",
       "    </tr>\n",
       "    <tr>\n",
       "      <th>4</th>\n",
       "      <td>1515915625468061170</td>\n",
       "      <td>4</td>\n",
       "    </tr>\n",
       "  </tbody>\n",
       "</table>\n",
       "</div>"
      ],
      "text/plain": [
       "             client_id  fav_category_top\n",
       "0  1515915625468060902                 4\n",
       "1  1515915625468061003                 4\n",
       "2  1515915625468061099                 4\n",
       "3  1515915625468061100                 4\n",
       "4  1515915625468061170                 4"
      ]
     },
     "execution_count": 374,
     "metadata": {},
     "output_type": "execute_result"
    }
   ],
   "source": [
    "# любимая категория (top)\n",
    "fav_category_top = (\n",
    "    app_prch.groupby(\"client_id\")[\"category_ids_top\"]\n",
    "    .agg(lambda x: x.mode().iloc[0] if not x.mode().empty else 0)\n",
    "    .reset_index(name=\"fav_category_top\")\n",
    ")\n",
    "fav_category_top.head()"
   ]
  },
  {
   "cell_type": "code",
   "execution_count": 375,
   "id": "ab02e59d",
   "metadata": {},
   "outputs": [
    {
     "data": {
      "application/vnd.microsoft.datawrangler.viewer.v0+json": {
       "columns": [
        {
         "name": "index",
         "rawType": "int64",
         "type": "integer"
        },
        {
         "name": "client_id",
         "rawType": "int64",
         "type": "integer"
        },
        {
         "name": "fav_category_last",
         "rawType": "Int16",
         "type": "integer"
        }
       ],
       "ref": "387d9337-b62d-4611-acf6-bf84da094b51",
       "rows": [
        [
         "0",
         "1515915625468060902",
         "420"
        ],
        [
         "1",
         "1515915625468061003",
         "615"
        ],
        [
         "2",
         "1515915625468061099",
         "424"
        ],
        [
         "3",
         "1515915625468061100",
         "5717"
        ],
        [
         "4",
         "1515915625468061170",
         "420"
        ]
       ],
       "shape": {
        "columns": 2,
        "rows": 5
       }
      },
      "text/html": [
       "<div>\n",
       "<style scoped>\n",
       "    .dataframe tbody tr th:only-of-type {\n",
       "        vertical-align: middle;\n",
       "    }\n",
       "\n",
       "    .dataframe tbody tr th {\n",
       "        vertical-align: top;\n",
       "    }\n",
       "\n",
       "    .dataframe thead th {\n",
       "        text-align: right;\n",
       "    }\n",
       "</style>\n",
       "<table border=\"1\" class=\"dataframe\">\n",
       "  <thead>\n",
       "    <tr style=\"text-align: right;\">\n",
       "      <th></th>\n",
       "      <th>client_id</th>\n",
       "      <th>fav_category_last</th>\n",
       "    </tr>\n",
       "  </thead>\n",
       "  <tbody>\n",
       "    <tr>\n",
       "      <th>0</th>\n",
       "      <td>1515915625468060902</td>\n",
       "      <td>420</td>\n",
       "    </tr>\n",
       "    <tr>\n",
       "      <th>1</th>\n",
       "      <td>1515915625468061003</td>\n",
       "      <td>615</td>\n",
       "    </tr>\n",
       "    <tr>\n",
       "      <th>2</th>\n",
       "      <td>1515915625468061099</td>\n",
       "      <td>424</td>\n",
       "    </tr>\n",
       "    <tr>\n",
       "      <th>3</th>\n",
       "      <td>1515915625468061100</td>\n",
       "      <td>5717</td>\n",
       "    </tr>\n",
       "    <tr>\n",
       "      <th>4</th>\n",
       "      <td>1515915625468061170</td>\n",
       "      <td>420</td>\n",
       "    </tr>\n",
       "  </tbody>\n",
       "</table>\n",
       "</div>"
      ],
      "text/plain": [
       "             client_id  fav_category_last\n",
       "0  1515915625468060902                420\n",
       "1  1515915625468061003                615\n",
       "2  1515915625468061099                424\n",
       "3  1515915625468061100               5717\n",
       "4  1515915625468061170                420"
      ]
     },
     "execution_count": 375,
     "metadata": {},
     "output_type": "execute_result"
    }
   ],
   "source": [
    "# любимый товар (last)\n",
    "fav_category_last = (\n",
    "    app_prch.groupby(\"client_id\")[\"category_ids_last\"]\n",
    "    .agg(lambda x: x.mode().iloc[0] if not x.mode().empty else 0)\n",
    "    .reset_index(name=\"fav_category_last\")\n",
    ")\n",
    "fav_category_last.head()"
   ]
  },
  {
   "cell_type": "code",
   "execution_count": 385,
   "id": "5ef894af",
   "metadata": {},
   "outputs": [
    {
     "data": {
      "application/vnd.microsoft.datawrangler.viewer.v0+json": {
       "columns": [
        {
         "name": "index",
         "rawType": "int64",
         "type": "integer"
        },
        {
         "name": "client_id",
         "rawType": "int64",
         "type": "integer"
        },
        {
         "name": "avg_interval_days",
         "rawType": "float64",
         "type": "float"
        }
       ],
       "ref": "ad9e35f4-bded-4376-8cee-73b5280cf2bf",
       "rows": [
        [
         "1205",
         "1515915625468157438",
         "469.0"
        ],
        [
         "33617",
         "1515915625587617474",
         "4.0"
        ],
        [
         "34990",
         "1515915625591285475",
         null
        ],
        [
         "25508",
         "1515915625557955325",
         null
        ],
        [
         "6004",
         "1515915625487279150",
         null
        ]
       ],
       "shape": {
        "columns": 2,
        "rows": 5
       }
      },
      "text/html": [
       "<div>\n",
       "<style scoped>\n",
       "    .dataframe tbody tr th:only-of-type {\n",
       "        vertical-align: middle;\n",
       "    }\n",
       "\n",
       "    .dataframe tbody tr th {\n",
       "        vertical-align: top;\n",
       "    }\n",
       "\n",
       "    .dataframe thead th {\n",
       "        text-align: right;\n",
       "    }\n",
       "</style>\n",
       "<table border=\"1\" class=\"dataframe\">\n",
       "  <thead>\n",
       "    <tr style=\"text-align: right;\">\n",
       "      <th></th>\n",
       "      <th>client_id</th>\n",
       "      <th>avg_interval_days</th>\n",
       "    </tr>\n",
       "  </thead>\n",
       "  <tbody>\n",
       "    <tr>\n",
       "      <th>1205</th>\n",
       "      <td>1515915625468157438</td>\n",
       "      <td>469.0</td>\n",
       "    </tr>\n",
       "    <tr>\n",
       "      <th>33617</th>\n",
       "      <td>1515915625587617474</td>\n",
       "      <td>4.0</td>\n",
       "    </tr>\n",
       "    <tr>\n",
       "      <th>34990</th>\n",
       "      <td>1515915625591285475</td>\n",
       "      <td>NaN</td>\n",
       "    </tr>\n",
       "    <tr>\n",
       "      <th>25508</th>\n",
       "      <td>1515915625557955325</td>\n",
       "      <td>NaN</td>\n",
       "    </tr>\n",
       "    <tr>\n",
       "      <th>6004</th>\n",
       "      <td>1515915625487279150</td>\n",
       "      <td>NaN</td>\n",
       "    </tr>\n",
       "  </tbody>\n",
       "</table>\n",
       "</div>"
      ],
      "text/plain": [
       "                 client_id  avg_interval_days\n",
       "1205   1515915625468157438              469.0\n",
       "33617  1515915625587617474                4.0\n",
       "34990  1515915625591285475                NaN\n",
       "25508  1515915625557955325                NaN\n",
       "6004   1515915625487279150                NaN"
      ]
     },
     "metadata": {},
     "output_type": "display_data"
    },
    {
     "data": {
      "application/vnd.microsoft.datawrangler.viewer.v0+json": {
       "columns": [
        {
         "name": "index",
         "rawType": "object",
         "type": "string"
        },
        {
         "name": "count",
         "rawType": "float64",
         "type": "float"
        },
        {
         "name": "mean",
         "rawType": "float64",
         "type": "float"
        },
        {
         "name": "std",
         "rawType": "float64",
         "type": "float"
        },
        {
         "name": "min",
         "rawType": "float64",
         "type": "float"
        },
        {
         "name": "25%",
         "rawType": "float64",
         "type": "float"
        },
        {
         "name": "50%",
         "rawType": "float64",
         "type": "float"
        },
        {
         "name": "75%",
         "rawType": "float64",
         "type": "float"
        },
        {
         "name": "max",
         "rawType": "float64",
         "type": "float"
        }
       ],
       "ref": "5c5a9dd2-b312-4fe5-8d08-1ce3ae19c48a",
       "rows": [
        [
         "client_id",
         "49849.0",
         "1.515915625598796e+18",
         "148794654.89060703",
         "1.515915625468061e+18",
         "1.5159156254899727e+18",
         "1.515915625556615e+18",
         "1.5159156256334088e+18",
         "1.5159156260104435e+18"
        ],
        [
         "avg_interval_days",
         "7143.0",
         "109.18466634707708",
         "119.35265953498988",
         "1.0",
         "11.0",
         "73.66666666666667",
         "163.0",
         "619.0"
        ]
       ],
       "shape": {
        "columns": 8,
        "rows": 2
       }
      },
      "text/html": [
       "<div>\n",
       "<style scoped>\n",
       "    .dataframe tbody tr th:only-of-type {\n",
       "        vertical-align: middle;\n",
       "    }\n",
       "\n",
       "    .dataframe tbody tr th {\n",
       "        vertical-align: top;\n",
       "    }\n",
       "\n",
       "    .dataframe thead th {\n",
       "        text-align: right;\n",
       "    }\n",
       "</style>\n",
       "<table border=\"1\" class=\"dataframe\">\n",
       "  <thead>\n",
       "    <tr style=\"text-align: right;\">\n",
       "      <th></th>\n",
       "      <th>count</th>\n",
       "      <th>mean</th>\n",
       "      <th>std</th>\n",
       "      <th>min</th>\n",
       "      <th>25%</th>\n",
       "      <th>50%</th>\n",
       "      <th>75%</th>\n",
       "      <th>max</th>\n",
       "    </tr>\n",
       "  </thead>\n",
       "  <tbody>\n",
       "    <tr>\n",
       "      <th>client_id</th>\n",
       "      <td>49849.0</td>\n",
       "      <td>1.515916e+18</td>\n",
       "      <td>1.487947e+08</td>\n",
       "      <td>1.515916e+18</td>\n",
       "      <td>1.515916e+18</td>\n",
       "      <td>1.515916e+18</td>\n",
       "      <td>1.515916e+18</td>\n",
       "      <td>1.515916e+18</td>\n",
       "    </tr>\n",
       "    <tr>\n",
       "      <th>avg_interval_days</th>\n",
       "      <td>7143.0</td>\n",
       "      <td>1.091847e+02</td>\n",
       "      <td>1.193527e+02</td>\n",
       "      <td>1.000000e+00</td>\n",
       "      <td>1.100000e+01</td>\n",
       "      <td>7.366667e+01</td>\n",
       "      <td>1.630000e+02</td>\n",
       "      <td>6.190000e+02</td>\n",
       "    </tr>\n",
       "  </tbody>\n",
       "</table>\n",
       "</div>"
      ],
      "text/plain": [
       "                     count          mean           std           min  \\\n",
       "client_id          49849.0  1.515916e+18  1.487947e+08  1.515916e+18   \n",
       "avg_interval_days   7143.0  1.091847e+02  1.193527e+02  1.000000e+00   \n",
       "\n",
       "                            25%           50%           75%           max  \n",
       "client_id          1.515916e+18  1.515916e+18  1.515916e+18  1.515916e+18  \n",
       "avg_interval_days  1.100000e+01  7.366667e+01  1.630000e+02  6.190000e+02  "
      ]
     },
     "metadata": {},
     "output_type": "display_data"
    }
   ],
   "source": [
    "# средний интервал между покупками (в днях)\n",
    "avg_interval = (\n",
    "    app_prch.groupby(\"client_id\")[\"date\"]\n",
    "    .apply(\n",
    "        lambda x: np.mean(np.diff(np.sort(x.unique())).astype(\"timedelta64[D]\").astype(int))\n",
    "        if x.nunique() > 1 else np.nan\n",
    "    )\n",
    "    .reset_index(name=\"avg_interval_days\")\n",
    ")\n",
    "display(avg_interval.sample(5))\n",
    "display(avg_interval.describe().T)"
   ]
  },
  {
   "cell_type": "code",
   "execution_count": 386,
   "id": "455ed9da",
   "metadata": {},
   "outputs": [
    {
     "data": {
      "application/vnd.microsoft.datawrangler.viewer.v0+json": {
       "columns": [
        {
         "name": "index",
         "rawType": "int64",
         "type": "integer"
        },
        {
         "name": "client_id",
         "rawType": "int64",
         "type": "integer"
        },
        {
         "name": "lifetime_value",
         "rawType": "float64",
         "type": "float"
        }
       ],
       "ref": "c4320904-f019-40f5-a2cc-64c988b402bc",
       "rows": [
        [
         "0",
         "1515915625468060902",
         "6993.0"
        ],
        [
         "1",
         "1515915625468061003",
         "16235.0"
        ],
        [
         "2",
         "1515915625468061099",
         "299.0"
        ],
        [
         "3",
         "1515915625468061100",
         "2098.0"
        ],
        [
         "4",
         "1515915625468061170",
         "33601.0"
        ]
       ],
       "shape": {
        "columns": 2,
        "rows": 5
       }
      },
      "text/html": [
       "<div>\n",
       "<style scoped>\n",
       "    .dataframe tbody tr th:only-of-type {\n",
       "        vertical-align: middle;\n",
       "    }\n",
       "\n",
       "    .dataframe tbody tr th {\n",
       "        vertical-align: top;\n",
       "    }\n",
       "\n",
       "    .dataframe thead th {\n",
       "        text-align: right;\n",
       "    }\n",
       "</style>\n",
       "<table border=\"1\" class=\"dataframe\">\n",
       "  <thead>\n",
       "    <tr style=\"text-align: right;\">\n",
       "      <th></th>\n",
       "      <th>client_id</th>\n",
       "      <th>lifetime_value</th>\n",
       "    </tr>\n",
       "  </thead>\n",
       "  <tbody>\n",
       "    <tr>\n",
       "      <th>0</th>\n",
       "      <td>1515915625468060902</td>\n",
       "      <td>6993.0</td>\n",
       "    </tr>\n",
       "    <tr>\n",
       "      <th>1</th>\n",
       "      <td>1515915625468061003</td>\n",
       "      <td>16235.0</td>\n",
       "    </tr>\n",
       "    <tr>\n",
       "      <th>2</th>\n",
       "      <td>1515915625468061099</td>\n",
       "      <td>299.0</td>\n",
       "    </tr>\n",
       "    <tr>\n",
       "      <th>3</th>\n",
       "      <td>1515915625468061100</td>\n",
       "      <td>2098.0</td>\n",
       "    </tr>\n",
       "    <tr>\n",
       "      <th>4</th>\n",
       "      <td>1515915625468061170</td>\n",
       "      <td>33601.0</td>\n",
       "    </tr>\n",
       "  </tbody>\n",
       "</table>\n",
       "</div>"
      ],
      "text/plain": [
       "             client_id  lifetime_value\n",
       "0  1515915625468060902          6993.0\n",
       "1  1515915625468061003         16235.0\n",
       "2  1515915625468061099           299.0\n",
       "3  1515915625468061100          2098.0\n",
       "4  1515915625468061170         33601.0"
      ]
     },
     "metadata": {},
     "output_type": "display_data"
    },
    {
     "data": {
      "application/vnd.microsoft.datawrangler.viewer.v0+json": {
       "columns": [
        {
         "name": "index",
         "rawType": "object",
         "type": "string"
        },
        {
         "name": "count",
         "rawType": "float64",
         "type": "float"
        },
        {
         "name": "mean",
         "rawType": "float64",
         "type": "float"
        },
        {
         "name": "std",
         "rawType": "float64",
         "type": "float"
        },
        {
         "name": "min",
         "rawType": "float64",
         "type": "float"
        },
        {
         "name": "25%",
         "rawType": "float64",
         "type": "float"
        },
        {
         "name": "50%",
         "rawType": "float64",
         "type": "float"
        },
        {
         "name": "75%",
         "rawType": "float64",
         "type": "float"
        },
        {
         "name": "max",
         "rawType": "float64",
         "type": "float"
        }
       ],
       "ref": "ba4a9ae8-8402-4864-bb6a-e5201338a8e9",
       "rows": [
        [
         "client_id",
         "49849.0",
         "1.515915625598796e+18",
         "148794654.89060703",
         "1.515915625468061e+18",
         "1.5159156254899727e+18",
         "1.515915625556615e+18",
         "1.5159156256334088e+18",
         "1.5159156260104435e+18"
        ],
        [
         "lifetime_value",
         "49849.0",
         "4865.584264478725",
         "7351.467229249618",
         "1.0",
         "1499.0",
         "2969.0",
         "5698.0",
         "540408.0"
        ]
       ],
       "shape": {
        "columns": 8,
        "rows": 2
       }
      },
      "text/html": [
       "<div>\n",
       "<style scoped>\n",
       "    .dataframe tbody tr th:only-of-type {\n",
       "        vertical-align: middle;\n",
       "    }\n",
       "\n",
       "    .dataframe tbody tr th {\n",
       "        vertical-align: top;\n",
       "    }\n",
       "\n",
       "    .dataframe thead th {\n",
       "        text-align: right;\n",
       "    }\n",
       "</style>\n",
       "<table border=\"1\" class=\"dataframe\">\n",
       "  <thead>\n",
       "    <tr style=\"text-align: right;\">\n",
       "      <th></th>\n",
       "      <th>count</th>\n",
       "      <th>mean</th>\n",
       "      <th>std</th>\n",
       "      <th>min</th>\n",
       "      <th>25%</th>\n",
       "      <th>50%</th>\n",
       "      <th>75%</th>\n",
       "      <th>max</th>\n",
       "    </tr>\n",
       "  </thead>\n",
       "  <tbody>\n",
       "    <tr>\n",
       "      <th>client_id</th>\n",
       "      <td>49849.0</td>\n",
       "      <td>1.515916e+18</td>\n",
       "      <td>1.487947e+08</td>\n",
       "      <td>1.515916e+18</td>\n",
       "      <td>1.515916e+18</td>\n",
       "      <td>1.515916e+18</td>\n",
       "      <td>1.515916e+18</td>\n",
       "      <td>1.515916e+18</td>\n",
       "    </tr>\n",
       "    <tr>\n",
       "      <th>lifetime_value</th>\n",
       "      <td>49849.0</td>\n",
       "      <td>4.865584e+03</td>\n",
       "      <td>7.351467e+03</td>\n",
       "      <td>1.000000e+00</td>\n",
       "      <td>1.499000e+03</td>\n",
       "      <td>2.969000e+03</td>\n",
       "      <td>5.698000e+03</td>\n",
       "      <td>5.404080e+05</td>\n",
       "    </tr>\n",
       "  </tbody>\n",
       "</table>\n",
       "</div>"
      ],
      "text/plain": [
       "                  count          mean           std           min  \\\n",
       "client_id       49849.0  1.515916e+18  1.487947e+08  1.515916e+18   \n",
       "lifetime_value  49849.0  4.865584e+03  7.351467e+03  1.000000e+00   \n",
       "\n",
       "                         25%           50%           75%           max  \n",
       "client_id       1.515916e+18  1.515916e+18  1.515916e+18  1.515916e+18  \n",
       "lifetime_value  1.499000e+03  2.969000e+03  5.698000e+03  5.404080e+05  "
      ]
     },
     "metadata": {},
     "output_type": "display_data"
    }
   ],
   "source": [
    "# сумма покупок\n",
    "lifetime_value = (\n",
    "    (app_prch[\"quantity\"] * app_prch[\"price\"])\n",
    "    .groupby(app_prch[\"client_id\"]).sum()\n",
    "    .reset_index(name=\"lifetime_value\")\n",
    ")\n",
    "display(lifetime_value.head())\n",
    "display(lifetime_value.describe().T)"
   ]
  },
  {
   "cell_type": "code",
   "execution_count": 378,
   "id": "bf1cf24b",
   "metadata": {},
   "outputs": [
    {
     "data": {
      "application/vnd.microsoft.datawrangler.viewer.v0+json": {
       "columns": [
        {
         "name": "index",
         "rawType": "int64",
         "type": "integer"
        },
        {
         "name": "client_id",
         "rawType": "int64",
         "type": "integer"
        },
        {
         "name": "last_purchase_date",
         "rawType": "datetime64[ns]",
         "type": "datetime"
        },
        {
         "name": "churn_flag",
         "rawType": "int8",
         "type": "integer"
        }
       ],
       "ref": "6c6057d0-58e8-428d-9bda-9dcad7e35ce6",
       "rows": [
        [
         "0",
         "1515915625468060902",
         "2022-05-27 00:00:00",
         "1"
        ],
        [
         "1",
         "1515915625468061003",
         "2023-01-04 00:00:00",
         "1"
        ],
        [
         "2",
         "1515915625468061099",
         "2022-05-17 00:00:00",
         "1"
        ],
        [
         "3",
         "1515915625468061100",
         "2024-02-10 00:00:00",
         "0"
        ],
        [
         "4",
         "1515915625468061170",
         "2023-06-17 00:00:00",
         "0"
        ]
       ],
       "shape": {
        "columns": 3,
        "rows": 5
       }
      },
      "text/html": [
       "<div>\n",
       "<style scoped>\n",
       "    .dataframe tbody tr th:only-of-type {\n",
       "        vertical-align: middle;\n",
       "    }\n",
       "\n",
       "    .dataframe tbody tr th {\n",
       "        vertical-align: top;\n",
       "    }\n",
       "\n",
       "    .dataframe thead th {\n",
       "        text-align: right;\n",
       "    }\n",
       "</style>\n",
       "<table border=\"1\" class=\"dataframe\">\n",
       "  <thead>\n",
       "    <tr style=\"text-align: right;\">\n",
       "      <th></th>\n",
       "      <th>client_id</th>\n",
       "      <th>last_purchase_date</th>\n",
       "      <th>churn_flag</th>\n",
       "    </tr>\n",
       "  </thead>\n",
       "  <tbody>\n",
       "    <tr>\n",
       "      <th>0</th>\n",
       "      <td>1515915625468060902</td>\n",
       "      <td>2022-05-27</td>\n",
       "      <td>1</td>\n",
       "    </tr>\n",
       "    <tr>\n",
       "      <th>1</th>\n",
       "      <td>1515915625468061003</td>\n",
       "      <td>2023-01-04</td>\n",
       "      <td>1</td>\n",
       "    </tr>\n",
       "    <tr>\n",
       "      <th>2</th>\n",
       "      <td>1515915625468061099</td>\n",
       "      <td>2022-05-17</td>\n",
       "      <td>1</td>\n",
       "    </tr>\n",
       "    <tr>\n",
       "      <th>3</th>\n",
       "      <td>1515915625468061100</td>\n",
       "      <td>2024-02-10</td>\n",
       "      <td>0</td>\n",
       "    </tr>\n",
       "    <tr>\n",
       "      <th>4</th>\n",
       "      <td>1515915625468061170</td>\n",
       "      <td>2023-06-17</td>\n",
       "      <td>0</td>\n",
       "    </tr>\n",
       "  </tbody>\n",
       "</table>\n",
       "</div>"
      ],
      "text/plain": [
       "             client_id last_purchase_date  churn_flag\n",
       "0  1515915625468060902         2022-05-27           1\n",
       "1  1515915625468061003         2023-01-04           1\n",
       "2  1515915625468061099         2022-05-17           1\n",
       "3  1515915625468061100         2024-02-10           0\n",
       "4  1515915625468061170         2023-06-17           0"
      ]
     },
     "execution_count": 378,
     "metadata": {},
     "output_type": "execute_result"
    }
   ],
   "source": [
    "# churn-флаг (>360 дней без покупок)\n",
    "churn_flag = (\n",
    "    app_prch.groupby(\"client_id\")[\"date\"].max()\n",
    "    .reset_index(name=\"last_purchase_date\")\n",
    ")\n",
    "churn_flag[\"churn_flag\"] = (\n",
    "    (last_date - churn_flag[\"last_purchase_date\"]).dt.days > 360\n",
    ").astype(\"int8\")\n",
    "churn_flag.head()"
   ]
  },
  {
   "cell_type": "code",
   "execution_count": 379,
   "id": "77849e63",
   "metadata": {},
   "outputs": [
    {
     "data": {
      "application/vnd.microsoft.datawrangler.viewer.v0+json": {
       "columns": [
        {
         "name": "index",
         "rawType": "int64",
         "type": "integer"
        },
        {
         "name": "client_id",
         "rawType": "int64",
         "type": "integer"
        },
        {
         "name": "purchases_360d",
         "rawType": "int64",
         "type": "integer"
        },
        {
         "name": "items_360d",
         "rawType": "int64",
         "type": "integer"
        },
        {
         "name": "cost_360d",
         "rawType": "float64",
         "type": "float"
        }
       ],
       "ref": "854dbebb-affb-4f32-b1ae-5fc55829f333",
       "rows": [
        [
         "0",
         "1515915625468061100",
         "1",
         "2",
         "2098.0"
        ],
        [
         "1",
         "1515915625468061170",
         "3",
         "19",
         "33601.0"
        ],
        [
         "2",
         "1515915625468062158",
         "1",
         "2",
         "1398.0"
        ],
        [
         "3",
         "1515915625468062184",
         "1",
         "4",
         "3218.0"
        ],
        [
         "4",
         "1515915625468062558",
         "1",
         "4",
         "9096.0"
        ]
       ],
       "shape": {
        "columns": 4,
        "rows": 5
       }
      },
      "text/html": [
       "<div>\n",
       "<style scoped>\n",
       "    .dataframe tbody tr th:only-of-type {\n",
       "        vertical-align: middle;\n",
       "    }\n",
       "\n",
       "    .dataframe tbody tr th {\n",
       "        vertical-align: top;\n",
       "    }\n",
       "\n",
       "    .dataframe thead th {\n",
       "        text-align: right;\n",
       "    }\n",
       "</style>\n",
       "<table border=\"1\" class=\"dataframe\">\n",
       "  <thead>\n",
       "    <tr style=\"text-align: right;\">\n",
       "      <th></th>\n",
       "      <th>client_id</th>\n",
       "      <th>purchases_360d</th>\n",
       "      <th>items_360d</th>\n",
       "      <th>cost_360d</th>\n",
       "    </tr>\n",
       "  </thead>\n",
       "  <tbody>\n",
       "    <tr>\n",
       "      <th>0</th>\n",
       "      <td>1515915625468061100</td>\n",
       "      <td>1</td>\n",
       "      <td>2</td>\n",
       "      <td>2098.0</td>\n",
       "    </tr>\n",
       "    <tr>\n",
       "      <th>1</th>\n",
       "      <td>1515915625468061170</td>\n",
       "      <td>3</td>\n",
       "      <td>19</td>\n",
       "      <td>33601.0</td>\n",
       "    </tr>\n",
       "    <tr>\n",
       "      <th>2</th>\n",
       "      <td>1515915625468062158</td>\n",
       "      <td>1</td>\n",
       "      <td>2</td>\n",
       "      <td>1398.0</td>\n",
       "    </tr>\n",
       "    <tr>\n",
       "      <th>3</th>\n",
       "      <td>1515915625468062184</td>\n",
       "      <td>1</td>\n",
       "      <td>4</td>\n",
       "      <td>3218.0</td>\n",
       "    </tr>\n",
       "    <tr>\n",
       "      <th>4</th>\n",
       "      <td>1515915625468062558</td>\n",
       "      <td>1</td>\n",
       "      <td>4</td>\n",
       "      <td>9096.0</td>\n",
       "    </tr>\n",
       "  </tbody>\n",
       "</table>\n",
       "</div>"
      ],
      "text/plain": [
       "             client_id  purchases_360d  items_360d  cost_360d\n",
       "0  1515915625468061100               1           2     2098.0\n",
       "1  1515915625468061170               3          19    33601.0\n",
       "2  1515915625468062158               1           2     1398.0\n",
       "3  1515915625468062184               1           4     3218.0\n",
       "4  1515915625468062558               1           4     9096.0"
      ]
     },
     "execution_count": 379,
     "metadata": {},
     "output_type": "execute_result"
    }
   ],
   "source": [
    "# агрегации по окнам 30/60/90/180/360 дней\n",
    "def agg_period(df, cutoff_days):\n",
    "    cutoff = last_date - pd.Timedelta(days=cutoff_days)\n",
    "    dff = df[df[\"date\"] >= cutoff]\n",
    "    out = dff.groupby(\"client_id\").agg(\n",
    "        purchases=(\"message_id\", \"nunique\"),\n",
    "        items=(\"quantity\", \"sum\"),\n",
    "        cost=(\"price\", lambda x: (dff.loc[x.index, \"quantity\"] * x).sum())\n",
    "    )\n",
    "    out = out.rename(columns={\n",
    "        \"purchases\": f\"purchases_{cutoff_days}d\",\n",
    "        \"items\": f\"items_{cutoff_days}d\",\n",
    "        \"cost\": f\"cost_{cutoff_days}d\"\n",
    "    })\n",
    "    return out.reset_index()\n",
    "\n",
    "agg_30 = agg_period(app_prch, 30)\n",
    "agg_60 = agg_period(app_prch, 60)\n",
    "agg_90 = agg_period(app_prch, 90)\n",
    "agg_180 = agg_period(app_prch, 180)\n",
    "agg_360 = agg_period(app_prch, 360)\n",
    "\n",
    "agg_360.head()"
   ]
  },
  {
   "cell_type": "code",
   "execution_count": 380,
   "id": "f090290e",
   "metadata": {},
   "outputs": [
    {
     "data": {
      "application/vnd.microsoft.datawrangler.viewer.v0+json": {
       "columns": [
        {
         "name": "index",
         "rawType": "int64",
         "type": "integer"
        },
        {
         "name": "client_id",
         "rawType": "int64",
         "type": "integer"
        },
        {
         "name": "days_from_last_purchase",
         "rawType": "int16",
         "type": "integer"
        },
        {
         "name": "avg_items_per_order",
         "rawType": "float64",
         "type": "float"
        },
        {
         "name": "avg_order_sum",
         "rawType": "float64",
         "type": "float"
        },
        {
         "name": "avg_item_price",
         "rawType": "float64",
         "type": "float"
        },
        {
         "name": "fav_category_top",
         "rawType": "Int16",
         "type": "integer"
        },
        {
         "name": "fav_category_last",
         "rawType": "Int16",
         "type": "integer"
        },
        {
         "name": "avg_interval_days",
         "rawType": "float64",
         "type": "float"
        },
        {
         "name": "lifetime_value",
         "rawType": "float64",
         "type": "float"
        },
        {
         "name": "churn_flag",
         "rawType": "int8",
         "type": "integer"
        },
        {
         "name": "purchases_30d",
         "rawType": "float64",
         "type": "float"
        },
        {
         "name": "items_30d",
         "rawType": "float64",
         "type": "float"
        },
        {
         "name": "cost_30d",
         "rawType": "float64",
         "type": "float"
        },
        {
         "name": "purchases_60d",
         "rawType": "float64",
         "type": "float"
        },
        {
         "name": "items_60d",
         "rawType": "float64",
         "type": "float"
        },
        {
         "name": "cost_60d",
         "rawType": "float64",
         "type": "float"
        },
        {
         "name": "purchases_90d",
         "rawType": "float64",
         "type": "float"
        },
        {
         "name": "items_90d",
         "rawType": "float64",
         "type": "float"
        },
        {
         "name": "cost_90d",
         "rawType": "float64",
         "type": "float"
        },
        {
         "name": "purchases_180d",
         "rawType": "float64",
         "type": "float"
        },
        {
         "name": "items_180d",
         "rawType": "float64",
         "type": "float"
        },
        {
         "name": "cost_180d",
         "rawType": "float64",
         "type": "float"
        },
        {
         "name": "purchases_360d",
         "rawType": "float64",
         "type": "float"
        },
        {
         "name": "items_360d",
         "rawType": "float64",
         "type": "float"
        },
        {
         "name": "cost_360d",
         "rawType": "float64",
         "type": "float"
        }
       ],
       "ref": "ae4e9255-e64e-4f09-af86-1d52ff938ec6",
       "rows": [
        [
         "0",
         "1515915625468060902",
         "629",
         "7.0",
         "6993.0",
         "999.0",
         "4",
         "420",
         null,
         "6993.0",
         "1",
         null,
         null,
         null,
         null,
         null,
         null,
         null,
         null,
         null,
         null,
         null,
         null,
         null,
         null,
         null
        ],
        [
         "1",
         "1515915625468061003",
         "407",
         "7.0",
         "16235.0",
         "2319.285714285714",
         "4",
         "615",
         null,
         "16235.0",
         "1",
         null,
         null,
         null,
         null,
         null,
         null,
         null,
         null,
         null,
         null,
         null,
         null,
         null,
         null,
         null
        ],
        [
         "2",
         "1515915625468061099",
         "639",
         "1.0",
         "299.0",
         "299.0",
         "4",
         "424",
         null,
         "299.0",
         "1",
         null,
         null,
         null,
         null,
         null,
         null,
         null,
         null,
         null,
         null,
         null,
         null,
         null,
         null,
         null
        ],
        [
         "3",
         "1515915625468061100",
         "5",
         "2.0",
         "2098.0",
         "1049.0",
         "4",
         "5717",
         null,
         "2098.0",
         "0",
         "1.0",
         "2.0",
         "2098.0",
         "1.0",
         "2.0",
         "2098.0",
         "1.0",
         "2.0",
         "2098.0",
         "1.0",
         "2.0",
         "2098.0",
         "1.0",
         "2.0",
         "2098.0"
        ],
        [
         "4",
         "1515915625468061170",
         "243",
         "4.0",
         "11200.333333333334",
         "1768.4736842105262",
         "4",
         "420",
         "41.5",
         "33601.0",
         "0",
         null,
         null,
         null,
         null,
         null,
         null,
         null,
         null,
         null,
         null,
         null,
         null,
         "3.0",
         "19.0",
         "33601.0"
        ]
       ],
       "shape": {
        "columns": 25,
        "rows": 5
       }
      },
      "text/html": [
       "<div>\n",
       "<style scoped>\n",
       "    .dataframe tbody tr th:only-of-type {\n",
       "        vertical-align: middle;\n",
       "    }\n",
       "\n",
       "    .dataframe tbody tr th {\n",
       "        vertical-align: top;\n",
       "    }\n",
       "\n",
       "    .dataframe thead th {\n",
       "        text-align: right;\n",
       "    }\n",
       "</style>\n",
       "<table border=\"1\" class=\"dataframe\">\n",
       "  <thead>\n",
       "    <tr style=\"text-align: right;\">\n",
       "      <th></th>\n",
       "      <th>client_id</th>\n",
       "      <th>days_from_last_purchase</th>\n",
       "      <th>avg_items_per_order</th>\n",
       "      <th>avg_order_sum</th>\n",
       "      <th>avg_item_price</th>\n",
       "      <th>fav_category_top</th>\n",
       "      <th>fav_category_last</th>\n",
       "      <th>avg_interval_days</th>\n",
       "      <th>lifetime_value</th>\n",
       "      <th>churn_flag</th>\n",
       "      <th>...</th>\n",
       "      <th>cost_60d</th>\n",
       "      <th>purchases_90d</th>\n",
       "      <th>items_90d</th>\n",
       "      <th>cost_90d</th>\n",
       "      <th>purchases_180d</th>\n",
       "      <th>items_180d</th>\n",
       "      <th>cost_180d</th>\n",
       "      <th>purchases_360d</th>\n",
       "      <th>items_360d</th>\n",
       "      <th>cost_360d</th>\n",
       "    </tr>\n",
       "  </thead>\n",
       "  <tbody>\n",
       "    <tr>\n",
       "      <th>0</th>\n",
       "      <td>1515915625468060902</td>\n",
       "      <td>629</td>\n",
       "      <td>7.0</td>\n",
       "      <td>6993.000000</td>\n",
       "      <td>999.000000</td>\n",
       "      <td>4</td>\n",
       "      <td>420</td>\n",
       "      <td>NaN</td>\n",
       "      <td>6993.0</td>\n",
       "      <td>1</td>\n",
       "      <td>...</td>\n",
       "      <td>NaN</td>\n",
       "      <td>NaN</td>\n",
       "      <td>NaN</td>\n",
       "      <td>NaN</td>\n",
       "      <td>NaN</td>\n",
       "      <td>NaN</td>\n",
       "      <td>NaN</td>\n",
       "      <td>NaN</td>\n",
       "      <td>NaN</td>\n",
       "      <td>NaN</td>\n",
       "    </tr>\n",
       "    <tr>\n",
       "      <th>1</th>\n",
       "      <td>1515915625468061003</td>\n",
       "      <td>407</td>\n",
       "      <td>7.0</td>\n",
       "      <td>16235.000000</td>\n",
       "      <td>2319.285714</td>\n",
       "      <td>4</td>\n",
       "      <td>615</td>\n",
       "      <td>NaN</td>\n",
       "      <td>16235.0</td>\n",
       "      <td>1</td>\n",
       "      <td>...</td>\n",
       "      <td>NaN</td>\n",
       "      <td>NaN</td>\n",
       "      <td>NaN</td>\n",
       "      <td>NaN</td>\n",
       "      <td>NaN</td>\n",
       "      <td>NaN</td>\n",
       "      <td>NaN</td>\n",
       "      <td>NaN</td>\n",
       "      <td>NaN</td>\n",
       "      <td>NaN</td>\n",
       "    </tr>\n",
       "    <tr>\n",
       "      <th>2</th>\n",
       "      <td>1515915625468061099</td>\n",
       "      <td>639</td>\n",
       "      <td>1.0</td>\n",
       "      <td>299.000000</td>\n",
       "      <td>299.000000</td>\n",
       "      <td>4</td>\n",
       "      <td>424</td>\n",
       "      <td>NaN</td>\n",
       "      <td>299.0</td>\n",
       "      <td>1</td>\n",
       "      <td>...</td>\n",
       "      <td>NaN</td>\n",
       "      <td>NaN</td>\n",
       "      <td>NaN</td>\n",
       "      <td>NaN</td>\n",
       "      <td>NaN</td>\n",
       "      <td>NaN</td>\n",
       "      <td>NaN</td>\n",
       "      <td>NaN</td>\n",
       "      <td>NaN</td>\n",
       "      <td>NaN</td>\n",
       "    </tr>\n",
       "    <tr>\n",
       "      <th>3</th>\n",
       "      <td>1515915625468061100</td>\n",
       "      <td>5</td>\n",
       "      <td>2.0</td>\n",
       "      <td>2098.000000</td>\n",
       "      <td>1049.000000</td>\n",
       "      <td>4</td>\n",
       "      <td>5717</td>\n",
       "      <td>NaN</td>\n",
       "      <td>2098.0</td>\n",
       "      <td>0</td>\n",
       "      <td>...</td>\n",
       "      <td>2098.0</td>\n",
       "      <td>1.0</td>\n",
       "      <td>2.0</td>\n",
       "      <td>2098.0</td>\n",
       "      <td>1.0</td>\n",
       "      <td>2.0</td>\n",
       "      <td>2098.0</td>\n",
       "      <td>1.0</td>\n",
       "      <td>2.0</td>\n",
       "      <td>2098.0</td>\n",
       "    </tr>\n",
       "    <tr>\n",
       "      <th>4</th>\n",
       "      <td>1515915625468061170</td>\n",
       "      <td>243</td>\n",
       "      <td>4.0</td>\n",
       "      <td>11200.333333</td>\n",
       "      <td>1768.473684</td>\n",
       "      <td>4</td>\n",
       "      <td>420</td>\n",
       "      <td>41.5</td>\n",
       "      <td>33601.0</td>\n",
       "      <td>0</td>\n",
       "      <td>...</td>\n",
       "      <td>NaN</td>\n",
       "      <td>NaN</td>\n",
       "      <td>NaN</td>\n",
       "      <td>NaN</td>\n",
       "      <td>NaN</td>\n",
       "      <td>NaN</td>\n",
       "      <td>NaN</td>\n",
       "      <td>3.0</td>\n",
       "      <td>19.0</td>\n",
       "      <td>33601.0</td>\n",
       "    </tr>\n",
       "  </tbody>\n",
       "</table>\n",
       "<p>5 rows × 25 columns</p>\n",
       "</div>"
      ],
      "text/plain": [
       "             client_id  days_from_last_purchase  avg_items_per_order  \\\n",
       "0  1515915625468060902                      629                  7.0   \n",
       "1  1515915625468061003                      407                  7.0   \n",
       "2  1515915625468061099                      639                  1.0   \n",
       "3  1515915625468061100                        5                  2.0   \n",
       "4  1515915625468061170                      243                  4.0   \n",
       "\n",
       "   avg_order_sum  avg_item_price  fav_category_top  fav_category_last  \\\n",
       "0    6993.000000      999.000000                 4                420   \n",
       "1   16235.000000     2319.285714                 4                615   \n",
       "2     299.000000      299.000000                 4                424   \n",
       "3    2098.000000     1049.000000                 4               5717   \n",
       "4   11200.333333     1768.473684                 4                420   \n",
       "\n",
       "   avg_interval_days  lifetime_value  churn_flag  ...  cost_60d  \\\n",
       "0                NaN          6993.0           1  ...       NaN   \n",
       "1                NaN         16235.0           1  ...       NaN   \n",
       "2                NaN           299.0           1  ...       NaN   \n",
       "3                NaN          2098.0           0  ...    2098.0   \n",
       "4               41.5         33601.0           0  ...       NaN   \n",
       "\n",
       "   purchases_90d  items_90d  cost_90d  purchases_180d  items_180d  cost_180d  \\\n",
       "0            NaN        NaN       NaN             NaN         NaN        NaN   \n",
       "1            NaN        NaN       NaN             NaN         NaN        NaN   \n",
       "2            NaN        NaN       NaN             NaN         NaN        NaN   \n",
       "3            1.0        2.0    2098.0             1.0         2.0     2098.0   \n",
       "4            NaN        NaN       NaN             NaN         NaN        NaN   \n",
       "\n",
       "   purchases_360d  items_360d  cost_360d  \n",
       "0             NaN         NaN        NaN  \n",
       "1             NaN         NaN        NaN  \n",
       "2             NaN         NaN        NaN  \n",
       "3             1.0         2.0     2098.0  \n",
       "4             3.0        19.0    33601.0  \n",
       "\n",
       "[5 rows x 25 columns]"
      ]
     },
     "execution_count": 380,
     "metadata": {},
     "output_type": "execute_result"
    }
   ],
   "source": [
    "# объединяем все в единый датафрейм client_features\n",
    "app_prch_agg = last_purchase[[\"client_id\", \"days_from_last_purchase\"]] \\\n",
    "    .merge(avg_items_per_order, on=\"client_id\", how=\"left\") \\\n",
    "    .merge(avg_order_sum, on=\"client_id\", how=\"left\") \\\n",
    "    .merge(avg_item_price, on=\"client_id\", how=\"left\") \\\n",
    "    .merge(fav_category_top, on=\"client_id\", how=\"left\") \\\n",
    "    .merge(fav_category_last, on=\"client_id\", how=\"left\") \\\n",
    "    .merge(avg_interval, on=\"client_id\", how=\"left\") \\\n",
    "    .merge(lifetime_value, on=\"client_id\", how=\"left\") \\\n",
    "    .merge(churn_flag[[\"client_id\", \"churn_flag\"]], on=\"client_id\", how=\"left\") \\\n",
    "    .merge(agg_30, on=\"client_id\", how=\"left\") \\\n",
    "    .merge(agg_60, on=\"client_id\", how=\"left\") \\\n",
    "    .merge(agg_90, on=\"client_id\", how=\"left\") \\\n",
    "    .merge(agg_180, on=\"client_id\", how=\"left\") \\\n",
    "    .merge(agg_360, on=\"client_id\", how=\"left\")\n",
    "\n",
    "app_prch_agg.head()"
   ]
  }
 ],
 "metadata": {
  "kernelspec": {
   "display_name": "practicum",
   "language": "python",
   "name": "python3"
  },
  "language_info": {
   "codemirror_mode": {
    "name": "ipython",
    "version": 3
   },
   "file_extension": ".py",
   "mimetype": "text/x-python",
   "name": "python",
   "nbconvert_exporter": "python",
   "pygments_lexer": "ipython3",
   "version": "3.12.3"
  }
 },
 "nbformat": 4,
 "nbformat_minor": 5
}
